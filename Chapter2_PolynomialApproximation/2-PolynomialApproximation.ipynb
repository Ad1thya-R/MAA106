{
 "cells": [
  {
   "cell_type": "markdown",
   "metadata": {
    "pycharm": {
     "name": "#%% md\n"
    }
   },
   "source": [
    "<img src='./figures/logo-ecole-polytechnique-ve.jpg' style='position:absolute; top:0; right:0;' width='100px' height='' alt='' />\n",
    "\n",
    "<center><b>Bachelor of Ecole Polytechnique</b></center>\n",
    "<center>MAA106: Introduction to Numerical Analysis, year 1, semester 2</center>\n",
    "<center>Maxime Breden</center>\n",
    "<br>\n",
    "<center><i>Based on Notebooks created by Aline Lefebvre-Lepot</i></center>\n",
    "\n",
    "# Polynomial approximation of functions of one variable\n",
    "\n",
    "&nbsp;\n",
    "\n",
    "<table>\n",
    "        <tr>\n",
    "            <td><img src=\"./figures/Interpolation.png\" alt=\"Interpolation\" style=\"height: 300px;\"/></td>\n",
    "            <td><img src=\"./figures/LeastSquares.png\" alt=\"LeastSquares\" style=\"height: 290px;\"/></td>\n",
    "        </tr>\n",
    "</table>\n",
    "\n",
    "&nbsp;"
   ]
  },
  {
   "cell_type": "code",
   "execution_count": null,
   "metadata": {
    "pycharm": {
     "name": "#%%\n"
    }
   },
   "outputs": [],
   "source": []
  },
  {
   "cell_type": "markdown",
   "metadata": {
    "collapsed": true,
    "pycharm": {
     "name": "#%% md\n"
    }
   },
   "source": [
    "<div markdown=1 class=Abstract> In this chapter we consider the problem of approximating a data set or a function using polynomials. First, we present and analyse interpolation methods: Lagrange interpolation and piecewise polynomial approximations. Then, we describe the least squares approximation, providing a \"best fit\" polynomial. These methods are used to solve three problems."
   ]
  },
  {
   "cell_type": "markdown",
   "metadata": {
    "pycharm": {
     "name": "#%% md\n"
    }
   },
   "source": [
    "<div markdown=1 class=Abstract> The symbol [$\\star$] indicates supplementary material (most of the time proofs) that is optional to understand. This material is provided for the sake of completeness and for interested readers."
   ]
  },
  {
   "cell_type": "markdown",
   "metadata": {
    "collapsed": true,
    "pycharm": {
     "name": "#%% md\n"
    }
   },
   "source": [
    "## Table of contents\n",
    "\n",
    "- [Introduction](#intro)\n",
    "- [Lagrange interpolation of functions](#Lagrange)\n",
    "- [Piecewise Interpolation](#PiecewiseInterp)\n",
    "- [Least square approximation](#LeastSquare)"
   ]
  },
  {
   "cell_type": "code",
   "execution_count": 1,
   "metadata": {
    "pycharm": {
     "name": "#%%\n"
    }
   },
   "outputs": [],
   "source": [
    "## loading python libraries\n",
    "\n",
    "# necessary to display plots inline:\n",
    "%matplotlib inline   \n",
    "\n",
    "# load the libraries\n",
    "import matplotlib.pyplot as plt # 2D plotting library\n",
    "import numpy as np              # package for scientific computing  \n",
    "\n",
    "from math import *              # package for mathematics (pi, arctan, sqrt, factorial ...)"
   ]
  },
  {
   "cell_type": "markdown",
   "metadata": {
    "pycharm": {
     "name": "#%% md\n"
    }
   },
   "source": [
    "<a id=\"intro\"></a>\n",
    "## Introduction"
   ]
  },
  {
   "cell_type": "markdown",
   "metadata": {
    "pycharm": {
     "name": "#%% md\n"
    }
   },
   "source": [
    "Suppose that a data set $(x_k,y_k)_{k=0..n}$ is given and one wants to model it using a simple function. Since one of the most simple and easy to manipulate set of functions mapping $\\mathbb{R}$ into itself is the set of polynomials, one searches for a polynomial $P$ representing the data.\n",
    "\n",
    "More precisely, there are at least two ways of looking for such a polynomial:\n",
    "- using interpolation methods: find $P$ such that for all $k=0\\ldots n$, $P(x_k)=y_k$\n",
    "- using approximation methods: find $P$ such that for all $k=0\\ldots n$, $P(x_k)$ is \"close to\" $y_k$\n",
    "\n",
    "We give below three examples of situations where polynomial approximation can be used.\n"
   ]
  },
  {
   "cell_type": "markdown",
   "metadata": {
    "pycharm": {
     "name": "#%% md\n"
    }
   },
   "source": [
    "### Case study 1: a model to estimate the world population"
   ]
  },
  {
   "cell_type": "markdown",
   "metadata": {
    "pycharm": {
     "name": "#%% md\n"
    }
   },
   "source": [
    "The world population has been estimated for several years: the following data is available (source http://www.worldometers.info/world-population/world-population-by-year/)\n",
    "\n",
    "| Year | Pop. |\n",
    "| --- | --- |\n",
    "| 1900 | 1,600,000,000 | \n",
    "| 1927 | 2,000,000,000 | \n",
    "| 1955 | 2,772,242,535 | \n",
    "| 1960 | 3,033,212,527 | \n"
   ]
  },
  {
   "cell_type": "markdown",
   "metadata": {
    "pycharm": {
     "name": "#%% md\n"
    }
   },
   "source": [
    "\n",
    "Suppose one wants to \n",
    "- Determine the population in 1951\n",
    "- Determine the approximate time at which the number of living humans went past the $2.2$ Billions mark\n",
    "\n",
    "To do so, one can model the evolution of the population versus time as a polynomial and use this polynomial to approximate the answer to these two questions.\n",
    " "
   ]
  },
  {
   "cell_type": "markdown",
   "metadata": {
    "pycharm": {
     "name": "#%% md\n"
    }
   },
   "source": [
    "### Case study 2: approximation of $\\pi$"
   ]
  },
  {
   "cell_type": "markdown",
   "metadata": {
    "pycharm": {
     "name": "#%% md\n"
    }
   },
   "source": [
    "Suppose you want to approximate the value of $\\pi$. Several methods can be used to do that. One possibility is to write $\\pi$ as an integral and then to approximate the function to be integrated by simpler functions such as polynomials, which are easier to integrate. \n",
    "\n",
    "One formula which expresses $\\pi$ as an integral is the following\n",
    "\n",
    "$$\\pi=4\\int_{0}^{1}\\frac{1}{1+x^2}dx.$$"
   ]
  },
  {
   "cell_type": "markdown",
   "metadata": {
    "pycharm": {
     "name": "#%% md\n"
    }
   },
   "source": [
    "Introducing \n",
    "\n",
    "$$ d_{atan}:\n",
    "\\left\\{\\begin{array}{l}\n",
    "                           \\mathbb{R} &\\rightarrow &\\mathbb{R} \\\\\n",
    "                            x &\\rightarrow &\\frac{1}{1+x^2}\n",
    "                            \\end{array}\\right.\n",
    "$$\n",
    "\n",
    "so that \n",
    "\n",
    "$$\\pi=4\\int_{0}^{1}d_{atan}(x)dx, $$\n",
    "\n",
    "we want to approximate $d_{atan}$ using polynomials, and then integrate this approximation to obtain an approximation of $\\pi$."
   ]
  },
  {
   "cell_type": "markdown",
   "metadata": {
    "pycharm": {
     "name": "#%% md\n"
    }
   },
   "source": [
    "### Case study 3: parameter estimation for the Capital Asset Pricing Model (CAPM)"
   ]
  },
  {
   "cell_type": "markdown",
   "metadata": {
    "pycharm": {
     "name": "#%% md\n"
    }
   },
   "source": [
    "Consider a portfolio of assets: think for example of the CAC40 in France (benchmark French stock market index) or of the NASDAC or Dow Jones in USA. In this portfolio, consider a specific asset (i.e. one of the companies in the portfolio). \n"
   ]
  },
  {
   "cell_type": "markdown",
   "metadata": {
    "pycharm": {
     "name": "#%% md\n"
    }
   },
   "source": [
    "The return $R_k$ of the asset at day $k$ is a measure of what you gain (or lose) that day if you possess this asset. Similarly, let us denote by $R^m_k$ the market portfolio return on day $k$, which again is a measure of what you gain (or lose) that day if you possess the whole portfolio."
   ]
  },
  {
   "cell_type": "markdown",
   "metadata": {
    "pycharm": {
     "name": "#%% md\n"
    }
   },
   "source": [
    "The Capital Asset Pricing Model (CAPM) provides a theoretical relation to estimate returns on a specific asset and the whole market portfolio through the equation\n",
    "\n",
    "$$\n",
    "R_k = \\alpha + \\beta \\, R^m_k.\n",
    "$$\n",
    "\n",
    "The parameter $\\beta$ represents the systematic risk (associated to the market): when the market portfolio return moves by 1 the asset's return variation is $\\beta$. The higher $\\beta$, the more the corresponding asset varies when the market varies, that is, the more risky the asset. \n",
    "\n",
    "The parameter $\\alpha$ represents the risk associated to the asset, that is the return of the asset if the market does not change.\n"
   ]
  },
  {
   "cell_type": "markdown",
   "metadata": {
    "pycharm": {
     "name": "#%% md\n"
    }
   },
   "source": [
    "**Parameter estimation:**\n",
    "Being given the values of $(R^m_k)_{k=1..n}$ and $(R_k)_{k=1..n}$ for $n$ days, one wants to estimate the parameters $\\alpha$ and $\\beta$ in order to model the behavior of the corresponding asset, understand how risky it is and estimate its future trend.\n",
    "\n",
    "To do so, one has to approximate the data by a polynomial of degree 1: $R_k = Q(R_k^m)$ where $Q(x)=\\alpha + \\beta\\,x$. The question is to find \"good\" values $\\alpha^*$ and $\\beta^*$ for the parameters $\\alpha$ and $\\beta$ so that the approximated affine model is close to the data.\n",
    "\n",
    "Once $\\alpha^*$ and $\\beta^*$ are computed, one also wishes to know how confident one can be when using these values to model the behavior of the asset.\n"
   ]
  },
  {
   "cell_type": "markdown",
   "metadata": {
    "pycharm": {
     "name": "#%% md\n"
    }
   },
   "source": [
    "<a id=\"Lagrange\"></a>\n",
    "## Lagrange interpolation"
   ]
  },
  {
   "cell_type": "markdown",
   "metadata": {
    "pycharm": {
     "name": "#%% md\n"
    }
   },
   "source": [
    "<img src=\"figures/Lagrange.jpg\" alt=\"Lagrange\" style=\"width: 150px;\" />\n",
    "\n",
    ">**Joseph-Louis Lagrange (1736 - 1813).**\n",
    "> Joseph-Louis Lagrange is an Italian (who became French by the end of his life) mathematician and astronomer. He made significant contribution in analysis, number theory and both classical and celestial mechanics. He is one of the creators of the calculus of variations, which is a field of mathematical analysis that uses variations, which are small changes in functions and functionals, to find maxima and minima of functionals. He is best known for his contributions to mechanics (initiating a branch now called Lagragian mechanics), presenting the \"mechanical principles\" as a result of calculus of variations. Concerning calculus, he contributed to discover the importance of Taylor series (sometimes called Taylor-Lagrange series) and published in 1795 an interpolation method based on polynomials now called \"Lagrange polynomials\". Note that this interpolation method was already suggested in works of Edward Waring in 1779 and was a consequence of a formula published in 1783 by Leonhard Euler."
   ]
  },
  {
   "cell_type": "markdown",
   "metadata": {
    "pycharm": {
     "name": "#%% md\n"
    }
   },
   "source": [
    "### Existence and uniqueness of the Lagrange interpolation polynomial"
   ]
  },
  {
   "cell_type": "markdown",
   "metadata": {
    "pycharm": {
     "name": "#%% md\n"
    }
   },
   "source": [
    "<div mardown=1, class='Def'>\n",
    "Suppose you have a data set of $n+1$ data points $(x_k,y_k)_{0\\leq k\\leq n}$, where the $x_k$ are pairwise disjoint real numbers, and the $y_k$ can be any real numbers.\n",
    "    \n",
    "- A polynomial $P$ is said to **interpolate** the data if $P(x_k)=y_k$ for all $k=0,\\ldots,n$. $P$ is then called an **interpolation polynomial** (associated to the data $(x_k,y_k)_{0\\leq k\\leq n}$).\n",
    "    \n",
    "- In this context, the $x_k$ are called **interpolation points**, or **interpolation nodes**. In the sequel, when we talk about interpolation points or nodes, we always assume that they are pairwise disjoint."
   ]
  },
  {
   "cell_type": "markdown",
   "metadata": {
    "pycharm": {
     "name": "#%% md\n"
    }
   },
   "source": [
    "<div  markdown=1 class=\"Ex\">\n",
    "\n",
    "- **Example 1.** Suppose $n=0$. Then, the constant polynomial \n",
    "$$P_0(x)=y_0$$\n",
    "is the unique polynomial of degree at most $0$ interpolating the data.\n",
    "- **Example 2.** Suppose $n=1$. The data set contains 2 points: $(x_0,y_0)$ and $(x_1,y_1)$. The unique polynomial of degree at most $1$ fitting these data is the straight line\n",
    "$$\n",
    "P_1(x) = y_0 + (x-x_0)\\frac{y_1-y_0}{x_1-x_0}.\n",
    "$$\n",
    "- **Example 3.** Suppose now $n=2$ and we want to interpolate the three points $(x_k,y_k)_{k=0\\ldots 2}$ with a polynomial of degree at most $2$. Based on the case $n=1$, we look for a polynomial $P_2$ of the form\n",
    "$$\n",
    "P_2(x)=y_0 + (x-x_0)\\frac{y_1-y_0}{x_1-x_0} + Q_2(x),\n",
    "$$\n",
    "where $Q_2$ is a polynomial of degree at most $2$. The conditions $P_2(x_0)=y_0$, $P_2(x_1)=y_1$ and $P_2(x_2)=y_2$ are satisfied if and only if $Q_2(x_0)=0$, $Q_2(x_1)=0$ and $Q_2(x_2)=y_2-\\left(y_0 + (x-x_0)\\frac{y_1-y_0}{x_1-x_0}\\right)$. The first two conditions are equivalent to having $Q_2$ of the form $Q_2(x)=a(x-x_0)(x-x_1)$ for some constant $a$, which is fixed by the third condition. This proves the existence and uniqueness of an interpolation polynomial of degree at most $2$ for this data."
   ]
  },
  {
   "cell_type": "markdown",
   "metadata": {
    "pycharm": {
     "name": "#%% md\n"
    }
   },
   "source": [
    "More generally, one can prove that for any data set of $n+1$ points where the $x_k$ are all different, there exists a unique interpolation polynomial of degree at most $n$."
   ]
  },
  {
   "cell_type": "markdown",
   "metadata": {
    "pycharm": {
     "name": "#%% md\n"
    }
   },
   "source": [
    "<div  markdown=1 class=\"Thm\">  \n",
    "\n",
    "Let $x_0, x_1, \\cdots, x_n$ be a set of $n+1$ different interpolation points, and $y_0,y_1,\\cdots,y_n$ be a set of arbitrary real numbers. There exists a unique polynomial $P_n$ of degree at most $n$ such that, $P_n(x_k) = y_k$ for all $0 \\leq k \\leq n.$ This polynomial is explicitly given by \n",
    "\n",
    "$$P_n(x) = \\sum_{i=0}^n y_i L_i(x),$$\n",
    "\n",
    "where $(L_i)_i$ are the elementary *Lagrange polynomials* given by \n",
    "\n",
    "$$ L_i(x) = \\prod_{j \\neq i}\\frac{x - x_j}{x_i - x_j}, \\quad{} 0 \\leq i \\leq n.$$\n",
    "\n",
    "The polynomial $P_n$ is often simply called *the interpolation polynomial* associated to the data."
   ]
  },
  {
   "cell_type": "markdown",
   "metadata": {
    "pycharm": {
     "name": "#%% md\n"
    }
   },
   "source": [
    "> **Proof.** By definition of the $L_i$, we have\n",
    ">\n",
    ">$$\n",
    "L_i(x_j) = \n",
    "\\left\\{\n",
    "\\begin{aligned}\n",
    "& 0 \\qquad{} & j\\neq i, \\\\\n",
    "& 1 \\qquad{} & j=i.\n",
    "\\end{aligned}\n",
    "\\right.\n",
    "$$\n",
    ">\n",
    ">The formula proposed for $P_n$ therefore satisfies $P_n(x_j) = y_j$ for all $j=0,\\ldots,n$, and $P_n$ is of degree at most $n$, which proves the existence. To prove uniqueness, suppose there exist two polynomials $P_n$ and $Q_n$ solution to the problem. Then, the polynomial $P_n-Q_n$ is of degree at most $n$ and has at least $n+1$ roots ($x_0\\ldots x_n$). Thus,  $P_n-Q_n$ is the null polynomial and $P_n$ is identical to $Q_n$."
   ]
  },
  {
   "cell_type": "markdown",
   "metadata": {
    "pycharm": {
     "name": "#%% md\n"
    }
   },
   "source": [
    "<div  markdown=1 class=\"Rmk\"> The theorem can also be proved using linear algebra. Indeed, we can look for an expression of $P_n$ in the monomial basis: \n",
    "\n",
    "$$\n",
    "P_n(x) = a_0 + a_1 x + a_2 x^2 + \\ldots +a_n x^n,\n",
    "$$\n",
    "\n",
    "$\\mathbf{a}=(a_i)_{i=0\\ldots n}$ being $n+1$ constants to be found. For $k=0,\\ldots,n$, the $n+1$ conditions $P(x_k)=y_k$ then write:\n",
    "\n",
    "$$\n",
    "a_0 + a_1 x_k + a_2 x_k^2 + \\ldots +a_n x_k^n = y_k\\quad{} \\text{for} \\quad{} k=0,\\ldots,n,\n",
    "$$\n",
    "\n",
    "which is a linear system to be solved for $\\mathbf{a}$. The problem can be written in a matrix form:\n",
    "\n",
    "$$\n",
    "V_n\\, \\mathbf{a}=\\mathbf{y}\\quad{} \\text{where}\\quad{} V_n=\\left(\\begin{array}{ccccc} 1 & x_0 & x_0^2 & \\ldots & x_0^n \\\\ 1 & x_1 & x_1^2 & \\ldots & x_1^n \\\\ \\vdots & & & &\\vdots \\\\ 1 & x_n & x_n^2 & \\ldots & x_n^n \\end{array}\\right).\n",
    "$$\n",
    "\n",
    "The corresponding matrix is the well-known Vandermonde matrix which is invertible, provided the $(x_k)_k$ are distinct. This proves the existence and uniqueness of $\\mathbf{a}$ and then of $P_n$."
   ]
  },
  {
   "cell_type": "markdown",
   "metadata": {
    "pycharm": {
     "name": "#%% md\n"
    }
   },
   "source": [
    "The previous remark also provides a straightforward method for computing the interpolation polynomial in the monomial basis, that is the coefficients $(a_0,\\ldots,a_n)$."
   ]
  },
  {
   "cell_type": "markdown",
   "metadata": {
    "pycharm": {
     "name": "#%% md\n"
    }
   },
   "source": [
    "<div markdown=1 class=\"DoIt\"> Complete in the cell below the code of the Python function implementing this method. You can test your code by running the subsequent cell. \n",
    "\n",
    "*Hints: you can implement the Vandermonde matrix yourself, or look at the numpy.vander function. In order to compute $a$, the function numpy.linalg.solve should be useful.* "
   ]
  },
  {
   "cell_type": "code",
   "execution_count": 2,
   "metadata": {
    "pycharm": {
     "name": "#%%\n"
    }
   },
   "outputs": [],
   "source": [
    "def interpVDM(x,y):\n",
    "    \"\"\"\n",
    "    Computation of the coefficients of the interpolation polynomial in the monomial basis, using a Vandermonde matrix\n",
    "    -----------------------\n",
    "    Inputs: \n",
    "    x : the interpolation nodes (1D array with pairewise distinct entries)\n",
    "    y : the prescribed values at the interpolation nodes (1D array having the same size as x)\n",
    "    \n",
    "    Output: \n",
    "    a : the coefficients of the interpolation polynomial in the monomial basis (1D array having the same size as x)\n",
    "    \"\"\"\n",
    "    V = np.vander(x, increasing=True)\n",
    "    ...\n",
    "    a = np.linalg.solve(V,y)\n",
    "    ...\n",
    "    return a"
   ]
  },
  {
   "cell_type": "code",
   "execution_count": 3,
   "metadata": {
    "pycharm": {
     "name": "#%%\n"
    }
   },
   "outputs": [
    {
     "name": "stdout",
     "output_type": "stream",
     "text": [
      "Your code output:  [0. 0. 1.]\n",
      "The theoretical solution:  [0. 0. 1.]\n"
     ]
    }
   ],
   "source": [
    "# Test cell. We use our code on a simple example, where we know that the output should be P(X) = X^2, \n",
    "# or equivalently a = [0, 0, 1]\n",
    "\n",
    "x = np.array([-1, 1, 2])\n",
    "y = np.array([1, 1, 4])\n",
    "\n",
    "# There exists a unique polynomial P of degree at most 2 such that P(-1)=1, P(1)=1, and P(2)=4. \n",
    "# P(X) = X^2 satisifies those assumptions, so it is the solution.\n",
    "a = interpVDM(x,y)\n",
    "\n",
    "print('Your code output: ', a)\n",
    "print('The theoretical solution: ', np.array([0., 0., 1.]))\n"
   ]
  },
  {
   "cell_type": "markdown",
   "metadata": {
    "pycharm": {
     "name": "#%% md\n"
    }
   },
   "source": [
    "Once the coefficients $(a_0, a_1, \\ldots, a_n)$ of the interpolation polynomial in the monomial basis have been computed, we would like to *evaluate* the polynomial $P$, that is, to compute the value of  \n",
    "\n",
    "$$P(X) = a_0 + a_1 X + \\ldots a_{n}X^{n},$$\n",
    "\n",
    "for several values of $X$. An efficient way to do that is to use the *Horner* scheme. The idea is to avoid taking the powers of $X$ by rewriting the polynomial in the following form \n",
    "\n",
    "$$\n",
    "P(X)= a_0 + X\\,\\, \\bigg(a_1 \\,+\\, X\\,\\, \\Big(a_2\\, +\\, \\ldots\\, +\\,X\\,a_{n}\\Big) \\bigg)\\,.\n",
    "$$\n",
    "\n",
    "Consequently, the algorithm to evaluate $P$ is"
   ]
  },
  {
   "cell_type": "markdown",
   "metadata": {
    "pycharm": {
     "name": "#%% md\n"
    }
   },
   "source": [
    "<div  markdown=1 class=\"Algo\">\n",
    "<b>Horner algorithm.</b> Evaluates the polynomial \n",
    "\n",
    "$$P(X) = a_0 + a_1 X + a_2 X^2 + ... + a_n X^n.\n",
    "$$\n",
    "\n",
    "\\begin{align*}\n",
    "INPUT:&\\quad{} (a_k)_{0\\leq k \\leq n}, \\,X\\\\\n",
    "INIT:\n",
    "&\\quad{} PX = a_{n}\\\\\n",
    "FOR: &\\quad{} k = 1 .. n \\\\\n",
    "&\\quad{}\\quad{} PX = X \\times PX + a_{n-k}\\\\\n",
    "RETURN:&\\quad{} PX\\\\\n",
    "\\end{align*}"
   ]
  },
  {
   "cell_type": "markdown",
   "metadata": {
    "pycharm": {
     "name": "#%% md\n"
    }
   },
   "source": [
    "<div markdown=1 class=\"DoIt\"> What is the complexity of this algorithm ? Compare with the \"naive\" algorithm (where all the powers of $X$ would be computed independently). Complete in the cell below the code of the Python function implementing the <i>Horner</i> scheme. You can test your code by running the subsequent cell. "
   ]
  },
  {
   "cell_type": "markdown",
   "metadata": {
    "pycharm": {
     "name": "#%% md\n"
    }
   },
   "source": [
    "<div markdown=1 class=\"Answer\"> "
   ]
  },
  {
   "cell_type": "code",
   "execution_count": 4,
   "metadata": {
    "pycharm": {
     "name": "#%%\n"
    }
   },
   "outputs": [],
   "source": [
    "def evalHorner(a,X):\n",
    "    \"\"\"\n",
    "    Evaluation of a polynomial using Horner's scheme.\n",
    "    -----------------------\n",
    "    Inputs: \n",
    "    a : the coefficients of the polynomial P in the monomial basis [a_0,...,a_n]\n",
    "    X : an array of values at which we want to evaluate P \n",
    "    \n",
    "    Output: \n",
    "    an array containing the values P(x) for each x in X\n",
    "    \"\"\"\n",
    "    n = a.size\n",
    "    PX = a[n-1]\n",
    "    for k in range(1,n):\n",
    "        PX= X * PX + a[n-k-1]\n",
    "    return np.array(PX)"
   ]
  },
  {
   "cell_type": "code",
   "execution_count": 5,
   "metadata": {
    "pycharm": {
     "name": "#%%\n"
    }
   },
   "outputs": [
    {
     "name": "stdout",
     "output_type": "stream",
     "text": [
      "Your code output:  [3 0 1 6]\n",
      "The theoretical solution:  [3 0 1 6]\n"
     ]
    }
   ],
   "source": [
    "# Test cell. We use our code on a simple example\n",
    "\n",
    "a = np.array([0, -1, 2])\n",
    "# We consider the polynomial P(X) = -X + 2*X^2\n",
    "\n",
    "X = np.array([-1, 0, 1, 2])\n",
    "PX = evalHorner(a,X)\n",
    "# We evaluate P at the values stored in X\n",
    "\n",
    "print('Your code output: ', PX)\n",
    "print('The theoretical solution: ', -X + 2*X**2)"
   ]
  },
  {
   "cell_type": "markdown",
   "metadata": {
    "pycharm": {
     "name": "#%% md\n"
    }
   },
   "source": [
    "We can now test the Lagrange interpolation for different datasets $(x_k,y_k)$."
   ]
  },
  {
   "cell_type": "markdown",
   "metadata": {
    "pycharm": {
     "name": "#%% md\n"
    }
   },
   "source": [
    "<div markdown=1 class=\"DoIt\"> Complete and run the following cell to test the Lagrange interpolation algorithm for a dataset $(x_k,y_k)$ with equispaced points $x_k$ in $[0,1]$ and random values $y_k$. \n",
    "\n",
    "Check that the interpolation polynomial indeed interpolates the data (i.e. that the graph of the polynomial goes trough **ALL** the data points).\n",
    "\n",
    "In this cell, the vectors `x` and `y` are the vectors containing the data: $x[k]=x_k$ and $y[k]=y_k$. Using these data, you can compute the coefficients `a` of the corresponding interpolation polynomial. Then, to plot this polynomial on $[a,b]$, it remains to discretize $[a,b]$ in a vector `X` and to compute the values of the polynomial at these points.\n",
    "\n",
    "Be careful not to confuse the small x, which contains the interpolation nodes, and the capital X, which contains the values in $[a,b]$ at which we evaluate the polynomial in order to plot it!"
   ]
  },
  {
   "cell_type": "code",
   "execution_count": 6,
   "metadata": {
    "pycharm": {
     "name": "#%%\n"
    }
   },
   "outputs": [
    {
     "ename": "TypeError",
     "evalue": "float() argument must be a string or a number, not 'ellipsis'",
     "output_type": "error",
     "traceback": [
      "\u001B[0;31m---------------------------------------------------------------------------\u001B[0m",
      "\u001B[0;31mTypeError\u001B[0m                                 Traceback (most recent call last)",
      "Input \u001B[0;32mIn [6]\u001B[0m, in \u001B[0;36m<cell line: 12>\u001B[0;34m()\u001B[0m\n\u001B[1;32m     10\u001B[0m \u001B[38;5;66;03m# plot\u001B[39;00m\n\u001B[1;32m     11\u001B[0m plt\u001B[38;5;241m.\u001B[39mfigure(figsize \u001B[38;5;241m=\u001B[39m (\u001B[38;5;241m15\u001B[39m,\u001B[38;5;241m7\u001B[39m))\n\u001B[0;32m---> 12\u001B[0m \u001B[43mplt\u001B[49m\u001B[38;5;241;43m.\u001B[39;49m\u001B[43mplot\u001B[49m\u001B[43m(\u001B[49m\u001B[38;5;241;43m.\u001B[39;49m\u001B[38;5;241;43m.\u001B[39;49m\u001B[38;5;241;43m.\u001B[39;49m\u001B[43m,\u001B[49m\u001B[43m \u001B[49m\u001B[38;5;241;43m.\u001B[39;49m\u001B[38;5;241;43m.\u001B[39;49m\u001B[38;5;241;43m.\u001B[39;49m\u001B[43m,\u001B[49m\u001B[43m \u001B[49m\u001B[43mlabel\u001B[49m\u001B[38;5;241;43m=\u001B[39;49m\u001B[38;5;124;43m\"\u001B[39;49m\u001B[38;5;124;43mInterpolation Polynomial\u001B[39;49m\u001B[38;5;124;43m\"\u001B[39;49m\u001B[43m)\u001B[49m\n\u001B[1;32m     13\u001B[0m plt\u001B[38;5;241m.\u001B[39mplot(\u001B[38;5;241m.\u001B[39m\u001B[38;5;241m.\u001B[39m\u001B[38;5;241m.\u001B[39m, \u001B[38;5;241m.\u001B[39m\u001B[38;5;241m.\u001B[39m\u001B[38;5;241m.\u001B[39m, marker\u001B[38;5;241m=\u001B[39m\u001B[38;5;124m'\u001B[39m\u001B[38;5;124mo\u001B[39m\u001B[38;5;124m'\u001B[39m, linestyle\u001B[38;5;241m=\u001B[39m\u001B[38;5;124m'\u001B[39m\u001B[38;5;124m'\u001B[39m, label\u001B[38;5;241m=\u001B[39m\u001B[38;5;124m\"\u001B[39m\u001B[38;5;124mdataset\u001B[39m\u001B[38;5;124m\"\u001B[39m)\n\u001B[1;32m     14\u001B[0m plt\u001B[38;5;241m.\u001B[39mlegend(fontsize \u001B[38;5;241m=\u001B[39m \u001B[38;5;241m15\u001B[39m)\n",
      "File \u001B[0;32m~/PycharmProjects/pythonProject1/venv/lib/python3.8/site-packages/matplotlib/pyplot.py:2757\u001B[0m, in \u001B[0;36mplot\u001B[0;34m(scalex, scaley, data, *args, **kwargs)\u001B[0m\n\u001B[1;32m   2755\u001B[0m \u001B[38;5;129m@_copy_docstring_and_deprecators\u001B[39m(Axes\u001B[38;5;241m.\u001B[39mplot)\n\u001B[1;32m   2756\u001B[0m \u001B[38;5;28;01mdef\u001B[39;00m \u001B[38;5;21mplot\u001B[39m(\u001B[38;5;241m*\u001B[39margs, scalex\u001B[38;5;241m=\u001B[39m\u001B[38;5;28;01mTrue\u001B[39;00m, scaley\u001B[38;5;241m=\u001B[39m\u001B[38;5;28;01mTrue\u001B[39;00m, data\u001B[38;5;241m=\u001B[39m\u001B[38;5;28;01mNone\u001B[39;00m, \u001B[38;5;241m*\u001B[39m\u001B[38;5;241m*\u001B[39mkwargs):\n\u001B[0;32m-> 2757\u001B[0m     \u001B[38;5;28;01mreturn\u001B[39;00m \u001B[43mgca\u001B[49m\u001B[43m(\u001B[49m\u001B[43m)\u001B[49m\u001B[38;5;241;43m.\u001B[39;49m\u001B[43mplot\u001B[49m\u001B[43m(\u001B[49m\n\u001B[1;32m   2758\u001B[0m \u001B[43m        \u001B[49m\u001B[38;5;241;43m*\u001B[39;49m\u001B[43margs\u001B[49m\u001B[43m,\u001B[49m\u001B[43m \u001B[49m\u001B[43mscalex\u001B[49m\u001B[38;5;241;43m=\u001B[39;49m\u001B[43mscalex\u001B[49m\u001B[43m,\u001B[49m\u001B[43m \u001B[49m\u001B[43mscaley\u001B[49m\u001B[38;5;241;43m=\u001B[39;49m\u001B[43mscaley\u001B[49m\u001B[43m,\u001B[49m\n\u001B[1;32m   2759\u001B[0m \u001B[43m        \u001B[49m\u001B[38;5;241;43m*\u001B[39;49m\u001B[38;5;241;43m*\u001B[39;49m\u001B[43m(\u001B[49m\u001B[43m{\u001B[49m\u001B[38;5;124;43m\"\u001B[39;49m\u001B[38;5;124;43mdata\u001B[39;49m\u001B[38;5;124;43m\"\u001B[39;49m\u001B[43m:\u001B[49m\u001B[43m \u001B[49m\u001B[43mdata\u001B[49m\u001B[43m}\u001B[49m\u001B[43m \u001B[49m\u001B[38;5;28;43;01mif\u001B[39;49;00m\u001B[43m \u001B[49m\u001B[43mdata\u001B[49m\u001B[43m \u001B[49m\u001B[38;5;129;43;01mis\u001B[39;49;00m\u001B[43m \u001B[49m\u001B[38;5;129;43;01mnot\u001B[39;49;00m\u001B[43m \u001B[49m\u001B[38;5;28;43;01mNone\u001B[39;49;00m\u001B[43m \u001B[49m\u001B[38;5;28;43;01melse\u001B[39;49;00m\u001B[43m \u001B[49m\u001B[43m{\u001B[49m\u001B[43m}\u001B[49m\u001B[43m)\u001B[49m\u001B[43m,\u001B[49m\u001B[43m \u001B[49m\u001B[38;5;241;43m*\u001B[39;49m\u001B[38;5;241;43m*\u001B[39;49m\u001B[43mkwargs\u001B[49m\u001B[43m)\u001B[49m\n",
      "File \u001B[0;32m~/PycharmProjects/pythonProject1/venv/lib/python3.8/site-packages/matplotlib/axes/_axes.py:1634\u001B[0m, in \u001B[0;36mAxes.plot\u001B[0;34m(self, scalex, scaley, data, *args, **kwargs)\u001B[0m\n\u001B[1;32m   1632\u001B[0m lines \u001B[38;5;241m=\u001B[39m [\u001B[38;5;241m*\u001B[39m\u001B[38;5;28mself\u001B[39m\u001B[38;5;241m.\u001B[39m_get_lines(\u001B[38;5;241m*\u001B[39margs, data\u001B[38;5;241m=\u001B[39mdata, \u001B[38;5;241m*\u001B[39m\u001B[38;5;241m*\u001B[39mkwargs)]\n\u001B[1;32m   1633\u001B[0m \u001B[38;5;28;01mfor\u001B[39;00m line \u001B[38;5;129;01min\u001B[39;00m lines:\n\u001B[0;32m-> 1634\u001B[0m     \u001B[38;5;28;43mself\u001B[39;49m\u001B[38;5;241;43m.\u001B[39;49m\u001B[43madd_line\u001B[49m\u001B[43m(\u001B[49m\u001B[43mline\u001B[49m\u001B[43m)\u001B[49m\n\u001B[1;32m   1635\u001B[0m \u001B[38;5;28mself\u001B[39m\u001B[38;5;241m.\u001B[39m_request_autoscale_view(scalex\u001B[38;5;241m=\u001B[39mscalex, scaley\u001B[38;5;241m=\u001B[39mscaley)\n\u001B[1;32m   1636\u001B[0m \u001B[38;5;28;01mreturn\u001B[39;00m lines\n",
      "File \u001B[0;32m~/PycharmProjects/pythonProject1/venv/lib/python3.8/site-packages/matplotlib/axes/_base.py:2283\u001B[0m, in \u001B[0;36m_AxesBase.add_line\u001B[0;34m(self, line)\u001B[0m\n\u001B[1;32m   2280\u001B[0m \u001B[38;5;28;01mif\u001B[39;00m line\u001B[38;5;241m.\u001B[39mget_clip_path() \u001B[38;5;129;01mis\u001B[39;00m \u001B[38;5;28;01mNone\u001B[39;00m:\n\u001B[1;32m   2281\u001B[0m     line\u001B[38;5;241m.\u001B[39mset_clip_path(\u001B[38;5;28mself\u001B[39m\u001B[38;5;241m.\u001B[39mpatch)\n\u001B[0;32m-> 2283\u001B[0m \u001B[38;5;28;43mself\u001B[39;49m\u001B[38;5;241;43m.\u001B[39;49m\u001B[43m_update_line_limits\u001B[49m\u001B[43m(\u001B[49m\u001B[43mline\u001B[49m\u001B[43m)\u001B[49m\n\u001B[1;32m   2284\u001B[0m \u001B[38;5;28;01mif\u001B[39;00m \u001B[38;5;129;01mnot\u001B[39;00m line\u001B[38;5;241m.\u001B[39mget_label():\n\u001B[1;32m   2285\u001B[0m     line\u001B[38;5;241m.\u001B[39mset_label(\u001B[38;5;124mf\u001B[39m\u001B[38;5;124m'\u001B[39m\u001B[38;5;124m_child\u001B[39m\u001B[38;5;132;01m{\u001B[39;00m\u001B[38;5;28mlen\u001B[39m(\u001B[38;5;28mself\u001B[39m\u001B[38;5;241m.\u001B[39m_children)\u001B[38;5;132;01m}\u001B[39;00m\u001B[38;5;124m'\u001B[39m)\n",
      "File \u001B[0;32m~/PycharmProjects/pythonProject1/venv/lib/python3.8/site-packages/matplotlib/axes/_base.py:2306\u001B[0m, in \u001B[0;36m_AxesBase._update_line_limits\u001B[0;34m(self, line)\u001B[0m\n\u001B[1;32m   2302\u001B[0m \u001B[38;5;28;01mdef\u001B[39;00m \u001B[38;5;21m_update_line_limits\u001B[39m(\u001B[38;5;28mself\u001B[39m, line):\n\u001B[1;32m   2303\u001B[0m     \u001B[38;5;124;03m\"\"\"\u001B[39;00m\n\u001B[1;32m   2304\u001B[0m \u001B[38;5;124;03m    Figures out the data limit of the given line, updating self.dataLim.\u001B[39;00m\n\u001B[1;32m   2305\u001B[0m \u001B[38;5;124;03m    \"\"\"\u001B[39;00m\n\u001B[0;32m-> 2306\u001B[0m     path \u001B[38;5;241m=\u001B[39m \u001B[43mline\u001B[49m\u001B[38;5;241;43m.\u001B[39;49m\u001B[43mget_path\u001B[49m\u001B[43m(\u001B[49m\u001B[43m)\u001B[49m\n\u001B[1;32m   2307\u001B[0m     \u001B[38;5;28;01mif\u001B[39;00m path\u001B[38;5;241m.\u001B[39mvertices\u001B[38;5;241m.\u001B[39msize \u001B[38;5;241m==\u001B[39m \u001B[38;5;241m0\u001B[39m:\n\u001B[1;32m   2308\u001B[0m         \u001B[38;5;28;01mreturn\u001B[39;00m\n",
      "File \u001B[0;32m~/PycharmProjects/pythonProject1/venv/lib/python3.8/site-packages/matplotlib/lines.py:999\u001B[0m, in \u001B[0;36mLine2D.get_path\u001B[0;34m(self)\u001B[0m\n\u001B[1;32m    997\u001B[0m \u001B[38;5;124;03m\"\"\"Return the `~matplotlib.path.Path` associated with this line.\"\"\"\u001B[39;00m\n\u001B[1;32m    998\u001B[0m \u001B[38;5;28;01mif\u001B[39;00m \u001B[38;5;28mself\u001B[39m\u001B[38;5;241m.\u001B[39m_invalidy \u001B[38;5;129;01mor\u001B[39;00m \u001B[38;5;28mself\u001B[39m\u001B[38;5;241m.\u001B[39m_invalidx:\n\u001B[0;32m--> 999\u001B[0m     \u001B[38;5;28;43mself\u001B[39;49m\u001B[38;5;241;43m.\u001B[39;49m\u001B[43mrecache\u001B[49m\u001B[43m(\u001B[49m\u001B[43m)\u001B[49m\n\u001B[1;32m   1000\u001B[0m \u001B[38;5;28;01mreturn\u001B[39;00m \u001B[38;5;28mself\u001B[39m\u001B[38;5;241m.\u001B[39m_path\n",
      "File \u001B[0;32m~/PycharmProjects/pythonProject1/venv/lib/python3.8/site-packages/matplotlib/lines.py:652\u001B[0m, in \u001B[0;36mLine2D.recache\u001B[0;34m(self, always)\u001B[0m\n\u001B[1;32m    650\u001B[0m \u001B[38;5;28;01mif\u001B[39;00m always \u001B[38;5;129;01mor\u001B[39;00m \u001B[38;5;28mself\u001B[39m\u001B[38;5;241m.\u001B[39m_invalidx:\n\u001B[1;32m    651\u001B[0m     xconv \u001B[38;5;241m=\u001B[39m \u001B[38;5;28mself\u001B[39m\u001B[38;5;241m.\u001B[39mconvert_xunits(\u001B[38;5;28mself\u001B[39m\u001B[38;5;241m.\u001B[39m_xorig)\n\u001B[0;32m--> 652\u001B[0m     x \u001B[38;5;241m=\u001B[39m \u001B[43m_to_unmasked_float_array\u001B[49m\u001B[43m(\u001B[49m\u001B[43mxconv\u001B[49m\u001B[43m)\u001B[49m\u001B[38;5;241m.\u001B[39mravel()\n\u001B[1;32m    653\u001B[0m \u001B[38;5;28;01melse\u001B[39;00m:\n\u001B[1;32m    654\u001B[0m     x \u001B[38;5;241m=\u001B[39m \u001B[38;5;28mself\u001B[39m\u001B[38;5;241m.\u001B[39m_x\n",
      "File \u001B[0;32m~/PycharmProjects/pythonProject1/venv/lib/python3.8/site-packages/matplotlib/cbook/__init__.py:1298\u001B[0m, in \u001B[0;36m_to_unmasked_float_array\u001B[0;34m(x)\u001B[0m\n\u001B[1;32m   1296\u001B[0m     \u001B[38;5;28;01mreturn\u001B[39;00m np\u001B[38;5;241m.\u001B[39mma\u001B[38;5;241m.\u001B[39masarray(x, \u001B[38;5;28mfloat\u001B[39m)\u001B[38;5;241m.\u001B[39mfilled(np\u001B[38;5;241m.\u001B[39mnan)\n\u001B[1;32m   1297\u001B[0m \u001B[38;5;28;01melse\u001B[39;00m:\n\u001B[0;32m-> 1298\u001B[0m     \u001B[38;5;28;01mreturn\u001B[39;00m \u001B[43mnp\u001B[49m\u001B[38;5;241;43m.\u001B[39;49m\u001B[43masarray\u001B[49m\u001B[43m(\u001B[49m\u001B[43mx\u001B[49m\u001B[43m,\u001B[49m\u001B[43m \u001B[49m\u001B[38;5;28;43mfloat\u001B[39;49m\u001B[43m)\u001B[49m\n",
      "\u001B[0;31mTypeError\u001B[0m: float() argument must be a string or a number, not 'ellipsis'"
     ]
    },
    {
     "data": {
      "image/png": "[encoded data removed]",
      "text/plain": [
       "<Figure size 1080x504 with 1 Axes>"
      ]
     },
     "metadata": {
      "needs_background": "light"
     },
     "output_type": "display_data"
    }
   ],
   "source": [
    "n = 10   # number of interpolation points (minus 1)\n",
    "x = np.linspace(0, 1, n+1)   # n+1 equispaced nodes (x_k) in [0,1]\n",
    "y = np.random.rand(n+1)  # n+1 random values for (y_k), uniform in [0,1] (you can try other distributions if you want to)\n",
    "X = np.linspace(0, 1, 1001)  # values in [0,1] where the interpolation polynomial has to be computed\n",
    "\n",
    "# computes the coefficients of the polynomial and its values at point X\n",
    "a = ...\n",
    "PX = ...\n",
    "\n",
    "# plot\n",
    "plt.figure(figsize = (15,7))\n",
    "plt.plot(..., ..., label=\"Interpolation Polynomial\")\n",
    "plt.plot(..., ..., marker='o', linestyle='', label=\"dataset\")\n",
    "plt.legend(fontsize = 15)\n",
    "plt.show()"
   ]
  },
  {
   "cell_type": "markdown",
   "metadata": {
    "pycharm": {
     "name": "#%% md\n"
    }
   },
   "source": [
    "### Using polynomial interpolation to approximate functions: first error estimates"
   ]
  },
  {
   "cell_type": "markdown",
   "metadata": {
    "pycharm": {
     "name": "#%% md\n"
    }
   },
   "source": [
    "In the previous section, we assumed that we were given a dataset $(x_k,y_k)_{k=0,\\ldots,n}$, an presented a way to compute the interpolation polynomial of degree at most $n$ for this dataset.\n",
    "\n",
    "In this section, we assume that we are given a continuous function $f$ on an interval $[a,b]$, and that we want to approximate this function by a polynomial of degree at most $n$. Interpolation naturally gives use a way to do that, by considering the interpolation polynomial for a dataset of the form $(x_k,f(x_k))_{k=0,\\ldots,n}$."
   ]
  },
  {
   "cell_type": "markdown",
   "metadata": {
    "pycharm": {
     "name": "#%% md\n"
    }
   },
   "source": [
    "<div mardown=1, class='Def'>\n",
    "    \n",
    "Let $f$ be a continuous function on an interval $[a,b]$, and $x_0,x_1,\\ldots,x_n$ be $n+1$ different points belonging to $[a,b]$. **The interpolation polynomial of $f$**, denoted $P_n(f)$, is the unique polynomial of degree at most $n$ such that\n",
    "    \n",
    "$$\n",
    "P_n(f)(x_k) = f(x_k) \\qquad{} \\text{for all }k=0,\\ldots,n.\n",
    "$$\n",
    "    \n",
    "Notice that the interpolation polynomial depends on the choice of the nodes $x_k$.\n",
    "    \n",
    "**The local interpolation error**, denoted $e_n(f)(x)$, is defined as\n",
    "    \n",
    "$$\n",
    "e_n(f)(x) = \\vert f(x) - P_n(f)(x) \\vert.\n",
    "$$\n",
    "    \n",
    "**The global interpolation error**, denoted $E_n(f)$, is defined as\n",
    "    \n",
    "$$\n",
    "E_n(f) = \\sup_{x\\in[a,b]} e_n(f)(x) = \\sup_{x\\in[a,b]} \\vert f(x) - P_n(f)(x) \\vert.\n",
    "$$  "
   ]
  },
  {
   "cell_type": "markdown",
   "metadata": {
    "pycharm": {
     "name": "#%% md\n"
    }
   },
   "source": [
    "The question is to know whether $P_n(f)$ is a good approximation of $f$. More precisely one has to answer the following questions:\n",
    "- If $P_n(f)$ is used to approximate $f$ at other points than the nodes $x_k$, how confident can we be in the results ?\n",
    "- How does the error behaves when the number of nodes goes to infinity (i.e. $n$ goes to infinity) ?\n",
    "- Are there particularly good choices for the nodes $x_k$?"
   ]
  },
  {
   "cell_type": "markdown",
   "metadata": {
    "pycharm": {
     "name": "#%% md\n"
    }
   },
   "source": [
    "<div markdown=1, class='Ex'>\n",
    "\n",
    "We first consider equidistant nodes in $[-1,1]$, that is, \n",
    "\n",
    "$$\n",
    "x_k = -1 + \\frac{2k}{n}, \\quad{}  0\\leq k \\leq n,\n",
    "$$\n",
    "\n",
    "and numerically investigate the behavior of the interpolation polynomial $P_n(f)$ and the error $e_n$, for the following functions\n",
    "\n",
    "$$\n",
    "f_1(x) = \\vert x \\vert, \\qquad{} f_2(x) = \\sin(2\\pi x), \\qquad{} f_3(x) = e^{2x}\\sin\\left(10x\\right).\n",
    "$$"
   ]
  },
  {
   "cell_type": "code",
   "execution_count": 10,
   "metadata": {
    "pycharm": {
     "name": "#%%\n"
    }
   },
   "outputs": [],
   "source": [
    "## definition of the functions f1, f2 and f3\n",
    "\n",
    "def f1(x):\n",
    "    return np.abs(x)\n",
    "\n",
    "def f2(x):\n",
    "    return np.sin(2*np.pi*x)\n",
    "\n",
    "def f3(x):\n",
    "    return np.exp(2*x)*np.sin(10*x)"
   ]
  },
  {
   "cell_type": "code",
   "execution_count": 11,
   "metadata": {
    "pycharm": {
     "name": "#%%\n"
    }
   },
   "outputs": [],
   "source": [
    "def compare_Pnf_f(f, x, X):\n",
    "    \"\"\"\n",
    "    Plots f and P_n(f) one one side, and the local error e_n(f) = |f-P_n(f)| on the other side\n",
    "    -----------------------\n",
    "    Inputs: \n",
    "    f : continuous function on [-1,1]\n",
    "    x : 1D array containing the interpolation nodes in [-1,1]\n",
    "    X : 1D array containing the points at which f and P_n(f) will be plotted\n",
    "    \n",
    "    Output: 2 figures\n",
    "    left : f and P_n(f)\n",
    "    right : the local error e_n(f)\n",
    "    \"\"\"\n",
    "    \n",
    "    y = f(x)   # values of f at the nodes\n",
    "    a = interpVDM(x, y) # the coefficients of the interpolation polynomial P_n(f)\n",
    "    PnfX = evalHorner(a, X) # values of P_n(f) at the points stored in X  \n",
    "    \n",
    "    n = x.size - 1 # number of nodes, to be dispayed in the title of the figures\n",
    "    \n",
    "    plt.figure(figsize=(20, 8))\n",
    "    \n",
    "    plt.subplot(121)\n",
    "    plt.plot(X, f(X), label = 'Target function $f$')\n",
    "    plt.plot(x, f(x), marker='o', linestyle='', label = 'data set')\n",
    "    plt.plot(X, PnfX, '--',label = 'Interpolation polynomial $P_n(f)$')\n",
    "    plt.legend(fontsize = 18)\n",
    "    plt.xlabel('x', fontsize = 18)\n",
    "    plt.tick_params(labelsize=18)\n",
    "    plt.title('f and its interpolation polynomial, n= %i' %n, fontsize = 18)\n",
    "    \n",
    "    plt.subplot(122)\n",
    "    plt.plot(X, abs(f(X) - PnfX), label = '$e_n(f) = |f-P_n(f)|$')\n",
    "    plt.plot(x, 1e-16*np.ones(x.size), marker='o', linestyle='', label = 'Interpolation nodes')\n",
    "    plt.legend(fontsize = 18)\n",
    "    plt.xlabel('x', fontsize = 18)\n",
    "    plt.tick_params(labelsize=18)\n",
    "    plt.yscale('log')\n",
    "    plt.title('Local interpolation error e_n(f) in log-scale, n= %i' %n, fontsize = 18)\n",
    "    \n",
    "    plt.show()"
   ]
  },
  {
   "cell_type": "markdown",
   "metadata": {
    "pycharm": {
     "name": "#%% md\n"
    }
   },
   "source": [
    "<div markdown=1 class=\"DoIt\"> \n",
    "\n",
    "Read and try to understand the code of the function `compare_Pnf_f` in the previous cell. Run the following cell for different values of $n$ and different functions ($f_1$, $f_2$ and $f_3$). Comment upon the obtained results."
   ]
  },
  {
   "cell_type": "code",
   "execution_count": 12,
   "metadata": {
    "pycharm": {
     "name": "#%%\n"
    }
   },
   "outputs": [
    {
     "data": {
      "image/png": "[encoded data removed]",
      "text/plain": [
       "<Figure size 1440x576 with 2 Axes>"
      ]
     },
     "metadata": {
      "needs_background": "light"
     },
     "output_type": "display_data"
    }
   ],
   "source": [
    "n = 10 # degree of the interpolation polynomial\n",
    "x = np.linspace(-1, 1, n+1)  # n+1 equispaced nodes for the interpolation\n",
    "X = np.linspace(-1, 1, 1001)  # the points at which f, P_n(f) and e_n(f) will be plotted\n",
    "\n",
    "compare_Pnf_f(f2, x, X)  "
   ]
  },
  {
   "cell_type": "markdown",
   "metadata": {
    "pycharm": {
     "name": "#%% md\n"
    }
   },
   "source": [
    "<div markdown=1, class='Answer'>\n"
   ]
  },
  {
   "cell_type": "markdown",
   "metadata": {
    "pycharm": {
     "name": "#%% md\n"
    }
   },
   "source": [
    "In order to better understand what we just observed, we now try to estimate the distance between $P_n(f)$ and $f$. Given $n+1$ interpolations nodes $x_0,\\ldots,x_n$, it will be convenient to introduce the polynomial $\\Pi_{x_0,\\ldots,x_n}$ of degree $n+1$ as\n",
    "\n",
    "$$\n",
    "\\Pi_{x_0,\\ldots,x_n}(x) = (x-x_0)(x-x_1)\\cdots(x-x_n).\n",
    "$$"
   ]
  },
  {
   "cell_type": "markdown",
   "metadata": {
    "pycharm": {
     "name": "#%% md\n"
    }
   },
   "source": [
    "<div  markdown=1 class=\"Thm\">  <b> Estimation of the error </b> \n",
    "\n",
    "Let $f : [a,b] \\to \\mathbb{R}$ be $n+1$ times differentiable and consider $n+1$ distinct interpolations nodes $x_0,\\ldots,x_n$ in $[a,b]$.  Then, for every $x$ in $[a,b]$, there exists $\\xi_x \\in (a,b)$ such that \n",
    "\n",
    "$$\n",
    "f(x) - P_n(f)(x) = \\frac{\\Pi_{x_0,\\ldots,x_n}(x)}{(n+1)!} f^{(n+1)}(\\xi_x).\n",
    "$$\n",
    "\n",
    "In particular, we get that\n",
    "\n",
    "$$\n",
    "E_n(f) = \\sup_{x\\in[a,b]} \\vert f(x) - P_n(f)(x) \\vert \\leq \\frac{\\sup_{x\\in [a,b]} \\left\\vert \\Pi_{x_0,\\ldots,x_n}(x) \\right\\vert }{(n+1)!} \\sup_{x\\in [a,b]} \\left\\vert f^{(n+1)}(x) \\right\\vert.\n",
    "$$"
   ]
  },
  {
   "cell_type": "markdown",
   "metadata": {
    "pycharm": {
     "name": "#%% md\n"
    }
   },
   "source": [
    "> **Proof. [$\\star$]** \n",
    "> If $x$ is equal to one of the nodes $x_k$, the first equality holds. So let us prove it if $x\\neq x_k$ for all $k=0\\ldots n.$ \n",
    ">\n",
    ">To do so, let $x$ be given and consider $P_{n+1}(f)$, the interpolation polynomial of $f$ of degree at most $n+1$ for the $n+2$ nodes $(x,x_0,x_1,\\ldots ,x_n)$.\n",
    ">\n",
    "> Since $P_{n+1}(f)$ interpolates $f$ at point $x$, we have:\n",
    ">\n",
    ">$$\n",
    "f(x)-P_n(f)(x) = P_{n+1}(f)(x)-P_n(f)(x).\n",
    "$$\n",
    ">\n",
    ">Then, notice that the $n+1$ points $(x_0,\\ldots,x_n)$ are roots of the polynomial $P_{n+1}(f)-P_n(f)$, of degree at most $n+1$. As a consequence, we know that there exists a constant $C$ such that, for all $t\\in\\mathbb{R}$,\n",
    ">\n",
    ">\\begin{align}\n",
    "P_{n+1}(f)(t)-P_n(f)(t) &= C \\, (t-x_0)(t-x_1)\\cdots(t-x_n) \\\\\n",
    "&= C\\, \\Pi_{x_0,\\ldots,x_n}(t).\n",
    "\\end{align}\n",
    ">\n",
    ">In particular, for $t=x$ we get:\n",
    ">\n",
    ">$$\n",
    "f(x)-P_n(f)(x) = P_{n+1}(f)(x)-P_n(f)(x) = C\\, \\Pi_{x_0,\\ldots,x_n}(x).\n",
    "$$\n",
    ">\n",
    ">It remains to compute the constant $C$. To do so, let us consider the function\n",
    ">\n",
    ">$$\n",
    "g(t) = P_{n+1}(f)(t) - f(t).\n",
    "$$\n",
    ">\n",
    ">This function has at least $n+2$ distinct zeros $x$, $x_0$, ... $x_n$ in $[a,b]$, therefore we can apply $n+1$ times Rolle's theorem to get that $g'$ has at least $n+1$ distinct zeros in $[a,b]$. Repeating this argument recursively until we reach $g^{(n+1)}$, we get that $g^{(n+1)}$ has at least one zero in $[a,b]$:\n",
    ">\n",
    ">$$\n",
    "\\exists \\xi_x \\in[a,b], \\quad{} g^{(n+1)}(\\xi_x)=0.\n",
    "$$\n",
    ">\n",
    ">Using the fact that $P_{n+1}(f)(t)=P_n(f)(t) +C \\, \\Pi_{x_0,\\ldots,x_n}(t)$ together with the fact that the degree of $P_n(f)$ is at most $n$,  we obtain\n",
    ">\n",
    ">\\begin{align}\n",
    "0 &= g^{(n+1)}(\\xi_x) \\\\\n",
    "& = P_{n+1}(f)^{(n+1)}(\\xi_x) - f^{(n+1)}(\\xi_x) \\\\\n",
    "& = C\\,(n+1)! - f^{(n+1)}(\\xi_x),\n",
    "\\end{align}\n",
    ">\n",
    ">and finally\n",
    ">\n",
    ">$$\n",
    "C = \\frac{f^{(n+1)}(\\xi_x)}{(n+1)!}\n",
    "$$\n",
    ">\n",
    ">which ends the proof of the first equality. The estimates for $E_n(f)$ immediately follows."
   ]
  },
  {
   "cell_type": "markdown",
   "metadata": {
    "pycharm": {
     "name": "#%% md\n"
    }
   },
   "source": [
    "<div markdown=1, class='Rmk'>\n",
    "\n",
    "From the previous theorem we get an estimation for the interpolation error which depends on  \n",
    "- the successive derivatives of $f$\n",
    "- the values of $\\Pi_{x_0,\\ldots,x_n}$ which itself depends on the nodes that have been used for the interpolation. \n",
    "\n",
    "This suggests that the choice of the the nodes could have a significant impact on the quality of the approximation. We are going to investigate this point in the next subsection.\n",
    "\n",
    "Before that, notice that the above theorem allows us to conclude that $P_n(f)$ converges to $f$ for some *very regular* functions."
   ]
  },
  {
   "cell_type": "markdown",
   "metadata": {
    "pycharm": {
     "name": "#%% md\n"
    }
   },
   "source": [
    "<div  markdown=1 class=\"Thm\">  <b>Uniform convergence for \"regular\" functions </b> \n",
    "\n",
    "Let $f : [a,b] \\to \\mathbb{R}$ be $\\mathcal{C}^\\infty$ and such that \n",
    "\n",
    "$$\n",
    "\\exists M>0, \\quad{} \\forall n\\geq 0,\\quad{} \\sup_{x\\in [a,b]} \\lvert f^{(n)}(x)\\rvert \\leq M^n.\n",
    "$$\n",
    "\n",
    "Then, whatever the choice of the interpolation nodes, $P_n(f)$ *converges uniformly* to $f$ on the interval $[a,b]$:\n",
    "\n",
    "$$\n",
    "E_n(f) = \\sup_{x\\in[a,b]}\\,\\lvert f(x) - P_n(f)(x) \\rvert \\underset{n\\to\\infty}{\\longrightarrow}0.\n",
    "$$"
   ]
  },
  {
   "cell_type": "markdown",
   "metadata": {
    "pycharm": {
     "name": "#%% md\n"
    }
   },
   "source": [
    "<div markdown=1 class=\"DoIt\"> Complete the proof of the previous theorem."
   ]
  },
  {
   "cell_type": "markdown",
   "metadata": {
    "pycharm": {
     "name": "#%% md\n"
    }
   },
   "source": [
    "> **Proof.** "
   ]
  },
  {
   "cell_type": "markdown",
   "metadata": {
    "pycharm": {
     "name": "#%% md\n"
    }
   },
   "source": [
    "<div markdown=1, class='Rmk'>\n",
    "\n",
    "This theorem applies to the functions $f_2(x) = \\sin(2\\pi x)$ and $f_3(x) = e^{2x}\\sin\\left(10x\\right)$ that we already considered before (for $f_3$ it is not completely obvious, but you can try to show it as an exercise), and proves that, in theory, $P_n(f)$ should converge to $f$ in both cases."
   ]
  },
  {
   "cell_type": "markdown",
   "metadata": {
    "pycharm": {
     "name": "#%% md\n"
    }
   },
   "source": [
    "<div markdown = 1, class = \"DoIt\"> \n",
    "\n",
    "Complete the following function `ErrorEqui` to compute the global interpolation error $E_n(f)$ for equidistant interpolation points and several values of $n$. In practice, you can approximate \n",
    "\n",
    "$$\n",
    "E_n(f) = \\sup_{x\\in[a,b]}\\,\\lvert f(x) - P_n(f)(x) \\rvert \n",
    "$$\n",
    "\n",
    "by\n",
    "\n",
    "$$\n",
    "\\max_{i\\in I}\\,\\lvert f(X_i) - P_n(f)(X_i) \\rvert,\n",
    "$$\n",
    "\n",
    "where $\\left(X_i\\right)_{i\\in I}$ is a sufficiently fine discretization of $[a,b]$.\n",
    "\n",
    "Then, use this function in the subsequent cell to plot the evolution of $E_n(f)$ with $n$ (use a log scale), for both functions $f_2$ and $f_3$. What happens when $n$ becomes too large?  Comment on the results. "
   ]
  },
  {
   "cell_type": "code",
   "execution_count": null,
   "outputs": [],
   "source": [
    "def ErrorEqui(f, nmax, X):\n",
    "    \"\"\"\n",
    "    Approximates the global interpolation error E_n(f) = sup_{[-1,1]} |f-P_n(f)| for n=0,...,nmax,\n",
    "    by computing sup_{X_i in X} |f(X_i)-P_n(f)(X_i)|. \n",
    "    Here P_n(f) is the interpolation polynomial for equidistant nodes.\n",
    "    -----------------------\n",
    "    Inputs: \n",
    "    f : continuous function on [-1,1]\n",
    "    nmax : integer, largest n for which the error has to be computed\n",
    "    X : 1D array containing the points at which f and P_n(f) will be evaluated to compute E_n(f)\n",
    "    \n",
    "    Output:\n",
    "    tab_Enf : 1D array containing [E_0(f), E_1(f), ..., E_{nmax}(f)]\n",
    "    \"\"\"\n",
    "    \n",
    "    tab_n = np.arange(0,nmax+1) # values of n for which the error E_n(f) = sup |f-P_n(f)| has to be computed\n",
    "    tab_Enf = np.zeros(nmax+1) # Pre-allocation\n",
    "    for n in tab_n:\n",
    "        x = np.linspace(-1,1,n+1)# n+1 equispaced nodes to compute the interpolant\n",
    "        y = f(x) # values of f at the nodes\n",
    "        a = interpVDM(x,y) # the coefficients of the interpolation polynomial P_n(f)\n",
    "        PnfX = evalHorner(a,X) # values of P_n(f) at the points stored in X   \n",
    "        tab_Enf[n] = np.max(np.abs(f(X)-PnfX)) # computation of E_n(f)\n",
    "    return tab_Enf"
   ],
   "metadata": {
    "collapsed": false,
    "pycharm": {
     "name": "#%%\n"
    }
   }
  },
  {
   "cell_type": "code",
   "execution_count": null,
   "outputs": [],
   "source": [
    "## graphical study of the convergence\n",
    "\n",
    "nmax = 25\n",
    "X = np.linspace(-1,1,1001)\n",
    "\n",
    "tab_Enf2 = ErrorEqui(f2, nmax, X)\n",
    "tab_Enf3 = ErrorEqui(f3, nmax, X)\n",
    "tab_n = np.arange(0, nmax+1)\n",
    "\n",
    "plt.figure(figsize=(10, 6))\n",
    "    \n",
    "plt.plot(tab_n, tab_Enf2, marker='o', label='$f_2$')\n",
    "plt.plot(tab_n, tab_Enf3, marker='o', label='$f_3$')\n",
    "plt.legend(fontsize = 18)\n",
    "plt.yscale('log')\n",
    "plt.title('Global interpolation error for equidistant nodes, log scale for the error', fontsize = 18)\n",
    "plt.xlabel('$n$',fontsize = 18)\n",
    "plt.ylabel('$E_{n}(f)$',fontsize = 18)\n",
    "plt.tick_params(labelsize=18)\n",
    "\n",
    "plt.show()"
   ],
   "metadata": {
    "collapsed": false,
    "pycharm": {
     "name": "#%%\n"
    }
   }
  },
  {
   "cell_type": "markdown",
   "source": [
    "<div markdown=1, class='Answer'>"
   ],
   "metadata": {
    "collapsed": false,
    "pycharm": {
     "name": "#%% md\n"
    }
   }
  },
  {
   "cell_type": "markdown",
   "source": [
    "<div markdown=1, class='Rmk'>\n",
    "\n",
    "On this example, we again see clearly the two different sources of errors that occur when we try to approximate $f$.\n",
    "- There are errors coming from the fact that we replace $f$ by $P_n(f)$. As we have seen, in some cases one can prove that the error between $f$ and $P_n(f)$ goes to zero when $f$ goes to infinity.\n",
    "- There are also errors coming from the fact that our algorithms have to use machine numbers only instead of all the real numbers, and therefore the interpolation polynomial that is produced by our algorithm is not exactly $P_n(f)$. \n",
    "The error between $f$ and $P_n(f)$ are predominant when $n$ is small, but when $n$ becomes larger the rounding error start to have a noticeable impact."
   ],
   "metadata": {
    "collapsed": false,
    "pycharm": {
     "name": "#%% md\n"
    }
   }
  },
  {
   "cell_type": "markdown",
   "source": [
    "### Using polynomial interpolation to approximate functions: Runge's phenomenon"
   ],
   "metadata": {
    "collapsed": false,
    "pycharm": {
     "name": "#%% md\n"
    }
   }
  },
  {
   "cell_type": "markdown",
   "source": [
    "<img src=\"figures/Runge.jpg\" alt=\"Runge\" style=\"width: 150px;\"/>\n",
    "  \n",
    ">**Carl David Tolmé Runge (1856-1927).**\n",
    "> Carl David Tolmé Runge was a German mathematician, physicist, and spectroscopist. In the field of numerical analysis, he is the co-developper of the Runge-Kutta method to approximate the solution to differential equations. He discorvered the now called \"Runge's phenomenon\" in 1901 when exploring the behavior of errors when using polynomial interpolation to approximate certain functions. Runge's phenomenon is a problem of oscillation at the edges of an interval that occurs when using polynomial interpolation with polynomials of high degree over a set of equispaced interpolation points. The discovery was important because it shows that, for equispaced points, going to higher degrees does not always improve accuracy. The phenomenon is similar to the Gibbs phenomenon in Fourier series approximations."
   ],
   "metadata": {
    "collapsed": false,
    "pycharm": {
     "name": "#%% md\n"
    }
   }
  },
  {
   "cell_type": "markdown",
   "source": [
    "In the previous subsection, we studied two examples of $\\mathcal{C}^\\infty$ functions for which, with equidistant interpolation nodes, the interpolation polynomial $P_n(f)$ was converging uniformly to $f$ on a given interval. However, even for $\\mathcal{C}^\\infty$ functions, the theoretical results we have only guarantee the convergence under some additional assumption on the behavior of the derivatives of $f$. The following example \n",
    "\n",
    "$$f_{Runge} (x) = \\frac{1}{1+25x^2},$$\n",
    "\n",
    "due to Runge, shows that there exist $\\mathcal{C}^\\infty$ functions, which are rather innocent-looking, for which $P_n(f)$ does not converge uniformly to $f$ with equidistant nodes."
   ],
   "metadata": {
    "collapsed": false,
    "pycharm": {
     "name": "#%% md\n"
    }
   }
  },
  {
   "cell_type": "markdown",
   "source": [
    "<div markdown=1 class=\"DoIt\"> \n",
    "\n",
    "Complete the following cell in order to plot the interpolation  polynomial of the Runge function on $[-1,1]$ for $n=10$ and $n=20$ equidistant nodes. You can use the `compare_Pnf_f` function. What do you observe? You can confirm your observations using the `ErrorEqui` function."
   ],
   "metadata": {
    "collapsed": false,
    "pycharm": {
     "name": "#%% md\n"
    }
   }
  },
  {
   "cell_type": "code",
   "execution_count": null,
   "outputs": [],
   "source": [
    "def f_Runge(x):\n",
    "    return 1/(1+25*x**2)\n",
    "\n",
    "n1 = 10000\n",
    "n2 = 20000\n",
    "x1 = np.linspace(-1, 1, n1+1) # n1+1 equispaced nodes in [-1,1]\n",
    "x2 = np.linspace(-1, 1, n2+1) # n2+1 equispaced nodes in [-1,1]\n",
    "X = np.linspace(-1, 1, 1001)  # the points at which f, P_n(f) and e_n(f) will be evaluated and plotted\n",
    "\n",
    "\n",
    "# Plots of f, P_n(f) and e_n(f), using compare_Pnf_f\n",
    "compare_Pnf_f(f_Runge, x1, X)\n",
    "\n",
    "compare_Pnf_f(f_Runge, x2, X)\n",
    "\n",
    "\n",
    "## graphical study of the convergence\n",
    "\n",
    "nmax = 25\n",
    "\n",
    "tab_n = np.arange(0,nmax+1)\n",
    "tab_Enf_Runge = ErrorEqui(f_Runge, nmax, X) # Errors [E_0(f), E_1(f), ..., E_{nmax}(f)]\n",
    "\n",
    "plt.figure(figsize=(10, 6))\n",
    "    \n",
    "plt.plot(tab_n, tab_Enf_Runge, marker='o', label='$f_{Runge}$')\n",
    "plt.legend(fontsize = 18)\n",
    "plt.yscale('log')\n",
    "plt.title('Global interpolation error for equidistant nodes, log scale for the error', fontsize = 18)\n",
    "plt.xlabel('$n$',fontsize = 18)\n",
    "plt.ylabel('$E_{n}(f)$',fontsize = 18)\n",
    "plt.tick_params(labelsize=18)\n",
    "\n",
    "plt.show()"
   ],
   "metadata": {
    "collapsed": false,
    "pycharm": {
     "name": "#%%\n"
    }
   }
  },
  {
   "cell_type": "markdown",
   "metadata": {
    "pycharm": {
     "name": "#%% md\n"
    }
   },
   "source": [
    "<div mardown=1, class='Answer'>"
   ]
  },
  {
   "cell_type": "markdown",
   "metadata": {
    "pycharm": {
     "name": "#%% md\n"
    }
   },
   "source": [
    "<div markdown=1, class='Rmk'>\n",
    "\n",
    "This example strongly suggests that polynomial interpolation with a large number of nodes is not necessarily a good strategy to approximate functions, **if we use equidistant nodes**. As we will see in the next subsection, polynomial interpolation  with a large number of nodes actually performs well for any function which is at least somewhat smooth (say Lipschitz), **provided appropriate nodes are selected**, like the Chebyshev nodes."
   ]
  },
  {
   "cell_type": "markdown",
   "metadata": {
    "pycharm": {
     "name": "#%% md\n"
    }
   },
   "source": [
    "### Using polynomial interpolation to approximate functions: optimal choice for the nodes"
   ]
  },
  {
   "cell_type": "markdown",
   "metadata": {
    "pycharm": {
     "name": "#%% md\n"
    }
   },
   "source": [
    "<img src=\"figures/Chebyshev.jpg\" alt=\"Chebyshev\" style=\"width: 200px;\"/>\n",
    "  \n",
    ">**Pafnuty Lvovich Chebyshev (1821-1894).**\n",
    ">Pafnuty Lvovich Chebyshev is a Russian mathematician. He is known for his work in the fields of probability, statistics, mechanics, and number theory. He is also known for the \"Chebyshev polynomials\", which are a sequence of orthogonal polynomials. He introduced these polynomials to minimize the problem of Runge's phenomena in polynomial approximation of functions. These polynomials are also used in numerical integration and are solution to special cases of the Sturm–Liouville differential equation that occur very commonly in mathematics, particularly when dealing with linear partial differential equations.\n"
   ]
  },
  {
   "cell_type": "markdown",
   "metadata": {
    "pycharm": {
     "name": "#%% md\n"
    }
   },
   "source": [
    "To enhance the quality of the approximation, one can look for better nodes $(x_k)_k$. Indeed, recalling the estimation: \n",
    "\n",
    "$$\n",
    "f(x) - P_n(f)(x) = \\frac{\\Pi_{x_0\\ldots\\,x_n}(x)}{(n+1)!} f^{(n+1)}(\\xi_x),\n",
    "$$\n",
    "\n",
    "one could choose the interpolations nodes $x_0, x_1, \\ldots, x_n$ so as to minimize the quantity\n",
    "\n",
    "$$\n",
    "\\left\\Vert \\Pi_{x_0\\ldots\\,x_n} \\right\\Vert_\\infty = \\sup_{x\\in [a,b]}\\lvert \\Pi_{x_0\\ldots\\,x_n}(x) \\rvert =  \\sup_{x\\in [a,b]}\\lvert (x-x_0)(x-x_1)\\ldots(x-x_n) \\rvert.\n",
    "$$\n",
    "\n",
    "It turns out that one choice of $n+1$ nodes $x_0,\\ldots,x_n$ that achieves this minimum for $[a,b] = [-1,1]$ is well-known, and is related to the Chebyshev polynomials that we now introduce."
   ]
  },
  {
   "cell_type": "markdown",
   "metadata": {
    "pycharm": {
     "name": "#%% md\n"
    }
   },
   "source": [
    "<div  markdown=1 class=\"Def\"> The Chebyshev polynomial of order $n$ is noted $T_n$ and is defined by induction: $T_0(X) = 1$, $T_1(X) = X$ and, for all $n\\geq 1$\n",
    "\n",
    "$$T_{n+1}(X) = 2XT_n(X) - T_{n-1}(X).$$"
   ]
  },
  {
   "cell_type": "markdown",
   "metadata": {
    "pycharm": {
     "name": "#%% md\n"
    }
   },
   "source": [
    "The Chebyshev polynomials satisfy the following important properties."
   ]
  },
  {
   "cell_type": "markdown",
   "metadata": {
    "pycharm": {
     "name": "#%% md\n"
    }
   },
   "source": [
    "<div  markdown=1 class=\"Prop\"> For all $n \\in \\mathbb{N}$, the polynomial $T_n$ has the following properties:\n",
    "\n",
    "- $T_n$ is a polynomial of degree $n$ and, if $n\\geq 1$, the leading coefficient is $2^{n-1}$.\n",
    "\n",
    "- For all $\\theta \\in \\mathbb{R}$,\n",
    "\n",
    "$$ T_n(\\cos\\theta) = \\cos(n\\theta). $$\n",
    "\n",
    "- $T_{n+1}$ has $n+1$ (distinct) roots in $(-1,1)$ given by\n",
    "\n",
    "$$\\hat{x}_k = \\cos\\left(\\frac{2k + 1}{2n+2}\\pi\\right), \\qquad{} 0 \\leq k \\leq n.$$\n",
    "\n",
    "- $T_{n+1}(x) = 2^{n}(x-\\hat{x}_0)\\cdots(x-\\hat{x}_{n})$.\n",
    "\n",
    "- For $x\\in [-1,1]$, one has $-1 \\leq T_n(x) \\leq 1$. If we let $\\hat{y}_k = \\cos\\left(\\frac{k\\pi}{n}\\right)$ for $0\\leq k \\leq n$, we have\n",
    "\n",
    "$$-1= \\hat{y}_n < \\hat{y}_{n-1} < \\cdots < \\hat{y}_0 = 1 \\quad{} \\text{with} \\quad{} T_n\\left(\\hat{y}_k\\right) = (-1)^{k}.$$"
   ]
  },
  {
   "cell_type": "markdown",
   "metadata": {
    "pycharm": {
     "name": "#%% md\n"
    }
   },
   "source": [
    ">**Proof.** [$\\star$]\n",
    ">\n",
    ">- **Degree and leading coefficient:** By definition, $T_0$ is of degree $0$, and $T_1$ is of degree $1$ and has leading coefficient $2^{1-1} = 1$. Let us show the same result for $n+1>1$ by induction, assuming the result is true for all $k \\leq n$. Using\n",
    "$$T_{n+1}(X) = 2XT_{n}(X) - T_{n-1}(X),$$\n",
    "we have that $T_{n+1}$ is the sum of a polynomial of degree $n+1$ and a polynomial of degree $n-1$. Thus, it is of degree $n+1$. Finally, the leading coefficient of $T_{n+1}$ is the leading coefficient of $2XT_{n}(X)$, it is therefore equal to $2\\times 2^{n-1} = 2^n$.\n",
    ">\n",
    ">- **Trigonometric identity**: We also prove this by induction. For the base cases, we indeed have $T_0(cos\\theta) = 1 = \\cos(0\\theta)$ and $T_1(\\cos\\theta) = \\cos\\theta = \\cos(1\\theta)$. Let us assume the result is true for $k\\leq n$, and show that it then holds for $n+1$. Using the assumption for $k=n-1,n$, and the trigonometric formula $2\\cos(a)\\cos(b) = \\cos(a+b) + \\cos(a-b)$, we get\n",
    "\\begin{align}\n",
    "T_{n+1}(\\cos\\theta) &= 2\\cos\\theta T_{n}(\\cos\\theta) - T_{n-1}(\\cos\\theta) \\\\\n",
    "&= 2\\cos\\theta \\cos(n\\theta) - \\cos((n-1)\\theta) \\\\\n",
    "&= \\cos((n+1)\\theta) + \\cos((n-1)\\theta) - \\cos((n-1)\\theta) \\\\\n",
    "&= \\cos((n+1)\\theta). \n",
    "\\end{align}\n",
    ">\n",
    ">- **Roots:** We use the fact that $T_{n+1}(\\cos\\theta)=\\cos((n+1)\\theta)$, and look for zeros of $\\cos((n+1)\\theta)$, that is, $(n+1)\\theta = \\frac{\\pi}{2} \\text{ mod } \\pi$. In particular, setting $\\theta_k=\\frac{2k+1}{2(n+1)}\\pi$, $k=0,\\ldots,n$, we have \n",
    "$$\n",
    "T_{n+1}(\\hat x_k) = T_{n+1}(\\cos\\theta_k) = \\cos((n+1)\\theta_k) = 0.\n",
    "$$\n",
    "All the $\\hat x_k$ for $k=0,\\ldots,n$ are different because all the $\\theta_k$ belong to $(0,\\pi)$ and the cosine function is injective on that interval. Therefore, we have found $n+1$ zeros of $T_{n+1}$ and since $T_{n+1}$ is a polynomial of degree $n+1$ we have all of them.\n",
    ">\n",
    ">- **Expression of $T_{n+1}$:** Since the $\\hat x_k$, $k=0,\\ldots,n$, are the roots of $T_{n+1}$ which is of degree $n+1$, we must have \n",
    "$$\n",
    "T_{n+1}(X) = C \\left(X - \\hat{x}_0\\right) \\left(X - \\hat{x}_1\\right)\\cdots \\left(X - \\hat{x}_{n}\\right),\n",
    "$$\n",
    "for some constant $C$, which must be $2^{n}$ because we have already proven that the leading coefficient of $T_{n+1}$ is $2^{n}$.\n",
    ">\n",
    ">- **Extremal values:** We again use the formula $T_n(\\cos\\theta) = \\cos(n\\theta)$, which immediately yields that $-1 \\leq T_n(x) \\leq 1$ for $x\\in[-1,1]$. In order to find the extremal values, we solve $\\cos(n\\theta) = \\pm 1$, which gives the announced values $\\hat y_k$."
   ]
  },
  {
   "cell_type": "markdown",
   "metadata": {
    "pycharm": {
     "name": "#%% md\n"
    }
   },
   "source": [
    "It turns out that the roots $\\hat x_k$ of $T_{n+1}$ make excellent interpolation nodes, as we will see in a moment. "
   ]
  },
  {
   "cell_type": "markdown",
   "metadata": {
    "pycharm": {
     "name": "#%% md\n"
    }
   },
   "source": [
    "<div  markdown=1 class=\"Def\"> \n",
    "\n",
    "Consider the interval $[-1,1]$. For any $n\\geq 0$, the $n+1$ **Chebyshev nodes** are given by\n",
    "\n",
    "$$\n",
    "\\hat x_k = \\cos\\left(\\frac{2k + 1}{2n+2}\\pi\\right), \\qquad{} 0 \\leq k \\leq n. \\nonumber\n",
    "$$"
   ]
  },
  {
   "cell_type": "markdown",
   "metadata": {
    "pycharm": {
     "name": "#%% md\n"
    }
   },
   "source": [
    "<div markdown=1 class='Fur'>\n",
    "\n",
    "The extremal points $\\hat y_k$ make equally excellent interpolation nodes, but to keep things simple we only consider interpolation at the nodes $\\hat x_k$ in this course."
   ]
  },
  {
   "cell_type": "markdown",
   "metadata": {
    "pycharm": {
     "name": "#%% md\n"
    }
   },
   "source": [
    "For a given value of $n$, let us denote by $(\\overline x_k)_{k=0,\\ldots,n}$ the $n+1$ equidistant points in $[-1,1]$ and let us compare on $[-1,1]$ the two following polynomials:\n",
    "\n",
    "\n",
    "$$\\bar \\Pi(x) = \\Pi_{\\bar x_0\\ldots\\,\\bar x_n}(x) = (x- \\overline x_0)(x-\\overline x_1)\\cdots(x-\\overline x_n),$$\n",
    "\n",
    "$$\\hat \\Pi(x) = \\Pi_{\\hat x_0\\ldots\\,\\hat x_n}(x) = \\frac{T_{n+1}(x)}{2^{n}} = (x-\\hat x_0)(x-\\hat x_1)\\cdots(x-\\hat x_n),$$\n",
    "\n",
    "corresponding to equidistant nodes and to Chebyshev nodes respectively."
   ]
  },
  {
   "cell_type": "markdown",
   "metadata": {
    "pycharm": {
     "name": "#%% md\n"
    }
   },
   "source": [
    "<div markdown=1 class=\"DoIt\"> \n",
    "\n",
    "Complete the following function to obtain the roots of $T_n$ for any given integer $n$."
   ]
  },
  {
   "cell_type": "code",
   "execution_count": null,
   "metadata": {
    "pycharm": {
     "name": "#%%\n"
    }
   },
   "outputs": [],
   "source": [
    "def xhat(n):\n",
    "    \"\"\"\n",
    "    function returning the zeros of Tn\n",
    "    -----------------------\n",
    "    Inputs: \n",
    "    n : the degree of Tn\n",
    "    \n",
    "    Output:\n",
    "    1D array containing the n roots of Tn\n",
    "    \"\"\"\n",
    "    if n == 0:\n",
    "        return np.array([])\n",
    "    else:\n",
    "        return ..."
   ]
  },
  {
   "cell_type": "markdown",
   "metadata": {
    "pycharm": {
     "name": "#%% md\n"
    }
   },
   "source": [
    "<div markdown=1 class=\"DoIt\"> \n",
    "\n",
    "Complete the code of the function `evalPolywithRoots` in the following cell, to evaluate a polynomial of the form:\n",
    "\n",
    "$$P = (x-x_0)(x-x_1)...(x-x_n).$$"
   ]
  },
  {
   "cell_type": "code",
   "execution_count": null,
   "metadata": {
    "pycharm": {
     "name": "#%%\n"
    }
   },
   "outputs": [],
   "source": [
    "def evalPolywithRoots(x,X):\n",
    "    \"\"\"\n",
    "    Evaluation of a monic polynomial described by its roots.\n",
    "    -----------------------\n",
    "    Inputs: \n",
    "    x : the zeros x_0,...,x_n of the polynomial P\n",
    "    X : an array of values at which we want to evaluate P \n",
    "    \n",
    "    Output: \n",
    "    an array containing the values P(X_k) for each X_k in X\n",
    "    \"\"\"\n",
    "    PX = ...\n",
    "    for xk in x:\n",
    "        PX = ...\n",
    "    return PX"
   ]
  },
  {
   "cell_type": "markdown",
   "metadata": {
    "pycharm": {
     "name": "#%% md\n"
    }
   },
   "source": [
    "<div markdown=1 class=\"DoIt\"> \n",
    "\n",
    "Complete the following cell to plot $\\overline \\Pi$ and $\\hat \\Pi$ on $[-1,1]$ for different values of $n$. What do you observe? How do you expect this to impact the quality of polynomial interpolation using Chebyshev nodes versus equidistant nodes?"
   ]
  },
  {
   "cell_type": "code",
   "execution_count": null,
   "metadata": {
    "pycharm": {
     "name": "#%%\n"
    }
   },
   "outputs": [],
   "source": [
    "n = 10\n",
    "x_equi = ... # n+1 equispaced nodes\n",
    "x_cheb = ...  # n+1 chebychev nodes\n",
    "X = np.linspace(-1, 1, 1001)  # the points at which the polynomials will be evaluated and plotted\n",
    "\n",
    "# Evaluate \\bar Pi for equispaced nodes\n",
    "Pi_equi = ... \n",
    "# Evaluate \\hat Pi for chebychev nodes\n",
    "Pi_cheb = ...  \n",
    "\n",
    "# plots\n",
    "plt.figure(figsize = (20,12))\n",
    "plt.plot(X, Pi_equi, label='$ \\overline{\\Pi}$ (equidistant nodes)')\n",
    "plt.plot(X, Pi_cheb, label='$\\hat \\Pi$ (Chebyshev nodes)')\n",
    "plt.xlabel('x',fontsize = 18)\n",
    "plt.legend(fontsize = 18, loc = 'lower center')\n",
    "plt.title('n = %i' %n, fontsize = 18)\n",
    "plt.tick_params(labelsize=18)\n",
    "plt.show()"
   ]
  },
  {
   "cell_type": "markdown",
   "metadata": {
    "pycharm": {
     "name": "#%% md\n"
    }
   },
   "source": [
    "<div markdown=1, class='Answer'>\n"
   ]
  },
  {
   "cell_type": "markdown",
   "metadata": {
    "pycharm": {
     "name": "#%% md\n"
    }
   },
   "source": [
    "In fact, for a given value of $n$, the following theorem proves that the Chebyshev nodes $\\hat x_0,\\ldots,\\hat x_n$ are an optimal choice of nodes to minimize $\\|\\Pi_{x_0,\\ldots,x_n}\\|_\\infty$:"
   ]
  },
  {
   "cell_type": "markdown",
   "metadata": {
    "pycharm": {
     "name": "#%% md\n"
    }
   },
   "source": [
    "<div  markdown=1 class=\"Thm\"> Let $n \\in \\mathbb{N}$. For any set of nodes $x_0,\\ldots,x_n$ in $[-1,1]$, \n",
    "\n",
    "$$ \\left\\Vert \\Pi_{\\hat x_0,\\ldots,\\hat x_n} \\right\\Vert_\\infty  \\leq \\left\\Vert \\Pi_{x_0,\\ldots,x_n}\\right\\Vert_\\infty.$$"
   ]
  },
  {
   "cell_type": "markdown",
   "metadata": {
    "pycharm": {
     "name": "#%% md\n"
    }
   },
   "source": [
    "> **Proof. [$\\star$]** \n",
    ">Let $x_0,\\ldots,x_n$ be a set of nodes in $[-1,1]$, and consider\n",
    ">\n",
    ">$$\\Pi(x)=(x-x_0)(x-x_1)\\cdots(x-x_n),$$\n",
    ">\n",
    ">and \n",
    ">\n",
    ">$$\\hat \\Pi(x) = \\frac{T_{n+1}(x)}{2^{n}} = (x-\\hat x_0)(x-\\hat x_1)\\cdots(x-\\hat x_n).$$ \n",
    ">\n",
    ">We have to prove that\n",
    ">\n",
    ">$$\n",
    "\\sup_{x \\in [-1,1]} \\lvert \\hat\\Pi(x) \\rvert \\leq \\sup_{x \\in [-1,1]} \\lvert \\Pi(x) \\rvert.\n",
    "$$\n",
    ">\n",
    "> Assume by contradiction that \n",
    "> $$\\sup_{x \\in [-1,1]} \\lvert \\Pi(x)\\rvert < \\sup_{x \\in [-1,1]} \\hat\\Pi(x), $$\n",
    "> which can be rewritten\n",
    ">$$\n",
    "\\sup_{x \\in [-1,1]} \\lvert \\Pi(x)\\rvert < \\sup_{x \\in [-1,1]} \\frac{\\lvert T_{n+1}(x)\\rvert}{2^{n}}.\n",
    "$$\n",
    "> \n",
    "> From this and the properties of $T_{n+1}$ we then have that, for all $x\\in [-1,1]$, $\\displaystyle \\lvert \\Pi(x) \\rvert < \\frac{1}{2^{n}}$. \n",
    ">\n",
    "> Let us now consider \n",
    ">\n",
    ">$$D_{n}(x) = \\Pi(x) - \\hat\\Pi(x)  = \\Pi(x) - \\frac{ T_{n+1}(x)}{2^{n}},\n",
    "$$ \n",
    "> \n",
    ">which is a polynomial of degree at most $n$ (since the coefficient of degree $n+1$ in both $\\Pi$ and $\\hat\\Pi$ is $1$). Our goal is to show that $D_n=0$, which would be a contradiction. For $k=0,\\ldots,n+1$ and $\\hat y_k = \\cos\\left(\\frac{k\\pi}{n+1}\\right)$, we have\n",
    ">\n",
    ">$$\n",
    "\\hat\\Pi( \\hat y_k) = \\frac{ T_{n+1}(\\hat y_k)}{2^{n}} = \\frac{ (-1)^k}{2^{n}}.\n",
    "$$\n",
    ">\n",
    "> However, since $\\displaystyle \\lvert \\Pi(x) \\rvert < \\frac{1}{2^{n}}$, we have that $D_{n}(\\hat y_k)$ is positive for even $k$ and negative for odd $k$, $0\\leq k\\leq n+1$. In particular, $D_{n}$ has at least $n+1$ zeros by the intermediate value theorem, but $D_n$ is a polynomial of degree at most $n$, so it must be $0$. This is a contradiction ($\\Pi \\neq \\hat\\Pi$ because we assumed $\\sup_{x \\in [-1,1]} \\lvert \\Pi(x)\\rvert < \\sup_{x \\in [-1,1]} \\hat\\Pi(x)$), and the theorem is proven."
   ]
  },
  {
   "cell_type": "markdown",
   "metadata": {
    "pycharm": {
     "name": "#%% md\n"
    }
   },
   "source": [
    "In particular, we have $\\|\\hat \\Pi\\|_\\infty  \\leq \\|\\bar \\Pi\\|_\\infty$ for any number of nodes $n$, as suggested by the previous numerical experiment."
   ]
  },
  {
   "cell_type": "markdown",
   "metadata": {
    "pycharm": {
     "name": "#%% md\n"
    }
   },
   "source": [
    "<div markdown=1 class=\"DoIt\"> \n",
    "\n",
    "Complete the following cell in order to plot the interpolation polynomial of the Runge function on $[-1,1]$ for $n=10$ and $n=20$ Chebyshev nodes. You can use the `compare_Pnf_f` function. How do the results compare with what you obtained previously for equidistant nodes?"
   ]
  },
  {
   "cell_type": "code",
   "execution_count": null,
   "metadata": {
    "pycharm": {
     "name": "#%%\n"
    }
   },
   "outputs": [],
   "source": [
    "n1 = 10\n",
    "n2 = 20\n",
    "x1 = ... # n1+1 Chebyshev nodes in [-1,1]\n",
    "x2 = ... # n2+1 Chebyshev nodes in [-1,1]\n",
    "X = np.linspace(-1, 1, 1001)  # the points at which f, P_n(f) and e_n(f) will be evaluated and plotted\n",
    "\n",
    "\n",
    "# Plots of f, P_n(f) and e_n(f), using compare_Pnf_f\n",
    "...\n",
    "..."
   ]
  },
  {
   "cell_type": "markdown",
   "metadata": {
    "pycharm": {
     "name": "#%% md\n"
    }
   },
   "source": [
    "<div markdown=1, class='Answer'>\n",
    "\n",
    "As expected, the interpolation polynomials obtained with Chebyshev nodes give a much better approximation of the Runge function than the one obtained with equidistant nodes: the oscillations close to the boundary disappeared, and it looks like $P_n(f)$ is now converging to $f$."
   ]
  },
  {
   "cell_type": "markdown",
   "metadata": {
    "pycharm": {
     "name": "#%% md\n"
    }
   },
   "source": [
    "<div markdown = 1, class = \"DoIt\"> \n",
    "\n",
    "Using the cell below, compare also $f_1$ and the interpolation polynomial $P_n(f_1)$ obtained with Chebyshev nodes, for different values of $n$. Do the result differ from what you obtained previously with equidistant nodes?"
   ]
  },
  {
   "cell_type": "code",
   "execution_count": null,
   "metadata": {
    "pycharm": {
     "name": "#%%\n"
    }
   },
   "outputs": [],
   "source": [
    "n = 40 # degree of the interpolation polynomial\n",
    "x = xhat(n+1)  # n+1 Chebyshev nodes for the interpolation\n",
    "X = np.linspace(-1,1,1001)  # the points at which f, P_n(f) and e_n(f) will be plotted\n",
    "\n",
    "compare_Pnf_f(f1, x, X)  "
   ]
  },
  {
   "cell_type": "markdown",
   "metadata": {
    "pycharm": {
     "name": "#%% md\n"
    }
   },
   "source": [
    "<div markdown=1, class='Answer'>"
   ]
  },
  {
   "cell_type": "markdown",
   "metadata": {
    "pycharm": {
     "name": "#%% md\n"
    }
   },
   "source": [
    "<div markdown = 1, class = \"DoIt\"> \n",
    "\n",
    "Complete the following function `ErrorCheb` to compute the global interpolation error $E_n(f)$ for Chebyshev interpolation points and several values of $n$. In practice, you can approximate \n",
    "\n",
    "$$\n",
    "E_n(f) = \\sup_{x\\in[-1,1]}\\,\\lvert f(x) - P_n(f)(x) \\rvert \n",
    "$$\n",
    "\n",
    "by\n",
    "\n",
    "$$\n",
    "\\max_{i\\in I}\\,\\lvert f(X_i) - P_n(f)(X_i) \\rvert,\n",
    "$$\n",
    "\n",
    "where $\\left(X_i\\right)_{i\\in I}$ is a sufficiently fine discretization of $[-1,1]$.\n",
    "\n",
    "Then, use this function in the subsequent cell to plot the evolution of $E_n(f)$ with $n$ (use a log scale), for the functions $f_1$, $f_2$, $f_3$ and $f_{Runge}$. Comment on the results. "
   ]
  },
  {
   "cell_type": "code",
   "execution_count": null,
   "metadata": {
    "pycharm": {
     "name": "#%%\n"
    }
   },
   "outputs": [],
   "source": [
    "def ErrorCheb(f, nmax, X):\n",
    "    \"\"\"\n",
    "    Approximates the global interpolation error E_n(f) = sup_{[-1,1]} |f-P_n(f)| for n=0,...,nmax,\n",
    "    by computing sup_{X_i in X} |f(X_i)-P_n(f)(X_i)|. \n",
    "    Here P_n(f) is the interpolation polynomial for Chebyshev nodes.\n",
    "    -----------------------\n",
    "    Inputs: \n",
    "    f : continuous function on [-1,1]\n",
    "    nmax : integer, largest n for which the error has to be computed\n",
    "    X : 1D array containing the points at which f and P_n(f) will be evaluated to compute E_n(f)\n",
    "    \n",
    "    Output:\n",
    "    tab_Enf : 1D array containing [E_0(f), E_1(f), ..., E_{nmax}(f)]\n",
    "    \"\"\"\n",
    "    \n",
    "    tab_n = np.arange(0,nmax+1) # values of n for which the error E_n(f) = sup |f-P_n(f)| has to be computed\n",
    "    tab_Enf = np.zeros(nmax+1) # Pre-allocation\n",
    "    for n in tab_n:\n",
    "        x = ... # n+1 Chebyshev nodes to compute the interpolant\n",
    "        y = ... # values of f at the nodes\n",
    "        a = ... # the coefficients of the interpolation polynomial P_n(f)\n",
    "        PnfX = ... # values of P_n(f) at the points stored in X   \n",
    "        tab_Enf[n] = ... # computation of E_n(f)\n",
    "    return ..."
   ]
  },
  {
   "cell_type": "code",
   "execution_count": null,
   "metadata": {
    "pycharm": {
     "name": "#%%\n"
    }
   },
   "outputs": [],
   "source": [
    "## graphical study of the convergence\n",
    "\n",
    "nmax = 40\n",
    "X = np.linspace(-1,1,1001)\n",
    "\n",
    "tab_Enf1 = ErrorCheb(f1, nmax, X)\n",
    "tab_Enf2 = ErrorCheb(f2, nmax, X)\n",
    "tab_Enf3 = ErrorCheb(f3, nmax, X)\n",
    "tab_EnfRunge = ErrorCheb(f_Runge, nmax, X)\n",
    "tab_n = np.arange(0, nmax+1)\n",
    "\n",
    "plt.figure(figsize=(10, 6))\n",
    "plt.plot(tab_n, tab_Enf2, marker='o', label='$f_2$')\n",
    "plt.plot(tab_n, tab_Enf3, marker='o', label='$f_3$')\n",
    "plt.legend(fontsize = 18)\n",
    "plt.yscale('log')\n",
    "plt.title('Global interpolation error for Chebyshev nodes, log scale for the error', fontsize = 18)\n",
    "plt.xlabel('$n$',fontsize = 18)\n",
    "plt.ylabel('$E_{n}(f)$',fontsize = 18)\n",
    "plt.tick_params(labelsize=18)\n",
    "plt.show()\n",
    "\n",
    "\n",
    "plt.figure(figsize=(10, 6))\n",
    "plt.plot(tab_n, tab_Enf1, marker='o', label='$f_1$')\n",
    "plt.plot(tab_n, tab_EnfRunge, marker='o', label='$f_{Runge}$')\n",
    "plt.legend(fontsize = 18)\n",
    "plt.yscale('log')\n",
    "plt.title('Global interpolation error for Chebyshev nodes, log scale for the error', fontsize = 18)\n",
    "plt.xlabel('$n$',fontsize = 18)\n",
    "plt.ylabel('$E_{n}(f)$',fontsize = 18)\n",
    "plt.tick_params(labelsize=18)\n",
    "plt.show()\n"
   ]
  },
  {
   "cell_type": "markdown",
   "metadata": {
    "pycharm": {
     "name": "#%% md\n"
    }
   },
   "source": [
    "<div markdown=1, class='Answer'>"
   ]
  },
  {
   "cell_type": "markdown",
   "metadata": {
    "pycharm": {
     "name": "#%% md\n"
    }
   },
   "source": [
    "<div markdown=1, class='Fur'> [$\\star$] For the function $f_1$, the convergence is so slow that one can wonder whether the error would really go to zero in the absence of rounding errors. The convergence can actually be proven theoretically in that case, but this goes beyond the scope of this course."
   ]
  },
  {
   "cell_type": "markdown",
   "metadata": {
    "pycharm": {
     "name": "#%% md\n"
    }
   },
   "source": [
    "<div markdown = 1, class = \"DoIt\"> \n",
    "\n",
    "Finally, for the functions $f_2$ and $f_3$, for which the interpolation polynomial converges for equidistant and Chebyshev nodes, plot the global error $E_n(f)$ versus $n$ on the same picture for both choices of nodes. Conclude."
   ]
  },
  {
   "cell_type": "code",
   "execution_count": null,
   "metadata": {
    "pycharm": {
     "name": "#%%\n"
    }
   },
   "outputs": [],
   "source": []
  },
  {
   "cell_type": "markdown",
   "metadata": {
    "pycharm": {
     "name": "#%% md\n"
    }
   },
   "source": [
    "<div markdown=1, class='Answer'>"
   ]
  },
  {
   "cell_type": "markdown",
   "metadata": {
    "pycharm": {
     "name": "#%% md\n"
    }
   },
   "source": [
    "<div markdown = 1, class = \"Rmk\"> \n",
    "\n",
    "We only dealt with interpolation at Chebyshev nodes on the interval $[-1,1]$, but this can easily be generalized on any interval $[a,b]$ via the affine bijection $x\\mapsto a+\\frac{x+1}{2}(b-a)$."
   ]
  },
  {
   "cell_type": "markdown",
   "metadata": {
    "pycharm": {
     "name": "#%% md\n"
    }
   },
   "source": [
    "<div markdown = 1, class = \"Fur\"> [$\\star$]\n",
    "\n",
    "- We have clearly seen the superiority of the Chebyshev nodes in practice, and justified it to some extent, based on the estimate\n",
    "$$\n",
    "f(x) - P_n(f)(x) = \\frac{\\Pi_{x_0\\ldots\\,x_n}(x)}{(n+1)!} f^{(n+1)}(\\xi_x),\n",
    "$$\n",
    "and the fact that the Chebyshev nodes minimize $\\left\\Vert \\Pi_{x_0\\ldots\\,x_n} \\right\\Vert_\\infty$. However, one can do even better for the Chebyshev nodes, and prove that, as soon as $f$ is *a bit more than continuous* (for example Lipschitz), then the interpolation polynomial at the Chebyshev nodes converges uniformly to $f$ (with a speed depending on the regularity of $f$). This proves that for the function $f_1$ considered previously, $P_n(f_1)$ does indeed converge to $f_1$ for Chebyshev nodes.\n",
    "- Finally, we point out that the algorithm that we used to compute the interpolation polynomial, namely solving the linear system given by the Vanderpol matrix, has the merit of being very simple to implement, but is known to be somewhat ill-behaved (*ill-conditioned*) when $n$ becomes too large, and that there exist better implementations which are less sensitive to rounding errors."
   ]
  },
  {
   "cell_type": "markdown",
   "metadata": {
    "pycharm": {
     "name": "#%% md\n"
    }
   },
   "source": [
    "### Using polynomial interpolation to approximate functions: Instabilities and noisy data..."
   ]
  },
  {
   "cell_type": "markdown",
   "metadata": {
    "pycharm": {
     "name": "#%% md\n"
    }
   },
   "source": [
    "In the previous subsection, we have seen that rounding errors could produce some kind of **instability** in our algorithms when $n$ becomes large, especially with uniform interpolation nodes. Here we are going to see that the instability can already manifest itself for moderate values of $n$ in a slightly different context, namely noisy data.\n",
    "\n",
    "Indeed, suppose that we want to interpolate a function $f$ at points $x_0,\\ldots,x_n$, and suppose that the available values of $f$ at these points are not exact (think for example of noise due to experimental measurements). To model this phenomenon, when we compute the interpolation polynomial we are going to replace $f(x_k)$ by $f(x_k) + \\epsilon_k$, with $\\epsilon_k$ a random variable of small amplitude. \n",
    "\n",
    "Obviously, we can no longer expect $P_n(f)$ to represent $f$ very accurately, but one would like the error to have roughly the same magnitude as the noise."
   ]
  },
  {
   "cell_type": "markdown",
   "metadata": {
    "pycharm": {
     "name": "#%% md\n"
    }
   },
   "source": [
    "<div markdown=1 class=\"DoIt\"> Run the following cell to observe the behavior of the interpolation polynomial, with noisy data. Experiment with the parameters, and in particular try different values of $n$. Comment on the results, and on the influence of the two choices for the nodes."
   ]
  },
  {
   "cell_type": "code",
   "execution_count": null,
   "metadata": {
    "pycharm": {
     "name": "#%%\n"
    }
   },
   "outputs": [],
   "source": [
    "f = f2 # the function for which we do the test\n",
    "\n",
    "eps = 0.05 # magnitude of the noise\n",
    "\n",
    "def noise(x): \n",
    "    return eps * ( 2*np.random.rand(x.size)-1 ) # as many random values in [-eps,eps] as elements in x\n",
    "\n",
    "n = 10 # degree of the interpolation polynomial\n",
    "x_equi = np.linspace(-1, 1, n+1)  # n+1 equidistant nodes for the interpolation\n",
    "x_cheb = xhat(n+1)  # n+1 Chebyshev nodes for the interpolation\n",
    "X = np.linspace(-1, 1, 1001)  # the points at which f and P_n(f) will be plotted\n",
    "\n",
    "# Computation of the interpolation polynomials for noisy data and equidistant nodes\n",
    "y_equi = f(x_equi) + noise(x_equi)  # noisy values of f at the nodes\n",
    "a_equi = interpVDM(x_equi, y_equi) # the coefficients of the interpolation polynomial P_n(f)\n",
    "PnfX_equi = evalHorner(a_equi, X) # values of P_n(f) at the points stored in X \n",
    "\n",
    "# Computation of the interpolation polynomials for noisy data and equidistant nodes\n",
    "y_cheb = f(x_cheb) + noise(x_cheb)  # noisy values of f at the nodes\n",
    "a_cheb = interpVDM(x_cheb, y_cheb) # the coefficients of the interpolation polynomial P_n(f)\n",
    "PnfX_cheb = evalHorner(a_cheb, X) # values of P_n(f) at the points stored in X \n",
    " \n",
    "    \n",
    "plt.figure(figsize=(20, 8))\n",
    "    \n",
    "plt.subplot(121)\n",
    "plt.plot(X, f(X), label = 'Target function $f$')\n",
    "plt.plot(x_equi, y_equi, marker='o', linestyle='', label = 'Noisy data set')\n",
    "plt.plot(X, PnfX_equi, '--',label = 'Interpolation polynomial $P_n(f)$')\n",
    "plt.legend(fontsize = 18)\n",
    "plt.xlabel('x', fontsize = 18)\n",
    "plt.tick_params(labelsize = 18)\n",
    "plt.title('Noisy data, equidistant nodes, n= %i' %n, fontsize = 18)\n",
    "\n",
    "plt.subplot(122)\n",
    "plt.plot(X, f(X), label = 'Target function $f$')\n",
    "plt.plot(x_cheb, y_cheb, marker='o', linestyle='', label = 'Noisy data set')\n",
    "plt.plot(X, PnfX_cheb, '--',label = 'Interpolation polynomial $P_n(f)$')\n",
    "plt.legend(fontsize = 18)\n",
    "plt.xlabel('x', fontsize = 18)\n",
    "plt.tick_params(labelsize = 18)\n",
    "plt.title('Noisy data, Chebyshev nodes, n= %i' %n, fontsize = 18)\n",
    "\n",
    "plt.show()"
   ]
  },
  {
   "cell_type": "markdown",
   "metadata": {
    "pycharm": {
     "name": "#%% md\n"
    }
   },
   "source": [
    "<div markdown=1, class='Answer'> "
   ]
  },
  {
   "cell_type": "markdown",
   "metadata": {
    "pycharm": {
     "name": "#%% md\n"
    }
   },
   "source": [
    "<div markdown=1, class='Fur'> [$\\star$]\n",
    "As we already alluded to earlier, the instability that occurs with Chehyshev nodes when $n$ becomes too large is due to our choice of algorithm to compute the interpolation polynomial. Better (more stable) algorithms exist, but they are beyond the scope of this lecture."
   ]
  },
  {
   "cell_type": "markdown",
   "metadata": {
    "pycharm": {
     "name": "#%% md\n"
    }
   },
   "source": [
    "<a id=\"PiecewiseInterp\"></a>\n",
    "## Piecewise interpolation"
   ]
  },
  {
   "cell_type": "markdown",
   "metadata": {
    "pycharm": {
     "name": "#%% md\n"
    }
   },
   "source": [
    "We now discuss another kind of approximation, namely piecewise interpolation. The idea here is to consider polynomial interpolation on subintervals. The degree of the approximation on each subinterval is fixed, and we try to improve the quality of the piecewise approximation by increasing the number of subintervals."
   ]
  },
  {
   "cell_type": "markdown",
   "metadata": {
    "pycharm": {
     "name": "#%% md\n"
    }
   },
   "source": [
    "Let $(x_k)_{k=0,\\ldots, n}$ be $n+1$ distinct given points in $[a,b]$ with $x_0=a$ and $x_n=b$. For the sake of simplicity, suppose that these points are ordered: $x_k<x_{k+1}$ for $k=0,\\ldots, n-1$. We consider the corresponding subdivision of the interval:\n",
    "\n",
    "$$\n",
    "[a,b] = \\bigcup_{k=0}^{n-1} [x_k,x_{k+1}].\n",
    "$$"
   ]
  },
  {
   "cell_type": "markdown",
   "metadata": {
    "pycharm": {
     "name": "#%% md\n"
    }
   },
   "source": [
    "The set of points $(x_k)_{k=0,\\ldots, n}$ is said to be a **mesh of the interval $[a,b]$** and we define the **mesh size** as:\n",
    "\n",
    "$$h = \\max_{k=0,\\ldots, n-1}{\\lvert x_{k+1} - x_k \\rvert}.$$\n",
    "\n",
    "This parameter is supposed to go to zero: the smaller $h$, the smaller each of the subintervals of the subdivision."
   ]
  },
  {
   "cell_type": "markdown",
   "metadata": {
    "pycharm": {
     "name": "#%% md\n"
    }
   },
   "source": [
    "### Piecewise constant interpolation: $\\mathbb{P}^0$-approximation"
   ]
  },
  {
   "cell_type": "markdown",
   "metadata": {
    "pycharm": {
     "name": "#%% md\n"
    }
   },
   "source": [
    "The first idea is to use constant functions to approximate $f$ on each subinterval (i.e. polynomials of degree 0)."
   ]
  },
  {
   "cell_type": "markdown",
   "metadata": {
    "pycharm": {
     "name": "#%% md\n"
    }
   },
   "source": [
    "<div markdown = 1 class = \"Def\"> <b> $\\mathbb{P}^0$-approximation.</b> Let $f$ be a function defined on $[a,b]$ and a set of $n+1$ mesh points $(x_k)_{0\\leq k\\leq n}$: $a = x_0 < x_1 < \\ldots < x_n = b$. The piecewise constant approximation of $f$ on $[a,b]$, with respect to the mesh points $(x_k)_k$, is the function $\\Pi^0 f$ defined on $[a,b]$ by \n",
    "\n",
    "- for $0\\leq k<n$, $\\quad{} \\Pi^0 f$ is constant on $[x_k, x_{k+1}[$\n",
    "- for $0\\leq k\\le n$, $\\quad{} \\Pi^0 f(x_k) = f(x_k)$"
   ]
  },
  {
   "cell_type": "markdown",
   "metadata": {
    "pycharm": {
     "name": "#%% md\n"
    }
   },
   "source": [
    "<div markdown=1 class=\"DoIt\"> Run the following cell to plot the $\\mathbb{P}^0$-approximation of the functions $f_1$, $f_2$, $f_3$ and $f_{Runge}$ already studied previously, with a uniform mesh (that is, with equidistant points $x_k$) on $[-1,1]$. What do you observe when the number of points increases? Compare with what we obtained with the previous method."
   ]
  },
  {
   "cell_type": "code",
   "execution_count": null,
   "metadata": {
    "pycharm": {
     "name": "#%%\n"
    }
   },
   "outputs": [],
   "source": [
    "## Plots of several functions together with their P0 approximation\n",
    "## we use the fact that plt.plot(x,y) plots lines between the points (x[k],y[k])\n",
    "\n",
    "n = 10\n",
    "x = np.linspace(-1, 1, n+1) # uniform mesh\n",
    "\n",
    "# the vector [x0, x1, x1, x2, x2, ... , x{n-1}, xn, xn] used to plot piece-wise constant functions\n",
    "x_pw = np.zeros(2*n+1)\n",
    "x_pw[0::2] = x\n",
    "x_pw[1::2] = x[1:]\n",
    "\n",
    "# points at which the target functions will be plotted\n",
    "X = np.linspace(-1, 1, 1001)\n",
    "\n",
    "fig = plt.figure(figsize = (20,16))\n",
    "\n",
    "plt.subplot(2,2,1)\n",
    "y1 = f1(x) \n",
    "# create the vector [f(x0), f(x0), f(x1), f(x1), ... , f(x{n-1}), f(x{n-1}), f(x{n})]\n",
    "y1_pw = np.zeros(2*n+1)\n",
    "y1_pw[0::2] = y1\n",
    "y1_pw[1::2] = y1[0:-1]\n",
    "#plot the function\n",
    "plt.plot(X, f1(X), label='Target function')\n",
    "#plot the P0 interpolation\n",
    "plt.plot(x, y1, marker='o', linestyle='', label = 'data set')\n",
    "plt.plot(x_pw, y1_pw, '--', label='P0 approximation')\n",
    "plt.title('$f_1$', fontsize=18)\n",
    "plt.legend(fontsize=18)\n",
    "plt.xlabel('x', fontsize = 18)\n",
    "plt.tick_params(labelsize = 18)\n",
    "\n",
    "plt.subplot(2,2,2)\n",
    "y2 = f2(x) \n",
    "# create the vector [f(x0), f(x0), f(x1), f(x1), ... , f(x{n-1}), f(x{n-1}), f(x{n})]\n",
    "y2_pw = np.zeros(2*n+1)\n",
    "y2_pw[0::2] = y2\n",
    "y2_pw[1::2] = y2[0:-1]\n",
    "#plot the function\n",
    "plt.plot(X, f2(X), label='Target function')\n",
    "#plot the P0 interpolation\n",
    "plt.plot(x, y2, marker='o', linestyle='', label = 'data set')\n",
    "plt.plot(x_pw, y2_pw, '--', label='P0 approximation')\n",
    "plt.title('$f_2$', fontsize=18)\n",
    "plt.legend(fontsize=18)\n",
    "plt.xlabel('x', fontsize = 18)\n",
    "plt.tick_params(labelsize = 18)\n",
    "\n",
    "\n",
    "plt.subplot(2,2,3)\n",
    "y3 = f3(x) \n",
    "# create the vector [f(x0), f(x0), f(x1), f(x1), ... , f(x{n-1}), f(x{n-1}), f(x{n})]\n",
    "y3_pw = np.zeros(2*n+1)\n",
    "y3_pw[0::2] = y3\n",
    "y3_pw[1::2] = y3[0:-1]\n",
    "#plot the function\n",
    "plt.plot(X, f3(X), label='Target function')\n",
    "#plot the P0 interpolation\n",
    "plt.plot(x, y3, marker='o', linestyle='', label = 'data set')\n",
    "plt.plot(x_pw, y3_pw, '--', label='P0 approximation')\n",
    "plt.title('$f_3$', fontsize=18)\n",
    "plt.legend(fontsize=18)\n",
    "plt.xlabel('x', fontsize = 18)\n",
    "plt.tick_params(labelsize = 18)\n",
    "\n",
    "plt.subplot(2,2,4)\n",
    "yRunge = f_Runge(x) \n",
    "# create the vector [f(x0), f(x0), f(x1), f(x1), ... , f(x{n-1}), f(x{n-1}), f(x{n})]\n",
    "yRunge_pw = np.zeros(2*n+1)\n",
    "yRunge_pw[0::2] = yRunge\n",
    "yRunge_pw[1::2] = yRunge[0:-1]\n",
    "#plot the function\n",
    "plt.plot(X, f_Runge(X), label='Target function')\n",
    "#plot the P0 interpolation\n",
    "plt.plot(x, yRunge, marker='o', linestyle='', label = 'data set')\n",
    "plt.plot(x_pw, yRunge_pw, '--', label='P0 approximation')\n",
    "plt.title('$f_{Runge}$', fontsize=18)\n",
    "plt.legend(fontsize=18)\n",
    "plt.xlabel('x', fontsize = 18)\n",
    "plt.tick_params(labelsize = 18)\n",
    "\n",
    "\n",
    "plt.show()\n"
   ]
  },
  {
   "cell_type": "markdown",
   "metadata": {
    "pycharm": {
     "name": "#%% md\n"
    }
   },
   "source": [
    "<div markdown=1 class=\"Answer\">"
   ]
  },
  {
   "cell_type": "markdown",
   "metadata": {
    "pycharm": {
     "name": "#%% md\n"
    }
   },
   "source": [
    "It turns out that the observed convergence can be proved under rather mild assumptions on $f$, and that we also get an error estimator."
   ]
  },
  {
   "cell_type": "markdown",
   "metadata": {
    "pycharm": {
     "name": "#%% md\n"
    }
   },
   "source": [
    "<div markdown = 1, class = \"Thm\"> <b> Convergence of $\\mathbb{P}^0$ approximation.</b> If $f$ is of class $\\mathcal{C}^1$ one has \n",
    "\n",
    "$$ \\sup_{x \\in [a,b]} \\lvert \\Pi^0 f(x) - f(x) \\rvert \\leq h \\sup_{x\\in [a,b]} |f'(x)|.$$\n",
    "\n",
    "In particular, the global error $\\sup_{x \\in [a,b]} \\lvert \\Pi^0 f(x) - f(x) \\rvert$ goes to $0$ when $h$ goes to $0$, and $\\Pi^0 f(x)$ converges uniformly to $f$ on $[a,b]$."
   ]
  },
  {
   "cell_type": "markdown",
   "metadata": {
    "pycharm": {
     "name": "#%% md\n"
    }
   },
   "source": [
    ">**Proof.**\n",
    "> Let us choose an $x$ in $[a,b]$. Since the point $x$ is in one of the subintervals, there exists an index $k_x$ with $0\\leq k_x < n$ such that $x\\in [x_{k_x},x_{k_x+1}]$. From the definition of $\\Pi^0 f$ we get $\\Pi^0 f(x) = f(x_{k_x})$. Then, from the Mean-Value theorem, we have the existence of $\\xi_x\\in [x_{k_x},x]$ such that\n",
    ">\n",
    ">$$\n",
    "\\lvert \\Pi^0 f(x) - f(x) \\rvert= \\lvert f(x_{k_x}) - f(x) \\rvert= \\lvert (x_{k_x}-x) f'(\\xi_x)\\rvert \\leq h \\sup_{x\\in [a,b]} |f'(x)|.\n",
    "$$\n",
    ">\n",
    ">This is true for any $x$ in $[a,b]$ and the upper bound does not depend on $x$. As a consequence we obtain the announced result:\n",
    ">\n",
    ">$$ \\sup_{x \\in [a,b]} \\lvert \\Pi^0 f(x) - f(x) \\rvert \\leq h \\sup_{x\\in [a,b]} |f'(x)|.$$"
   ]
  },
  {
   "cell_type": "markdown",
   "metadata": {
    "pycharm": {
     "name": "#%% md\n"
    }
   },
   "source": [
    "<div markdown = 1, class = \"Rmk\"> \n",
    "\n",
    "- One can show that this error estimator is sharp in general, and that, for most functions satisfying the assumptions of the theorem, the error scales like $h$, or like $\\frac{1}{n}$ in the case of a uniform mesh.\n",
    "- A more classical way to define a piecewise constant function to approximate $f$ is to take the value at the middle of the subintervals. In that case, the approximation is equal to the original function on the $n$ nodes: $\\displaystyle \\left( \\frac{x_k +x_{k+1}}{2}\\right)_{k=0..n-1}$ and the previous result of convergence still holds."
   ]
  },
  {
   "cell_type": "markdown",
   "metadata": {
    "pycharm": {
     "name": "#%% md\n"
    }
   },
   "source": [
    "### Piecewise affine interpolation: $\\mathbb{P}^1$-approximation"
   ]
  },
  {
   "cell_type": "markdown",
   "metadata": {
    "pycharm": {
     "name": "#%% md\n"
    }
   },
   "source": [
    "The precision of the piecewise approximation can be increased by using affine approximations (that is, polynomials of degree 1 rather than 0) on each subinterval."
   ]
  },
  {
   "cell_type": "markdown",
   "metadata": {
    "pycharm": {
     "name": "#%% md\n"
    }
   },
   "source": [
    "<div markdown = 1 class = \"Def\"> <b> $\\mathbb{P}^1$-approximation.</b> Let $f$ be a function defined on $[a,b]$ and a set of $n+1$ mesh points $(x_k)_{0\\leq k\\leq n}$: $a = x_0 < x_1 < \\ldots < x_n = b$. The piecewise linear approximation of $f$ on $[a,b]$, with respect to the mesh points $(x_k)_k$, is the function $\\Pi^1 f$ defined on $[a,b]$ by \n",
    "\n",
    "- for $0\\leq k<n$, $\\quad{} \\Pi^1 f$ is affine on $[x_k, x_{k+1}[$ \n",
    "- for $0\\leq k\\leq n$, $\\quad{} \\Pi^1 f(x_k) = f(x_k)$"
   ]
  },
  {
   "cell_type": "markdown",
   "metadata": {
    "pycharm": {
     "name": "#%% md\n"
    }
   },
   "source": [
    "<div markdown=1 class=\"DoIt\"> Run the following cell to plot the $\\mathbb{P}^1$-approximation of the functions $f_1$, $f_2$, $f_3$ and $f_{Runge}$ already studied previously, with a uniform mesh (that is, with equidistant points $x_k$) on $[-1,1]$. How do the results compare with what you obtained with the $\\mathbb{P}^0$-approximation?"
   ]
  },
  {
   "cell_type": "code",
   "execution_count": null,
   "metadata": {
    "pycharm": {
     "name": "#%%\n"
    }
   },
   "outputs": [],
   "source": [
    "## Plots of several functions together with their P1 approximation\n",
    "\n",
    "n = 11\n",
    "x = np.linspace(-1, 1, n+1) # uniform mesh\n",
    "\n",
    "# points at which the target functions will be plotted\n",
    "X = np.linspace(-1, 1, 1001)\n",
    "\n",
    "fig = plt.figure(figsize = (20,16))\n",
    "\n",
    "plt.subplot(2,2,1)\n",
    "y1 = f1(x) \n",
    "plt.plot(X, f1(X), label='Target function')\n",
    "plt.plot(x, y1, marker='o', linestyle='', label = 'data set')\n",
    "plt.plot(x, y1, '--', label='P1 approximation')\n",
    "plt.title('$f_1$', fontsize=18)\n",
    "plt.legend(fontsize=18)\n",
    "plt.xlabel('x', fontsize = 18)\n",
    "plt.tick_params(labelsize = 18)\n",
    "\n",
    "plt.subplot(2,2,2)\n",
    "y2 = f2(x) \n",
    "plt.plot(X, f2(X), label='Target function')\n",
    "plt.plot(x, y2, marker='o', linestyle='', label = 'data set')\n",
    "plt.plot(x, y2, '--', label='P1 approximation')\n",
    "plt.title('$f_2$', fontsize=18)\n",
    "plt.legend(fontsize=18)\n",
    "plt.xlabel('x', fontsize = 18)\n",
    "plt.tick_params(labelsize = 18)\n",
    "\n",
    "\n",
    "plt.subplot(2,2,3)\n",
    "y3 = f3(x) \n",
    "plt.plot(X, f3(X), label='Target function')\n",
    "plt.plot(x, y3, marker='o', linestyle='', label = 'data set')\n",
    "plt.plot(x, y3, '--', label='P1 approximation')\n",
    "plt.title('$f_3$', fontsize=18)\n",
    "plt.legend(fontsize=18)\n",
    "plt.xlabel('x', fontsize = 18)\n",
    "plt.tick_params(labelsize = 18)\n",
    "\n",
    "plt.subplot(2,2,4)\n",
    "yRunge = f_Runge(x) \n",
    "plt.plot(X, f_Runge(X), label='Target function')\n",
    "plt.plot(x, yRunge, marker='o', linestyle='', label = 'data set')\n",
    "plt.plot(x, yRunge, '--', label='P1 approximation')\n",
    "plt.title('$f_{Runge}$', fontsize=18)\n",
    "plt.legend(fontsize=18)\n",
    "plt.xlabel('x', fontsize = 18)\n",
    "plt.tick_params(labelsize = 18)\n",
    "\n",
    "plt.show()\n"
   ]
  },
  {
   "cell_type": "markdown",
   "metadata": {
    "pycharm": {
     "name": "#%% md\n"
    }
   },
   "source": [
    "<div markdown=1 class=\"Answer\">"
   ]
  },
  {
   "cell_type": "markdown",
   "metadata": {
    "pycharm": {
     "name": "#%% md\n"
    }
   },
   "source": [
    "These observations are validated by the following theorem."
   ]
  },
  {
   "cell_type": "markdown",
   "metadata": {
    "pycharm": {
     "name": "#%% md\n"
    }
   },
   "source": [
    "<div markdown = 1, class = \"Thm\"> <b> Convergence of $\\mathbb{P}^1$ approximation.</b> If $f$ is of class $\\mathcal{C}^2$ one has \n",
    "\n",
    "$$ \\sup_{x \\in [a,b]} \\lvert \\Pi^1 f(x) - f(x) \\rvert \\leq \\frac{h^2}{8} \\sup_{x\\in [a,b]} |f''(x)|.$$\n",
    "\n",
    "In particular, the global error $\\sup_{x \\in [a,b]} \\lvert \\Pi^0 f(x) - f(x) \\rvert$ goes to $0$ when $h$ goes to $0$, and $\\Pi^0 f(x)$ converges uniformly to $f$ on $[a,b]$."
   ]
  },
  {
   "cell_type": "markdown",
   "metadata": {
    "pycharm": {
     "name": "#%% md\n"
    }
   },
   "source": [
    "> **Proof.** [$\\star$]\n",
    "> Let us choose an $x$ in $[a,b]$. Since the point $x$ is in one of the subintervals, there exists an index $k_x$ with $0\\leq k_x < n$ such that $x\\in [x_{k_x},x_{k_x+1}]$.\n",
    "> Notice that, on $[x_{k_x},x_{k_x+1}]$, $\\Pi^1 f$ is the Lagrange interpolation polynomial interpolating $f$ at the nodes $x_{k_x}$ and $x_{k_x+1}$. Therefore, one can use the error approximation theorem for Lagrange interpolation and get the existence of $\\xi_x\\in[x_{k_x},x_{k_x+1}]$ such that\n",
    ">\n",
    ">$$\n",
    "f(x) - \\Pi^1 f(x) = \\frac{(x-x_{k_x})(x-x_{k_x+1})}{2!} f''(\\xi_x).\n",
    "$$\n",
    ">\n",
    ">The maximum of $\\left\\vert (x-x_{k_x})(x-x_{k_x+1}) \\right\\vert$ on the interval $[x_{k_x},x_{k_x+1}]$ is reached at $(x_{k_x}+x_{k_x+1})/2$ and is equal to $\\left( (x_{k_x+1}-x_{k_x})/2 \\right)^2 \\leq \\frac{h^2}{4}$ so that we obtain the following upper-bound:\n",
    ">\n",
    ">$$\n",
    "\\lvert \\Pi^1 f(x) - f(x) \\rvert \\leq \\frac{h^2}{8} \\sup_{x\\in [a,b]} |f''(x)|.\n",
    "$$\n",
    ">\n",
    "> This being true for any $x$ in $[a,b]$, the theorem is proved."
   ]
  },
  {
   "cell_type": "markdown",
   "metadata": {
    "pycharm": {
     "name": "#%% md\n"
    }
   },
   "source": [
    "<div markdown = 1, class = \"Rmk\">  \n",
    "\n",
    "- One can show that this error estimator is sharp in general, and that, for most functions satisfying the assumptions of the theorem, the error scales like $h^2$, or like $\\frac{1}{n^2}$ in the case of a uniform mesh. However, this estimation might no longer be valid if the function is not regular enough.\n",
    "- This approach can be generalized to piecewise approximation with higher degree polynomials. An important example (which is beyond the scope of this course) is the one of **cubic splines**.\n",
    "- For the $\\mathbb{P}^0$ and the $\\mathbb{P}^1$ approximation we have found error estimators \n",
    "$$\n",
    "\\beta^0_n = \\frac{\\sup_{x\\in [a,b]} |f'(x)|}{n} \\quad{}\\text{and}\\quad{} \\beta^1_n = \\frac{\\sup_{x\\in [a,b]} |f''(x)|}{8n^2},$$\n",
    "for which we have *sublinear* convergence, as introduced in Chapter 1, since in both cases\n",
    "$$\n",
    "\\frac{\\beta_{n+1}}{\\beta_n} \\underset{n\\to\\infty}{\\longrightarrow} 1.\n",
    "$$"
   ]
  },
  {
   "cell_type": "markdown",
   "metadata": {
    "pycharm": {
     "name": "#%% md\n"
    }
   },
   "source": [
    "<a id=\"LeastSquare\"></a>\n",
    "## Least squares approximation"
   ]
  },
  {
   "cell_type": "markdown",
   "metadata": {
    "pycharm": {
     "name": "#%% md\n"
    }
   },
   "source": [
    "<table>\n",
    "        <tr>\n",
    "            <td><img src=\"figures/Legendre.jpg\" alt=\"Legendre\" style=\"width: 170px;\" /></td>\n",
    "            <td><img src=\"figures/Gauss.jpg\" alt=\"Gauss\" style=\"width: 190px;\" /></td>\n",
    "        </tr>\n",
    "</table>\n",
    "\n",
    ">**Adrien-Marie Legendre (1752 - 1833) and Carl Friedrich Gauss (1777 - 1855).**\n",
    ">The method of least squares grew out of the fields of astronomy and geodesy, as scientists and mathematicians sought to provide solutions to the challenges of navigating the Earth's oceans. To do so, the accurate description of the behavior of celestial bodies was the key to enabling ships to sail in open seas, where sailors could no longer rely on land sightings for navigation. A seminal method, called the method of average, was used for example by the French scientist Pierre-Simon Laplace to study the motion of Jupiter and Saturn. The first clear and concise exposition of the method of least squares was published by the French mathematician Adrien-Marie Legendre in 1805 (no portrait known apart from this caricature...). In 1809, the German mathematician Carl Friedrich Gauss published his method of calculating the orbits of celestial bodies. In that work he claimed to have been in possession of the method of least squares since 1795. This naturally led to a priority dispute with Legendre. However, to Gauss's credit, he went beyond Legendre and succeeded in connecting the method of least squares with the principles of probability and to the normal distribution."
   ]
  },
  {
   "cell_type": "markdown",
   "metadata": {
    "pycharm": {
     "name": "#%% md\n"
    }
   },
   "source": [
    "Suppose now that you are a case where:\n",
    "- the dataset $(x_k,y_k)_{k=0..n}$ is big ($n$ is large), and possibly noisy,\n",
    "- you want to approximate the data with a single, simple model (a polynomial function of low degree)."
   ]
  },
  {
   "cell_type": "markdown",
   "metadata": {
    "pycharm": {
     "name": "#%% md\n"
    }
   },
   "source": [
    "With the Lagrange interpolation that we have seen previously, the degree of the interpolation polynomial is prescribed by the number of points, and so having a large data set in not compatible with an approximation of low degree. The piece-wise interpolation techniques that we just saw are also not suitable, because they do not satisfy the requirement of having a single model for the whole data.\n",
    "\n",
    "We present here a method allowing to deal with these problems."
   ]
  },
  {
   "cell_type": "markdown",
   "metadata": {
    "pycharm": {
     "name": "#%% md\n"
    }
   },
   "source": [
    "Assume that a dataset $(x_k,y_k)_{k=0..n}$ is given. We want to find a polynomial $Q_m$ with degree at most $m$ to approximate this data, but with $m\\ll n$. This means that we will typically not be able to find $Q_m$ such that $Q_m(x_k) = y_k$ for $k=0,\\ldots,n$, as there are too many equations ($n+1$) compared to the number of unknown (the $m+1$ coefficients of $Q_m$). Therefore, we have to settle for finding  $Q_m$ such that $Q_m(x_k)$ is \"close to\" $y_k$ for $k=0,\\ldots,n$. "
   ]
  },
  {
   "cell_type": "markdown",
   "metadata": {
    "pycharm": {
     "name": "#%% md\n"
    }
   },
   "source": [
    "<div markdown=1 class='Def'>\n",
    "\n",
    "Here, we consider the **least squares approximation**, which means that $Q_m$ has to be \"close to\" the data in the following sense: $Q_m$ is a polynomial of degree at most $m$ minimizing the following functional $J$ among all the polynomials $Q$ of degree at most $m$\n",
    "\n",
    "$$\n",
    "J(Q) = \\sum_{k=0}^n (Q(x_k) - y_k)^2.\n",
    "$$"
   ]
  },
  {
   "cell_type": "markdown",
   "metadata": {
    "pycharm": {
     "name": "#%% md\n"
    }
   },
   "source": [
    "<div markdown = 1, class = \"Rmk\"> \n",
    "\n",
    "- Note that, since all the terms of this sum are positive, $J(Q)=0$ implies that for all $k$, $J(x_k)=0$ and that $Q$ interpolates the data. If $m<n$, such a $Q$ does usually not exist.\n",
    "- If $J(Q)$ is \"small\", say smaller than a given small parameter $\\varepsilon$, then for all $k$, $\\lvert Q(x_k)-y_k\\rvert\\leq \\sqrt{\\varepsilon}$.\n",
    "\n",
    "In that sense, $J(Q)$ measures how $Q$ is close to the data. Other choices for $J$ are possible. The least squares choice provides a convex function $J$ for which the existence and uniqueness of the minimizer can be proved.\n"
   ]
  },
  {
   "cell_type": "markdown",
   "metadata": {
    "pycharm": {
     "name": "#%% md\n"
    }
   },
   "source": [
    "### Constant approximation"
   ]
  },
  {
   "cell_type": "markdown",
   "metadata": {
    "pycharm": {
     "name": "#%% md\n"
    }
   },
   "source": [
    "Assume that the dataset $(x_k,y_k)_{k=0..n}$ is given and you want to find a constant polynomial $Q(x)=a$ such that $Q$ minimizes $J$ over the set of constant polynomials.\n",
    "\n",
    "The unknown is the coefficient $a$, and the problem comes back to finding the constant $a^*$ minimizing the functional\n",
    "\n",
    "$$\n",
    "J(a) = \\sum_{k=0}^n (Q(x_k) - y_k)^2 = \\sum_{k=0}^n (a - y_k)^2.\n",
    "$$"
   ]
  },
  {
   "cell_type": "markdown",
   "metadata": {
    "pycharm": {
     "name": "#%% md\n"
    }
   },
   "source": [
    "<div markdown=1, class='Prop'> There exists a unique coefficient $a^*$ which minimizes this functional,  given by \n",
    "\n",
    "$$\n",
    "a^* = \\frac{1}{n} \\sum_{k=0}^n y_k.\n",
    "$$"
   ]
  },
  {
   "cell_type": "markdown",
   "metadata": {
    "pycharm": {
     "name": "#%% md\n"
    }
   },
   "source": [
    ">**Proof.** In that case, the function $a \\rightarrow J(a)$ is a polynomial of degree 2 with a positive leading coefficient, which implies that there exists a unique $a^*$ minimizing $J$ and that $a^*$ is solution to \n",
    ">\n",
    ">$$\n",
    "J'(a^*) = 0.\n",
    "$$\n",
    ">\n",
    ">This gives \n",
    ">\n",
    ">$$\n",
    "\\sum_{k=0}^n 2 (a^* - y_k) = 0,\n",
    "$$\n",
    ">\n",
    ">and finally $a^*$ is the mean value of the data:\n",
    ">\n",
    ">$$\n",
    "a^* = \\frac{1}{n} \\sum_{k=0}^n y_k.\n",
    "$$"
   ]
  },
  {
   "cell_type": "markdown",
   "metadata": {
    "pycharm": {
     "name": "#%% md\n"
    }
   },
   "source": [
    "### Linear regression"
   ]
  },
  {
   "cell_type": "markdown",
   "metadata": {
    "pycharm": {
     "name": "#%% md\n"
    }
   },
   "source": [
    "Assume that the dataset $(x_k,y_k)_{k=0..n}$ is given and you now want to find a linear polynomial $Q(x)=ax$ such that $Q$ minimizes $J$ over the set of linear polynomials.\n",
    "\n",
    "Again, the unknown is the coefficient $a$ and the problem comes back to finding the constant $a^*$ minimizing the functional\n",
    "\n",
    "$$\n",
    "J(a) = \\sum_{k=0}^n (Q(x_k) - y_k)^2 = \\sum_{k=0}^n (a\\,x_k - y_k)^2.\n",
    "$$\n",
    "\n",
    "\n"
   ]
  },
  {
   "cell_type": "markdown",
   "metadata": {
    "pycharm": {
     "name": "#%% md\n"
    }
   },
   "source": [
    "<div markdown=1, class='Prop'> Assume that not all the $x_k$ are equal to $0$. There exists a unique coefficient $a^*$ which minimize this functional, given by \n",
    "\n",
    "$$\n",
    " a^* = \\frac{\\displaystyle\\sum_{k=0}^n x_k \\, y_k}{\\displaystyle\\sum_{k=0}^n x_k^2}.\n",
    "$$"
   ]
  },
  {
   "cell_type": "markdown",
   "metadata": {
    "pycharm": {
     "name": "#%% md\n"
    }
   },
   "source": [
    ">**Proof.** The function $a \\rightarrow J(a)$ is again a polynomial of order 2 with a positive dominant coefficient, which implies that there exists a unique $a^*$ minimizing $J$ and that $a^*$ is solution to \n",
    ">\n",
    ">$$\n",
    "J'(a^*) = 0.\n",
    "$$\n",
    ">\n",
    ">This gives \n",
    ">\n",
    ">$$\n",
    "\\sum_{k=0}^n 2 (a^* x_k - y_k)\\, x_k = 0,\n",
    "$$\n",
    ">\n",
    ">which provides an explicit formula for $a^*$ in terms of the data:\n",
    ">\n",
    ">$$\n",
    " a^* = \\frac{\\displaystyle\\sum_{k=0}^n x_k \\, y_k}{\\displaystyle\\sum_{k=0}^n x_k^2}.\n",
    "$$"
   ]
  },
  {
   "cell_type": "markdown",
   "metadata": {
    "pycharm": {
     "name": "#%% md\n"
    }
   },
   "source": [
    "<div markdown=1 class=\"DoIt\"> Complete the following function computing the coefficient $a^*$ of a linear regression from a given dataset $(x_k,y_k)_{k=0..n}$. Take care not to use any loop."
   ]
  },
  {
   "cell_type": "code",
   "execution_count": null,
   "metadata": {
    "pycharm": {
     "name": "#%%\n"
    }
   },
   "outputs": [],
   "source": [
    "## Computation of parameters astar for a linear model, using least squares \n",
    "## input : x = vector containing the nodes x0...xn\n",
    "##         y = vector containing the values y0...yn\n",
    "## output : astar = approximation of a\n",
    "\n",
    "def LinearReg(x,y):\n",
    "    \"\"\"\n",
    "    Computation of the parameter a* of a linear model, using least squares \n",
    "    ----------------------------------------\n",
    "    Inputs: \n",
    "    x : vector containing the nodes x0...xn\n",
    "    y : vector containing the values y0...yn\n",
    "    \n",
    "    Output: \n",
    "    astar : approximation of the linear coefficient\n",
    "    \"\"\"\n",
    "    return ..."
   ]
  },
  {
   "cell_type": "markdown",
   "metadata": {
    "pycharm": {
     "name": "#%% md\n"
    }
   },
   "source": [
    "<div markdown=1 class=\"DoIt\"> Run the following cell to test the linear regression for linear data of slope $a$ with noise. What is the approximated value of $a$ computed using this method? Compare with the exact value."
   ]
  },
  {
   "cell_type": "code",
   "execution_count": null,
   "metadata": {
    "pycharm": {
     "name": "#%%\n"
    }
   },
   "outputs": [],
   "source": [
    "# size of the dataset\n",
    "n = 100\n",
    "\n",
    "# original model : f(x) = ax\n",
    "a = 3\n",
    "x = np.linspace(0, 1, n)\n",
    "y = a*x\n",
    "\n",
    "# compute the data : add noise to the original model\n",
    "noiseSize = 0.2\n",
    "noise = ( 2*np.random.rand(x.size) - 1 ) * noiseSize  # uniform in [-noiseSize,noiseSize]\n",
    "data = y + noise\n",
    "\n",
    "# compute the linear regression\n",
    "astar = LinearReg(x,data)\n",
    "\n",
    "# approximated model\n",
    "ystar = astar*x\n",
    "\n",
    "# computation of the value of J(astar,bstar)\n",
    "J = np.sum( (ystar - y)**2 )\n",
    "\n",
    "#plot\n",
    "plt.figure(figsize = (10,6))\n",
    "plt.plot(x, y, label='Original model, a ='+str(a))\n",
    "plt.plot(x, data,marker='o', linestyle='', label='Noisy data set')\n",
    "plt.plot(x, ystar, label='Linear regression, astar ='+str(round(astar,4)))\n",
    "plt.xlim(0,1)\n",
    "plt.ylim(0,a)\n",
    "plt.xlabel('$x$', fontsize = 18)\n",
    "plt.ylabel('$y$', fontsize = 18)\n",
    "plt.tick_params(labelsize = 18)\n",
    "plt.legend(fontsize = 18)\n",
    "plt.title('Linear regression, n ='+str(n)+', J(a*) ='+str(round(J,4)), fontsize = 18)\n",
    "plt.show()\n"
   ]
  },
  {
   "cell_type": "markdown",
   "metadata": {
    "pycharm": {
     "name": "#%% md\n"
    }
   },
   "source": [
    "### Affine regression"
   ]
  },
  {
   "cell_type": "markdown",
   "metadata": {
    "pycharm": {
     "name": "#%% md\n"
    }
   },
   "source": [
    "Assume that the dataset $(x_k,y_k)_{k=0..n}$ is given and you now want to find an affine polynomial $Q(x)=ax+b$ such that $Q$ minimizes $J$ over the set of affine polynomials.\n",
    "\n",
    "In that case, there are two unknown coefficients $a$ and $b$. The problem comes back to finding the constants $(a^*,b^*)$ minimizing the functional\n",
    "\n",
    "$$\n",
    "J(a,b) = \\sum_{k=0}^n (Q(x_k) - y_k)^2 = \\sum_{k=0}^n (ax_k + b - y_k)^2.\n",
    "$$\n",
    "\n",
    "\n"
   ]
  },
  {
   "cell_type": "markdown",
   "metadata": {
    "pycharm": {
     "name": "#%% md\n"
    }
   },
   "source": [
    "<div markdown=1, class='Prop'> Assume that not all the $x_k$ are equal. There exists a unique couple of coefficients $(a^*,b^*)$ which minimize this functional, given by \n",
    "\n",
    "$$\n",
    "a^* = \\cfrac{\\overline{xy} - \\bar{x} \\bar{y}}{\\overline{x^2} - \\bar{x}^2} \\qquad{}\\text{and}\\qquad{} b^* =  \\bar{y}-a^*\\,\\bar{x},\n",
    "$$\n",
    "\n",
    "where \n",
    "\n",
    "$$\n",
    "\\bar{x} = \\frac{1}{n+1}\\sum_{k=0}^n x_k,\\quad{} \\bar{y} = \\frac{1}{n+1}\\sum_{k=0}^n y_k,\\quad{} \\overline{xy} = \\frac{1}{n+1}\\sum_{k=0}^n x_k y_k \\quad{}\\text{and}\\quad{} \\overline{x^2} = \\frac{1}{n+1}\\sum_{k=0}^n x^2_k.\n",
    "$$"
   ]
  },
  {
   "cell_type": "markdown",
   "metadata": {
    "pycharm": {
     "name": "#%% md\n"
    }
   },
   "source": [
    ">**Proof**. [$\\star$] We want to find $(a^*,b^*)$ such that\n",
    ">\n",
    ">$$\n",
    "\\forall a,b\\quad{} J(a^*,b^*)\\leq J(a,b).\n",
    "$$\n",
    ">\n",
    "> For any $(a^*,b^*)$, we can write\n",
    ">\n",
    ">$$\n",
    "J(a,b) = \\sum_{k=0}^n (a^*x_k + b^* - y_k + (a-a^*)x_k + (b-b^*) )^2,\n",
    "$$\n",
    ">\n",
    ">and expand this expression to get\n",
    ">\n",
    ">\\begin{align}\n",
    "J(a,b) & = \\sum_{k=0}^n (a^*x_k + b^* - y_k)^2  \\nonumber\\\\ \n",
    "&\\quad{} + \\sum_{k=0}^n 2(a^*x_k + b^* - y_k)((a-a^*)x_k + (b-b^*)) + \\sum_{k=0}^n ((a-a^*)x_k + (b-b^*))^2  \\\\\n",
    "& = J(a^*,b^*) \\nonumber\\\\\n",
    "&\\quad{} + \\left(2\\sum_{k=0}^n (a^*x_k^2 + b^*x_k - x_ky_k)\\right) (a-a^*) + \\left(2\\sum_{k=0}^n (a^*x_k + b^* - y_k)\\right) (b-b^*) \\nonumber\\\\\n",
    "&\\quad{} + \\sum_{k=0}^n ((a-a^*)x_k + (b-b^*))^2.\n",
    "\\end{align}\n",
    ">\n",
    ">Let us now assume that $a^*$ and $b^*$ are such that $\\sum_{k=0}^n (a^*x_k^2 + b^*x_k - x_ky_k)\\neq 0$. Then, taking $b=b^*$ and $a$ close to $a^*$, we have\n",
    ">\n",
    ">$$\n",
    "J(a,b^*) = J(a^*,b^*) + \\left(2\\sum_{k=0}^n (a^*x_k^2 + b^*x_k - x_ky_k)\\right) (a-a^*) + o(a-a^*),\n",
    "$$\n",
    ">\n",
    ">and we see that $J(a^*,b^*)$ cannot be the minimum of $J$: taking $a$ a bit below $a^*$ (or a bit above, depending on the sign of $\\sum_{k=0}^n (a^*x_k^2 + b^*x_k - x_ky_k)$), we would get that $J(a,b^*)$ is smaller than $J(a^*,b^*)$. Similarly, if $\\sum_{k=0}^n (a^*x_k + b^* - y_k) \\neq 0$, we see by taking $a=a^*$ and $b$ close to $b^*$ that $J(a^*,b^*)$ cannot be the minimum of $J$. \n",
    "> \n",
    "> We have just shown that, if $J$ reaches its minimum at $(a^*,b^*)$, then we must have\n",
    ">\n",
    ">$$\n",
    "\\left\\{\n",
    "\\begin{aligned}\n",
    "&\\sum_{k=0}^n (a^*x_k^2 + b^*x_k - x_ky_k) & =  0 \\\\\n",
    "&\\sum_{k=0}^n (a^*x_k + b^* - y_k) & = 0\n",
    "\\end{aligned}\n",
    "\\right.\n",
    "$$\n",
    ">\n",
    ">Conversely, if these two conditions are met, then from the expansion obtained just above we get\n",
    ">\n",
    ">$$\n",
    "J(a,b) = J(a^*,b^*) + \\sum_{k=0}^n ((a-a^*)x_k + (b-b^*))^2,\n",
    "$$\n",
    ">\n",
    ">and since the last term is nonnegative we indeed have $J(a^*,b^*)\\leq J(a,b)$ for all $a$ and $b$. We have thus found two necessary and sufficient conditions for $(a^*,b^*)$ to be a minimizer of $J$. *(Once you will have learned about optimizing functions of several variables, you'll be able to do the above part of the proof in two lines.)* Next, notice that these two conditions can be rewritten as\n",
    ">\n",
    ">$$\n",
    "\\left\\{\n",
    "\\begin{aligned}\n",
    " &\\left(\\sum_{k=0}^n x_k^2\\right) a^*  + \\left(\\sum_{k=0}^n x_k\\right) b^* =  \\sum_{k=0}^n x_ky_k \\\\\n",
    " &\\left(\\sum_{k=0}^n x_k\\right) a^*  + (n+1) b^* =  \\sum_{k=0}^n y_k\n",
    "\\end{aligned}\n",
    "\\right.\n",
    "$$\n",
    ">\n",
    ">That is, we want $(a^*,b^*)$ to solve the linear system\n",
    ">\n",
    ">$$\n",
    "M \\left(\\begin{array}{l} a^* \\\\ b^* \\end{array} \\right) = V \\quad{} \\text{where}\\quad{} M = \\left(\\begin{array}{ll}\n",
    "\\displaystyle \\sum_{k=0}^n x_k^2 &\\displaystyle  \\sum_{k=0}^n x_k \\\\\n",
    "\\displaystyle \\sum_{k=0}^n x_k   &\\displaystyle  (n+1)         \n",
    "\\end{array}\\right) \\quad{} \\text{and}\\quad{}\n",
    "V = \\left(\\begin{array}{l} \\displaystyle\\sum_{k=0}^n x_k y_k \\\\ \\displaystyle\\sum_{k=0}^n y_k \\end{array} \\right).\n",
    "$$\n",
    ">\n",
    ">The determinant of $M$ is equal to $(n+1)\\sum_{k=0}^n x_k^2 - \\left(\\sum_{k=0}^n x_k\\right)^2$. However, by the Cauchy-Schwarz inequality\n",
    ">\n",
    ">$$\n",
    "\\left(\\sum_{k=0}^n x_k\\right)^2 = \\left(\\sum_{k=0}^n x_k \\times 1 \\right)^2 \\leq \\left(\\sum_{k=0}^n x_k^2  \\right) \\left(\\sum_{k=0}^n 1^2  \\right) = (n+1) \\sum_{k=0}^n x_k^2,\n",
    "$$\n",
    "with equality only if all the $x_k$ are equal, which is excluded by the assumption. Therefore the determinant of $M$ is positive and $M$ is invertible. Hence, the solution $(a^*,b^*)$ of this linear system is unique, and by solving it we find the announced formula."
   ]
  },
  {
   "cell_type": "markdown",
   "metadata": {
    "pycharm": {
     "name": "#%% md\n"
    }
   },
   "source": [
    "<div markdown=1 class=\"DoIt\"> Complete the following function computing the coefficients $(a^*,b^*)$ of an affine regression for a given dataset $(x_k,y_k)_{k=0..n}$. Take care not to use any loop."
   ]
  },
  {
   "cell_type": "code",
   "execution_count": null,
   "metadata": {
    "pycharm": {
     "name": "#%%\n"
    }
   },
   "outputs": [],
   "source": [
    "def AffineReg(x,y): \n",
    "    \"\"\"\n",
    "    Computation of parameters a* and b* of an affine model, using least squares \n",
    "    ----------------------------------------\n",
    "    Inputs: \n",
    "    x : vector containing the nodes x0...xn\n",
    "    y : vector containing the values y0...yn\n",
    "    \n",
    "    Output: \n",
    "    astar, bstar : the coefficients of the model (astar * x + bstar)\n",
    "    \"\"\"\n",
    "    ...\n",
    "    ...\n",
    "    return ..."
   ]
  },
  {
   "cell_type": "markdown",
   "metadata": {
    "pycharm": {
     "name": "#%% md\n"
    }
   },
   "source": [
    "<div markdown=1 class=\"DoIt\"> Complete the following cell to test the affine regression for affine data of the form $ax+b$ with noise. What are the approximated values of $(a,b)$ computed using this method? Compare with the exact values."
   ]
  },
  {
   "cell_type": "code",
   "execution_count": null,
   "metadata": {
    "pycharm": {
     "name": "#%%\n"
    }
   },
   "outputs": [],
   "source": [
    "# size of the dataset\n",
    "n = 100\n",
    "\n",
    "# original model : f(x) = ax +b\n",
    "a = 3\n",
    "b = 2\n",
    "x = np.linspace(0,1,n)\n",
    "y = a*x + b\n",
    "\n",
    "# compute the data : add noise to the original model\n",
    "...\n",
    "\n",
    "# compute the affine regression\n",
    "astar, bstar = ...\n",
    "\n",
    "# approximated model\n",
    "ystar = astar*x + bstar\n",
    "\n",
    "# computation of the value of J(astar,bstar)\n",
    "J = ...\n",
    "\n",
    "#plot\n",
    "..."
   ]
  },
  {
   "cell_type": "markdown",
   "metadata": {
    "pycharm": {
     "name": "#%% md\n"
    }
   },
   "source": [
    "<div markdown = 1, class = \"Rmk\"> \n",
    "\n",
    "- The generic case is to find an approximation of degree $m$, which leads to the minimization of the functional\n",
    "$$\n",
    "J(a_0,a_1,\\ldots, a_m) = \\sum_{k=0}^n (a_0 + a_1 x_k + \\ldots + a_m x_k^m - y_k)^2\n",
    "$$\n",
    "The necessary and sufficient conditions for having a minimum for such a functional, which are given by $\\nabla J(a_0^*,a_1^*,\\ldots, a_m^*) = 0$, give rise to a linear system for the optimal coefficients $a_0^*,a_1^*,\\ldots, a_m^*$.\n",
    "- This problem, namely finding a least square polynomial approximation of degree $m$, is exactly the one that is solved by the function `numpy.polyfit`, which we have already used previously."
   ]
  },
  {
   "cell_type": "markdown",
   "metadata": {
    "pycharm": {
     "name": "#%% md\n"
    }
   },
   "source": [
    "<div markdown=1 class=\"DoIt\">\n",
    "\n",
    "Check that your function `AffineReg` gives approximately the same output as `np.polyfit` with degree $1$."
   ]
  },
  {
   "cell_type": "code",
   "execution_count": null,
   "metadata": {
    "pycharm": {
     "name": "#%%\n"
    }
   },
   "outputs": [],
   "source": []
  },
  {
   "cell_type": "markdown",
   "metadata": {
    "pycharm": {
     "name": "#%% md\n"
    }
   },
   "source": [
    "## Back to the case studies [$\\star$]"
   ]
  },
  {
   "cell_type": "markdown",
   "metadata": {
    "pycharm": {
     "name": "#%% md\n"
    }
   },
   "source": [
    "### Case study 1: a solution using Lagrange interpolation"
   ]
  },
  {
   "cell_type": "markdown",
   "metadata": {
    "pycharm": {
     "name": "#%% md\n"
    }
   },
   "source": [
    "First, recall that we want to model the evolution of the world population, using the data set given in the introduction. The first objective is to estimate the population at year 1951, the second one is to determinate the year for which the population was equal to 2.2 billions. Here is the available data. "
   ]
  },
  {
   "cell_type": "code",
   "execution_count": null,
   "metadata": {
    "pycharm": {
     "name": "#%%\n"
    }
   },
   "outputs": [],
   "source": [
    "yearsData = np.array([1900., 1927., 1955., 1960.])\n",
    "popData = np.array([1.6, 2, 2.772242535, 3.033212527])\n",
    "\n",
    "plt.figure(figsize=(10,6))\n",
    "plt.plot(yearsData, popData, linestyle='', marker=\"o\")\n",
    "plt.title('Evolution of the world population from 1900 to 1960', fontsize = 18)\n",
    "plt.xlabel('Years', fontsize = 18)\n",
    "plt.ylabel('Billions', fontsize = 18)\n",
    "plt.tick_params(labelsize = 18)\n",
    "plt.show()"
   ]
  },
  {
   "cell_type": "markdown",
   "metadata": {
    "pycharm": {
     "name": "#%% md\n"
    }
   },
   "source": [
    "We want to approximate the population using a polynomial $P$. To evaluate the population in 1951, we will just have to evaluate the polynomial $P$ at $x = 1951$. To determine the year at which the population was equal to $2.2$ billions, we can use the root-finding methods studied in the previous cycle to find the zero of $P(x) - 2.2$. \n",
    "\n",
    "To compute a polynomial approximating the data, we use the Lagrange polynomial approximation."
   ]
  },
  {
   "cell_type": "markdown",
   "metadata": {
    "pycharm": {
     "name": "#%% md\n"
    }
   },
   "source": [
    "<div markdown=1 class=\"DoIt\"> Compute and plot the Lagrange polynomial interpolation of the data based on years 1900, 1927, 1955 and 1960. Plot the data on the same figure."
   ]
  },
  {
   "cell_type": "code",
   "execution_count": null,
   "metadata": {
    "pycharm": {
     "name": "#%%\n"
    }
   },
   "outputs": [],
   "source": []
  },
  {
   "cell_type": "markdown",
   "metadata": {
    "pycharm": {
     "name": "#%% md\n"
    }
   },
   "source": [
    "<div markdown=1 class=\"DoIt\"> Use this Lagrange polynomial $P$ to estimate the population at year 1951. Compare to the true value 2,583,816,786."
   ]
  },
  {
   "cell_type": "markdown",
   "metadata": {
    "pycharm": {
     "name": "#%% md\n"
    }
   },
   "source": [
    "We now want to use this Lagrange polynomial $P$ to estimate the year at which the population was equal to $2.2$ billions. To do so, we use the bisection method that we implemented in the previous cycle to find a root of the function $f(x) = P(x)-2.2$ "
   ]
  },
  {
   "cell_type": "markdown",
   "metadata": {
    "pycharm": {
     "name": "#%% md\n"
    }
   },
   "source": [
    "<div markdown=1 class=\"DoIt\"> Create a cell with a a function containing the bisection algorithm (you can copy/paste what you did in the previous cycle), and a second cell where you use the bisection algorithm to estimate when the world population crossed $2.2$ billions."
   ]
  },
  {
   "cell_type": "code",
   "execution_count": null,
   "metadata": {
    "pycharm": {
     "name": "#%%\n"
    }
   },
   "outputs": [],
   "source": []
  },
  {
   "cell_type": "code",
   "execution_count": null,
   "metadata": {
    "pycharm": {
     "name": "#%%\n"
    }
   },
   "outputs": [],
   "source": []
  },
  {
   "cell_type": "markdown",
   "metadata": {
    "pycharm": {
     "name": "#%% md\n"
    }
   },
   "source": [
    "### Case study 2: a solution using piecewise polynomial interpolation"
   ]
  },
  {
   "cell_type": "markdown",
   "metadata": {
    "pycharm": {
     "name": "#%% md\n"
    }
   },
   "source": [
    "Recall we want to compute \n",
    "\n",
    "$$\\pi=4\\int_{0}^{1}d_{atan}(x)dx $$\n",
    "\n",
    "where \n",
    "\n",
    "$$ d_{atan}:\n",
    "\\left\\{\\begin{array}{l}\n",
    "                           \\mathbb{R} &\\rightarrow &\\mathbb{R} \\\\\n",
    "                            x &\\rightarrow &\\frac{1}{1+x^2}\n",
    "                            \\end{array}\\right.\n",
    "$$\n",
    "\n",
    "To do so, we compute a an approximation of $d_{atan}$, and approximate the original integral by the integral of the approximation."
   ]
  },
  {
   "cell_type": "markdown",
   "metadata": {
    "pycharm": {
     "name": "#%% md\n"
    }
   },
   "source": [
    "<div markdown=1 class=\"DoIt\"> \n",
    "\n",
    "Use an approximation of $d_{atan}$ of your choice to estimate the above integral, and therefore $\\pi$. Explain how you can compute the integral of the approximation that you choose.\n",
    "*You can for instance use a Lagrange polynomial interpolation of high degree, or a piece-wise approximation of low degree on a mesh with small mesh-size $h$.*"
   ]
  },
  {
   "cell_type": "markdown",
   "metadata": {
    "pycharm": {
     "name": "#%% md\n"
    }
   },
   "source": [
    "<div markdown=1 class=\"Answer\">"
   ]
  },
  {
   "cell_type": "code",
   "execution_count": null,
   "metadata": {
    "pycharm": {
     "name": "#%%\n"
    }
   },
   "outputs": [],
   "source": []
  },
  {
   "cell_type": "markdown",
   "metadata": {
    "pycharm": {
     "name": "#%% md\n"
    }
   },
   "source": [
    "### Case study 3: parameter estimation for the CAPM using least squares approximation"
   ]
  },
  {
   "cell_type": "markdown",
   "metadata": {
    "pycharm": {
     "name": "#%% md\n"
    }
   },
   "source": [
    "Recall that, being given the values of the market return $(R^m_k)_{k=0..n-1}$ and an asset return $(R_k)_{k=0..n-1}$ for $n$ days, one wants to estimate the parameters $\\alpha$ and $\\beta$ in order to model the behaviour of the corresponding asset as\n",
    "\n",
    "$$\n",
    "R_k = \\alpha + \\beta \\, R^m_k.\n",
    "$$\n",
    "\n",
    "We use the least square approximation method to estimate these parameters for the data set $(x_k,y_k)_{k=0..n-1}=(R_k^m,R_k)_{k=0..n-1}$"
   ]
  },
  {
   "cell_type": "markdown",
   "metadata": {
    "pycharm": {
     "name": "#%% md\n"
    }
   },
   "source": [
    "#### Data description\n",
    "The file Data_market.csv records the CAC 40 index and other assets returns from January 2015 to December 2015. The CAC 40 is a benchmark French stock market index and represents the variation of the whole market.\n",
    "\n",
    "Data used come from https://www.abcbourse.com/download/historiques.aspx .\n",
    "\n",
    "The data contains the daily asset return for the companies of the CAC40. A column corresponds to a given company and a row to a given day. The market return can be found in the last column. \n",
    "\n",
    "The data set can be explored using pandas python library designed to manage data sets. For example, a column can be extracted from the data set using its name, given in the first row of the column.\n",
    "\n",
    "We focus on the asset \"Société Générale\", referenced as \"Societe.Generale\" in the dataset. "
   ]
  },
  {
   "cell_type": "markdown",
   "metadata": {
    "pycharm": {
     "name": "#%% md\n"
    }
   },
   "source": [
    "<div markdown=1 class=\"DoIt\">  Run the following cell to observe the data set."
   ]
  },
  {
   "cell_type": "code",
   "execution_count": null,
   "metadata": {
    "pycharm": {
     "name": "#%%\n"
    }
   },
   "outputs": [],
   "source": [
    "## Load data \n",
    "import pandas as pd              # package for managing datasets\n",
    "\n",
    "Namefile = \"Data_market.csv\"\n",
    "Data = pd.read_csv(Namefile,sep=\",\")\n",
    "Data.drop(['Unnamed: 0'],axis=1,inplace=True)\n",
    "\n",
    "print(Data.head())"
   ]
  },
  {
   "cell_type": "markdown",
   "metadata": {
    "pycharm": {
     "name": "#%% md\n"
    }
   },
   "source": [
    "#### Affine regression"
   ]
  },
  {
   "cell_type": "markdown",
   "metadata": {
    "pycharm": {
     "name": "#%% md\n"
    }
   },
   "source": [
    "<div markdown=1 class=\"DoIt\">  Complete the following cell. Use affine regression to estimate the parameters $(\\alpha,\\beta)$ of the CAPM model for the Societé Générale asset."
   ]
  },
  {
   "cell_type": "code",
   "execution_count": null,
   "metadata": {
    "pycharm": {
     "name": "#%%\n"
    }
   },
   "outputs": [],
   "source": [
    "## Set parameters\n",
    "asset_name = 'Societe.Generale' #The asset\n",
    "market_index_name = 'Rnd.Market.Index' # Represents Rk^m\n",
    "marketReturn = Data[market_index_name] # The market return for each k: x_k\n",
    "assetReturn = Data[asset_name] # The asset return at day k: y_k\n",
    "\n",
    "## Compute alpha and beta\n",
    "beta_star, alpha_star = ...\n",
    "\n",
    "## plot the results\n",
    "fitted_values = alpha_star + beta_star * marketReturn # Affine model for the asset return\n",
    "error_vect = assetReturn - fitted_values\n",
    "error = ...\n",
    "\n",
    "plt.figure(figsize = (10,6))\n",
    "plt.plot(marketReturn, fitted_values, label= 'Affine regression')\n",
    "plt.plot(marketReturn, assetReturn, marker='o', linestyle='', label='data set')\n",
    "plt.legend(fontsize = 18)\n",
    "plt.title(r'Société Générale, $(\\alpha,\\beta)$ =('+str(round(alpha_star,4))+','+str(round(beta_star,4))+'), error is ='+str(round(error,4)), fontsize = 18)\n",
    "plt.grid()\n",
    "plt.xlabel('Market return', fontsize=18)\n",
    "plt.ylabel('Asset return', fontsize=18)\n",
    "plt.tick_params(labelsize = 18)\n",
    "plt.show()"
   ]
  },
  {
   "cell_type": "markdown",
   "metadata": {
    "pycharm": {
     "name": "#%% md\n"
    }
   },
   "source": [
    "#### Linear regression"
   ]
  },
  {
   "cell_type": "markdown",
   "metadata": {
    "pycharm": {
     "name": "#%% md\n"
    }
   },
   "source": [
    "We saw in the previous estimations that the risk $\\alpha$ was very small (it is the the intercept of the previous curve with the $y$-axis). This encourages us to simplify the CAPM model in a linear model:\n",
    "\n",
    "$$\n",
    "R_k = \\beta \\, R^m_k.\n",
    "$$\n",
    "\n",
    "and estimate only one parameter $\\beta$ using linear regression."
   ]
  },
  {
   "cell_type": "markdown",
   "metadata": {
    "pycharm": {
     "name": "#%% md\n"
    }
   },
   "source": [
    "<div markdown=1 class=\"DoIt\"> Complete the following cell. Use linear regression to estimate the parameters $\\beta$ of the new linear CAPM model for the Societé Générale asset. Compare the results with the one you obtained using affine regression."
   ]
  },
  {
   "cell_type": "code",
   "execution_count": null,
   "metadata": {
    "pycharm": {
     "name": "#%%\n"
    }
   },
   "outputs": [],
   "source": [
    "## Set parameters\n",
    "asset_name = 'Societe.Generale'\n",
    "market_index_name = 'Rnd.Market.Index'\n",
    "y = Data[asset_name]\n",
    "x = Data[market_index_name]\n",
    "\n",
    "## Compute alpha and beta\n",
    "beta_star = ...\n",
    "\n",
    "## Plot the result\n",
    "fitted_values = ...\n",
    "error = ...\n",
    "\n",
    "plt.figure(figsize = (10,6))\n",
    "..."
   ]
  },
  {
   "cell_type": "markdown",
   "metadata": {
    "pycharm": {
     "name": "#%% md\n"
    }
   },
   "source": [
    "#### Security market line\n",
    "\n",
    "Consider the linear model and suppose you computed $\\beta^*$ and you want to know how confident you can be using this value to model the behaviour of the asset.\n",
    "\n",
    "\n",
    "\n"
   ]
  },
  {
   "cell_type": "markdown",
   "metadata": {
    "pycharm": {
     "name": "#%% md\n"
    }
   },
   "source": [
    "For any array $x$, we let $ \\text{E}(x) = \\frac{\\sum_{k} x_k}{n}$ be the average value. If $R^m = (R_k^m)_{k=0..n-1}$ is the vector of return values of the market at each day $k$, then $E(R^m)$ is the average return value of the market over $n$ days. Similarly, for a given asset in the portfolio, $\\text{E}(R)$ is its average return over the same period. \n",
    "\n",
    "Using linear regression, we have found a linear model with parameter $\\beta^*$ to approximate the return of the asset from the market return:\n",
    "\n",
    "$$\n",
    "R_k \\approx \\beta^* R^m_k \\qquad{} k=0,\\ldots,n-1.\n",
    "$$\n",
    "\n",
    "Using this model, we get that \n",
    "\n",
    "$$\n",
    "\\text{E}(R) \\approx \\beta^*\\, \\text{E}(R^m),\n",
    "$$\n",
    "\n",
    "and we can then compare this approximation $\\beta^*\\, \\text{E}(R^m)$ given by the model to the exact value $\\text{E}(R)$ computed from the data."
   ]
  },
  {
   "cell_type": "markdown",
   "metadata": {
    "pycharm": {
     "name": "#%% md\n"
    }
   },
   "source": [
    "- If $\\text{E}(R) >  \\beta^*\\, \\text{E}(R^m)$, the model under-estimates the return of the asset\n",
    "- If $\\text{E}(R) =  \\beta^*\\, \\text{E}(R^m)$, the model is a good model for the asset\n",
    "- If $\\text{E}(R) <  \\beta^*\\, \\text{E}(R^m)$, the model over-estimates the return of the asset"
   ]
  },
  {
   "cell_type": "markdown",
   "metadata": {
    "pycharm": {
     "name": "#%% md\n"
    }
   },
   "source": [
    "This can be observed graphically using the \"Security Market line\" (SML) defined by\n",
    "\n",
    "$$\n",
    "(SML) \\; : \\;  \\beta \\mapsto \\beta\\, \\text{E}(R^m).\n",
    "$$\n",
    "\n",
    "For a given asset in the portfolio, if the point $(\\beta^*, E(R))$ is above (resp. below) the line, it is under-estimated (resp. over-estimated) by the model.\n",
    "\n",
    "This is what is done below with the different assets of the CAC40 dataset."
   ]
  },
  {
   "cell_type": "code",
   "execution_count": null,
   "metadata": {
    "pycharm": {
     "name": "#%%\n"
    }
   },
   "outputs": [],
   "source": [
    "## Compute the data needed for the security market line\n",
    "def Security_market_line(Data): \n",
    "    assets_name = list(Data)[1:-1]\n",
    "    size = len(assets_name)\n",
    "    x = Data[market_index_name] # the values R^m_k, k=0,...,n-1\n",
    "    Res = pd.DataFrame(np.zeros((size,3)), columns=['beta','Fit.val','Average.val'])\n",
    "    for asset_index in range(size): # asset_index = 0\n",
    "        asset_name = assets_name[asset_index]\n",
    "        y = Data[asset_name] # the values R_k, k=0,...,n-1, for the asset undere consideration\n",
    "        beta_star = LinearReg(x,y)\n",
    "        Res['beta'][asset_index] = beta_star # the estimated value of beta for this asset\n",
    "        Res['Fit.val'][asset_index] = beta_star*np.mean(x) # the corresponding approximation beta*E(R^m) of the average return of the asset\n",
    "        Res['Average.val'][asset_index] = np.mean(y) # the actual average return of the asset\n",
    "    assets_name = pd.DataFrame(assets_name, columns = ['Name'])\n",
    "    Res = pd.concat([assets_name,Res],axis=1)\n",
    "    return Res"
   ]
  },
  {
   "cell_type": "markdown",
   "metadata": {
    "pycharm": {
     "name": "#%% md\n"
    }
   },
   "source": [
    "<div markdown=1 class=\"DoIt\">  Run the following cell to observe the over and under estimated companies for the linear regression CAPM model."
   ]
  },
  {
   "cell_type": "code",
   "execution_count": null,
   "metadata": {
    "pycharm": {
     "name": "#%%\n"
    }
   },
   "outputs": [],
   "source": [
    "## Plot \n",
    "Res = Security_market_line(Data)\n",
    "print(Res)\n",
    "plt.figure(figsize = (16,8))\n",
    "plt.plot(Res['beta'], Res['Average.val'], marker='o', linestyle='', label='data set')\n",
    "plt.plot(Res['beta'], Res['Fit.val'], linewidth=5, label='Security Market line')\n",
    "size = Res.shape[0]\n",
    "for index in range(size): ## write names of assets\n",
    "    name = Res['Name'][index].split('.')[0]\n",
    "    x = Res['beta'][index]\n",
    "    y = Res['Average.val'][index]\n",
    "    plt.annotate(name, (x,y), fontsize=18)\n",
    "plt.text(0.6,0.0012,\"undervalued assets\", fontsize=22, color='r')\n",
    "plt.text(1.07,-0.0003,\"overvalued assets\", fontsize=22, color='r')\n",
    "plt.legend(fontsize = 15)\n",
    "plt.title('Checking the model against the data', fontsize = 18)\n",
    "plt.xlabel(r'$\\beta$', fontsize=18)\n",
    "plt.ylabel('Average return', fontsize=18)\n",
    "plt.tick_params(labelsize = 18)\n",
    "plt.grid()\n",
    "plt.show() "
   ]
  },
  {
   "cell_type": "code",
   "execution_count": 7,
   "metadata": {
    "pycharm": {
     "name": "#%%\n"
    }
   },
   "outputs": [
    {
     "data": {
      "text/html": [
       "<link href='http://fonts.googleapis.com/css?family=Fenix' rel='stylesheet' type='text/css'>\n",
       "<link href='http://fonts.googleapis.com/css?family=Alegreya+Sans:100,300,400,500,700,800,900,100italic,300italic,400italic,500italic,700italic,800italic,900italic' rel='stylesheet' type='text/css'>\n",
       "<link href='http://fonts.googleapis.com/css?family=Source+Code+Pro:300,400' rel='stylesheet' type='text/css'>\n",
       "<link href=\"https://fonts.googleapis.com/css?family=Oswald|Raleway\" rel=\"stylesheet\" type='text/css'> \n",
       "<style>\n",
       ".prompt{\n",
       "    display: none !important;\n",
       "}\n",
       "\n",
       ".rendered_html pre {\n",
       "    border: 1px solid #f0f6f9 !important;\n",
       "}\n",
       "\n",
       ".rendered_html pre, .rendered_html code {\n",
       "    background-color: #d3d8db !important;\n",
       "    padding: 1% !important;\n",
       "    line-height: 200% !important;\n",
       "    border-radius: 10px !important;\n",
       "}\n",
       "\n",
       "div.input_area {\n",
       "    border-radius: 10px !important;\n",
       "    background-color: #e1e1e6 !important;\n",
       "}\n",
       "\n",
       "div.cell{\n",
       "        width:85% !important;\n",
       "        margin-left:5% !important;\n",
       "        /*margin-right:auto;*/\n",
       "    }\n",
       "    h1, h2, h3, h4, h5 {\n",
       "        font-family: 'Oswald', sans-serif; !important;\n",
       "        font-style: oblique !important;\n",
       "    }\n",
       "    div.text_cell_render{\n",
       "        font-family: 'Raleway', sans-serif; !important;\n",
       "        line-height: 135% !important;\n",
       "        font-size: 120% !important;\n",
       "        width:100%;/*600px;*/\n",
       "        /*margin-left:auto;*/\n",
       "        /*margin-right:auto;*/\n",
       "    }\n",
       "    .CodeMirror{\n",
       "            font-family: \"Source Code Pro\" !important;\n",
       "\t\t\tfont-size: 100% !important;\n",
       "    }\n",
       "    .text_cell_render p{\n",
       "        text-align: justify !important;\n",
       "    }\n",
       "    .text_cell_render h1 {\n",
       "        font-weight: 200 !important;\n",
       "\t\tline-height: 100% !important;\n",
       "        color:#47597A !important;\n",
       "        margin-bottom: 10.em !important;\n",
       "        margin-top: 50.em !important;\n",
       "        padding-bottom: 50.em !important;\n",
       "        padding-top: 50.em !important;\n",
       "        display: block !important;\n",
       "        font-size: 300% !important;\n",
       "        text-align: center !important;\n",
       "        border-bottom: 1px solid #47597A !important;\n",
       "        border-top: 1px solid #47597A !important;\n",
       "    }\n",
       "    .text_cell_render h2 {\n",
       "        font-weight: 200 !important;\n",
       "\tline-height: 100% !important;\n",
       "        color:#47597A !important;\n",
       "        margin-bottom: 0.5em !important;\n",
       "        margin-top: 0.5em !important;\n",
       "        display: block !important;\n",
       "        font-size: 200% !important;\n",
       "        border-bottom: 1px solid #47597A !important;\n",
       "    }\n",
       "    .text_cell_render h3 {\n",
       "        font-weight: 200 !important;\n",
       "\tline-height: 100% !important;\n",
       "        color:#47597A !important;\n",
       "        margin-bottom: 0.5em !important;\n",
       "        margin-top: 0.5em !important;\n",
       "        display: block !important;\n",
       "        font-size: 150% !important;\n",
       "    }\n",
       "    .text_cell_render h4 {\n",
       "        font-style: italic !important;\n",
       "        font-weight: bold !important;\n",
       "\tline-height: 100% !important;\n",
       "        color:#47597A !important;\n",
       "        display: block !important;\n",
       "        font-size: 100% !important;\n",
       "    }\n",
       "    .text_cell_render h5 {\n",
       "        font-weight: 200 !important;\n",
       "\tline-height: 100% !important;\n",
       "        color:#47597A !important;\n",
       "        margin-bottom: 0.5em !important;\n",
       "        margin-top: 0.5em !important;\n",
       "        display: block !important;\n",
       "        font-size: 100% !important;\n",
       "    }\n",
       "    .text_cell_render ul {\n",
       "\tlist-style-type: disc !important;\n",
       "\tline-height: 2;\n",
       "\t/*color:#47597A !important;*/\n",
       "    }\n",
       "    .warning{\n",
       "        color: rgb( 240, 20, 20 ) !important;\n",
       "        }\n",
       "    .Abstract {  \n",
       "\ttext-align: justify;\n",
       "\tbackground-color: #d6edf9;\n",
       "\tborder-left: 5px solid #47597A;\n",
       "\tpadding: 0.5em;\n",
       "\tmargin: 0  150px 0 150px;\n",
       "    }\n",
       "    .Def {     \n",
       "\ttext-align: justify;\n",
       "\tbackground-color: #d9f7d7;\n",
       "\tborder-left: 5px solid #4a7047;\n",
       "\tpadding: 0.5em;\n",
       "    }\n",
       "    .Def:before {\n",
       "\tcontent: \"Definition.\";\n",
       "\tcolor:#4a7047;\n",
       "\tfont-weight: bold;\n",
       "\tfont-style: normal;\n",
       "    }\n",
       "    .DoIt {     \n",
       "\ttext-align: justify;\n",
       "\tbackground-color: #e8cfc9;\n",
       "\tborder-left: 5px solid #a90e05;\n",
       "\tpadding: 0.5em;\n",
       "    }\n",
       "    .DoIt:before {\n",
       "\tcontent: \"Do it yourself.\";\n",
       "\tcolor:#a90e05;\n",
       "\tfont-weight: bold;\n",
       "\tfont-style: normal;\n",
       "    }\n",
       "    .Answer {   \n",
       "\ttext-align: justify;  \n",
       "\tbackground-color:   #fdf2e9  ;\n",
       "\tborder-left: 5px solid #a90e05;\n",
       "\tpadding: 0.5em;\n",
       "    }\n",
       "    .Answer:before {\n",
       "\tcontent: \"Answer.\";\n",
       "\tcolor:#a90e05;\n",
       "\tfont-weight: bold;\n",
       "\tfont-style: normal;\n",
       "    }\n",
       "    .Correction {    \n",
       "\ttext-align: justify; \n",
       "\tbackground-color: #ffffcc;\n",
       "\tborder-left: 5px solid #a90e05;\n",
       "\tpadding: 0.5em;\n",
       "    }\n",
       "    .Correction:before {\n",
       "\tcontent: \"Correction.\";\n",
       "\tcolor:#a90e05;\n",
       "\tfont-weight: bold;\n",
       "\tfont-style: normal;\n",
       "    }\n",
       "    .Prop {     \n",
       "\ttext-align: justify;\n",
       "\tbackground-color:#f9ecd1;\n",
       "\tborder-left: 5px solid #ba7021;\n",
       "\tpadding: 0.5em;\n",
       "    }\n",
       "   .Prop:before {\n",
       "       content: \"Proposition.\";\n",
       "       color:#ba7021;\n",
       "       font-weight: bold;\n",
       "       font-style: normal;\n",
       "    }\n",
       "   .Thm {     \n",
       "\ttext-align: justify;\n",
       "\tbackground-color:#f9ecd1;\n",
       "\tborder-left: 5px solid #ba7021;\n",
       "\tpadding: 0.5em;\n",
       "    }\n",
       "   .Thm:before {\n",
       "       content: \"Theorem.\";\n",
       "       color:#ba7021;\n",
       "       font-weight: bold;\n",
       "       font-style: normal;\n",
       "    } \n",
       "   .Algo {    \n",
       "\tbackground-color:#f9ecd1;\n",
       "\tborder-left: 5px solid #ba7021;\n",
       "\tpadding: 0.5em;\n",
       "    }\n",
       "   .Algo:before {\n",
       "       content: \"Algorithm.\";\n",
       "       color:#ba7021;\n",
       "       font-weight: bold;\n",
       "       font-style: normal;\n",
       "    }\n",
       "    .Rmk {    \n",
       "\ttext-align: justify;\n",
       "\tbackground-color: #dbf1fc;\n",
       "\tborder-left: 5px solid #385487;\n",
       "\tpadding: 0.5em;\n",
       "    }\n",
       "    .Rmk:before {\n",
       "\tcontent: \"Remark.\";\n",
       "\tcolor:#385487;\n",
       "\tfont-weight: bold;\n",
       "\tfont-style: normal;\n",
       "    }\n",
       "    .Fur {    \n",
       "\ttext-align: justify;\n",
       "\tbackground-color:  #e8daef;\n",
       "\tborder-left: 5px solid #5b2c6f;\n",
       "\tpadding: 0.5em;\n",
       "    }\n",
       "    .Fur:before {    \n",
       "\tcontent: \"Remark (to go further).\";\n",
       "\tcolor:  #5b2c6f;\n",
       "\tfont-weight: bold;\n",
       "\tfont-style: normal;\n",
       "    }\n",
       "    .Ex {    \n",
       "\ttext-align: justify;\n",
       "\tbackground-color: #dbf1fc;\n",
       "\tborder-left: 5px solid #385487;\n",
       "\tpadding: 0.5em;\n",
       "    }\n",
       "    .Ex:before {\n",
       "\tcontent: \"Example.\";\n",
       "\tcolor:#385487;\n",
       "\tfont-weight: bold;\n",
       "\tfont-style: normal;\n",
       "    }\n",
       "\n",
       "/*    .toc-item-num {\n",
       "#        display: none;\n",
       "#    }\n",
       "*/\n",
       "    .reveal section img{\n",
       "        margin: 0px auto;\n",
       "    }\n",
       "\n",
       "    div.output_area img{\n",
       "        display: block;\n",
       "        margin: 0px auto;\n",
       "    }\n",
       "  \n",
       "</style>\n",
       "\n",
       "<script>\n",
       "MathJax.Hub.Config({\n",
       "TeX: {extensions: [\"AMSmath.js\"] },\n",
       "                tex2jax: {\n",
       "                    inlineMath: [ ['$','$'], [\"\\\\(\",\"\\\\)\"] ],\n",
       "                    displayMath: [ ['$$','$$'], [\"\\\\[\",\"\\\\]\"] ]\n",
       "                },\n",
       "                displayAlign: 'center', // Change this to 'center' to center equations.\n",
       "                \"HTML-CSS\": {\n",
       "                    styles: {'.MathJax_Display': {\"margin\": 4}}\n",
       "                }\n",
       "        });\n",
       "\n",
       "\n",
       "\n",
       "</script>\n"
      ],
      "text/plain": [
       "<IPython.core.display.HTML object>"
      ]
     },
     "execution_count": 7,
     "metadata": {},
     "output_type": "execute_result"
    }
   ],
   "source": [
    "# execute this part to modify the css style\n",
    "from IPython.core.display import HTML\n",
    "def css_styling():\n",
    "    styles = open(\"./style/custom3.css\").read()\n",
    "    return HTML(styles)\n",
    "css_styling()"
   ]
  },
  {
   "cell_type": "code",
   "execution_count": null,
   "metadata": {
    "pycharm": {
     "name": "#%%\n"
    }
   },
   "outputs": [],
   "source": []
  }
 ],
 "metadata": {
  "kernelspec": {
   "display_name": "Python 3 (ipykernel)",
   "language": "python",
   "name": "python3"
  },
  "language_info": {
   "codemirror_mode": {
    "name": "ipython",
    "version": 3
   },
   "file_extension": ".py",
   "mimetype": "text/x-python",
   "name": "python",
   "nbconvert_exporter": "python",
   "pygments_lexer": "ipython3",
   "version": "3.8.10"
  },
  "latex_envs": {
   "LaTeX_envs_menu_present": true,
   "autoclose": false,
   "autocomplete": false,
   "bibliofile": "biblio.bib",
   "cite_by": "apalike",
   "current_citInitial": 1,
   "eqLabelWithNumbers": true,
   "eqNumInitial": 1,
   "hotkeys": {
    "equation": "Ctrl-E",
    "itemize": "Ctrl-I"
   },
   "labels_anchors": false,
   "latex_user_defs": false,
   "report_style_numbering": false,
   "user_envs_cfg": false
  },
  "toc": {
   "base_numbering": 1,
   "nav_menu": {},
   "number_sections": true,
   "sideBar": true,
   "skip_h1_title": true,
   "title_cell": "Table of Contents",
   "title_sidebar": "Contents",
   "toc_cell": false,
   "toc_position": {
    "height": "953px",
    "left": "0px",
    "right": "1432px",
    "top": "110px",
    "width": "189.2px"
   },
   "toc_section_display": true,
   "toc_window_display": true
  }
 },
 "nbformat": 4,
 "nbformat_minor": 2
}