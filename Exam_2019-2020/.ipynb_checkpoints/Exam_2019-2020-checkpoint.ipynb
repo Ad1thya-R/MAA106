{
 "cells": [
  {
   "cell_type": "markdown",
   "metadata": {
    "pycharm": {
     "name": "#%% md\n"
    }
   },
   "source": [
    "<img src='./figures/logo-ecole-polytechnique-ve.jpg' style='position:absolute; top:0; right:0;' width='100px' height='' alt='' />\n",
    "\n",
    "<center><b>Bachelor of Ecole Polytechnique</b></center>\n",
    "<center>Computational Mathematics, year 1, semester 2</center>\n",
    "<center>Author: Aline Lefebvre-Lepot</center>\n",
    "\n",
    "# EXAM (MAA106 2019-2020)\n",
    "\n",
    "<br>\n",
    "<br>\n",
    "<br>\n",
    "<center><b>Due date: XXX</b></center>\n",
    "<br>\n",
    "<br>\n",
    "<br>\n"
   ]
  },
  {
   "cell_type": "markdown",
   "metadata": {
    "pycharm": {
     "name": "#%% md\n"
    }
   },
   "source": [
    "<div markdown=1 class=Abstract> \n",
    "\n",
    "**This subject is about acceleration of convergence and consists of 3 sections:**\n",
    "\n",
    "- Section 1: Initial algorithm\n",
    "- Section 2: Relaxed algorithm\n",
    "- Section 3: Approximated relaxed algorithm\n",
    "\n"
   ]
  },
  {
   "cell_type": "markdown",
   "metadata": {
    "pycharm": {
     "name": "#%% md\n"
    }
   },
   "source": [
    "<div markdown=1 class=Abstract> \n",
    "\n",
    "**Instructions:**\n",
    "\n",
    "- Justify (even with a few words) your answers\n",
    "- Please provide your answers in the \"Answer\" cells already created\n",
    "- Upload your notebook to the designated area on moodle after you have finished\n"
   ]
  },
  {
   "cell_type": "markdown",
   "metadata": {
    "pycharm": {
     "name": "#%% md\n"
    }
   },
   "source": [
    "**Reminder: If the notebook does not have the usual aspect, for instance if you do not have cells of different colors, click on the \"not trusted\" button in the top right corner.**"
   ]
  },
  {
   "cell_type": "code",
   "execution_count": 5,
   "metadata": {
    "pycharm": {
     "name": "#%%\n"
    }
   },
   "outputs": [],
   "source": [
    "## loading python libraries\n",
    "\n",
    "# necessary to display plots inline:\n",
    "%matplotlib inline   \n",
    "\n",
    "# load the libraries\n",
    "import matplotlib.pyplot as plt # 2D plotting library\n",
    "import numpy as np              # package for scientific computing  \n",
    "\n",
    "from math import *              # package for mathematics (pi, arctan, sqrt, factorial ...)"
   ]
  },
  {
   "cell_type": "markdown",
   "metadata": {
    "pycharm": {
     "name": "#%% md\n"
    }
   },
   "source": [
    "A function $g$ being given, we consider the problem of finding $x^*$ solution to \n",
    "\n",
    "$$\n",
    "g(x^*)=x^*.\n",
    "$$"
   ]
  },
  {
   "cell_type": "markdown",
   "metadata": {
    "pycharm": {
     "name": "#%% md\n"
    }
   },
   "source": [
    "## A first algorithm"
   ]
  },
  {
   "cell_type": "markdown",
   "metadata": {
    "pycharm": {
     "name": "#%% md\n"
    }
   },
   "source": [
    "We provide below the code of an algorithm. Given a function $g$, a real $x_0$, a real $\\epsilon$ and an integer $K$, it computes a sequence $(x_k)_k$:"
   ]
  },
  {
   "cell_type": "code",
   "execution_count": 6,
   "metadata": {
    "pycharm": {
     "name": "#%%\n"
    }
   },
   "outputs": [],
   "source": [
    "## input : g = function\n",
    "##         x0 = real\n",
    "##         eps = real\n",
    "##         K = integer\n",
    "## output : kend = the number of iteration achieved\n",
    "##          x = array [x0, ... , xkend]\n",
    "def Algo(g,x0,eps,K):\n",
    "    x = np.zeros(K+1)\n",
    "    x[0] = x0 \n",
    "    x[1] = g(x0)\n",
    "    k = 1\n",
    "    while abs(x[k]-x[k-1])>eps and k < K:\n",
    "        x[k+1] = g(x[k])\n",
    "        k = k+1\n",
    "    return (k, x[:k+1])"
   ]
  },
  {
   "cell_type": "markdown",
   "metadata": {
    "pycharm": {
     "name": "#%% md\n"
    }
   },
   "source": [
    "<div  markdown=1 class=\"DoIt\"> Answer the following questions:\n",
    "\n",
    "- How is $x_{k+1}$ computed from $x_k$?\n",
    "- When does the algorithm stop?\n",
    "- If the sequence $x_k$ converges to a real $x^*$, and the function $g$ is continuous, which equation is verified by the limit $x^*$?\n",
    "- How is called this algorithm?"
   ]
  },
  {
   "cell_type": "markdown",
   "metadata": {
    "pycharm": {
     "name": "#%% md\n"
    }
   },
   "source": [
    "<div  markdown=1 class=\"Answer\"> \n",
    "\n",
    "- $x_{k+1}$ computed from $x_k$ as $x_{k+1}=g(x_k)$\n",
    "- The algorithm stops when $|x_k-x_{k-1}|\\leq\\epsilon$ or $k < K$\n",
    "- $g(x^*)=x^*$\n",
    "- Fixed point algorithm"
   ]
  },
  {
   "cell_type": "markdown",
   "metadata": {
    "pycharm": {
     "name": "#%% md\n"
    }
   },
   "source": [
    "We recall the following result about this algorithm:"
   ]
  },
  {
   "cell_type": "markdown",
   "metadata": {
    "pycharm": {
     "name": "#%% md\n"
    }
   },
   "source": [
    "<div  markdown=1 class=\"Thm\">\n",
    "\n",
    "**Convergence of the algorithm.**\n",
    "\n",
    "Let $g: [a,b]\\to \\mathbb{R}$ and $x_0$ be given. Consider the sequence $(x_{k})_k$ for $k\\geq 0$, generated by the algorithm. Suppose\n",
    "\n",
    "- $g: [a,b] \\to [a,b]\\quad$ (i.e. $[a,b]$ is stable for $g$)\n",
    "- $g\\in {\\cal C}^1 ([a,b])$ and\n",
    "$$\n",
    "\\exists K<1 \\quad\\ \\text{such that} \\quad\\ \\forall x\\in[a,b], \\quad|g'(x)|\\leq K\n",
    "$$\n",
    "\n",
    "Then,  the sequence $(x_k)_k$ converges to the same limit $x^*$ for any choice of $x_0\\in [a,b]$. Moreover we have\n",
    "\n",
    "$$\n",
    "\\lim_{k\\to\\infty} \\frac{x_{k+1}-x^*}{x_k-x^*} = g'(x^*)\n",
    "$$\n",
    "\n",
    "so that the sequence converges at least with order 1."
   ]
  },
  {
   "cell_type": "markdown",
   "metadata": {
    "pycharm": {
     "name": "#%% md\n"
    }
   },
   "source": [
    "<div  markdown=1 class=\"DoIt\">\n",
    "\n",
    "We consider the function $g:[1,2]\\to\\mathbb{R}$, defined by:\n",
    "\n",
    "$$\\displaystyle g(x) = -\\frac{1}{20} (x^3-2) + x \\qquad\\forall~x\\in[1,2].$$ \n",
    "\n",
    "- Compute $g'$\n",
    "- Prove that $g$ is an increasing function\n",
    "- Prove that $g([1,2])\\subset [1,2]$\n"
   ]
  },
  {
   "cell_type": "markdown",
   "metadata": {
    "pycharm": {
     "name": "#%% md\n"
    }
   },
   "source": [
    "<div  markdown=1 class=\"Answer\"> \n",
    "\n",
    "- $g'(x)=-3/20*x^2+1$\n",
    "- $\\forall~x\\in[1,2]$, $-3/20*x^2<1$, hence $g'(x)>0$, thus  $g(x)>0$ is increasing.\n",
    "- As g is montonous, it is enough to evaluate g at the endpoints, thus $g(1)=1.05$ and $g(2)=1.7$, thus  $g([1,2])=[1.05,1.7]\\subset [1,2]$\n"
   ]
  },
  {
   "cell_type": "markdown",
   "metadata": {
    "pycharm": {
     "name": "#%% md\n"
    }
   },
   "source": [
    "<div  markdown=1 class=\"DoIt\">\n",
    "\n",
    "We want to apply the algorithm to the function $g$. To do so, we choose $x_0\\in [1,2]$.\n",
    "\n",
    "- Using the previous theorem, prove that the sequence generated by the algorithm converges to a real $x^*$ with order at least 1.\n",
    "- What is the value of $x^*$?"
   ]
  },
  {
   "cell_type": "markdown",
   "metadata": {
    "pycharm": {
     "name": "#%% md\n"
    }
   },
   "source": [
    "<div  markdown=1 class=\"Answer\"> \n",
    "\n",
    "- We just proved that g is stable and we know $g\\in {\\cal C}^1 ([a,b])$ as it is a polynomial\n",
    "- Then, we can choose $K=17/20$ as the maximum value of $g'$ is 17/20\n",
    "- $x^*=2**(1/3)$"
   ]
  },
  {
   "cell_type": "markdown",
   "metadata": {
    "pycharm": {
     "name": "#%% md\n"
    }
   },
   "source": [
    "<div  markdown=1 class=\"DoIt\">\n",
    "\n",
    "Run the following cell to compute the first terms of the sequence for the function $g$."
   ]
  },
  {
   "cell_type": "code",
   "execution_count": 11,
   "metadata": {
    "pycharm": {
     "name": "#%%\n"
    }
   },
   "outputs": [
    {
     "name": "stdout",
     "output_type": "stream",
     "text": [
      "xstar = 1.2599210498948732\n",
      "k =  24\n",
      "x = 1.260198298526237\n",
      "Last test = 8.668017933266547e-05\n",
      "Last error = 0.0002772486313638023\n"
     ]
    }
   ],
   "source": [
    "# solution\n",
    "xstar = 2**(1/3)\n",
    "print('xstar =',xstar)\n",
    "\n",
    "# definition of function g\n",
    "def g(x):\n",
    "    return - (x**3-2)/20 + x\n",
    "\n",
    "\n",
    "# parameters\n",
    "x0 = 1.5\n",
    "eps = 1e-4\n",
    "K = 30\n",
    "\n",
    "# run the algorithm\n",
    "k, x = Algo(g,x0,eps,K)\n",
    "\n",
    "# print number of terms computed\n",
    "print('k = ',k)\n",
    "# print the last approximation computed\n",
    "print('x =',x[k])\n",
    "# print the last test performed in the loop\n",
    "FinalTest = abs(x[k]-x[k-1])\n",
    "print('Last test =',FinalTest)\n",
    "# print the error for the last approximation\n",
    "err = abs(x[k]-xstar)\n",
    "print('Last error =',err)"
   ]
  },
  {
   "cell_type": "markdown",
   "metadata": {
    "pycharm": {
     "name": "#%% md\n"
    }
   },
   "source": [
    "<div  markdown=1 class=\"DoIt\">\n",
    "\n",
    "In the previous test: \n",
    "- Compare the number of terms computed with $K$.\n",
    "- Compare the value of $\\epsilon$ with the last test in the loop.\n",
    "- Why did the algorithm stop? \n",
    "- Compare the value of the error with the last test.\n",
    "- Compare the value of the error with $\\epsilon$.\n",
    "\n",
    "In view of this test, \n",
    "- Does the stopping criterion $|x_k-x_{k-1}|<\\epsilon$ ensure that the precision of the last approximation is smaller than $\\epsilon$?\n",
    "- Is $|x_k-x_{k-1}|$ an \"error estimator\" for this algorithm? Why?"
   ]
  },
  {
   "cell_type": "markdown",
   "metadata": {
    "pycharm": {
     "name": "#%% md\n"
    }
   },
   "source": [
    "<div  markdown=1 class=\"Answer\"> \n",
    "\n",
    "- The number of terms computed is 6 lower than $K$\n",
    "- The last test was $\\approx 0.00008$, which is marginally smaller than epsilon\n",
    "- The algorithm stopped because $abs(x[k]-x[k-1])<\\epsilon$\n",
    "- The last error is about 4 times larger than the last test\n",
    "\n",
    "\n",
    "- No, the stopping criterion ensure that the precision of the last approximation is smaller than $\\epsilon$.\n",
    "- It is not an error estimator for the algorithm, it is rather attempting to measure whether $x$ is changing enough for the function to continue running."
   ]
  },
  {
   "cell_type": "markdown",
   "metadata": {
    "pycharm": {
     "name": "#%% md\n"
    }
   },
   "source": [
    "<div  markdown=1 class=\"DoIt\">\n",
    "\n",
    "Complete the following cell to plot the error versus $k$ for the previous test."
   ]
  },
  {
   "cell_type": "code",
   "execution_count": 16,
   "metadata": {
    "pycharm": {
     "name": "#%%\n"
    }
   },
   "outputs": [
    {
     "data": {
      "image/png": "[encoded data removed]",
      "text/plain": [
       "<Figure size 720x360 with 1 Axes>"
      ]
     },
     "metadata": {
      "needs_background": "light"
     },
     "output_type": "display_data"
    }
   ],
   "source": [
    "# solution\n",
    "xstar = 2**(1/3)\n",
    "\n",
    "# parameters\n",
    "x0 = 1.5\n",
    "eps = 1e-4\n",
    "K = 30\n",
    "\n",
    "# run the algorithm\n",
    "k, x = Algo(g,x0,eps,K)\n",
    "\n",
    "## vector e_{k} = |x_k-x^*|\n",
    "err = np.abs(x-xstar)\n",
    "tabk=np.arange(0, err.size)\n",
    "## plot e_{k} versus k\n",
    "tabk = np.arange(0,k+1)\n",
    "fig = plt.figure(figsize=(10, 5))\n",
    "plt.plot(tabk,err, 'o-', label='First Algorithm') #plot\n",
    "plt.legend(loc='lower right', fontsize=18)\n",
    "plt.xlabel('k', fontsize=18)\n",
    "plt.ylabel('Error $|x_k-x^*|$', fontsize=18)\n",
    "plt.show()"
   ]
  },
  {
   "cell_type": "markdown",
   "metadata": {
    "pycharm": {
     "name": "#%% md\n"
    }
   },
   "source": [
    "<div  markdown=1 class=\"DoIt\">\n",
    "\n",
    "Complete the following cell to estimate the order of convergence of the algorithm. Use a figure together with the command polyfit to estimate the order of convergence."
   ]
  },
  {
   "cell_type": "code",
   "execution_count": null,
   "metadata": {
    "pycharm": {
     "name": "#%%\n"
    }
   },
   "outputs": [],
   "source": [
    "# solution\n",
    "xstar = 2**(1/3)\n",
    "x0 = 1.5\n",
    "eps = 1e-4\n",
    "K = 30\n",
    "k, x = Algo(g,x0,eps,K)\n",
    "\n",
    "## vector e_{k} = |x_k-x^*|\n",
    "err = ---\n",
    "\n",
    "## vectors e_{k} and  e_{k+1}\n",
    "X = ---     # X[k]=e_{k},   k=0...kend-1\n",
    "Y = ---     # Y[k]=e_{k+1}, k=0...kend-1\n",
    "\n",
    "## plot e_{k+1} versus e_{k} in loglog-scale\n",
    "fig = plt.figure(figsize=(10, 5))\n",
    "--- #plot, log-log scale\n",
    "plt.legend(loc='lower right', fontsize=18)\n",
    "plt.axis('equal')\n",
    "plt.xlabel(---, fontsize=18)\n",
    "plt.ylabel(---, fontsize=18)\n",
    "plt.show()\n",
    "\n",
    "## estimate the slope of the line using polyfit\n",
    "---\n",
    "print(\"approximated order of convergence = \",---)"
   ]
  },
  {
   "cell_type": "markdown",
   "metadata": {
    "pycharm": {
     "name": "#%% md\n"
    }
   },
   "source": [
    "<div  markdown=1 class=\"DoIt\">\n",
    "\n",
    "Does this test confirm the expected order of convergence?"
   ]
  },
  {
   "cell_type": "markdown",
   "metadata": {
    "pycharm": {
     "name": "#%% md\n"
    }
   },
   "source": [
    "<div  markdown=1 class=\"Answer\"> "
   ]
  },
  {
   "cell_type": "markdown",
   "metadata": {
    "pycharm": {
     "name": "#%% md\n"
    }
   },
   "source": [
    "## Relaxation method"
   ]
  },
  {
   "cell_type": "markdown",
   "metadata": {
    "pycharm": {
     "name": "#%% md\n"
    }
   },
   "source": [
    "We recall the following result, showing that, for \"good\" functions $g$, the previous algorithm converges with a better than linear speed of convergence:"
   ]
  },
  {
   "cell_type": "markdown",
   "metadata": {
    "pycharm": {
     "name": "#%% md\n"
    }
   },
   "source": [
    "<div  markdown=1 class=\"Thm\">\n",
    "\n",
    "**\"Better than linear\" speed of convergence.**\n",
    "\n",
    "Let $g: [a,b]\\to \\mathbb{R}$ and suppose that the hypotheses of the previous theorem are fulfilled. If \n",
    "\n",
    "- $g\\in {\\cal C^{p+1}} ( I )$ where $I$ is a neighbourhood of $x^*$ and $p$ is an integer $p\\geq 0$\n",
    "- $g^{(i)}(x^*)=0\\quad$ for $\\quad 0\\leq i \\leq p$\n",
    "- $g^{(p+1)}(x^*)\\neq 0$ \n",
    "\n",
    "Then, the algorithm applied to the function $g$ satifies \n",
    "\n",
    "$$\n",
    "\\lim_{k\\to\\infty} \\frac{x_{k+1}-x^*}{(\\,x_k-x^*\\,)\\,^{p+1}} = \\frac{g^{(p+1)}(x^*)}{(p+1)!}.\n",
    "$$\n",
    "\n",
    "This proves that the sequence converges at least with order $p+1$."
   ]
  },
  {
   "cell_type": "markdown",
   "metadata": {
    "pycharm": {
     "name": "#%% md\n"
    }
   },
   "source": [
    "The relaxation method tries to take advantage of this result, by modifying the function in order to make the algorithm converge quicker.\n",
    "\n",
    "For any $\\alpha\\neq -1$, consider the following function:\n",
    "\n",
    "$$g_\\alpha(x) = \\frac{g(x)+\\alpha x}{\\alpha +1}$$\n"
   ]
  },
  {
   "cell_type": "markdown",
   "metadata": {
    "pycharm": {
     "name": "#%% md\n"
    }
   },
   "source": [
    "<div  markdown=1 class=\"DoIt\">\n",
    "\n",
    "- Prove that $g(x^*)=x^*$ is equivalent to $g_\\alpha(x^*)=x^*$\n",
    "- Compute the derivative of $g_\\alpha$"
   ]
  },
  {
   "cell_type": "markdown",
   "metadata": {
    "pycharm": {
     "name": "#%% md\n"
    }
   },
   "source": [
    "<div  markdown=1 class=\"Answer\"> "
   ]
  },
  {
   "cell_type": "markdown",
   "metadata": {
    "pycharm": {
     "name": "#%% md\n"
    }
   },
   "source": [
    "We choose to approximate $x^*$ solution to $g(x^*)=x^*$ by applying the algorithm studied in the previous section to \n",
    "\n",
    "$$g_\\alpha\\quad \\text{ for } \\quad \\alpha = -g'(x^*).$$"
   ]
  },
  {
   "cell_type": "markdown",
   "metadata": {
    "pycharm": {
     "name": "#%% md\n"
    }
   },
   "source": [
    "<div  markdown=1 class=\"DoIt\"> Explain this choice.\n"
   ]
  },
  {
   "cell_type": "markdown",
   "metadata": {
    "pycharm": {
     "name": "#%% md\n"
    }
   },
   "source": [
    "<div  markdown=1 class=\"Answer\"> "
   ]
  },
  {
   "cell_type": "markdown",
   "metadata": {
    "pycharm": {
     "name": "#%% md\n"
    }
   },
   "source": [
    "This method is called a relaxation method. The corresponding iterations for a given function $g$ are:\n",
    "\n",
    "$$\n",
    "x_{k+1} = g_\\alpha (x_k) = \\frac{g(x_k)+\\alpha x_k}{\\alpha +1}\n",
    "$$\n",
    "\n",
    "The real $\\alpha$ is called the relaxation parameter."
   ]
  },
  {
   "cell_type": "markdown",
   "metadata": {
    "pycharm": {
     "name": "#%% md\n"
    }
   },
   "source": [
    "<div  markdown=1 class=\"DoIt\"> Complete the function below to implement this new algorithm. Use the same stopping criterion as in the previous section.\n"
   ]
  },
  {
   "cell_type": "code",
   "execution_count": null,
   "metadata": {
    "pycharm": {
     "name": "#%%\n"
    }
   },
   "outputs": [],
   "source": [
    "## input : g = function\n",
    "##         alpha = relaxation parameter\n",
    "##         x0 = real\n",
    "##         eps = real\n",
    "##         K = integer\n",
    "## output : kend = the number of iteration achieved\n",
    "##          x = array [x0, ... , xkend]\n",
    "def RelaxedAlgo(g,alpha,x0,eps,K):\n",
    "    ---\n",
    "    return (k, x[:k+1])"
   ]
  },
  {
   "cell_type": "markdown",
   "metadata": {
    "pycharm": {
     "name": "#%% md\n"
    }
   },
   "source": [
    "<div  markdown=1 class=\"DoIt\"> \n",
    "Test this relaxed algorithm for\n",
    "$$\\displaystyle g(x) = -\\frac{1}{20} (x^3-2) + x.$$\n",
    "\n",
    "Using the same choice of parameters as before, plot on the same figure the error versus $k$ for both the initial and the new algorithm"
   ]
  },
  {
   "cell_type": "code",
   "execution_count": null,
   "metadata": {
    "pycharm": {
     "name": "#%%\n"
    }
   },
   "outputs": [],
   "source": [
    "# solution\n",
    "xstar = 2**(1/3)\n",
    "\n",
    "# parameters\n",
    "x0 = 1.5\n",
    "eps = 1e-4\n",
    "K = 30\n",
    "\n",
    "# run the initial algorithm\n",
    "k, x = ---\n",
    "\n",
    "# run the relaxed algorithm\n",
    "alpha = ---\n",
    "k_rel, x_rel = ---\n",
    "\n",
    "## errors\n",
    "err =  ---\n",
    "err_rel =  ---\n",
    "\n",
    "## plot e_{k+1} versus k\n",
    "tabk = np.arange(0,k+1)\n",
    "tabk_rel = np.arange(0,k_rel+1)\n",
    "fig = plt.figure(figsize=(10, 5))\n",
    "--- #plot first algorithm\n",
    "--- #plot relaxed algorithm\n",
    "plt.legend(loc='upper right', fontsize=18)\n",
    "plt.xlabel(---, fontsize=18)\n",
    "plt.ylabel(---, fontsize=18)\n",
    "plt.show()"
   ]
  },
  {
   "cell_type": "markdown",
   "metadata": {
    "pycharm": {
     "name": "#%% md\n"
    }
   },
   "source": [
    "<div  markdown=1 class=\"DoIt\"> \n",
    "Compare the convergence of the two algorithms: speed of convergence, number of iterations obtained for the same value of epsilon, error for the last computed approximation. (print some of the computed results if needed)"
   ]
  },
  {
   "cell_type": "markdown",
   "metadata": {
    "pycharm": {
     "name": "#%% md\n"
    }
   },
   "source": [
    "<div  markdown=1 class=\"Answer\"> "
   ]
  },
  {
   "cell_type": "markdown",
   "metadata": {
    "pycharm": {
     "name": "#%% md\n"
    }
   },
   "source": [
    "<div  markdown=1 class=\"DoIt\"> Complete the next cell to estimate the order of convergence of the relaxed algorithm."
   ]
  },
  {
   "cell_type": "code",
   "execution_count": null,
   "metadata": {
    "pycharm": {
     "name": "#%%\n"
    }
   },
   "outputs": [],
   "source": [
    "# parameters\n",
    "xstar = 2**(1/3)\n",
    "x0 = 1.5\n",
    "eps = 1e-4\n",
    "K = 30\n",
    "\n",
    "---\n",
    "\n",
    "print(\"approximated order of convergence = \",---)"
   ]
  },
  {
   "cell_type": "markdown",
   "metadata": {
    "pycharm": {
     "name": "#%% md\n"
    }
   },
   "source": [
    "<div  markdown=1 class=\"DoIt\">\n",
    "\n",
    "Does this test confirm the expected order of convergence?"
   ]
  },
  {
   "cell_type": "markdown",
   "metadata": {
    "pycharm": {
     "name": "#%% md\n"
    }
   },
   "source": [
    "<div  markdown=1 class=\"Answer\"> "
   ]
  },
  {
   "cell_type": "markdown",
   "metadata": {
    "pycharm": {
     "name": "#%% md\n"
    }
   },
   "source": [
    "## Approximated relaxation method"
   ]
  },
  {
   "cell_type": "markdown",
   "metadata": {
    "pycharm": {
     "name": "#%% md\n"
    }
   },
   "source": [
    "Sometimes, the derivative of the function is not explicit or its derivative is not known.\n",
    "\n",
    "In that case, the relaxation method can be modified by estimating the derivative using a finite difference approximation:\n",
    "\n",
    "Find $a,b$ such that $a\\approx x^*$, $b\\approx x^*$ and chose\n",
    "$$\n",
    "\\alpha = - \\frac{g(b)-g(a)}{b-a}\n",
    "$$"
   ]
  },
  {
   "cell_type": "markdown",
   "metadata": {
    "pycharm": {
     "name": "#%% md\n"
    }
   },
   "source": [
    "<div  markdown=1 class=\"DoIt\"> How could $a$ and $b$ be chosen?"
   ]
  },
  {
   "cell_type": "markdown",
   "metadata": {
    "pycharm": {
     "name": "#%% md\n"
    }
   },
   "source": [
    "<div  markdown=1 class=\"Answer\"> "
   ]
  },
  {
   "cell_type": "markdown",
   "metadata": {
    "pycharm": {
     "name": "#%% md\n"
    }
   },
   "source": [
    "<div  markdown=1 class=\"DoIt\"> Test this method in the following cell. \n",
    "\n",
    "- For the sake of simplicity, and since for this academic example $x^*$ is known, choose $a=x^* - \\eta$ and $b = x^* + \\eta$ for $\\eta= 5.10^{-1}$.\n",
    "\n",
    "- Plot on the same figure the error versus $k$ for the initial algorithm, the relaxed method and the approximated relaxed method. Use a log-scale for the error (y-axis)."
   ]
  },
  {
   "cell_type": "code",
   "execution_count": null,
   "metadata": {
    "pycharm": {
     "name": "#%%\n"
    }
   },
   "outputs": [],
   "source": [
    "# solution\n",
    "xstar = 2**(1/3)\n",
    "\n",
    "# parameters\n",
    "x0 = 1.5\n",
    "eps = 1e-4\n",
    "K = 30\n",
    "\n",
    "---"
   ]
  },
  {
   "cell_type": "markdown",
   "metadata": {
    "pycharm": {
     "name": "#%% md\n"
    }
   },
   "source": [
    "<div  markdown=1 class=\"DoIt\"> Comment on the results."
   ]
  },
  {
   "cell_type": "markdown",
   "metadata": {
    "pycharm": {
     "name": "#%% md\n"
    }
   },
   "source": [
    "<div  markdown=1 class=\"Answer\"> "
   ]
  },
  {
   "cell_type": "markdown",
   "metadata": {
    "pycharm": {
     "name": "#%% md\n"
    }
   },
   "source": [
    "<div  markdown=1 class=\"DoIt\"> Complete the next cell to estimate the order of convergence of the approximated relaxed algorithm."
   ]
  },
  {
   "cell_type": "code",
   "execution_count": null,
   "metadata": {
    "pycharm": {
     "name": "#%%\n"
    }
   },
   "outputs": [],
   "source": [
    "# parameters\n",
    "xstar = 2**(1/3)\n",
    "x0 = 1.5\n",
    "eps = 1e-8\n",
    "K = 30\n",
    "eta = 5e-1\n",
    "\n",
    "---\n",
    "\n",
    "print(\"approximated  = \",---)"
   ]
  },
  {
   "cell_type": "markdown",
   "metadata": {
    "pycharm": {
     "name": "#%% md\n"
    }
   },
   "source": [
    "<div  markdown=1 class=\"DoIt\">\n",
    "\n",
    "Does this test confirm the expected order of convergence?"
   ]
  },
  {
   "cell_type": "markdown",
   "metadata": {
    "pycharm": {
     "name": "#%% md\n"
    }
   },
   "source": [
    "<div  markdown=1 class=\"Answer\"> "
   ]
  },
  {
   "cell_type": "markdown",
   "metadata": {
    "pycharm": {
     "name": "#%% md\n"
    }
   },
   "source": [
    "<div  markdown=1 class=\"DoIt\">\n",
    "\n",
    "Complete the following cell to plot on the same graph $e_{k+1}$ versus $e_k$ in a log-log scale for the three methods."
   ]
  },
  {
   "cell_type": "code",
   "execution_count": null,
   "metadata": {
    "pycharm": {
     "name": "#%%\n"
    }
   },
   "outputs": [],
   "source": [
    "# solution\n",
    "xstar = 2**(1/3)\n",
    "x0 = 1.5\n",
    "eps = 1e-8\n",
    "K = 30\n",
    "eta = 5e-1\n",
    "\n",
    "#compute iterations, initial algorithm\n",
    "k1, x1 = ---\n",
    "\n",
    "#compute iterations, relaxed algorithm\n",
    "alpha = ---\n",
    "k2, x2 = ---\n",
    "\n",
    "#compute iterations, approximated relaxed algorithm\n",
    "alpha = ---\n",
    "k3, x3 = ---\n",
    "\n",
    "## vector e_{k} = |x_k-x^*|\n",
    "---\n",
    "\n",
    "## vectors e_{k} and  e_{k+1}\n",
    "---\n",
    "\n",
    "## plot e_{k+1} versus e_{k} in loglog-scale\n",
    "fig = plt.figure(figsize=(10, 5))\n",
    "---\n",
    "plt.show()"
   ]
  },
  {
   "cell_type": "markdown",
   "metadata": {
    "pycharm": {
     "name": "#%% md\n"
    }
   },
   "source": [
    "<div  markdown=1 class=\"DoIt\">\n",
    "\n",
    "Comment the results. In particular, how do the behavior of the initial and the approximated relaxed algorithm converge? Can you explain why?"
   ]
  },
  {
   "cell_type": "markdown",
   "metadata": {
    "pycharm": {
     "name": "#%% md\n"
    }
   },
   "source": [
    "<div  markdown=1 class=\"Answer\"> "
   ]
  },
  {
   "cell_type": "markdown",
   "metadata": {
    "pycharm": {
     "name": "#%% md\n"
    }
   },
   "source": [
    "<div  markdown=1 class=\"DoIt\">\n",
    "\n",
    "Look at the code and run the following cell."
   ]
  },
  {
   "cell_type": "code",
   "execution_count": null,
   "metadata": {
    "pycharm": {
     "name": "#%%\n"
    }
   },
   "outputs": [],
   "source": [
    "## New algorithm for function g\n",
    "## input : g = name of the function\n",
    "##         alpha = initial relaxation parameter\n",
    "##         x0 = initialization\n",
    "##         Niter = number of iterations between updates of alpha\n",
    "##         K = number of iterations\n",
    "## output : x = sequence generated using the fixed point iteration for g (x[k]=x_k)\n",
    "def NewAlgo(g,alpha,x0,eps,K,Niter):\n",
    "    x = np.zeros(K+1)\n",
    "    x[0] = x0 \n",
    "    print('k=0, alpha =',alpha)\n",
    "    x[1] = (g(x0) + alpha * x0) / (alpha +1)\n",
    "    k = 1\n",
    "    while abs(x[k]-x[k-1])>eps and k < K:\n",
    "        i = 0\n",
    "        while i < Niter and k < K:\n",
    "            print('k=',k,'alpha =',alpha)\n",
    "            x[k+1] = (g(x[k]) + alpha * x[k]) / (alpha +1)\n",
    "            k = k+1\n",
    "            i = i+1\n",
    "        alpha = -(g(x[k])-g(x[k-1]))/(x[k]-x[k-1])\n",
    "    return (k, x[:k+1])\n",
    "\n",
    "\n",
    "########################\n",
    "########################\n",
    "xstar = 2**(1/3)\n",
    "x0 = 2\n",
    "eps = 1e-8\n",
    "K = 30\n",
    "eta = 1\n",
    "alpha = -(g(xstar+eta)-g(xstar-eta))/(2*eta)\n",
    "Niter = 4\n",
    "k, x = NewAlgo(g,alpha,x0,eps,K,Niter)\n",
    "\n",
    "## vector e_{k} = |x_k-x^*|\n",
    "err = abs(x-xstar)\n",
    "\n",
    "## vectors e_{k} and  e_{k+1}\n",
    "X = err[:-1]    # X[k]=e_{k},   k=0...kend-1\n",
    "Y = err[1:]     # Y[k]=e_{k+1}, k=0...kend-1\n",
    "\n",
    "## plot e_{k+1} versus e_{k} in loglog-scale\n",
    "fig = plt.figure(figsize=(10, 5))\n",
    "plt.loglog(X, Y, marker=\"o\", label='Updated Relaxed Algorithm') #log-log scale\n",
    "plt.legend(loc='lower right', fontsize=18)\n",
    "plt.axis('equal')\n",
    "plt.xlabel('$e_k$', fontsize=18)\n",
    "plt.ylabel('$e_{k+1}$', fontsize=18)\n",
    "plt.show()\n"
   ]
  },
  {
   "cell_type": "markdown",
   "metadata": {
    "pycharm": {
     "name": "#%% md\n"
    }
   },
   "source": [
    "<div  markdown=1 class=\"DoIt\">\n",
    "\n",
    "Can you explain the resulting plot?"
   ]
  },
  {
   "cell_type": "markdown",
   "metadata": {
    "pycharm": {
     "name": "#%% md\n"
    }
   },
   "source": [
    "<div  markdown=1 class=\"Answer\"> "
   ]
  },
  {
   "cell_type": "code",
   "execution_count": 8,
   "metadata": {
    "pycharm": {
     "name": "#%%\n"
    }
   },
   "outputs": [
    {
     "data": {
      "text/html": [
       "<link href='http://fonts.googleapis.com/css?family=Fenix' rel='stylesheet' type='text/css'>\n",
       "<link href='http://fonts.googleapis.com/css?family=Alegreya+Sans:100,300,400,500,700,800,900,100italic,300italic,400italic,500italic,700italic,800italic,900italic' rel='stylesheet' type='text/css'>\n",
       "<link href='http://fonts.googleapis.com/css?family=Source+Code+Pro:300,400' rel='stylesheet' type='text/css'>\n",
       "<link href=\"https://fonts.googleapis.com/css?family=Oswald|Raleway\" rel=\"stylesheet\" type='text/css'> \n",
       "<style>\n",
       ".prompt{\n",
       "    display: none !important;\n",
       "}\n",
       "\n",
       ".rendered_html pre {\n",
       "    border: 1px solid #f0f6f9 !important;\n",
       "}\n",
       "\n",
       ".rendered_html pre, .rendered_html code {\n",
       "    background-color: #d3d8db !important;\n",
       "    padding: 1% !important;\n",
       "    line-height: 200% !important;\n",
       "    border-radius: 10px !important;\n",
       "}\n",
       "\n",
       "div.input_area {\n",
       "    border-radius: 10px !important;\n",
       "    background-color: #e1e1e6 !important;\n",
       "}\n",
       "\n",
       "div.cell{\n",
       "        width:85% !important;\n",
       "        margin-left:5% !important;\n",
       "        /*margin-right:auto;*/\n",
       "    }\n",
       "    h1, h2, h3, h4, h5 {\n",
       "        font-family: 'Oswald', sans-serif; !important;\n",
       "        font-style: oblique !important;\n",
       "    }\n",
       "    div.text_cell_render{\n",
       "        font-family: 'Raleway', sans-serif; !important;\n",
       "        line-height: 135% !important;\n",
       "        font-size: 120% !important;\n",
       "        width:100%;/*600px;*/\n",
       "        /*margin-left:auto;*/\n",
       "        /*margin-right:auto;*/\n",
       "    }\n",
       "    .CodeMirror{\n",
       "            font-family: \"Source Code Pro\" !important;\n",
       "\t\t\tfont-size: 100% !important;\n",
       "    }\n",
       "    .text_cell_render p{\n",
       "        text-align: justify !important;\n",
       "    }\n",
       "    .text_cell_render h1 {\n",
       "        font-weight: 200 !important;\n",
       "\t\tline-height: 100% !important;\n",
       "        color:#47597A !important;\n",
       "        margin-bottom: 10.em !important;\n",
       "        margin-top: 50.em !important;\n",
       "        padding-bottom: 50.em !important;\n",
       "        padding-top: 50.em !important;\n",
       "        display: block !important;\n",
       "        font-size: 300% !important;\n",
       "        text-align: center !important;\n",
       "        border-bottom: 1px solid #47597A !important;\n",
       "        border-top: 1px solid #47597A !important;\n",
       "    }\n",
       "    .text_cell_render h2 {\n",
       "        font-weight: 200 !important;\n",
       "\tline-height: 100% !important;\n",
       "        color:#47597A !important;\n",
       "        margin-bottom: 0.5em !important;\n",
       "        margin-top: 0.5em !important;\n",
       "        display: block !important;\n",
       "        font-size: 200% !important;\n",
       "        border-bottom: 1px solid #47597A !important;\n",
       "    }\n",
       "    .text_cell_render h3 {\n",
       "        font-weight: 200 !important;\n",
       "\tline-height: 100% !important;\n",
       "        color:#47597A !important;\n",
       "        margin-bottom: 0.5em !important;\n",
       "        margin-top: 0.5em !important;\n",
       "        display: block !important;\n",
       "        font-size: 150% !important;\n",
       "    }\n",
       "    .text_cell_render h4 {\n",
       "        font-style: italic !important;\n",
       "        font-weight: bold !important;\n",
       "\tline-height: 100% !important;\n",
       "        color:#47597A !important;\n",
       "        display: block !important;\n",
       "        font-size: 100% !important;\n",
       "    }\n",
       "    .text_cell_render h5 {\n",
       "        font-weight: 200 !important;\n",
       "\tline-height: 100% !important;\n",
       "        color:#47597A !important;\n",
       "        margin-bottom: 0.5em !important;\n",
       "        margin-top: 0.5em !important;\n",
       "        display: block !important;\n",
       "        font-size: 100% !important;\n",
       "    }\n",
       "    .text_cell_render ul {\n",
       "\tlist-style-type: disc !important;\n",
       "\tline-height: 2;\n",
       "\t/*color:#47597A !important;*/\n",
       "    }\n",
       "    .warning{\n",
       "        color: rgb( 240, 20, 20 ) !important;\n",
       "        }\n",
       "    .Abstract {  \n",
       "\ttext-align: justify;\n",
       "\tbackground-color: #d6edf9;\n",
       "\tborder-left: 5px solid #47597A;\n",
       "\tpadding: 0.5em;\n",
       "\tmargin: 0  30px 0 30px;\n",
       "    }\n",
       "    .Def {    \n",
       "\tbackground-color: #d9f7d7;\n",
       "\tborder-left: 5px solid #4a7047;\n",
       "\tpadding: 0.5em;\n",
       "    }\n",
       "    .Def:before {\n",
       "\tcontent: \"Definition.\";\n",
       "\tcolor:#4a7047;\n",
       "\tfont-weight: bold;\n",
       "\tfont-style: normal;\n",
       "    }\n",
       "    .DoIt {    \n",
       "\tbackground-color: #e8cfc9;\n",
       "\tborder-left: 5px solid #a90e05;\n",
       "\tpadding: 0.5em;\n",
       "    }\n",
       "    .DoIt:before {\n",
       "\tcontent: \"Do it yourself.\";\n",
       "\tcolor:#a90e05;\n",
       "\tfont-weight: bold;\n",
       "\tfont-style: normal;\n",
       "    }\n",
       "    .Answer {    \n",
       "\tbackground-color:   #fdf2e9  ;\n",
       "\tborder-left: 5px solid #a90e05;\n",
       "\tpadding: 0.5em;\n",
       "    }\n",
       "    .Answer:before {\n",
       "\tcontent: \"Answer.\";\n",
       "\tcolor:#a90e05;\n",
       "\tfont-weight: bold;\n",
       "\tfont-style: normal;\n",
       "    }\n",
       "    .Correction {    \n",
       "\tbackground-color: #ffffcc;\n",
       "\tborder-left: 5px solid #a90e05;\n",
       "\tpadding: 0.5em;\n",
       "    }\n",
       "    .Correction:before {\n",
       "\tcontent: \"Correction.\";\n",
       "\tcolor:#a90e05;\n",
       "\tfont-weight: bold;\n",
       "\tfont-style: normal;\n",
       "    }\n",
       "    .Further {    \n",
       "        background-color: #ddd5d3;\n",
       "        border-left: 5px solid #a90e05;\n",
       "        padding: 0.5em;\n",
       "        }\n",
       "    .Further:before {\n",
       "        content: \"To go further (not graded).\";\n",
       "        color:#a90e05;\n",
       "        font-weight: bold;\n",
       "        font-style: normal;\n",
       "        }\n",
       "    .Prop {    \n",
       "\tbackground-color:#f9ecd1;\n",
       "\tborder-left: 5px solid #ba7021;\n",
       "\tpadding: 0.5em;\n",
       "    }\n",
       "   .Prop:before {\n",
       "       content: \"Proposition.\";\n",
       "       color:#ba7021;\n",
       "       font-weight: bold;\n",
       "       font-style: normal;\n",
       "    }\n",
       "   .Thm {    \n",
       "\tbackground-color:#f9ecd1;\n",
       "\tborder-left: 5px solid #ba7021;\n",
       "\tpadding: 0.5em;\n",
       "    }\n",
       "   .Thm:before {\n",
       "       content: \"Theorem.\";\n",
       "       color:#ba7021;\n",
       "       font-weight: bold;\n",
       "       font-style: normal;\n",
       "    } \n",
       "   .Algo {    \n",
       "\tbackground-color:#f9ecd1;\n",
       "\tborder-left: 5px solid #ba7021;\n",
       "\tpadding: 0.5em;\n",
       "    }\n",
       "   .Algo:before {\n",
       "       content: \"Algorithm.\";\n",
       "       color:#ba7021;\n",
       "       font-weight: bold;\n",
       "       font-style: normal;\n",
       "    }\n",
       "    .Rmk {    \n",
       "\tbackground-color: #dbf1fc;\n",
       "\tborder-left: 5px solid #385487;\n",
       "\tpadding: 0.5em;\n",
       "    }\n",
       "    .Rmk:before {\n",
       "\tcontent: \"Remark.\";\n",
       "\tcolor:#385487;\n",
       "\tfont-weight: bold;\n",
       "\tfont-style: normal;\n",
       "    }\n",
       "    .Ex {    \n",
       "\tbackground-color: #dbf1fc;\n",
       "\tborder-left: 5px solid #385487;\n",
       "\tpadding: 0.5em;\n",
       "    }\n",
       "    .Ex:before {\n",
       "\tcontent: \"Example.\";\n",
       "\tcolor:#385487;\n",
       "\tfont-weight: bold;\n",
       "\tfont-style: normal;\n",
       "    }\n",
       "\n",
       "/*    .toc-item-num {\n",
       "#        display: none;\n",
       "#    }\n",
       "*/\n",
       "    .reveal section img{\n",
       "        margin: 0px auto;\n",
       "    }\n",
       "\n",
       "    div.output_area img{\n",
       "        display: block;\n",
       "        margin: 0px auto;\n",
       "    }\n",
       "  \n",
       "</style>\n",
       "\n",
       "<script>\n",
       "MathJax.Hub.Config({\n",
       "TeX: {extensions: [\"AMSmath.js\"] },\n",
       "                tex2jax: {\n",
       "                    inlineMath: [ ['$','$'], [\"\\\\(\",\"\\\\)\"] ],\n",
       "                    displayMath: [ ['$$','$$'], [\"\\\\[\",\"\\\\]\"] ]\n",
       "                },\n",
       "                displayAlign: 'center', // Change this to 'center' to center equations.\n",
       "                \"HTML-CSS\": {\n",
       "                    styles: {'.MathJax_Display': {\"margin\": 4}}\n",
       "                }\n",
       "        });\n",
       "\n",
       "\n",
       "\n",
       "</script>\n"
      ],
      "text/plain": [
       "<IPython.core.display.HTML object>"
      ]
     },
     "execution_count": 8,
     "metadata": {},
     "output_type": "execute_result"
    }
   ],
   "source": [
    "# execute this part to modify the css style\n",
    "from IPython.core.display import HTML\n",
    "def css_styling():\n",
    "    styles = open(\"./style/custom3.css\").read()\n",
    "    return HTML(styles)\n",
    "css_styling()"
   ]
  },
  {
   "cell_type": "code",
   "execution_count": null,
   "metadata": {
    "pycharm": {
     "name": "#%%\n"
    }
   },
   "outputs": [],
   "source": []
  }
 ],
 "metadata": {
  "kernelspec": {
   "display_name": "Python 3 (ipykernel)",
   "language": "python",
   "name": "python3"
  },
  "language_info": {
   "codemirror_mode": {
    "name": "ipython",
    "version": 3
   },
   "file_extension": ".py",
   "mimetype": "text/x-python",
   "name": "python",
   "nbconvert_exporter": "python",
   "pygments_lexer": "ipython3",
   "version": "3.8.10"
  },
  "latex_envs": {
   "LaTeX_envs_menu_present": true,
   "autoclose": false,
   "autocomplete": true,
   "bibliofile": "biblio.bib",
   "cite_by": "apalike",
   "current_citInitial": 1,
   "eqLabelWithNumbers": true,
   "eqNumInitial": 1,
   "hotkeys": {
    "equation": "Ctrl-E",
    "itemize": "Ctrl-I"
   },
   "labels_anchors": false,
   "latex_user_defs": false,
   "report_style_numbering": false,
   "user_envs_cfg": false
  },
  "toc": {
   "base_numbering": 1,
   "nav_menu": {},
   "number_sections": true,
   "sideBar": true,
   "skip_h1_title": true,
   "title_cell": "Table of Contents",
   "title_sidebar": "Contents",
   "toc_cell": false,
   "toc_position": {
    "height": "600px",
    "left": "0px",
    "right": "1124px",
    "top": "107px",
    "width": "240.667px"
   },
   "toc_section_display": "block",
   "toc_window_display": false
  }
 },
 "nbformat": 4,
 "nbformat_minor": 4
}
