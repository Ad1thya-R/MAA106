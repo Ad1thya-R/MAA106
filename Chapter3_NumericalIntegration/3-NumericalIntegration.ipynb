{
 "cells": [
  {
   "cell_type": "markdown",
   "metadata": {
    "collapsed": true,
    "pycharm": {
     "name": "#%% md\n"
    }
   },
   "source": [
    "<img src='./figures/logo-ecole-polytechnique-ve.jpg' style='position:absolute; top:0; right:0;' width='100px' height='' alt='' />\n",
    "\n",
    "<center><b>Bachelor of Ecole Polytechnique</b></center>\n",
    "<center>MAA106: Introduction to Numerical Analysis, year 1, semester 2</center>\n",
    "<center>Maxime Breden</center>\n",
    "<br>\n",
    "<center><i>Based on Notebooks created by Aline Lefebvre-Lepot</i></center>\n",
    "\n",
    "# Numerical integration\n",
    "\n",
    "&nbsp;\n",
    "\n",
    "<center>\n",
    "<table>\n",
    "        <tr>\n",
    "            <td><img src=\"figures/Simpson_Elem_notitle.png\" alt=\"Simpson Elem\" style=\"width: 300px;\" /></td>\n",
    "            <td><img src=\"figures/Rectl_Comp_notitle.png\" alt=\"RectL Comp\" style=\"width: 300px;\" /></td>\n",
    "            <td><img src=\"figures/MC_notitle.png\" alt=\"MC\" style=\"width: 300px;\" /></td>\n",
    "        </tr>\n",
    "</table>\n",
    "</center>\n",
    "\n",
    "&nbsp;"
   ]
  },
  {
   "cell_type": "markdown",
   "metadata": {
    "pycharm": {
     "name": "#%% md\n"
    }
   },
   "source": [
    "<div markdown=1 class=Abstract> In this chapter we consider the problem of numerical computation of integrals. In one dimension, we present and analyze elementary quadrature rules, link them with polynomial interpolation, and see how they can be used to provide composite quadrature rules. Then, we present a non-deterministic approach to compute integrals which can easily be adapted to compute volumes in 3 dimensions. These methods are tested to solve three problems."
   ]
  },
  {
   "cell_type": "markdown",
   "metadata": {
    "pycharm": {
     "name": "#%% md\n"
    }
   },
   "source": [
    "<div markdown=1 class=Abstract> The symbol [$\\star$] indicates supplementary material (most of the time proofs) that is optional to understand. This material is provided for the sake of completeness and for interested readers."
   ]
  },
  {
   "cell_type": "markdown",
   "metadata": {
    "pycharm": {
     "name": "#%% md\n"
    }
   },
   "source": [
    "## Table of contents\n",
    "\n",
    "- [Introduction](#intro)\n",
    "- [Elementary quadrature rules](#ElemQuad)\n",
    "- [Composite integration](#CompQuad)\n",
    "- [A non-deterministic approach](#MC)\n",
    "- [Back to the case studies](#CS)"
   ]
  },
  {
   "cell_type": "code",
   "execution_count": 3,
   "metadata": {
    "pycharm": {
     "name": "#%%\n"
    }
   },
   "outputs": [],
   "source": [
    "## loading python libraries\n",
    "\n",
    "# necessary to display plots inline:\n",
    "%matplotlib inline   \n",
    "\n",
    "# load the libraries\n",
    "import matplotlib.pyplot as plt # 2D plotting library\n",
    "import numpy as np              # package for scientific computing \n",
    "\n",
    "from scipy.integrate import newton_cotes # coefficients for Newton-Cotes quadrature rule\n",
    "from scipy.special import roots_legendre # coefficients for Gauss-Legendre quadrature rule\n",
    "\n",
    "from math import *              # package for mathematics (pi, arctan, sqrt, factorial ...)"
   ]
  },
  {
   "cell_type": "markdown",
   "metadata": {
    "pycharm": {
     "name": "#%% md\n"
    }
   },
   "source": [
    "<a id=\"intro\"></a>\n",
    "## Introduction"
   ]
  },
  {
   "cell_type": "markdown",
   "metadata": {
    "pycharm": {
     "name": "#%% md\n"
    }
   },
   "source": [
    "Suppose you want to compute the integral of a function $f$ on an interval $[a,b]$:\n",
    "\n",
    "$$\n",
    "\\int_a^b f(x)dx\n",
    "$$\n",
    "\n",
    "and suppose that\n",
    "- no explicit anti-derivative of $f$ is known,\n",
    "- the values of $f$ are known for a discrete set of point $(x_k)_{k=0..n}$ in $[a,b]$.\n",
    "\n",
    "Depending on the problem, the set of points $x_k$ at which we know $f$ might be given to us, or we might be able to chose it. In both of these cases, the integral cannot be computed exactly and one has to design a numerical method to estimate its value.\n",
    "\n",
    "We give below three examples of situations where such a numerical approximation is needed.\n"
   ]
  },
  {
   "cell_type": "markdown",
   "metadata": {
    "pycharm": {
     "name": "#%% md\n"
    }
   },
   "source": [
    "### Case study 1: Manufacturing a corrugated roofing."
   ]
  },
  {
   "cell_type": "markdown",
   "metadata": {
    "pycharm": {
     "name": "#%% md\n"
    }
   },
   "source": [
    "We consider the following problem from the book *Numerical analysis* of R. Burden and J. Faires. \n",
    "\n",
    "><center>\n",
    "<img src=\"./figures/CorrugatedSheet.png\" alt=\"Corrugated Sheet\" style=\"height: 200px;\"/>\n",
    "</center>\n",
    "\n",
    ">A sheet of corrugated roofing is constructed by pressing a flat sheet of aluminum into one\n",
    "whose cross section has the form of a sine wave. A corrugated sheet 48 inches long is needed, the height of each wave is 1 inch from the center\n",
    "line, and each wave has a period of approximately $2\\pi$ inches. \n",
    ">\n",
    ">The problem of finding the length\n",
    "of the initial flat sheet is one of determining the length of the curve given by $f (x) = \\sin x$\n",
    "from $x = 0$ inch to $x = 48$ inches. From calculus we know that this length is\n",
    ">\n",
    ">$$ l = \\int_{0}^{48} \\sqrt{1 + f'(x)^2}dx = \\int_{0}^{48} \\sqrt{1 + cos^2(x)}dx$$\n",
    ">\n",
    ">so the problem reduces to evaluating this integral. Although the sine function is one of\n",
    "the most common mathematical functions, the calculation of its length involves an elliptic\n",
    "integral of the second kind, which cannot be evaluated explicitly."
   ]
  },
  {
   "cell_type": "markdown",
   "metadata": {
    "pycharm": {
     "name": "#%% md\n"
    }
   },
   "source": [
    "### Case study 2: Length of a race track"
   ]
  },
  {
   "cell_type": "markdown",
   "metadata": {
    "pycharm": {
     "name": "#%% md\n"
    }
   },
   "source": [
    "Suppose that a car laps a race track in 84 seconds and that one wants to compute the corresponding length of the track. If $v(t)$ is the velocity of the car at time $t$, we have that\n",
    "$$\n",
    "\\text{Length} = \\int_0^{84} v(t)dt.\n",
    "$$\n",
    "\n",
    "Unfortunately, we do not have at our disposal the velocity for all values of $t$. Indeed, we only have access to the speed of the car at each 6-second interval, determined by using a radargun and given in feet/second. The corresponding values are given below.\n",
    "\n",
    "Time |  0 |   6|  12|  18|  24|  30|  36|  42|  48|  54|  60|  66|  72|  78|  84|\n",
    "-----|-----|-----|-----|-----|-----|-----|-----|-----|-----|-----|-----|-----|-----|-----|-----|\n",
    "Speed|124| 134| 148| 156| 147| 133| 180| 109| 99| 85| 78| 89| 104| 116| 123|\n",
    "\n",
    "One needs to find a way to approximate the length of the track using these discrete values."
   ]
  },
  {
   "cell_type": "markdown",
   "metadata": {
    "pycharm": {
     "name": "#%% md\n"
    }
   },
   "source": [
    "### Case study 3: Computing volumes of solids"
   ]
  },
  {
   "cell_type": "markdown",
   "metadata": {
    "pycharm": {
     "name": "#%% md\n"
    }
   },
   "source": [
    "Suppose you want to study the behavior of dry granular medium. Such a system is made of an assembly of solid particles, being subject to external forces such as gravity, an external fluid inter-particle forces or contact forces...\n",
    "\n",
    "To model such a system, one has to write, for each of the particles, Newton's second law, which expresses the conservation of momentum. To do so, one has to estimate the forces and their momentum exerted on each of the particles. \n",
    "\n",
    "The first step to achieve this task is to be able to compute the mass of the particles. However, this mass depends both on the density of a particle and on its shape. If $B$ is the domain of the grain and $\\rho$ its density, its mass is then given by: \n",
    "\n",
    "$$ \\int_{B} \\rho dxdydz =\\rho\\int_{B}dxdydz.$$\n",
    "\n",
    "One can consider particles with various shapes $B$. In some simple cases, the integral can be computed explicitly. For example one can consider \n",
    "- **spherical particles:** each grain is a ball of radius $R$, that is,\n",
    "$$\n",
    "B = \\left\\{ (x,y,z)\\in\\mathbb{R}^3,\\ \\frac{x^2}{R^2} + \\frac{y^2}{R^2} +\\frac{z^2}{R^2} \\leq 1 \\right\\}.\n",
    "$$\n",
    "This is the easiest way to represent the grain and you only need to find the volume of a ball, which is explicitly known:\n",
    "$$\n",
    "V = \\frac{4}{3}\\pi R^3.\n",
    "$$\n",
    "- **ellipsoidal particles:** each grain is an ellipsoid having principal axes of length $\\frac{a}{2}$, $\\frac{b}{2}$ and $\\frac{c}{2}$, that is,\n",
    "$$\n",
    "B = \\left\\{ (x,y,z)\\in\\mathbb{R}^3,\\ \\frac{x^2}{a^2} + \\frac{y^2}{b^2} +\\frac{z^2}{c^2} \\leq 1 \\right\\}.\n",
    "$$\n",
    "For $a=b=c=R$, one recovers the ball of radius $R$. In general, the volume of an ellipsoid is given by:\n",
    "$$\n",
    "V = \\frac{4}{3}\\pi a\\,b\\,c.\n",
    "$$\n",
    "\n",
    "- **super-ellipsoidal particles:** other more complicated shapes can be considered, for which no explicit formula is available for the volume. One example of families of shapes that can be considered is super-ellipsoidal shapes (see for instance https://en.wikipedia.org/wiki/Superellipsoid). Such shapes depend on two real parameters $e$ and $n$, 3 radii $a$, $b$, $c$, and a given by\n",
    "$$\n",
    "B = \\left\\{ (x,y,z)\\in\\mathbb{R}^3,\\  \\left(\\left|\\frac{x}{a}\\right|^{\\frac{2}{e}}+\\left|\\frac{y}{b}\\right|^{\\frac{2}{e}}\\right)^{\\frac{e}{n}}+\\left|\\frac{z}{c}\\right|^{\\frac{2}{n}}\\leq 1 \\right\\}.\n",
    "$$\n",
    "For $e=n=1$, one recovers the ellipsoid of parameters $a$, $b$ and $c$. **The volume of such solids cannot be explicitly computed in general and one has to numerically estimate the integral.** Two examples of super-ellipsoids are plotted on the following figure:\n",
    "<table>\n",
    "        <tr>\n",
    "            <td><img src=\"./figures/r1t05.png\" alt=\"Superellipsoid 1\" style=\"height: 300px;\"/></td>\n",
    "            <td><img src=\"./figures/r4t133.png\" alt=\"Superellipsoid 2\" style=\"height:300px;\"/></td>\n",
    "        </tr>\n",
    "</table>"
   ]
  },
  {
   "cell_type": "markdown",
   "metadata": {
    "pycharm": {
     "name": "#%% md\n"
    }
   },
   "source": [
    "<a id=\"ElemQuad\"></a>\n",
    "## Elementary quadrature rules"
   ]
  },
  {
   "cell_type": "markdown",
   "metadata": {
    "pycharm": {
     "name": "#%% md\n"
    }
   },
   "source": [
    "Suppose you want to compute \n",
    "\n",
    "$$\n",
    "\\int_a^b f(t)dt.\n",
    "$$\n",
    "\n",
    "Our goal is to find an approximation of that integral using a weighted sum of values of $f$."
   ]
  },
  {
   "cell_type": "markdown",
   "metadata": {
    "pycharm": {
     "name": "#%% md\n"
    }
   },
   "source": [
    "<div markdown=1, class=\"Def\"> \n",
    "\n",
    "A weighted sum of the form\n",
    "\n",
    "$$\n",
    "I^n_{[a,b]}(f) = \\sum_{k=0}^n f(x_k)\\omega_k\n",
    "$$\n",
    "\n",
    "is called an **elementary quadrature rule**, and is entirely determined by the pairs $(x_k,\\omega_k)_{k=0..n}$, which are often represented in a table listing the values of these pairs:\n",
    "\n",
    "\\begin{array}{c|cccc}\n",
    "x_k & x_0 & x_1 & \\ldots & x_n \\\\ \\hline\n",
    "\\omega_k & \\omega_0 & \\omega_1 & \\ldots & \\omega_n \n",
    "\\end{array}\n",
    "\n",
    "The integer $n$ is the **degree** of the quadrature rule, the points $(x_k)_{k=0..n}$ are called the **nodes** of the quadrature rule, and the coefficients $(\\omega_k)_{k=0..n}$ its **weights**."
   ]
  },
  {
   "cell_type": "markdown",
   "metadata": {
    "pycharm": {
     "name": "#%% md\n"
    }
   },
   "source": [
    "<div  markdown=1 class=\"DoIt\"> \n",
    "\n",
    "Complete the following cell to get a function `QuadRule` which evaluates such a quadrature rule $\\sum_{k=0}^n f(x_k)\\omega_k$. In the subsequent cell, use this function to check that the proposed nodes and weights give a quadrature rule which approximates $\\int_{0}^{\\pi}$ reasonably well, by choosing simple functions $f$ for which you can compute the integral by hand."
   ]
  },
  {
   "cell_type": "code",
   "execution_count": 4,
   "metadata": {
    "pycharm": {
     "name": "#%%\n"
    }
   },
   "outputs": [],
   "source": [
    "def QuadRule(f, x, w):\n",
    "    \"\"\"\n",
    "    Approximate integral using a quadrature rule\n",
    "    -----------------------------------------\n",
    "    Inputs :\n",
    "    f: function to be integrated\n",
    "    x: 1D array containing the nodes [x_0,...,x_n]\n",
    "    w: 1D array containing the weights [w_0,...,w_n]\n",
    "    \n",
    "    Output\n",
    "    the value of f(x_0)*w_0 + ... + f(x_n)*w_n\n",
    "    \"\"\"\n",
    "    return np.sum(f(x)*w)"
   ]
  },
  {
   "cell_type": "code",
   "execution_count": 5,
   "metadata": {
    "pycharm": {
     "name": "#%%\n"
    }
   },
   "outputs": [
    {
     "name": "stdout",
     "output_type": "stream",
     "text": [
      "For the function f(x) = sin(x), the integral is equal to 2, and the quadrature rule gives 2.00139\n",
      "For the function f(x) = exp(x), the integral is equal to exp(pi)-1 = 22.14069, and the quadrature rule gives 22.13292\n"
     ]
    }
   ],
   "source": [
    "# Some given nodes and weights for a quadrature formula approximating the integral between 0 and pi\n",
    "x = np.array([0.354062724002813, 1.570796326794897, 2.787529929586980])\n",
    "w = np.array([0.872664625997165, 1.396263401595464, 0.872664625997165])\n",
    "\n",
    "def ftest1(x):\n",
    "    return np.sin(x)\n",
    "\n",
    "I_f1 = QuadRule(ftest1, x, w)\n",
    "print(\"For the function f(x) = sin(x), the integral is equal to 2, and the quadrature rule gives %.5f\" % I_f1)\n",
    "\n",
    "def ftest2(x):\n",
    "    return np.exp(x)\n",
    "\n",
    "I_f2 = QuadRule(ftest2, x, w)\n",
    "I_2 = np.exp(np.pi) - 1\n",
    "print(\"For the function f(x) = exp(x), the integral is equal to exp(pi)-1 = %.5f,\" % I_2, \"and the quadrature rule gives %.5f\" % I_f2)"
   ]
  },
  {
   "cell_type": "markdown",
   "metadata": {
    "pycharm": {
     "name": "#%% md\n"
    }
   },
   "source": [
    "<div markdown=1 class='Rmk'>\n",
    "\n",
    "Note that through the change of variable $t = a + \\frac{x+1}{2}(b-a)$, an integral on $[a,b]$ can always be transformed into an integral on $[-1,1]$, and vice versa:\n",
    "\n",
    "$$\\int_a^bf(t)dt=\\frac{b-a}{2}\\int_{-1}^1 f\\left(a + \\frac{x+1}{2}(b-a)\\right)dx.$$\n",
    "\n",
    "Therefore, we can simply focus on quadrature rules on $[-1,1]$. Indeed, starting from a given quadrature rule on $[-1,1]$\n",
    "\n",
    "$$\n",
    "\\int_{-1}^{1} f(x)dx \\approx I^n_{[-1,1]}(f) = \\sum_{k=0}^n f(x_k)\\omega_k,\n",
    "$$\n",
    "\n",
    "the same change of variable yields\n",
    "\n",
    "$$\n",
    "\\int_a^bf(x)dx \\approx I^n_{[a,b]}(f) = \\frac{b-a}{2}\\sum_{k=0}^n \\omega_k\\, f\\left(a + \\frac{x_k+1}{2}(b-a)\\right) = \\sum_{k=0}^n f(\\tilde x_k) \\tilde \\omega_k,$$\n",
    "\n",
    "where\n",
    "\n",
    "$$\n",
    "\\tilde x_k = a + \\frac{x_k+1}{2}(b-a) \\qquad{}\\text{and}\\qquad{} \\tilde \\omega_k = \\frac{b-a}{2} \\omega_k.\n",
    "$$"
   ]
  },
  {
   "cell_type": "markdown",
   "metadata": {
    "pycharm": {
     "name": "#%% md\n"
    }
   },
   "source": [
    "The question which now arises is: how to chose the nodes and the weights to get a quadrature rule which approximates the integral well?"
   ]
  },
  {
   "cell_type": "markdown",
   "metadata": {
    "pycharm": {
     "name": "#%% md\n"
    }
   },
   "source": [
    "A natural way of approximating integrals is to replace $f$ by an approximation whose integral is easier to compute. Since the integral of polynomials is easy to compute, one can think of replacing $f$ by its Lagrange interpolation polynomial $P_n(f)$.\n",
    "\n",
    "Consider $f: [-1,1]\\to \\mathbb{R}$ and $n+1$ interpolation nodes $(x_k)_{k=0..n}$ in $[-1,1]$. We recall that the interpolation polynomial $P_n(f)$ can be written\n",
    "\n",
    "$$\n",
    "P_n(f)(x) = \\sum_{k=0}^n  f(x_k) L_k(x),\n",
    "$$\n",
    "\n",
    "where $(L_k)_{k=0..n}$ is the basis of elementary Lagrange polynomials given by \n",
    "\n",
    "$$ L_k(x) = \\prod_{i \\neq k}\\frac{x - x_i}{x_k - x_i}, \\quad{} 0 \\leq k \\leq n.$$\n",
    "\n",
    "Then, the integral of $f$ on $[-1,1]$ can be approximated by\n",
    "\n",
    "$$\\int_{-1}^1 P_n(f)(x)dx = \\int_{-1}^1 \\sum_{k=0}^n  f(x_k) L_k(x) dx = \\sum_{k=0}^n  \\left(\\int_{-1}^1 L_k(x) dx \\right)f(x_k) .$$\n",
    "\n",
    "Taking\n",
    "\n",
    "$$\n",
    "\\omega_k = \\int_{-1}^1 L_k(x) dx,\n",
    "$$\n",
    "\n",
    "the approximation of $f$ by $P_n(f)$ therefore yields a quadrature rule\n",
    "\n",
    "$$\n",
    "I^n_{[-1,1]}(f) = \\int_{-1}^1 P_n(f)(x) dx = \\sum_{k=0}^{n}\\omega_k\\,f(x_k),\n",
    "$$\n",
    "\n",
    "which can be used to approximate $\\int_{-1}^1 f(x) dx$.\n",
    "\n",
    "\n"
   ]
  },
  {
   "cell_type": "markdown",
   "metadata": {
    "pycharm": {
     "name": "#%% md\n"
    }
   },
   "source": [
    "<div  markdown=1 class=\"Def\"> \n",
    "\n",
    "Consider $n+1$ interpolation nodes $(x_k)_{k=0..n}$ in $[-1,1]$. The quadrature rule $I^n_{[-1,1]}$ defined by\n",
    "\n",
    "\n",
    "$$\n",
    "I^n_{[-1,1]}(f) = \\sum_{k=0}^{n}\\omega_k\\,f(x_k), \\qquad{} \\omega_k = \\int_{-1}^1 L_k(x) dx,\n",
    "$$\n",
    "\n",
    "is called the **quadrature rule based on Lagrange interpolation** (associated to the nodes $(x_k)_{k=0..n}$)."
   ]
  },
  {
   "cell_type": "markdown",
   "metadata": {
    "pycharm": {
     "name": "#%% md\n"
    }
   },
   "source": [
    "We are going to study specific examples of quadrature rules obtained this way in a moment, but let us first discuss some general properties."
   ]
  },
  {
   "cell_type": "markdown",
   "metadata": {
    "pycharm": {
     "name": "#%% md\n"
    }
   },
   "source": [
    "### First error estimates for quadrature rules based on Lagrange interpolation"
   ]
  },
  {
   "cell_type": "markdown",
   "metadata": {
    "pycharm": {
     "name": "#%% md\n"
    }
   },
   "source": [
    "<div  markdown=1 class=\"Thm\"> \n",
    "\n",
    "Consider $f: [-1,1]\\to \\mathbb{R}$, and for all $n\\in\\mathbb{N}$, $n+1$ interpolation nodes $(x_k)_{k=0..n}$ in $[-1,1]$ together with the quadrature rule $I^n_{[-1,1]}$ based on Lagrange interpolation for those nodes. If the interpolation polynomial $P_n(f)$ converges uniformly to $f$ on $[-1,1]$, i.e. if\n",
    "\n",
    "$$\n",
    "\\sup_{x\\in[-1,1]} |f(x) - P_n(f)(x)| \\rightarrow 0 \\quad{} \\text{when} \\quad{} n\\rightarrow \\infty,\n",
    "$$\n",
    "\n",
    "then\n",
    "\n",
    "$$I^n_{[-1,1]} (f) \\rightarrow  \\int_{-1}^1 f(x) dx  \\quad{} \\text{when} \\quad{} n\\rightarrow \\infty.\n",
    "$$ "
   ]
  },
  {
   "cell_type": "markdown",
   "metadata": {
    "pycharm": {
     "name": "#%% md\n"
    }
   },
   "source": [
    "<div  markdown=1 class=\"DoIt\"> Prove the previous theorem."
   ]
  },
  {
   "cell_type": "markdown",
   "metadata": {
    "pycharm": {
     "name": "#%% md\n"
    }
   },
   "source": [
    ">**Proof.** "
   ]
  },
  {
   "cell_type": "markdown",
   "metadata": {
    "pycharm": {
     "name": "#%% md\n"
    }
   },
   "source": [
    "If we want to study the error for a given value of $n$, we can use the error estimates that we obtained in the previous chapter on $P_n(f)$."
   ]
  },
  {
   "cell_type": "markdown",
   "metadata": {
    "pycharm": {
     "name": "#%% md\n"
    }
   },
   "source": [
    "<div  markdown=1 class=\"Thm\"> \n",
    "\n",
    "Let $f : [-1,1] \\to \\mathbb{R}$ be $n+1$ times differentiable, and $x_0,\\ldots,x_n$ be $n+1$ distinct interpolations nodes in $[-1,1]$. Consider the quadrature rule $I^n_{[-1,1]}$ based on Lagrange interpolation. Then\n",
    "\n",
    "$$\\left\\vert  \\int_{-1}^1 f(x) dx - I^n_{[-1,1]} (f) \\right\\vert  \\leq  \\frac{2\\sup_{x\\in [-1,1]} \\left\\vert \\Pi_{x_0,\\ldots,x_n}(x) \\right\\vert }{(n+1)!} \\sup_{x\\in [-1,1]} \\left\\vert f^{(n+1)}(x) \\right\\vert, \n",
    "$$ \n",
    "\n",
    "where\n",
    "\n",
    "$$\n",
    "\\Pi_{x_0,\\ldots,x_n}(x) = (x-x_0)(x-x_1)\\cdots(x-x_n).\n",
    "$$"
   ]
  },
  {
   "cell_type": "markdown",
   "metadata": {
    "pycharm": {
     "name": "#%% md\n"
    }
   },
   "source": [
    ">**Proof.** We start again by writing\n",
    ">\n",
    ">\\begin{align}\n",
    "\\left\\vert \\int_{-1}^1 f(x) dx  -  I^n_{[-1,1]} (f) \\right\\vert &= \\left\\vert \\int_{-1}^1 f(x) dx  - \\int_{-1}^1 P_n(f)(x) dx  \\right\\vert \\\\\n",
    "&\\leq  \\int_{-1}^1 \\left\\vert f(x) - P_n(f)(x)\\right\\vert dx,\n",
    "\\end{align}\n",
    ">\n",
    ">and then use that (see the previous chapter)\n",
    ">\n",
    ">$$ \\left\\vert f(x) - P_n(f)(x) \\right\\vert \\leq \\frac{\\sup_{x\\in [-1,1]} \\left\\vert \\Pi_{x_0,\\ldots,x_n}(x) \\right\\vert }{(n+1)!} \\sup_{x\\in [-1,1]} \\left\\vert f^{(n+1)}(x) \\right\\vert,\n",
    "$$\n",
    ">\n",
    ">which yields\n",
    ">\n",
    ">>\\begin{align}\n",
    "\\left\\vert \\int_{-1}^1 f(x) dx  -  I^n_{[-1,1]} (f) \\right\\vert &\\leq  \\frac{\\sup_{x\\in [-1,1]} \\left\\vert \\Pi_{x_0,\\ldots,x_n}(x) \\right\\vert }{(n+1)!} \\sup_{x\\in [-1,1]} \\left\\vert f^{(n+1)}(x) \\right\\vert \\int_{-1}^1 1dx \\\\\n",
    "&= \\frac{2\\sup_{x\\in [-1,1]} \\left\\vert \\Pi_{x_0,\\ldots,x_n}(x) \\right\\vert }{(n+1)!} \\sup_{x\\in [-1,1]} \\left\\vert f^{(n+1)}(x) \\right\\vert.\n",
    "\\end{align}"
   ]
  },
  {
   "cell_type": "markdown",
   "metadata": {
    "pycharm": {
     "name": "#%% md\n"
    }
   },
   "source": [
    "<div  markdown=1 class=\"Rmk\">\n",
    "\n",
    "If we consider a general interval $[a,b]$, and the corresponding quadrature rule $I^n_{[a,b]}$, this error estimate writes\n",
    "\n",
    "$$\\left\\vert  \\int_{a}^b f(x) dx - I^n_{[a,b]} (f) \\right\\vert  \\leq \\left(\\frac{b-a}{2}\\right)^{n+2} \\, \\frac{2\\sup_{x\\in [-1,1]} \\left\\vert \\Pi_{x_0,\\ldots, x_n}(x) \\right\\vert }{(n+1)!} \\sup_{x\\in [a,b]} \\left\\vert f^{(n+1)}(x) \\right\\vert.\n",
    "$$ "
   ]
  },
  {
   "cell_type": "markdown",
   "metadata": {
    "pycharm": {
     "name": "#%% md\n"
    }
   },
   "source": [
    "### Degree of accuracy"
   ]
  },
  {
   "cell_type": "markdown",
   "metadata": {
    "pycharm": {
     "name": "#%% md\n"
    }
   },
   "source": [
    "Another notion that can be helpful in measuring the *quality* of a quadrature rule is the **degree of accuracy**."
   ]
  },
  {
   "cell_type": "markdown",
   "metadata": {
    "pycharm": {
     "name": "#%% md\n"
    }
   },
   "source": [
    "<div  markdown=1 class=\"Def\"> \n",
    "\n",
    "\n",
    "\n",
    "Consider any quadrature rule\n",
    "\n",
    "$$\n",
    "I^n_{[-1,1]} (f) = \\sum_{k=0}^n f(x_k) \\omega_k.\n",
    "$$\n",
    "\n",
    "If this quadrature rule is **exact** for all polynomials of degree $n_a$ or less, i.e.\n",
    "\n",
    "$$\n",
    "I^n_{[-1,1]} (Q) = \\int_{-1}^1 Q(x) dx \\quad{} \\text{for all polynomial }Q\\text{ of degree }n_a\\text{ or less},\n",
    "$$\n",
    "\n",
    "then the quadrature rule is said to have a **degree of accuracy of at least $n_a$**. If there also exists a polynomial of degree $n_a+1$ for which the quadrature rule is not exact, i.e.\n",
    "\n",
    "$$\n",
    "I^n_{[-1,1]} (Q) \\neq \\int_{-1}^1 Q(x) dx \\quad{} \\text{for a polynomial }Q\\text{ of degree }n_a+1,\n",
    "$$\n",
    "\n",
    "then the **degree of accuracy is equal to $n_a$**."
   ]
  },
  {
   "cell_type": "markdown",
   "metadata": {
    "pycharm": {
     "name": "#%% md\n"
    }
   },
   "source": [
    "<div  markdown=1 class=\"Prop\"> \n",
    "\n",
    "Consider $n+1$ interpolation nodes $x_0,\\ldots,x_n$ in $[-1,1]$.\n",
    "\n",
    "- The associated quadrature rule $I^n_{[-1,1]}$ based on Lagrange interpolation has a degree of accuracy of at least $n$.\n",
    "\n",
    "- Reciprocally, if a quadrature rule with $n+1$ nodes $I^n_{[-1,1]} (f) = \\sum_{k=0}^n f(x_k) \\omega_k$ has a degree of accuracy of at least $n$, then it must be the quadrature rule based on Lagrange interpolation."
   ]
  },
  {
   "cell_type": "markdown",
   "metadata": {
    "pycharm": {
     "name": "#%% md\n"
    }
   },
   "source": [
    "> **Proof.** \n",
    ">- For any polynomial $Q$ of degree $n$ or less, one has $P_n(Q)=Q$ by uniqueness of the Lagrange interpolation polynomial. Therefore, if we consider the quadrature rule based on Lagrange interpolation, for any such polynomial $Q$ we have\n",
    ">$$\n",
    "I^n_{[-1,1]}(Q) = \\int_{-1}^1 P_n(Q)(x) dx = \\int_{-1}^1 Q(x) dx,\n",
    "$$\n",
    "> and the quadrature rule has indeed a degree of accuracy of at least $n$.\n",
    ">- Reciprocally, let us consider a quadrature rule $I^n_{[-1,1]} (f) = \\sum_{k=0}^n f(x_k) \\omega_k$ having a degree of accuracy of at least $n$. The Lagrange elementary polynomials\n",
    ">$ $\n",
    ">$$ L_j(x) = \\prod_{i \\neq j}\\frac{x - x_i}{x_j - x_i}$$\n",
    ">$ $\n",
    ">are of degree $n$, therefore the quadrature rule is exact for them:\n",
    ">$ $\n",
    ">$$\n",
    "I^n_{[-1,1]} (L_j) = \\sum_{k=0}^n L_j(x_k) \\omega_k = \\int_{-1}^1 L_j(x) dx.\n",
    "$$\n",
    "> However, for each elementary Lagrange polynomial we have\n",
    "$$\n",
    "L_j(x_k) = \n",
    "\\left\\{\n",
    "\\begin{aligned}\n",
    "&1 \\quad{} & j=k, \\\\\n",
    "&0 \\quad{} & j\\neq k,\\\\\n",
    "\\end{aligned}\n",
    "\\right.\n",
    "$$\n",
    "> therefore we get \n",
    ">$$\n",
    "\\omega_j = \\int_{-1}^1 L_j(x) dx,\n",
    "$$\n",
    "which are the weights of the quadrature rule based on Lagrange interpolation."
   ]
  },
  {
   "cell_type": "markdown",
   "metadata": {
    "pycharm": {
     "name": "#%% md\n"
    }
   },
   "source": [
    "The degree of accuracy allows us to get another error estimate for quadrature rules."
   ]
  },
  {
   "cell_type": "markdown",
   "metadata": {
    "pycharm": {
     "name": "#%% md\n"
    }
   },
   "source": [
    "<div  markdown=1 class=\"Thm\"> \n",
    "\n",
    "Let $I^n_{[-1,1]}$ be an elementary quadrature rule on $[-1,1]$, written as\n",
    "\n",
    "$$\n",
    "I^n_{[-1,1]}(f) = \\sum_{k=0}^n \\omega_k f(x_k),\n",
    "$$\n",
    "\n",
    "and having a degree of accuracy of at least $n_a$. Then, for any function $f\\in \\mathcal{C}^{n_a+1}([-1,1])$, we have\n",
    "\n",
    "$$\n",
    "\\left\\vert \\int_{-1}^{1} f(x)dx - I^n_{[-1,1]}(f)\\,\\right\\vert \\leq \\frac{2+\\sum_{k=0}^n |\\omega_k| }{(n_a+1)!}\\sup_{x\\in [-1,1]} \\left\\vert \\,f^{(n_a+1)}(x)\\,\\right\\vert.\n",
    "$$"
   ]
  },
  {
   "cell_type": "markdown",
   "metadata": {
    "pycharm": {
     "name": "#%% md\n"
    }
   },
   "source": [
    ">**Proof.** The main idea is to approach $f$ by its Taylor expansion of degree $n_a$, for which the quadrature rule is exact. Introducing\n",
    ">\n",
    ">$$\n",
    "Q_{n_a}(x) = f(0) + f'(0)x + \\ldots + \\frac{f^{(n_a)}(0)}{n_a !}x^{n_a},\n",
    "$$\n",
    ">\n",
    ">Taylor-Lagrange formula yields\n",
    ">\n",
    ">$$\n",
    "\\forall x\\in [-1,1],\\quad{} \\left\\vert  f(x) - Q_{n_a}(x)\\right\\vert \\leq \\frac{1}{(n_a+1)!} \\sup_{x\\in[-1,1]}\\left\\vert \\,f^{(n_a+1)}(x)\\,\\right\\vert.\n",
    "$$\n",
    ">\n",
    ">Moreover, since $Q_{n_a}$ is a polynomial of degree at most $n_a$, $\\int_{-1}^1 Q_{n_a}(x)dx = I^n_{[-1,1]}(Q_{n_a})$, which means we have\n",
    ">\n",
    ">\\begin{align}\n",
    "\\left\\vert \\int_{-1}^1 f(x)dx - I^n_{[-1,1]}(f)\\,\\right\\vert &= \\left\\vert \\int_{-1}^1 \\left(f(x) - Q_{n_a}(x) \\right)dx - I^n_{[-1,1]}(f - Q_{n_a})\\,\\right\\vert \\\\\n",
    "&\\leq \\int_{-1}^1 \\left\\vert f(x) - Q_{n_a}(x) \\right\\vert dx + \\sum_{k=0}^n \\vert \\omega_k\\vert \\left\\vert f(x_k)-Q_{n_a}(x_k)\\right\\vert \\\\\n",
    "&\\leq \\left(2 + \\sum_{k=0}^n |\\omega_k| \\right) \\sup_{x\\in[-1,1]} \\left\\vert f(x) - Q_{n_a}(x) \\right\\vert\\\\\n",
    "&\\leq \\frac{2 + \\sum_{k=0}^n \\vert\\omega_k\\vert }{(n_a+1)!}  \\sup_{x\\in[-1,1]}\\left\\vert\\,f^{(n_a+1)}(x)\\,\\right\\vert.\n",
    "\\end{align}"
   ]
  },
  {
   "cell_type": "markdown",
   "metadata": {
    "pycharm": {
     "name": "#%% md\n"
    }
   },
   "source": [
    "<div  markdown=1 class=\"Rmk\">\n",
    "\n",
    "- As soon as the quadrature rule has a degree of accuracy of at least $0$, we have\n",
    "$$\n",
    "I^n_{[-1,1]}(1) = \\sum_{k=0}^n \\omega_k = \\int_{-1}^1 1 dx = 2.\n",
    "$$\n",
    "In principle, we would like all the weights $\\omega_k$ to be nonnegative. Otherwise, $I^n_{[-1,1]}(f)$ could be negative for a nonnegative function $f$. The above estimate also suggests that it could be beneficial for all the weights to be nonnegative. Indeed, the term $\\sum_{k=0}^n \\vert\\omega_k\\vert$ would then simply be equal to 2, whereas having some negative weights could lead to $\\sum_{k=0}^n \\vert\\omega_k\\vert$ being much larger.\n",
    "\n",
    "- If we consider a general interval $[a,b]$, and the corresponding quadrature rule $I^n_{[a,b]}$, the error estimate based on the degree of accuracy writes\n",
    "$$\n",
    "\\left\\vert \\int_{a}^{b} f(x)dx - I^n_{[a,b]}(f)\\,\\right\\vert \\leq \\left(\\frac{b-a}{2}\\right)^{n_a+2}\\, \\frac{2+\\sum_{k=0}^n |\\omega_k|}{(n_a+1)!} \\sup_{x\\in [a,b]} \\left\\vert \\,f^{(n_a+1)}(x)\\,\\right\\vert.\n",
    "$$\n",
    "Notice that the main difference compared to the previous estimate we obtained using the error for Lagrange interpolation is the scaling with respect to the length $b-a$ of the interval. Here we have $(b-a)^{n_a+2}$, instead of $(b-a)^{n+2}$ for the other estimate."
   ]
  },
  {
   "cell_type": "markdown",
   "metadata": {
    "pycharm": {
     "name": "#%% md\n"
    }
   },
   "source": [
    "### Newton-Cotes quadrature rules"
   ]
  },
  {
   "cell_type": "markdown",
   "metadata": {
    "pycharm": {
     "name": "#%% md\n"
    }
   },
   "source": [
    "<table>\n",
    "        <tr>\n",
    "            <td><img src=\"figures/Newton.jpg\" alt=\"Newton\" style=\"width: 230px;\" /></td>\n",
    "            <td><img src=\"figures/Cotes.jpeg\" alt=\"Cotes\" style=\"width: 190px;\" /></td>\n",
    "        </tr>\n",
    "</table>\n",
    "\n",
    ">**Isaac Newton (1643 – 1727) and Roger Cotes (1682 - 1716).**\n",
    "> English mathematician, astronomer, theologian, author and physicist, Isaac Newton made breaking contributions to classical mechanics, optic and also contributed to infinitesimal calculus. Roger Cotes is an English mathematician known for closely working with Isaac Newton with whom he shares the discovery of the Newton-Cotes quadrature formulas for approximating integrals. This method extends the older rectangular and trapezoidal rules and is based on Lagrange polynomial interpolation on equidistant nodes."
   ]
  },
  {
   "cell_type": "markdown",
   "metadata": {
    "pycharm": {
     "name": "#%% md\n"
    }
   },
   "source": [
    "<div markdown=1 class=\"Def\"> \n",
    "\n",
    "The **Newton-Cotes quadrature rules** are the quadrature rules based on Lagrange interpolation with equidistant points."
   ]
  },
  {
   "cell_type": "markdown",
   "metadata": {
    "pycharm": {
     "name": "#%% md\n"
    }
   },
   "source": [
    "#### First examples and geometrical interpretation"
   ]
  },
  {
   "cell_type": "markdown",
   "metadata": {
    "pycharm": {
     "name": "#%% md\n"
    }
   },
   "source": [
    "- **Left rectangle rule**\n",
    "\n",
    "The very first method that can be designed uses 1 point. In that case, the unique node can be freely chosen. For example, it can be set to the left bound of the interval, giving $n=0$, $x_0=-1$ and $P_0(x)=f(x_0)$. The corresponding approximation of the integral is\n",
    "\n",
    "$$\n",
    "\\int_{-1}^1f(x)dx \\approx \\int_{-1}^1 P_0(x)dx = 2 f(x_0),\n",
    "$$\n",
    "\n",
    "and the elementary rule is described by\n",
    "\\begin{array}{c|c}\n",
    "x_k & -1 \\\\ \\hline\n",
    "\\omega_k& 2\n",
    "\\end{array}\n",
    "\n",
    "This method is called the **left rectangle rule** since it approximate the integral of $f$ by the area of the rectangle based on the point $(x_0,f(x_0))$:\n",
    "\n",
    "<img src=\"./figures/RectL_Elem.png\" alt=\"RectL Elem\" style=\"height: 300px;\"/>"
   ]
  },
  {
   "cell_type": "markdown",
   "metadata": {
    "pycharm": {
     "name": "#%% md\n"
    }
   },
   "source": [
    "- **Mid-point rule**\n",
    "\n",
    "For $n=0$, another choice for the node could be the middle of the interval: $x_0=0$, leading to the rule\n",
    "\n",
    "\\begin{array}{c|c}\n",
    "x_k & 0 \\\\ \\hline\n",
    "\\omega_k& 2\n",
    "\\end{array}\n",
    "\n",
    "<img src=\"./figures/MP_Elem.png\" alt=\"MP Elem\" style=\"height: 300px;\"/>"
   ]
  },
  {
   "cell_type": "markdown",
   "metadata": {
    "pycharm": {
     "name": "#%% md\n"
    }
   },
   "source": [
    "- **Trapezoidal rule**\n",
    "\n",
    "For $n=1$, the choice of equidistant nodes leads to $x_0=-1$ and $x_1=1$. The corresponding Lagrange interpolation polynomial is then given by\n",
    "\n",
    "\\begin{align}\n",
    "P_1(f)(x) &= f(x_0)\\frac{x-x_1}{x_0-x_1}+f(x_1)\\frac{x-x_0}{x_1-x_0}.\n",
    "\\end{align}\n",
    "\n",
    "<img src=\"./figures/Trap_Elem.png\" alt=\"Trap Elem\" style=\"height: 300px;\"/>"
   ]
  },
  {
   "cell_type": "markdown",
   "metadata": {
    "pycharm": {
     "name": "#%% md\n"
    }
   },
   "source": [
    "<div markdown=1 class=\"DoIt\">\n",
    "\n",
    "Compute the weights associated to this quadrature rule, and complete the table just below."
   ]
  },
  {
   "cell_type": "markdown",
   "metadata": {
    "pycharm": {
     "name": "#%% md\n"
    }
   },
   "source": [
    "<div markdown=1 class=\"Answer\">"
   ]
  },
  {
   "cell_type": "markdown",
   "metadata": {
    "pycharm": {
     "name": "#%% md\n"
    }
   },
   "source": [
    "This quadrature rule is thus described by\n",
    "\\begin{array}{c|cc}\n",
    "x_k & -1 & 1 \\\\ \\hline\n",
    "\\omega_k& 1 & 1\n",
    "\\end{array}"
   ]
  },
  {
   "cell_type": "markdown",
   "metadata": {
    "pycharm": {
     "name": "#%% md\n"
    }
   },
   "source": [
    "- **Simpson's rule**\n",
    "\n",
    "For $n=2$, the choice of equidistant nodes leads to $x_0=-1$, $x_1=0$ and $x_2=1$. The corresponding Lagrange interpolation polynomial is then given by\n",
    "\n",
    "$$\n",
    "P_2(f)(x)=f(x_0)\\frac{(x-x_1)(x-x_2)}{(x_0-x_1)(x_0-x_2)}+f(x_1)\\frac{(x-x_0)(x-x_2)}{(x_1-x_0)(x_1-x_2)}+f(x_2)\\frac{(x-x_0)(x-x_1)}{(x_2-x_0)(x_2-x_1)},\n",
    "$$\n",
    "\n",
    "and the corresponding approximation is\n",
    "\n",
    "$$\n",
    "\\int_{-1}^1f(x)dx \\approx \\int_{-1}^1 P_2(f)(x)dx = \\frac{1}{3}f(-1) + \\frac{4}{3}f(0)+ \\frac{1}{3}f(1).\n",
    "$$\n",
    "\n",
    "This quadrature rule is thus described by\n",
    "\\begin{array}{c|cc}\n",
    "x_k & -1 & 0 & 1 \\\\ \\hline\n",
    "\\omega_k& \\frac{1}{3} & \\frac{4}{3} & \\frac{1}{3}\n",
    "\\end{array}\n",
    "\n",
    "<img src=\"./figures/Simpson_Elem.png\" alt=\"Simpson Elem\" style=\"height: 300px;\"/>"
   ]
  },
  {
   "cell_type": "markdown",
   "metadata": {
    "pycharm": {
     "name": "#%% md\n"
    }
   },
   "source": [
    "<div markdown=1 class='DoIt'>\n",
    "\n",
    "Fill the following cell to create the arrays $x$ and $w$ associated to each of the above-mentioned elementary quadrature rules."
   ]
  },
  {
   "cell_type": "code",
   "execution_count": 6,
   "metadata": {
    "pycharm": {
     "name": "#%%\n"
    }
   },
   "outputs": [],
   "source": [
    "# Left rectangle rule\n",
    "x_LR = np.array([-1])\n",
    "w_LR = np.array([2])\n",
    "\n",
    "# Mid-point rule\n",
    "x_MP = np.zeros(1)\n",
    "w_MP = np.array([2])\n",
    "\n",
    "# Trapezoidal rule\n",
    "x_T = np.array([-1,1])\n",
    "w_T = np.array([1,1])\n",
    "\n",
    "# Simpson's rule\n",
    "x_S = np.array([-1,0,1])\n",
    "w_S = np.array([1/3,4/3,1/3])"
   ]
  },
  {
   "cell_type": "markdown",
   "metadata": {
    "pycharm": {
     "name": "#%% md\n"
    }
   },
   "source": [
    "#### Degree of accuracy"
   ]
  },
  {
   "cell_type": "markdown",
   "metadata": {
    "pycharm": {
     "name": "#%% md\n"
    }
   },
   "source": [
    "<div markdown=1 class='DoIt'>\n",
    "\n",
    "Using the two cells below, give the degree of accuracy of each of the quadrature rules. How does this degree of accuracy compare to the degree $n$ of the interpolation polynomial on which the rule is based (or equivalently, to the number $n+1$ of nodes used)?"
   ]
  },
  {
   "cell_type": "code",
   "execution_count": 7,
   "metadata": {
    "pycharm": {
     "name": "#%%\n"
    }
   },
   "outputs": [],
   "source": [
    "def test_exactness(x, w, deg_max):\n",
    "    \"\"\"\n",
    "    Numerically checks up to which degree a give quadrature rule on [-1,1] is exact\n",
    "    -----------------------------------------------------\n",
    "    Inputs :\n",
    "    x, w: 1D array representing the quadrature rule (x=nodes and w=weights)\n",
    "    deg_max : maximal degree to be checked\n",
    "    \n",
    "    Output :\n",
    "    comparison between int_{-1}^1 x^k and the quadrature rule applied to x^k, for k=0,...,deg_max\n",
    "    \"\"\"\n",
    "    for k in np.arange(0, deg_max+1):\n",
    "        theoretical_k = (1-(-1)**(k+1))/(k+1) # the exact value of int_{-1}^1 x^k\n",
    "        quad_k = QuadRule(lambda t: t**k, x, w) # the approximate value of int_{-1}^1 x^k given by the quadrature rule\n",
    "        print('int[-1,1] x^',k,' : exact value (4 digits) = ',\"{:.4f}\".format(theoretical_k), ', quadrature (4 digits) = ',\"{:.4f}\".format(quad_k),sep='')    \n",
    "    return"
   ]
  },
  {
   "cell_type": "code",
   "execution_count": 8,
   "metadata": {
    "pycharm": {
     "name": "#%%\n"
    }
   },
   "outputs": [
    {
     "name": "stdout",
     "output_type": "stream",
     "text": [
      "Left rectanlge rule:\n",
      "int[-1,1] x^0 : exact value (4 digits) = 2.0000, quadrature (4 digits) = 2.0000\n",
      "int[-1,1] x^1 : exact value (4 digits) = 0.0000, quadrature (4 digits) = -2.0000\n",
      "\n",
      "Mid-point rule:\n",
      "int[-1,1] x^0 : exact value (4 digits) = 2.0000, quadrature (4 digits) = 2.0000\n",
      "int[-1,1] x^1 : exact value (4 digits) = 0.0000, quadrature (4 digits) = 0.0000\n",
      "int[-1,1] x^2 : exact value (4 digits) = 0.6667, quadrature (4 digits) = 0.0000\n",
      "\n",
      "Trapeziodal rule:\n",
      "int[-1,1] x^0 : exact value (4 digits) = 2.0000, quadrature (4 digits) = 2.0000\n",
      "int[-1,1] x^1 : exact value (4 digits) = 0.0000, quadrature (4 digits) = 0.0000\n",
      "int[-1,1] x^2 : exact value (4 digits) = 0.6667, quadrature (4 digits) = 2.0000\n",
      "\n",
      "Simpson's rule:\n",
      "int[-1,1] x^0 : exact value (4 digits) = 2.0000, quadrature (4 digits) = 2.0000\n",
      "int[-1,1] x^1 : exact value (4 digits) = 0.0000, quadrature (4 digits) = 0.0000\n",
      "int[-1,1] x^2 : exact value (4 digits) = 0.6667, quadrature (4 digits) = 0.6667\n",
      "int[-1,1] x^3 : exact value (4 digits) = 0.0000, quadrature (4 digits) = 0.0000\n",
      "int[-1,1] x^4 : exact value (4 digits) = 0.4000, quadrature (4 digits) = 0.6667\n"
     ]
    }
   ],
   "source": [
    "print('Left rectanlge rule:')\n",
    "test_exactness(x_LR, w_LR, 1)\n",
    "\n",
    "print('\\nMid-point rule:')\n",
    "test_exactness(x_MP, w_MP, 2)\n",
    "\n",
    "print('\\nTrapeziodal rule:')\n",
    "test_exactness(x_T, w_T, 2)\n",
    "\n",
    "print(\"\\nSimpson's rule:\")\n",
    "test_exactness(x_S, w_S, 4)"
   ]
  },
  {
   "cell_type": "markdown",
   "metadata": {
    "pycharm": {
     "name": "#%% md\n"
    }
   },
   "source": [
    "<div markdown=1 class='Answer'>"
   ]
  },
  {
   "cell_type": "markdown",
   "metadata": {
    "pycharm": {
     "name": "#%% md\n"
    }
   },
   "source": [
    "The appearance of this extra degree of accuracy in some cases is explained by the following proposition."
   ]
  },
  {
   "cell_type": "markdown",
   "metadata": {
    "pycharm": {
     "name": "#%% md\n"
    }
   },
   "source": [
    "<div  markdown=1 class=\"Prop\"> \n",
    "\n",
    "Consider $n+1$ interpolation nodes $x_0<\\ldots<x_n$ in $[-1,1]$, and the associated quadrature rule $I^n_{[-1,1]}$ based on Lagrange interpolation (which we already know has a degree of accuracy of at least $n$). If $n$ is even, and the nodes are symmetric with respect to $0$, then the rule has a degree of accuracy of at least $n+1$."
   ]
  },
  {
   "cell_type": "markdown",
   "metadata": {
    "pycharm": {
     "name": "#%% md\n"
    }
   },
   "source": [
    ">**Proof. $[\\star]$** We already know that the rule has a degree of accuracy of at least $n$, therefore it suffices to prove that \n",
    ">\n",
    ">$$I^n_{[-1,1]}\\left( x^{n+1}\\right) = \\int_{-1}^1 x^{n+1} dx .$$\n",
    ">\n",
    ">The integral is equal to $0$ because $n+1$ is odd, and therefore we have to prove that \n",
    ">\n",
    ">$$ I^n_{[-1,1]}\\left( x^{n+1}\\right) = \\sum_{k=0}^n \\omega_k (x_k)^{n+1} = 0. $$\n",
    ">\n",
    "> Since $n$ is even, we can write $n=2m$ and split the sum\n",
    ">\n",
    ">\\begin{align}\n",
    "I^n_{[-1,1]}\\left( x^{n+1}\\right) &= \\sum_{k=0}^{m-1} \\omega_k (x_k)^{n+1} + \\omega_m (x_m)^{n+1} + \\sum_{k=m+1}^{n} \\omega_k (x_k)^{n+1} \\\\\n",
    "&= \\omega_m (x_m)^{n+1} + \\sum_{k=0}^{m-1} \\left(\\omega_k (x_k)^{n+1} +   \\omega_{n-k} (x_{n-k})^{n+1} \\right) .\n",
    "\\end{align}\n",
    ">\n",
    "> By assumption, the nodes are symmetric with respect to $0$, meaning that $x_k = - x_{n-k}$ for $k=0,\\ldots,m-1$ and $x_m=0$, therefore\n",
    ">\n",
    ">\\begin{align}\n",
    "I^n_{[-1,1]}\\left( x^{n+1}\\right) = \\sum_{k=0}^{m-1} \\left(\\omega_k - \\omega_{n-k} \\right)(x_{n-k})^{n+1}  .\n",
    "\\end{align}\n",
    ">\n",
    "> Besides, still using the symmetry assumption, we have for $k=0,\\ldots,m-1$\n",
    ">\n",
    ">\\begin{align}\n",
    "L_k(x) & = \\prod_{\\substack{ 0\\leq j \\leq 2m \\\\ j\\neq k}} \\frac{x-x_j}{x_k-x_j} \\\\\n",
    "&= \\left( \\prod_{\\substack{ 0\\leq j \\leq m-1 \\\\ j\\neq k}} \\frac{x-x_j}{x_k-x_j}\\frac{x-x_{n-j}}{x_k-x_{n-j}} \\right) \\frac{x-x_m}{x_k-x_m} \\frac{x-x_{n-k}}{x_k-x_{n-k}} \\\\\n",
    "&= \\left( \\prod_{\\substack{ 0\\leq j \\leq m-1 \\\\ j\\neq k}} \\frac{x+x_{n-j}}{-x_{n-k}+x_{n-j}}\\frac{x+x_{j}}{-x_{n-k}+x_{j}} \\right) \\frac{x}{-x_{n-k}} \\frac{x+x_{k}}{-x_{n-k}+x_{k}}\\\\\n",
    "&= \\left( \\prod_{\\substack{ 0\\leq j \\leq m-1 \\\\ j\\neq k}} \\frac{-x-x_{n-j}}{x_{n-k}-x_{n-j}}\\frac{-x-x_{j}}{x_{n-k}-x_{j}} \\right) \\frac{-x}{x_{n-k}} \\frac{-x-x_{k}}{x_{n-k}-x_{k}}\\\\\n",
    "& = \\prod_{\\substack{ 0\\leq j \\leq 2m \\\\ j\\neq n-k}} \\frac{-x-x_j}{x_k-x_j} \\\\\n",
    "&= L_{n-k}(-x).\n",
    "\\end{align}\n",
    ">\n",
    ">This shows that for $k=0,\\ldots,m-1$\n",
    ">\n",
    ">$$ \\omega_k = \\int_{-1}^1 L_k(x)dx = \\int_{-1}^1 L_{n-k}(x)dx = \\omega_{n-k}.$$\n",
    ">\n",
    ">Finally, we get\n",
    ">\\begin{align}\n",
    "I^n_{[-1,1]}\\left( x^{n+1}\\right) = \\sum_{k=0}^{m-1} \\left(\\omega_k - \\omega_{n-k} \\right)(x_{n-k})^{n+1}  =0,\n",
    "\\end{align}\n",
    ">\n",
    ">which ends the proof.\n"
   ]
  },
  {
   "cell_type": "markdown",
   "metadata": {
    "pycharm": {
     "name": "#%% md\n"
    }
   },
   "source": [
    "Coming back to our elementary Newton-Cotes quadrature rules, the situation can be summarized in the following table:\n",
    "\n",
    "elementary rule  | degree $n$  | symmetry and $n$ even | degree of accuracy $n_a$\n",
    ":---:|:--------:|:-:|:---:\n",
    "Left rectangle | $n=0$| no | $n_a = 0$\n",
    "Mid-point | $n=0$| yes | $n_a = 1$\n",
    "Trapezoidal| $n=1$| no | $n_a = 1$\n",
    "Simpson| $n=2$| yes | $n_a = 3$"
   ]
  },
  {
   "cell_type": "markdown",
   "metadata": {
    "pycharm": {
     "name": "#%% md\n"
    }
   },
   "source": [
    "#### Test"
   ]
  },
  {
   "cell_type": "markdown",
   "metadata": {
    "pycharm": {
     "name": "#%% md\n"
    }
   },
   "source": [
    "<div markdown=1 class='DoIt'>\n",
    "\n",
    "Use these Newton-Cotes quadrature rules to approximate\n",
    "\n",
    "$$\n",
    "\\int_{-1}^1 \\cos\\left(\\frac{\\pi}{2} x\\right) dx = \\frac{4}{\\pi}.\n",
    "$$\n",
    "\n",
    "What could we try to get more precise results?"
   ]
  },
  {
   "cell_type": "code",
   "execution_count": 9,
   "metadata": {
    "pycharm": {
     "name": "#%%\n"
    }
   },
   "outputs": [
    {
     "name": "stdout",
     "output_type": "stream",
     "text": [
      "For the function f(x) = cos(pi/2 x), the integral between -1 and 1 is equal to 4\\pi = 1.27323954\n"
     ]
    }
   ],
   "source": [
    "def f(x):\n",
    "    return  np.cos(pi/2*x)\n",
    "I = 4/pi\n",
    "\n",
    "print(\"For the function f(x) = cos(pi/2 x), the integral between -1 and 1 is equal to 4\\pi = %.8f\" %I)"
   ]
  },
  {
   "cell_type": "code",
   "execution_count": 10,
   "metadata": {
    "pycharm": {
     "name": "#%%\n"
    }
   },
   "outputs": [
    {
     "name": "stdout",
     "output_type": "stream",
     "text": [
      "Approximation of the integral using the left rectangle quadrature rule : 0.00000\n",
      "Approximation of the integral using the mid-point quadrature rule : 2.00000\n",
      "Approximation of the integral using the trapezoidal quadrature rule : 0.00000\n",
      "Approximation of the integral using Simpson's quadrature rule : 1.33333\n"
     ]
    }
   ],
   "source": [
    "I_LR = QuadRule(f, x_LR, w_LR) # approximation using the left rectangle rule\n",
    "I_MP = QuadRule(f, x_MP, w_MP) # approximation using the mid-point rule\n",
    "I_T = QuadRule(f, x_T, w_T) # approximation using the trapezoidal rule\n",
    "I_S = QuadRule(f, x_S, w_S) # approximation using Simpson's rule\n",
    "\n",
    "print(\"Approximation of the integral using the left rectangle quadrature rule : %.5f\" % I_LR)\n",
    "print(\"Approximation of the integral using the mid-point quadrature rule : %.5f\" % I_MP)\n",
    "print(\"Approximation of the integral using the trapezoidal quadrature rule : %.5f\" % I_T)\n",
    "print(\"Approximation of the integral using Simpson's quadrature rule : %.5f\" % I_S)"
   ]
  },
  {
   "cell_type": "markdown",
   "metadata": {
    "pycharm": {
     "name": "#%% md\n"
    }
   },
   "source": [
    "<div markdown=1, class=\"Answer\"> We could use a formula for a higher degree polynomial (This would approximate the taylor polynomial of cos(x) better as currently we do. Also, we should use even polynomails to approximate our function as cos(x) also happens to be even."
   ]
  },
  {
   "cell_type": "markdown",
   "metadata": {
    "pycharm": {
     "name": "#%% md\n"
    }
   },
   "source": [
    "#### Newton-Cotes formula of higher degree $n$"
   ]
  },
  {
   "cell_type": "markdown",
   "metadata": {
    "pycharm": {
     "name": "#%% md\n"
    }
   },
   "source": [
    "For Newton-Cotes quadrature rules with larger values of $n$, computing by hand the values of the weights $w_k$ starts to be somewhat painful, but fortunately we can get them from an existing python function. "
   ]
  },
  {
   "cell_type": "code",
   "execution_count": 11,
   "metadata": {
    "pycharm": {
     "name": "#%%\n"
    }
   },
   "outputs": [],
   "source": [
    "def coeffs_NewtonCotes(n):\n",
    "    \"\"\"\n",
    "    computation of the nodes and weights for the Newton-Cotes quadrature rule at any order\n",
    "    ---------------------------------\n",
    "    Inputs :\n",
    "    n: degree of the rule (we want n+1 nodes)\n",
    "    \n",
    "    Outputs:\n",
    "    x, w: 1D array containing the nodes and the weights\n",
    "    \"\"\"\n",
    "    if n==0: # we take the mid-point rule \n",
    "        x = np.array([0.])\n",
    "        w = np.array([2.])\n",
    "    else:\n",
    "        x = np.linspace(-1, 1, n+1) # n+1 equidistant nodes\n",
    "        w, err = newton_cotes(n, equal=1) # Using the newton_cotes funtion from scipy.integrate (does not work for n=0)\n",
    "        w = w*2/n # rescaling, scipy's function gives the weights for nodes in [0,n] rather than [-1,1]\n",
    "    return x, w"
   ]
  },
  {
   "cell_type": "markdown",
   "metadata": {
    "pycharm": {
     "name": "#%% md\n"
    }
   },
   "source": [
    "<div markdown=1 class=\"DoIt\">\n",
    "\n",
    "Have a look at the weights for the first few values of $n$. What seems to happens when $n\\geq 10$?"
   ]
  },
  {
   "cell_type": "code",
   "execution_count": 12,
   "metadata": {
    "pycharm": {
     "name": "#%%\n"
    }
   },
   "outputs": [
    {
     "name": "stdout",
     "output_type": "stream",
     "text": [
      "0 [2.]\n",
      "1 [1. 1.]\n",
      "2 [0.3 1.3 0.3]\n",
      "3 [0.2 0.8 0.8 0.2]\n",
      "4 [0.2 0.7 0.3 0.7 0.2]\n",
      "5 [0.1 0.5 0.3 0.3 0.5 0.1]\n",
      "6 [0.1 0.5 0.1 0.6 0.1 0.5 0.1]\n",
      "7 [0.1 0.4 0.2 0.3 0.3 0.2 0.4 0.1]\n",
      "8 [ 0.1  0.4 -0.1  0.7 -0.3  0.7 -0.1  0.4  0.1]\n",
      "9 [0.1 0.4 0.  0.4 0.1 0.1 0.4 0.  0.4 0.1]\n",
      "10 [ 0.1  0.4 -0.2  0.9 -0.9  1.4 -0.9  0.9 -0.2  0.4  0.1]\n",
      "11 [ 0.   0.3 -0.1  0.6 -0.2  0.4  0.4 -0.2  0.6 -0.1  0.3  0. ]\n",
      "12 [ 0.   0.3 -0.2  1.1 -1.6  2.8 -2.8  2.8 -1.6  1.1 -0.2  0.3  0. ]\n"
     ]
    }
   ],
   "source": [
    "np.set_printoptions(precision=1) #to print less digits and have everyhting fitting on one line\n",
    "\n",
    "for n in np.arange(0, 13):\n",
    "    x_n, w_n = coeffs_NewtonCotes(n)\n",
    "    print(n, w_n)\n",
    "    \n",
    "np.set_printoptions(precision=8) #back to the default number of digits printed"
   ]
  },
  {
   "cell_type": "markdown",
   "metadata": {
    "pycharm": {
     "name": "#%% md\n"
    }
   },
   "source": [
    "<div markdown=1 class='Answer'> Some weights become 0."
   ]
  },
  {
   "cell_type": "markdown",
   "metadata": {
    "pycharm": {
     "name": "#%% md\n"
    }
   },
   "source": [
    "<div markdown=1, class=\"DoIt\">\n",
    "\n",
    "Study graphically the behavior of $\\sum_{k=0}^n \\vert \\omega_k \\vert$ when $n$ increases."
   ]
  },
  {
   "cell_type": "code",
   "execution_count": 13,
   "outputs": [
    {
     "data": {
      "text/plain": "<Figure size 720x432 with 1 Axes>",
      "image/png": "[encoded data removed]"
     },
     "metadata": {
      "needs_background": "light"
     },
     "output_type": "display_data"
    }
   ],
   "source": [
    "nmax = 25\n",
    "tab_n = np.arange(0, nmax+1) \n",
    "tab_sum = np.zeros(nmax+1) # initialization for the values of the sum for different n\n",
    "\n",
    "# for n = 0,...,nmax, computation of sum_{k=0}^n |w_k|\n",
    "for n in tab_n:\n",
    "    x_n, w_n = coeffs_NewtonCotes(n)\n",
    "    tab_sum[n] = np.sum(np.abs(w_n))\n",
    "\n",
    "#plot\n",
    "fig = plt.figure(figsize=(10, 6))\n",
    "plt.plot(tab_n, tab_sum, marker=\"o\")\n",
    "plt.xlabel('n', fontsize = 18)\n",
    "plt.title('Evolution of $\\sum_{k=0}^n |\\omega_k|$ for Newton-Cotes rules', fontsize = 18)  \n",
    "plt.ylabel('$\\sum_{k=0}^n |\\omega_k|$', fontsize = 18)\n",
    "plt.yscale('log')\n",
    "plt.tick_params(labelsize = 18)\n",
    "plt.show()\n"
   ],
   "metadata": {
    "collapsed": false,
    "pycharm": {
     "name": "#%%\n"
    }
   }
  },
  {
   "cell_type": "markdown",
   "source": [
    "We see that $\\sum_{k=0}^n \\vert \\omega_k \\vert$ quickly becomes quite large when $n$ increases, which is made possible by the fact that some of the weights are negative. This does not necessarily mean that with the Newton-Cotes quadrature rule $I^n_{[-1,1]}(f)$ cannot converge to $\\int_{-1}^1 f(x) dx$, but we should probably be a bit wary and study some examples."
   ],
   "metadata": {
    "collapsed": false,
    "pycharm": {
     "name": "#%% md\n"
    }
   }
  },
  {
   "cell_type": "markdown",
   "source": [
    "<div markdown=1, class=\"DoIt\">\n",
    "\n",
    "Consider again the function $f(x)=\\cos\\left(\\frac{\\pi}{2} x\\right)$, and study graphically the convergence of $I^n_{[-1,1]}(f)$ to $\\int_{-1}^1 f(x) dx$ for Newton-Cotes quadrature. Comment on the obtained results."
   ],
   "metadata": {
    "collapsed": false,
    "pycharm": {
     "name": "#%% md\n"
    }
   }
  },
  {
   "cell_type": "code",
   "execution_count": 14,
   "outputs": [
    {
     "data": {
      "text/plain": "<Figure size 720x432 with 1 Axes>",
      "image/png": "[encoded data removed]"
     },
     "metadata": {
      "needs_background": "light"
     },
     "output_type": "display_data"
    }
   ],
   "source": [
    "I = 4/pi # exact value of the integral\n",
    "\n",
    "nmax = 30\n",
    "tab_n = np.arange(0, nmax+1)\n",
    "tab_In = np.zeros(nmax+1) # initialization for the values of In\n",
    "\n",
    "# computation of the approximated value of the integral for n = 0,...,nmax\n",
    "for n in tab_n:\n",
    "    x_n, w_n = coeffs_NewtonCotes(n)\n",
    "    tab_In[n] = QuadRule(f, x_n, w_n)\n",
    "    \n",
    "# computation of the error\n",
    "tab_err = np.abs(tab_In-I)  # the errors |In-I| for each n \n",
    "\n",
    "# plot\n",
    "fig = plt.figure(figsize=(10, 6))\n",
    "plt.plot(tab_n, tab_err, marker=\"o\")\n",
    "plt.xlabel('n', fontsize = 18) \n",
    "plt.ylabel('Error $| I^n(f) - I |$', fontsize = 18)\n",
    "plt.title('Approximation of $ I = \\int_{-1}^1 \\cos(\\pi/2 x) dx$ using Newton-Cotes rules', fontsize = 18) \n",
    "plt.yscale('log')\n",
    "plt.tick_params(labelsize = 18)\n",
    "plt.show()"
   ],
   "metadata": {
    "collapsed": false,
    "pycharm": {
     "name": "#%%\n"
    }
   }
  },
  {
   "cell_type": "markdown",
   "source": [
    "<div markdown=1 class='Answer'>"
   ],
   "metadata": {
    "collapsed": false,
    "pycharm": {
     "name": "#%% md\n"
    }
   }
  },
  {
   "cell_type": "markdown",
   "source": [
    "<div markdown=1, class=\"DoIt\">\n",
    "\n",
    "Consider now Runge's function $f_{Runge}(x)=\\frac{1}{1+25x^2}$, and study graphically the convergence of $I^n_{[-1,1]}(f_{Runge})$ to $\\int_{-1}^1 f_{Runge}(x) dx$ for Newton-Cotes quadrature. Comment on the obtained results. *Hint: to obtain the error, you can use the fact that $\\int_{-1}^1 f_{Runge}(x) dx = \\frac{2}{5} \\arctan (5)$.*"
   ],
   "metadata": {
    "collapsed": false,
    "pycharm": {
     "name": "#%% md\n"
    }
   }
  },
  {
   "cell_type": "code",
   "execution_count": 15,
   "outputs": [
    {
     "data": {
      "text/plain": "<Figure size 720x432 with 1 Axes>",
      "image/png": "[encoded data removed]"
     },
     "metadata": {
      "needs_background": "light"
     },
     "output_type": "display_data"
    }
   ],
   "source": [
    "def f_Runge(x):\n",
    "    return 1/(1+25*x**2)\n",
    "\n",
    "I = 2/5 * atan(5) # exact value of the integral\n",
    "\n",
    "nmax = 30\n",
    "tab_n = np.arange(0, nmax+1)\n",
    "tab_In = np.zeros(nmax+1) # initialization for the values of In\n",
    "\n",
    "# computation of the approximated value of the integral for n = 0,...,nmax\n",
    "for n in tab_n:\n",
    "    x_n, w_n = coeffs_NewtonCotes(n)\n",
    "    tab_In[n] = QuadRule(f_Runge, x_n, w_n)\n",
    "    \n",
    "# computation of the error\n",
    "tab_err = np.abs(tab_In-I)  # the errors |In-I| for each n \n",
    "    \n",
    "\n",
    "# plot\n",
    "fig = plt.figure(figsize=(10, 6))\n",
    "plt.plot(tab_n, tab_err, marker=\"o\")\n",
    "plt.xlabel('n', fontsize = 18) \n",
    "plt.ylabel('Error $| I^n(f) - I |$', fontsize = 18)\n",
    "plt.title('Approximation of $ I = \\int_{-1}^1 f_{runge}(x) dx$ using Newton-Cotes rules', fontsize = 18) \n",
    "plt.yscale('log')\n",
    "plt.tick_params(labelsize = 18)\n",
    "plt.show()\n"
   ],
   "metadata": {
    "collapsed": false,
    "pycharm": {
     "name": "#%%\n"
    }
   }
  },
  {
   "cell_type": "markdown",
   "source": [
    "<div markdown=1 class='Answer'>"
   ],
   "metadata": {
    "collapsed": false,
    "pycharm": {
     "name": "#%% md\n"
    }
   }
  },
  {
   "cell_type": "markdown",
   "source": [
    "Based on what we have seen in the previous cycle, we can expect quadrature rules based on Lagrange interpolation to behave better if we take Chebyshev nodes instead of equidistant ones. We investigate this option below."
   ],
   "metadata": {
    "collapsed": false,
    "pycharm": {
     "name": "#%% md\n"
    }
   }
  },
  {
   "cell_type": "markdown",
   "source": [
    "### Clenshaw-Curtis quadrature"
   ],
   "metadata": {
    "collapsed": false,
    "pycharm": {
     "name": "#%% md\n"
    }
   }
  },
  {
   "cell_type": "markdown",
   "source": [
    "<div markdown=1 class=\"Def\"> \n",
    "\n",
    "The **Clenshaw-Curtis quadrature rules** are the quadrature rules based on Lagrange interpolation with Chebyshev nodes."
   ],
   "metadata": {
    "collapsed": false,
    "pycharm": {
     "name": "#%% md\n"
    }
   }
  },
  {
   "cell_type": "markdown",
   "source": [
    "<div markdown=1 class=\"Fur\"> \n",
    "\n",
    "As in the previous chapter, we only work with the Chebyshev points *of the first kind*\n",
    "\n",
    "$$\n",
    "\\hat{x}_k = \\cos\\left(\\frac{2k + 1}{2n+2}\\pi\\right), \\qquad{} 0 \\leq k \\leq n,\n",
    "$$\n",
    "\n",
    "but he Chebyshev points *of the second kind*\n",
    "\n",
    "$$\n",
    "\\hat{y}_k = \\cos\\left(\\frac{k}{n}\\pi\\right), \\qquad{} 0 \\leq k \\leq n,\n",
    "$$\n",
    "\n",
    "could also be used."
   ],
   "metadata": {
    "collapsed": false,
    "pycharm": {
     "name": "#%% md\n"
    }
   }
  },
  {
   "cell_type": "markdown",
   "source": [
    "<div markdown=1 class=\"Rmk\">\n",
    "\n",
    "We know that, as soon as the function $f$ is slightly regular (say $C^1$), the interpolation polynomial at the Chebyshev nodes converges uniformly on $[-1,1]$ to $f$, which implies that the Clenshaw-Curtis approximation $I^n_{[-1,1]}(f)$ converges to $\\int_{-1}^1f(x) dx$. In fact, it can be shown that the Clenshaw-Curtis approximation $I^n_{[-1,1]}(f)$ converges to $\\int_{-1}^1f(x) dx$ for any continuous function.\n",
    "\n",
    "It only remains to find a way to computes the weights of the Clenshaw-Curtis quadrature rule, so that we can easily use it in practice."
   ],
   "metadata": {
    "collapsed": false,
    "pycharm": {
     "name": "#%% md\n"
    }
   }
  },
  {
   "cell_type": "markdown",
   "source": [
    "<div markdown=1 class=\"Prop\">\n",
    "\n",
    "Let $V_n$ be the Vandermonde matrix associated with the Chebyshev nodes\n",
    "\n",
    "$$\n",
    "V_n=\\left(\\begin{array}{ccccc} 1 & \\hat x_0 & \\hat x_0^2 & \\ldots & \\hat x_0^n \\\\ 1 & \\hat x_1 & \\hat x_1^2 & \\ldots & \\hat x_1^n \\\\ \\vdots & & & &\\vdots \\\\ 1 & \\hat x_n & \\hat x_n^2 & \\ldots & \\hat x_n^n \\end{array}\\right),\n",
    "$$\n",
    "\n",
    "define\n",
    "\n",
    "$$\n",
    "b_k = \\frac{1 + (-1)^k}{k+1}, \\qquad{} k=0,\\ldots,n,\n",
    "$$\n",
    "\n",
    "and $b=\\left(b_k\\right)_{0\\leq k\\leq n} \\in \\mathbb{R}^{n+1}$. Then, the vector $\\omega=\\left(\\omega_k\\right)_{0\\leq k\\leq n} \\in \\mathbb{R}^{n+1}$ containing the weights of the Clenshaw-Curtis quadrature rule with $n+1$ points satisfies\n",
    "\n",
    "$$\n",
    "{}^t V_n\\, \\omega = b.\n",
    "$$"
   ],
   "metadata": {
    "collapsed": false,
    "pycharm": {
     "name": "#%% md\n"
    }
   }
  },
  {
   "cell_type": "markdown",
   "source": [
    ">**Proof. $[\\star]$** By definition, the Clenshaw-Curtis quadrature of a function $f$ on $[-1,1]$ is given by\n",
    ">\n",
    ">$$ \n",
    "I^n_{[-1,1]} (f) = \\int_{-1}^1  P_n(f)(x) dx = \\sum_{k=0}^n f(\\hat x_k)\\omega_k,\n",
    "$$\n",
    ">\n",
    ">where $P_n(f)$ is the interpolation polynomial of $f$ at the Chebyshev nodes, and $\\omega_k$ are the weights we want to determine. In the last chapter, we saw that \n",
    ">\n",
    ">$$\n",
    "P_n(f)(x) = \\sum_{k=0}^n a_k x^k,\n",
    "$$\n",
    ">\n",
    ">where the vector $a=\\left(a_k\\right)_{0\\leq k\\leq n}$ satisfies\n",
    ">\n",
    ">$$\n",
    "V_n a = f(\\hat x),\n",
    "$$\n",
    ">\n",
    "> with $f(\\hat x)=\\left(f(\\hat x_k)\\right)_{0\\leq k\\leq n}$. Therefore,\n",
    ">\n",
    ">\\begin{align}\n",
    "I^n_{[-1,1]} (f) &= \\int_{-1}^1  \\sum_{k=0}^n a_k x^k dx \\\\\n",
    "&= \\sum_{k=0}^n a_k \\int_{-1}^1   x^k dx \\\\\n",
    "&= \\sum_{k=0}^n a_k b_k,\n",
    "\\end{align}\n",
    ">\n",
    ">which we can also write\n",
    ">\n",
    ">$$\n",
    "I^n_{[-1,1]} (f) = {}^t a\\, b.\n",
    "$$\n",
    ">\n",
    ">Then, using that $a = V_n^{-1} f(\\hat x)$, we get\n",
    ">\n",
    ">\\begin{align}\n",
    "I^n_{[-1,1]} (f) &= {}^t f(\\hat x)\\, {}^t V_n^{-1}\\,b \\\\\n",
    "&= \\sum_{k=0}^n f(\\hat x_k) \\left({}^t V_n^{-1}\\,b \\right)_k\n",
    "\\end{align}\n",
    ">\n",
    ">and the weights $\\omega=\\left(\\omega_k\\right)_{0\\leq k\\leq n}$ are indeed given by ${}^t V_n^{-1}\\,b$."
   ],
   "metadata": {
    "collapsed": false,
    "pycharm": {
     "name": "#%% md\n"
    }
   }
  },
  {
   "cell_type": "markdown",
   "source": [
    "<div markdown=1 class='Rmk'>\n",
    "\n",
    "The above proposition gives us an easy way of computing the weights for Clenshaw-Curtis quadrature."
   ],
   "metadata": {
    "collapsed": false,
    "pycharm": {
     "name": "#%% md\n"
    }
   }
  },
  {
   "cell_type": "markdown",
   "source": [
    "<div markdown=1 class=\"Fur\"> \n",
    " \n",
    "There are better ways (i.e. less expensive and more stable ways) of computing these weights, but the required algorithms are slightly more involved, and we will not discuss them in this course."
   ],
   "metadata": {
    "collapsed": false,
    "pycharm": {
     "name": "#%% md\n"
    }
   }
  },
  {
   "cell_type": "markdown",
   "source": [
    "<div markdown=1 class=\"DoIt\">\n",
    "\n",
    "Complete the following cell to get a function which computes the nodes and the weights for the Clenshaw-Curtis quadrature of any degree $n$, based on the previous proposition. *Hints: You may want to reuse pieces of code or even full functions from the previous chapter. Check the output of your code for $n=1$ and $n=2$, where you should get approximately $\\omega = \\left(1,1\\right)$ and $\\omega = \\left(4/9, 10/9, 4/9\\right)$ respectively.*"
   ],
   "metadata": {
    "collapsed": false,
    "pycharm": {
     "name": "#%% md\n"
    }
   }
  },
  {
   "cell_type": "code",
   "execution_count": 16,
   "outputs": [],
   "source": [
    "def xhat(n):\n",
    "    \"\"\"\n",
    "    function returning the zeros of Tn\n",
    "    -----------------------\n",
    "    Inputs: \n",
    "    n : the degree of Tn\n",
    "    \n",
    "    Output:\n",
    "    1D array containing \\hat{x}_k for k=0,...,n-1\n",
    "    \"\"\"\n",
    "    if n == 0:\n",
    "        return np.array([])\n",
    "    else:\n",
    "        x = np.cos( (2*np.arange(0,n)+1)*np.pi / (2*n) )\n",
    "        return x\n",
    "def coeffs_ClenshawCurtis(n):\n",
    "    \"\"\"\n",
    "    computation of the nodes and weights for the Clenshaw-Curtis quadrature rule at any order\n",
    "    ---------------------------------\n",
    "    Inputs :\n",
    "    n: degree of the rule (we want n+1 nodes)\n",
    "    \n",
    "    Outputs:\n",
    "    x, w: 1D array containing the nodes and the weights\n",
    "    \"\"\"\n",
    "    x = xhat(n+1) # n+1 Chebyshev nodes\n",
    "    tab_k = np.arange(0, n+1, dtype='float')\n",
    "    b = (( 1 + (-1)**tab_k) / (tab_k + 1)) # the vector b=[b0,...bn] defined in the above proposition \n",
    "    M = np.vander(x, increasing='true') # Vandermonde Matrix\n",
    "    w =  np.linalg.solve(np.transpose(M), b) # computations of the weights w\n",
    "    return x, w    "
   ],
   "metadata": {
    "collapsed": false,
    "pycharm": {
     "name": "#%%\n"
    }
   }
  },
  {
   "cell_type": "code",
   "execution_count": 17,
   "outputs": [
    {
     "name": "stdout",
     "output_type": "stream",
     "text": [
      "1 [ 0.70710678 -0.70710678] [1. 1.]\n",
      "2 [ 8.66025404e-01  6.12323400e-17 -8.66025404e-01] [0.44444444 1.11111111 0.44444444]\n"
     ]
    }
   ],
   "source": [
    "#Sanity check\n",
    "\n",
    "x_1, w_1 = coeffs_ClenshawCurtis(1)\n",
    "print(1, x_1, w_1)\n",
    "\n",
    "x_2, w_2 = coeffs_ClenshawCurtis(2)\n",
    "print(2, x_2, w_2)"
   ],
   "metadata": {
    "collapsed": false,
    "pycharm": {
     "name": "#%%\n"
    }
   }
  },
  {
   "cell_type": "markdown",
   "source": [
    "<div markdown=1 class=\"DoIt\">\n",
    "\n",
    "Have a look at the weights for Clenshaw-Curtis quadrature for the first few values of $n$. How does it compare to what you obtained for Newton-Cotes quadrature."
   ],
   "metadata": {
    "collapsed": false,
    "pycharm": {
     "name": "#%% md\n"
    }
   }
  },
  {
   "cell_type": "code",
   "execution_count": 18,
   "outputs": [
    {
     "name": "stdout",
     "output_type": "stream",
     "text": [
      "0 [2.]\n",
      "1 [1. 1.]\n",
      "2 [0.4 1.1 0.4]\n",
      "3 [0.3 0.7 0.7 0.3]\n",
      "4 [0.2 0.5 0.6 0.5 0.2]\n",
      "5 [0.1 0.4 0.5 0.5 0.4 0.1]\n",
      "6 [0.1 0.3 0.4 0.5 0.4 0.3 0.1]\n",
      "7 [0.1 0.2 0.3 0.4 0.4 0.3 0.2 0.1]\n",
      "8 [0.1 0.2 0.3 0.3 0.3 0.3 0.3 0.2 0.1]\n",
      "9 [0.  0.1 0.2 0.3 0.3 0.3 0.3 0.2 0.1 0. ]\n",
      "10 [0.  0.1 0.2 0.2 0.3 0.3 0.3 0.2 0.2 0.1 0. ]\n",
      "11 [0.  0.1 0.2 0.2 0.2 0.3 0.3 0.2 0.2 0.2 0.1 0. ]\n",
      "12 [0.  0.1 0.1 0.2 0.2 0.2 0.2 0.2 0.2 0.2 0.1 0.1 0. ]\n",
      "13 [0.  0.1 0.1 0.2 0.2 0.2 0.2 0.2 0.2 0.2 0.2 0.1 0.1 0. ]\n",
      "14 [0.  0.1 0.1 0.1 0.2 0.2 0.2 0.2 0.2 0.2 0.2 0.1 0.1 0.1 0. ]\n",
      "15 [0.  0.1 0.1 0.1 0.2 0.2 0.2 0.2 0.2 0.2 0.2 0.2 0.1 0.1 0.1 0. ]\n",
      "16 [0.  0.1 0.1 0.1 0.1 0.2 0.2 0.2 0.2 0.2 0.2 0.2 0.1 0.1 0.1 0.1 0. ]\n"
     ]
    }
   ],
   "source": [
    "np.set_printoptions(precision=1) #to print less digits and have everyhting fitting on one line\n",
    "\n",
    "for n in np.arange(0, 17):\n",
    "    x_n, w_n = coeffs_ClenshawCurtis(n)\n",
    "    print(n, w_n)\n",
    "    \n",
    "np.set_printoptions(precision=8) #back to the default number of digits printed"
   ],
   "metadata": {
    "collapsed": false,
    "pycharm": {
     "name": "#%%\n"
    }
   }
  },
  {
   "cell_type": "markdown",
   "source": [
    "<div mardown=1 class=\"Answer\">"
   ],
   "metadata": {
    "collapsed": false,
    "pycharm": {
     "name": "#%% md\n"
    }
   }
  },
  {
   "cell_type": "markdown",
   "source": [
    "Actually, this can be proven (although we will not give the proof in this course)."
   ],
   "metadata": {
    "collapsed": false,
    "pycharm": {
     "name": "#%% md\n"
    }
   }
  },
  {
   "cell_type": "markdown",
   "source": [
    "<div mardown=1 class=\"Thm\">\n",
    "    \n",
    "For any integer $n$, the weights $\\omega_k$ ($k=0,..,n$) of the Clenshaw-Curtis quadrature rule of degree $n$ are all positive."
   ],
   "metadata": {
    "collapsed": false,
    "pycharm": {
     "name": "#%% md\n"
    }
   }
  },
  {
   "cell_type": "markdown",
   "source": [
    "<div markdown=1, class=\"DoIt\">\n",
    "\n",
    "For Clenshaw-Curtis quadrature, study graphically the behavior of $\\sum_{k=0}^n \\vert \\omega_k \\vert$ when $n$ increases."
   ],
   "metadata": {
    "collapsed": false,
    "pycharm": {
     "name": "#%% md\n"
    }
   }
  },
  {
   "cell_type": "code",
   "execution_count": 19,
   "outputs": [
    {
     "ename": "ValueError",
     "evalue": "x and y must have same first dimension, but have shapes (49,) and (31,)",
     "output_type": "error",
     "traceback": [
      "\u001B[0;31m---------------------------------------------------------------------------\u001B[0m",
      "\u001B[0;31mValueError\u001B[0m                                Traceback (most recent call last)",
      "Input \u001B[0;32mIn [19]\u001B[0m, in \u001B[0;36m<cell line: 12>\u001B[0;34m()\u001B[0m\n\u001B[1;32m     10\u001B[0m \u001B[38;5;66;03m#plot\u001B[39;00m\n\u001B[1;32m     11\u001B[0m fig \u001B[38;5;241m=\u001B[39m plt\u001B[38;5;241m.\u001B[39mfigure(figsize\u001B[38;5;241m=\u001B[39m(\u001B[38;5;241m10\u001B[39m, \u001B[38;5;241m6\u001B[39m))\n\u001B[0;32m---> 12\u001B[0m \u001B[43mplt\u001B[49m\u001B[38;5;241;43m.\u001B[39;49m\u001B[43mplot\u001B[49m\u001B[43m(\u001B[49m\u001B[43mtab_n\u001B[49m\u001B[43m,\u001B[49m\u001B[43m \u001B[49m\u001B[43mtab_err\u001B[49m\u001B[43m,\u001B[49m\u001B[43m \u001B[49m\u001B[43mmarker\u001B[49m\u001B[38;5;241;43m=\u001B[39;49m\u001B[38;5;124;43m\"\u001B[39;49m\u001B[38;5;124;43mo\u001B[39;49m\u001B[38;5;124;43m\"\u001B[39;49m\u001B[43m)\u001B[49m\n\u001B[1;32m     13\u001B[0m plt\u001B[38;5;241m.\u001B[39mxlabel(\u001B[38;5;124m'\u001B[39m\u001B[38;5;124mn\u001B[39m\u001B[38;5;124m'\u001B[39m, fontsize \u001B[38;5;241m=\u001B[39m \u001B[38;5;241m18\u001B[39m) \n\u001B[1;32m     14\u001B[0m plt\u001B[38;5;241m.\u001B[39mylabel(\u001B[38;5;124m'\u001B[39m\u001B[38;5;124m$\u001B[39m\u001B[38;5;124m\\\u001B[39m\u001B[38;5;124m| w_n $\u001B[39m\u001B[38;5;124m'\u001B[39m, fontsize \u001B[38;5;241m=\u001B[39m \u001B[38;5;241m18\u001B[39m)\n",
      "File \u001B[0;32m~/PycharmProjects/pythonProject1/venv/lib/python3.8/site-packages/matplotlib/pyplot.py:2757\u001B[0m, in \u001B[0;36mplot\u001B[0;34m(scalex, scaley, data, *args, **kwargs)\u001B[0m\n\u001B[1;32m   2755\u001B[0m \u001B[38;5;129m@_copy_docstring_and_deprecators\u001B[39m(Axes\u001B[38;5;241m.\u001B[39mplot)\n\u001B[1;32m   2756\u001B[0m \u001B[38;5;28;01mdef\u001B[39;00m \u001B[38;5;21mplot\u001B[39m(\u001B[38;5;241m*\u001B[39margs, scalex\u001B[38;5;241m=\u001B[39m\u001B[38;5;28;01mTrue\u001B[39;00m, scaley\u001B[38;5;241m=\u001B[39m\u001B[38;5;28;01mTrue\u001B[39;00m, data\u001B[38;5;241m=\u001B[39m\u001B[38;5;28;01mNone\u001B[39;00m, \u001B[38;5;241m*\u001B[39m\u001B[38;5;241m*\u001B[39mkwargs):\n\u001B[0;32m-> 2757\u001B[0m     \u001B[38;5;28;01mreturn\u001B[39;00m \u001B[43mgca\u001B[49m\u001B[43m(\u001B[49m\u001B[43m)\u001B[49m\u001B[38;5;241;43m.\u001B[39;49m\u001B[43mplot\u001B[49m\u001B[43m(\u001B[49m\n\u001B[1;32m   2758\u001B[0m \u001B[43m        \u001B[49m\u001B[38;5;241;43m*\u001B[39;49m\u001B[43margs\u001B[49m\u001B[43m,\u001B[49m\u001B[43m \u001B[49m\u001B[43mscalex\u001B[49m\u001B[38;5;241;43m=\u001B[39;49m\u001B[43mscalex\u001B[49m\u001B[43m,\u001B[49m\u001B[43m \u001B[49m\u001B[43mscaley\u001B[49m\u001B[38;5;241;43m=\u001B[39;49m\u001B[43mscaley\u001B[49m\u001B[43m,\u001B[49m\n\u001B[1;32m   2759\u001B[0m \u001B[43m        \u001B[49m\u001B[38;5;241;43m*\u001B[39;49m\u001B[38;5;241;43m*\u001B[39;49m\u001B[43m(\u001B[49m\u001B[43m{\u001B[49m\u001B[38;5;124;43m\"\u001B[39;49m\u001B[38;5;124;43mdata\u001B[39;49m\u001B[38;5;124;43m\"\u001B[39;49m\u001B[43m:\u001B[49m\u001B[43m \u001B[49m\u001B[43mdata\u001B[49m\u001B[43m}\u001B[49m\u001B[43m \u001B[49m\u001B[38;5;28;43;01mif\u001B[39;49;00m\u001B[43m \u001B[49m\u001B[43mdata\u001B[49m\u001B[43m \u001B[49m\u001B[38;5;129;43;01mis\u001B[39;49;00m\u001B[43m \u001B[49m\u001B[38;5;129;43;01mnot\u001B[39;49;00m\u001B[43m \u001B[49m\u001B[38;5;28;43;01mNone\u001B[39;49;00m\u001B[43m \u001B[49m\u001B[38;5;28;43;01melse\u001B[39;49;00m\u001B[43m \u001B[49m\u001B[43m{\u001B[49m\u001B[43m}\u001B[49m\u001B[43m)\u001B[49m\u001B[43m,\u001B[49m\u001B[43m \u001B[49m\u001B[38;5;241;43m*\u001B[39;49m\u001B[38;5;241;43m*\u001B[39;49m\u001B[43mkwargs\u001B[49m\u001B[43m)\u001B[49m\n",
      "File \u001B[0;32m~/PycharmProjects/pythonProject1/venv/lib/python3.8/site-packages/matplotlib/axes/_axes.py:1632\u001B[0m, in \u001B[0;36mAxes.plot\u001B[0;34m(self, scalex, scaley, data, *args, **kwargs)\u001B[0m\n\u001B[1;32m   1390\u001B[0m \u001B[38;5;124;03m\"\"\"\u001B[39;00m\n\u001B[1;32m   1391\u001B[0m \u001B[38;5;124;03mPlot y versus x as lines and/or markers.\u001B[39;00m\n\u001B[1;32m   1392\u001B[0m \n\u001B[0;32m   (...)\u001B[0m\n\u001B[1;32m   1629\u001B[0m \u001B[38;5;124;03m(``'green'``) or hex strings (``'#008000'``).\u001B[39;00m\n\u001B[1;32m   1630\u001B[0m \u001B[38;5;124;03m\"\"\"\u001B[39;00m\n\u001B[1;32m   1631\u001B[0m kwargs \u001B[38;5;241m=\u001B[39m cbook\u001B[38;5;241m.\u001B[39mnormalize_kwargs(kwargs, mlines\u001B[38;5;241m.\u001B[39mLine2D)\n\u001B[0;32m-> 1632\u001B[0m lines \u001B[38;5;241m=\u001B[39m [\u001B[38;5;241m*\u001B[39m\u001B[38;5;28mself\u001B[39m\u001B[38;5;241m.\u001B[39m_get_lines(\u001B[38;5;241m*\u001B[39margs, data\u001B[38;5;241m=\u001B[39mdata, \u001B[38;5;241m*\u001B[39m\u001B[38;5;241m*\u001B[39mkwargs)]\n\u001B[1;32m   1633\u001B[0m \u001B[38;5;28;01mfor\u001B[39;00m line \u001B[38;5;129;01min\u001B[39;00m lines:\n\u001B[1;32m   1634\u001B[0m     \u001B[38;5;28mself\u001B[39m\u001B[38;5;241m.\u001B[39madd_line(line)\n",
      "File \u001B[0;32m~/PycharmProjects/pythonProject1/venv/lib/python3.8/site-packages/matplotlib/axes/_base.py:312\u001B[0m, in \u001B[0;36m_process_plot_var_args.__call__\u001B[0;34m(self, data, *args, **kwargs)\u001B[0m\n\u001B[1;32m    310\u001B[0m     this \u001B[38;5;241m+\u001B[39m\u001B[38;5;241m=\u001B[39m args[\u001B[38;5;241m0\u001B[39m],\n\u001B[1;32m    311\u001B[0m     args \u001B[38;5;241m=\u001B[39m args[\u001B[38;5;241m1\u001B[39m:]\n\u001B[0;32m--> 312\u001B[0m \u001B[38;5;28;01myield from\u001B[39;00m \u001B[38;5;28;43mself\u001B[39;49m\u001B[38;5;241;43m.\u001B[39;49m\u001B[43m_plot_args\u001B[49m\u001B[43m(\u001B[49m\u001B[43mthis\u001B[49m\u001B[43m,\u001B[49m\u001B[43m \u001B[49m\u001B[43mkwargs\u001B[49m\u001B[43m)\u001B[49m\n",
      "File \u001B[0;32m~/PycharmProjects/pythonProject1/venv/lib/python3.8/site-packages/matplotlib/axes/_base.py:498\u001B[0m, in \u001B[0;36m_process_plot_var_args._plot_args\u001B[0;34m(self, tup, kwargs, return_kwargs)\u001B[0m\n\u001B[1;32m    495\u001B[0m     \u001B[38;5;28mself\u001B[39m\u001B[38;5;241m.\u001B[39maxes\u001B[38;5;241m.\u001B[39myaxis\u001B[38;5;241m.\u001B[39mupdate_units(y)\n\u001B[1;32m    497\u001B[0m \u001B[38;5;28;01mif\u001B[39;00m x\u001B[38;5;241m.\u001B[39mshape[\u001B[38;5;241m0\u001B[39m] \u001B[38;5;241m!=\u001B[39m y\u001B[38;5;241m.\u001B[39mshape[\u001B[38;5;241m0\u001B[39m]:\n\u001B[0;32m--> 498\u001B[0m     \u001B[38;5;28;01mraise\u001B[39;00m \u001B[38;5;167;01mValueError\u001B[39;00m(\u001B[38;5;124mf\u001B[39m\u001B[38;5;124m\"\u001B[39m\u001B[38;5;124mx and y must have same first dimension, but \u001B[39m\u001B[38;5;124m\"\u001B[39m\n\u001B[1;32m    499\u001B[0m                      \u001B[38;5;124mf\u001B[39m\u001B[38;5;124m\"\u001B[39m\u001B[38;5;124mhave shapes \u001B[39m\u001B[38;5;132;01m{\u001B[39;00mx\u001B[38;5;241m.\u001B[39mshape\u001B[38;5;132;01m}\u001B[39;00m\u001B[38;5;124m and \u001B[39m\u001B[38;5;132;01m{\u001B[39;00my\u001B[38;5;241m.\u001B[39mshape\u001B[38;5;132;01m}\u001B[39;00m\u001B[38;5;124m\"\u001B[39m)\n\u001B[1;32m    500\u001B[0m \u001B[38;5;28;01mif\u001B[39;00m x\u001B[38;5;241m.\u001B[39mndim \u001B[38;5;241m>\u001B[39m \u001B[38;5;241m2\u001B[39m \u001B[38;5;129;01mor\u001B[39;00m y\u001B[38;5;241m.\u001B[39mndim \u001B[38;5;241m>\u001B[39m \u001B[38;5;241m2\u001B[39m:\n\u001B[1;32m    501\u001B[0m     \u001B[38;5;28;01mraise\u001B[39;00m \u001B[38;5;167;01mValueError\u001B[39;00m(\u001B[38;5;124mf\u001B[39m\u001B[38;5;124m\"\u001B[39m\u001B[38;5;124mx and y can be no greater than 2D, but have \u001B[39m\u001B[38;5;124m\"\u001B[39m\n\u001B[1;32m    502\u001B[0m                      \u001B[38;5;124mf\u001B[39m\u001B[38;5;124m\"\u001B[39m\u001B[38;5;124mshapes \u001B[39m\u001B[38;5;132;01m{\u001B[39;00mx\u001B[38;5;241m.\u001B[39mshape\u001B[38;5;132;01m}\u001B[39;00m\u001B[38;5;124m and \u001B[39m\u001B[38;5;132;01m{\u001B[39;00my\u001B[38;5;241m.\u001B[39mshape\u001B[38;5;132;01m}\u001B[39;00m\u001B[38;5;124m\"\u001B[39m)\n",
      "\u001B[0;31mValueError\u001B[0m: x and y must have same first dimension, but have shapes (49,) and (31,)"
     ]
    },
    {
     "data": {
      "text/plain": "<Figure size 720x432 with 1 Axes>",
      "image/png": "[encoded data removed]"
     },
     "metadata": {
      "needs_background": "light"
     },
     "output_type": "display_data"
    }
   ],
   "source": [
    "nmax = 48\n",
    "tab_n = np.arange(0, nmax+1) \n",
    "tab_sum = np.zeros(nmax+1) # initialization for the values of the sum for different n\n",
    "\n",
    "# for n = 0,...,nmax, computation of sum_{k=0}^n |w_k|\n",
    "for n in tab_n:\n",
    "    x_n, w_n = coeffs_ClenshawCurtis(n)\n",
    "    tab_sum[n] = np.sum(np.abs(w_n))\n",
    "\n",
    "#plot\n",
    "fig = plt.figure(figsize=(10, 6))\n",
    "plt.plot(tab_n, tab_err, marker=\"o\")\n",
    "plt.xlabel('n', fontsize = 18) \n",
    "plt.ylabel('$\\| w_n $', fontsize = 18)\n",
    "plt.title('Ap', fontsize = 18) \n",
    "plt.yscale('log')\n",
    "plt.tick_params(labelsize = 18)\n",
    "plt.show()"
   ],
   "metadata": {
    "collapsed": false,
    "pycharm": {
     "name": "#%%\n"
    }
   }
  },
  {
   "cell_type": "markdown",
   "metadata": {
    "pycharm": {
     "name": "#%% md\n"
    }
   },
   "source": [
    "<div mardown=1 class=\"Rmk\">\n",
    "    \n",
    "After a while ($n>43$), $\\sum_{k=0}^n \\vert \\omega_k \\vert$ also becomes significantly larger than $2$. Since in theory we should always have $\\sum_{k=0}^n \\vert \\omega_k \\vert = 2$, this must be due to rounding errors, and could be mitigated by using a better algorithm to compute the weights."
   ]
  },
  {
   "cell_type": "markdown",
   "metadata": {
    "pycharm": {
     "name": "#%% md\n"
    }
   },
   "source": [
    "<div markdown=1, class=\"DoIt\">\n",
    "\n",
    "Consider again the function $f(x)=\\cos\\left(\\frac{\\pi}{2} x\\right)$, and study graphically the convergence of $I^n_{[-1,1]}(f)$ to $\\int_{-1}^1 f(x) dx$, this time for Clenshaw-Curtis quadrature. Comment on the obtained results."
   ]
  },
  {
   "cell_type": "code",
   "execution_count": 20,
   "metadata": {
    "pycharm": {
     "name": "#%%\n"
    }
   },
   "outputs": [
    {
     "data": {
      "text/plain": "<Figure size 720x432 with 1 Axes>",
      "image/png": "[encoded data removed]"
     },
     "metadata": {
      "needs_background": "light"
     },
     "output_type": "display_data"
    }
   ],
   "source": [
    "I = 4/pi # exact value of the integral\n",
    "\n",
    "nmax = 100\n",
    "tab_n = np.arange(0, nmax+1)\n",
    "tab_In = np.zeros(nmax+1) # initialization for the values of In\n",
    "\n",
    "# computation of the approximated value of the integral for n = 0,...,nmax\n",
    "for n in tab_n:\n",
    "    x_n, w_n = coeffs_ClenshawCurtis(n)\n",
    "    tab_In[n] = np.sum(w_n*np.cos(x_n*pi/2))\n",
    "    \n",
    "# computation of the error\n",
    "tab_err = abs(tab_In-I)  # the errors |In-I| for each n\n",
    "\n",
    "# plot\n",
    "fig = plt.figure(figsize=(10, 6))\n",
    "plt.plot(tab_n, tab_err, marker=\"o\")\n",
    "plt.xlabel('n', fontsize = 18)\n",
    "plt.ylabel('$\\| In - I \\|$', fontsize = 18)\n",
    "plt.title('Ap', fontsize = 18)\n",
    "plt.yscale('log')\n",
    "plt.tick_params(labelsize = 18)\n",
    "plt.show()\n"
   ]
  },
  {
   "cell_type": "markdown",
   "metadata": {
    "pycharm": {
     "name": "#%% md\n"
    }
   },
   "source": [
    "<div markdown=1 class='Answer'>\n",
    "\n",
    "We observe the convergence of the approximation obtained using the Clenshaw-Curtis rule to the exact value of the integral, as expected. Of course the error saturates at some point due to rounding errors, but contrarily to what happened with the Newton-Cotes rule, the error does not dramatically increase when the rounding errors quick in."
   ]
  },
  {
   "cell_type": "markdown",
   "metadata": {
    "pycharm": {
     "name": "#%% md\n"
    }
   },
   "source": [
    "<div markdown=1, class=\"DoIt\">\n",
    "\n",
    "Consider now Runge's function $f_{Runge}(x)=\\frac{1}{1+25x^2}$, and study graphically the convergence of $I^n_{[-1,1]}(f_{Runge})$ to $\\int_{-1}^1 f_{Runge}(x) dx$ for Clenshaw-Curtis quadrature. Comment on the obtained results. *Hint: to obtain the error, you can use the fact that $\\int_{-1}^1 f_{Runge}(x) dx = \\frac{2}{5} \\arctan (5)$.*"
   ]
  },
  {
   "cell_type": "code",
   "execution_count": null,
   "metadata": {
    "pycharm": {
     "name": "#%%\n"
    }
   },
   "outputs": [],
   "source": [
    "def f_Runge(x):\n",
    "    return 1/(1+25*x**2)\n",
    "\n",
    "I = 2/5 * atan(5) # exact value value the integral\n",
    "\n",
    "# computation of the approximated value of the integral for n = 0,...,nmax\n",
    "...\n",
    "    \n",
    "# computation of the error\n",
    "...\n",
    "\n",
    "# plot\n",
    "...\n"
   ]
  },
  {
   "cell_type": "markdown",
   "metadata": {
    "pycharm": {
     "name": "#%% md\n"
    }
   },
   "source": [
    "<div markdown=1 class='Answer'>\n",
    "\n",
    "We again observe convergence at first, which was not the case for Newton-Cotes quadrature on this example. This time the rounding errors affect the result more strongly when $n$ increases (this could be mitigated by using a better algorithm for computing the weights)."
   ]
  },
  {
   "cell_type": "markdown",
   "metadata": {
    "pycharm": {
     "name": "#%% md\n"
    }
   },
   "source": [
    "### Gaussian quadrature"
   ]
  },
  {
   "cell_type": "markdown",
   "metadata": {
    "pycharm": {
     "name": "#%% md\n"
    }
   },
   "source": [
    "<img src=\"figures/Gauss.jpg\" alt=\"Gauss\" style=\"width: 170px;\" />\n",
    "\n",
    ">**Carl Friedrich Gauss (1777 - 1855).**\n",
    "> Carl Freidrich Gauss is a German mathematician, astronomer and physicist. He made significant contributions to these three fields, including algebra, analysis, optics, mechanics, magnetic fields, matrix theory, statistics... He had a great influence in many fields of science and is sometime referred to as the *Princeps mathematicorum*. Concerning numerical integration, he developed a $(n+1)$-point quadrature method yielding an exact result for polynomials of degree $2n+1$."
   ]
  },
  {
   "cell_type": "markdown",
   "metadata": {
    "pycharm": {
     "name": "#%% md\n"
    }
   },
   "source": [
    "At the beginning of this chapter, we obtained the following estimate for a quadrature rule of degree of accuracy at least $n_a$\n",
    "\n",
    "$$\n",
    "\\left\\vert \\int_{-1}^{1} f(x)dx - I^n_{[-1,1]}(f)\\,\\right\\vert \\leq \\frac{2+\\sum_{k=0}^n |\\omega_k| }{(n_a+1)!}\\sup_{x\\in [-1,1]} \\left\\vert \\,f^{(n_a+1)}(x)\\,\\right\\vert,\n",
    "$$\n",
    "\n",
    "which suggests that it may be a good idea to find quadrature rules having the highest possible degree of accuracy."
   ]
  },
  {
   "cell_type": "markdown",
   "metadata": {
    "pycharm": {
     "name": "#%% md\n"
    }
   },
   "source": [
    "<div markdown=1 class=\"DoIt\">\n",
    "\n",
    "Check numerically the degree of accuracy of Clenshaw-Curtis quadrature for the first few values of $n$, using the function `test_exactness`."
   ]
  },
  {
   "cell_type": "code",
   "execution_count": null,
   "metadata": {
    "pycharm": {
     "name": "#%%\n"
    }
   },
   "outputs": [],
   "source": [
    "for n in np.arange(0,5):\n",
    "    print(\"n = %s\" %n)\n",
    "    x, w = coeffs_ClenshawCurtis(n)\n",
    "    test_exactness(x, w, n+2)\n",
    "    print(\"\\n\")"
   ]
  },
  {
   "cell_type": "markdown",
   "metadata": {
    "collapsed": true,
    "pycharm": {
     "name": "#%% md\n"
    }
   },
   "source": [
    "While Clenshaw-Curtis quadrature already performs much better than Newton-Cotes quadrature, both have the same degree of accuracy, namely $n_a=n+1$ when $n$ is even, and $n_a=n$ when $n$ is odd, $n$ being the degree of the quadrature rule (i.e. when we use $n+1$ nodes).\n",
    "\n",
    "However, when constructing a quadrature rule of degree $n$:\n",
    "\n",
    "$$\n",
    "I^n_{[-1,1]}(f) = \\sum_{k=0}^n f(x_k) \\omega_k,\n",
    "$$\n",
    "\n",
    "we have $2n+2$ degrees of freedom, or if you prefer $2n+2$ parameters than we can choose, namely the $n+1$ nodes $x_0,\\ldots,x_n$ and the $n+1$ weights $\\omega_0,\\ldots,\\omega_n$. This suggests that we could try to satisfy $2n+2$ constraints, and for instance try to have\n",
    "\n",
    "$$\n",
    "I^n_{[-1,1]}(X^j) = \\int_{-1}^1 x^j dx \\qquad{} j=0,\\ldots,2n+1,\n",
    "$$\n",
    "\n",
    "which would give us a rule having a degree of accuracy of at least $2n+1$."
   ]
  },
  {
   "cell_type": "markdown",
   "metadata": {
    "pycharm": {
     "name": "#%% md\n"
    }
   },
   "source": [
    "- **Case $n=1$. We want to obtain a quadrature rule with $\\,\\,n_a=2n+1=3$.**\n",
    "\n",
    "In that case, we have to find $x_0$, $x_1$, $\\omega_0$, $\\omega_1$ such that \n",
    "\n",
    "$$\n",
    "\\int_{-1}^1 P(x) dx = \\omega_0 P(x_0) + \\omega_1 P(x_1) \\quad{} \\text{for}\\quad{} P(x)=1,\\, P(x)=x,\\, P(x)=x^2 \\text{ and } P(x)=x^3.\n",
    "$$\n",
    "\n",
    "This provides the following 4 equations with 4 unknowns to be solved for $(x_0,x_1,\\omega_0,\\omega_1)$:\n",
    "\n",
    "\\begin{align}\n",
    "\\left\\{\n",
    "\\begin{aligned}\n",
    "2 & = \\omega_0 + \\omega_1 \\\\\n",
    "0 & = \\omega_0\\,x_0 + \\omega_1\\,x_1 \\\\\n",
    "\\frac{2}{3} & = \\omega_0\\,x_0^2 + \\omega_1\\,x_1^2 \\\\\n",
    "0 & = \\omega_0\\,x_0^3 + \\omega_1\\,x_1^3 \n",
    "\\end{aligned}\n",
    "\\right.\n",
    "\\end{align}"
   ]
  },
  {
   "cell_type": "markdown",
   "metadata": {
    "pycharm": {
     "name": "#%% md\n"
    }
   },
   "source": [
    "<div markdown=1 class=\"DoIt\">\n",
    "\n",
    "Find a solution to the above system. *Hint: you may look for a solution with symmetric nodes, that is such that $x_0 = - x_1$ and $\\omega_0 = \\omega_1$.*"
   ]
  },
  {
   "cell_type": "markdown",
   "metadata": {
    "pycharm": {
     "name": "#%% md\n"
    }
   },
   "source": [
    "<div markdown=1 class=\"Answer\">\n"
   ]
  },
  {
   "cell_type": "markdown",
   "metadata": {
    "pycharm": {
     "name": "#%% md\n"
    }
   },
   "source": [
    "<img src=\"./figures/Gauss1_Elem.png\" alt=\"Gauss1 Elem\" style=\"height: 300px;\"/>"
   ]
  },
  {
   "cell_type": "markdown",
   "metadata": {
    "pycharm": {
     "name": "#%% md\n"
    }
   },
   "source": [
    "We finally end up with the following rule:\n",
    "\n",
    "\\begin{array}{c|cc}\n",
    "x_k & -\\frac{1}{\\sqrt 3} & \\frac{1}{\\sqrt 3} \\\\ \\hline\n",
    "\\omega_k& 1 & 1\n",
    "\\end{array}"
   ]
  },
  {
   "cell_type": "markdown",
   "metadata": {
    "pycharm": {
     "name": "#%% md\n"
    }
   },
   "source": [
    "<div markdown=1 class=\"DoIt\">\n",
    "\n",
    "Create the arrays $x$ and $\\omega$ corresponding to this rule, and check numerically the degree of accuracy."
   ]
  },
  {
   "cell_type": "code",
   "execution_count": null,
   "metadata": {
    "pycharm": {
     "name": "#%%\n"
    }
   },
   "outputs": [],
   "source": [
    "# Gaussian quadrature of degree 1\n",
    "x_G1 = np.array(...) # nodes\n",
    "w_G1 = np.array(...) # weights\n",
    "\n",
    "test_exactness(x_G1, w_G1, 4)"
   ]
  },
  {
   "cell_type": "markdown",
   "metadata": {
    "pycharm": {
     "name": "#%% md\n"
    }
   },
   "source": [
    "- **Case $n=2$. We want to obtain a quadrature rule with $\\,\\,n_a=2n+1=5$.**\n",
    "\n",
    "In that case, we have to find $x_0$, $x_1$, $x_2$, $\\omega_0$, $\\omega_1$, $\\omega_2$ such that \n",
    "\n",
    "$$\n",
    "\\int_{-1}^1 P(x) dx = \\omega_0 P(x_0) + \\omega_1 P(x_1) + \\omega_2 P(x_2).\n",
    "$$\n",
    "\n",
    "$$\n",
    "\\text{for}\\quad{} P(x)=1,\\, P(x)=x,\\, P(x)=x^2 \\, P(x)=x^3 \\, P(x)=x^4 \\text{ and } P(x)=x^5.\n",
    "$$\n",
    "\n",
    "As before, we can look for a symmetric nodes, i.e. such that\n",
    "\n",
    "$$\n",
    "x_0 = - x_2,\\quad{} x_1 = 0,\\quad{} \\text{and}\\quad \\omega_0 = \\omega_2.\n",
    "$$\n",
    "\n",
    "After some computations (feel free to try and do them as an exercise if you want), we end up with the following coefficients:\n",
    "\n",
    "\\begin{array}{c|cc}\n",
    "x_k & -\\sqrt{\\frac{3}{5}} & 0 & \\sqrt{\\frac{3}{5}} \\\\ \\hline\n",
    "\\omega_k & \\frac{5}{9} & \\frac{8}{9} & \\frac{5}{9}\n",
    "\\end{array}"
   ]
  },
  {
   "cell_type": "markdown",
   "metadata": {
    "pycharm": {
     "name": "#%% md\n"
    }
   },
   "source": [
    "<img src=\"./figures/Gauss2_Elem.png\" alt=\"Gauss2 Elem\" style=\"height: 300px;\"/>"
   ]
  },
  {
   "cell_type": "markdown",
   "metadata": {
    "pycharm": {
     "name": "#%% md\n"
    }
   },
   "source": [
    "<div markdown=1 class=\"DoIt\">\n",
    "\n",
    "Create the arrays $x$ and $\\omega$ corresponding to this rule, and check numerically the degree of accuracy."
   ]
  },
  {
   "cell_type": "code",
   "execution_count": null,
   "metadata": {
    "pycharm": {
     "name": "#%%\n"
    }
   },
   "outputs": [],
   "source": [
    "# Gaussian quadrature of degree 2\n",
    "x_G2 = ... # nodes\n",
    "w_G2 = ... # weights\n",
    "\n",
    "..."
   ]
  },
  {
   "cell_type": "markdown",
   "metadata": {
    "pycharm": {
     "name": "#%% md\n"
    }
   },
   "source": [
    "<div markdown=1, class=\"DoIt\">\n",
    "\n",
    "As a first test for Gaussian quadrature rules, consider again the function $f(x)=\\cos\\left(\\frac{\\pi}{2} x\\right)$, and its integral on $[-1,1]$. For a given degree $n=2$ (i.e. with 3 nodes), compare the approximate results obtained with Newton-Cotes quadrature, Clenshaw-Curtis quadrature and Gaussian quadrature."
   ]
  },
  {
   "cell_type": "code",
   "execution_count": null,
   "metadata": {
    "pycharm": {
     "name": "#%%\n"
    }
   },
   "outputs": [],
   "source": [
    "def f(x):\n",
    "    return  np.cos(pi/2*x)\n",
    "\n",
    "I = 4/pi # exact value of the integral of f from -1 to 1\n",
    "\n",
    "n = 2\n",
    "x_NC, w_NC = ... # coefficients for the Newton-Cotes quadrature \n",
    "x_CC, w_CC = ... # coefficients for the Clenshaw-Curtis quadrature\n",
    "\n",
    "I_NC = QuadRule(f, x_NC, w_NC) # approximate integral with Newton-Cotes quadrature\n",
    "I_CC = QuadRule(f, x_CC, w_CC) # approximate integral with Clenshaw-Curtis quadrature\n",
    "I_G = QuadRule(f, x_G2, w_G2) # approximate integral with Gaussian quadrature\n",
    "\n",
    "\n",
    "print(\"Exact value of the integral : %.5f\" % I)\n",
    "print(\"Approximation of the integral using Newton-Cotes quadrature rule : %.5f\" % I_NC)\n",
    "print(\"Approximation of the integral using Clenshaw-Curtis quadrature rule : %.5f\" % I_CC)\n",
    "print(\"Approximation of the integral using Gaussian quadrature rule : %.5f\" % I_G)"
   ]
  },
  {
   "cell_type": "markdown",
   "metadata": {
    "pycharm": {
     "name": "#%% md\n"
    }
   },
   "source": [
    "In all three cases we use the same number of nodes (and therefore we need the same number of evaluations of $f$), but Gaussian quadrature gives a more precise result, which is what we were hopping for when trying to obtain a rule with a higher degree of accuracy. "
   ]
  },
  {
   "cell_type": "markdown",
   "metadata": {
    "pycharm": {
     "name": "#%% md\n"
    }
   },
   "source": [
    "- **General case**\n",
    "\n",
    "Let us now consider the general case. The integer $n$ being given, one wants to find nodes $x_0,\\ldots,x_n$ and weights $\\omega_0,\\ldots,\\omega_n$ such that the associated quadrature rule \n",
    "\n",
    "$$\n",
    "I^n_{[-1,1]}(f) = \\sum_{k=0}^n f(x_k) \\omega_k,\n",
    "$$\n",
    "\n",
    "has a degree of accuracy of at least $n_a=2n+1$.\n",
    "\n",
    "Suppose for the moment that such coefficients exist, and consider $\\Pi(x)=(x-x_0)(x-x_1)\\ldots(x-x_n)$ which is a polynomial of degree $n+1$. Then, for any polynomial $P$ of degree lower or equal to $n$ we have that $P\\Pi$ is a polynomial of degree lower or equal to $n_a$. As a consequence we have\n",
    "\n",
    "$$\n",
    "\\int_{-1}^1 P(x)\\Pi(x) dx = I^n_{[-1,1]} (P\\,\\Pi) = \\sum_{k=0}^n \\omega_k P(x_k)\\Pi(x_k) = 0.\n",
    "$$\n",
    "\n",
    "Therefore, for any polynomial $P$ of degree $n$ or less, we have\n",
    "\n",
    "$$\n",
    "\\int_{-1}^1 P(x)\\Pi(x) dx =0.\n",
    "$$\n",
    "\n",
    "This property encourages us to consider so-called **orthogonal polynomials**."
   ]
  },
  {
   "cell_type": "markdown",
   "metadata": {
    "pycharm": {
     "name": "#%% md\n"
    }
   },
   "source": [
    "<div  markdown=1 class=\"Prop\"> \n",
    "\n",
    "**Legendre orthogonal polynomials.** There exists a unique family of polynomials $\\left(Q_n\\right)_{n\\geq 0}$ verifying\n",
    "\n",
    "- $Q_n$ is of degree $n$,\n",
    "- $\\displaystyle \\int_{-1}^1 P(x) Q_n(x) dx = 0$ for any polynomial $P$ of degree at most $n-1$,\n",
    "- $Q_n(1)=1$.\n",
    "\n",
    "These polynomials are called the Legendre polynomials. It can be proven that they have $n$ distinct roots in $(-1,1)$."
   ]
  },
  {
   "cell_type": "markdown",
   "metadata": {
    "pycharm": {
     "name": "#%% md\n"
    }
   },
   "source": [
    "Notice that the polynomial $\\Pi$ defined just above is of degree $n+1$ and satisfies $\\displaystyle \\int_{-1}^1 P(x) \\Pi(x) dx = 0$ for any polynomial $P$ of degree at most $n$. Therefore, one could try taking $\\Pi = Q_{n+1}$, that is using the roots of the $n+1$-th Legendre polynomial $Q_{n+1}$ as the quadrature nodes."
   ]
  },
  {
   "cell_type": "markdown",
   "metadata": {
    "pycharm": {
     "name": "#%% md\n"
    }
   },
   "source": [
    "<div markdown=1 class=\"Def\"> \n",
    "\n",
    "The **Gaussian (or Gauss-Legendre) quadrature rules** are the quadrature rules based on Lagrange interpolation for which the $n+1$ nodes are the roots of the $n+1$-th Legendre polynomial $Q_{n+1}$."
   ]
  },
  {
   "cell_type": "markdown",
   "metadata": {
    "pycharm": {
     "name": "#%% md\n"
    }
   },
   "source": [
    "We prove below that this choice indeed leads to a quadrature rule having a degree of accuracy $n_a=2n+1$."
   ]
  },
  {
   "cell_type": "markdown",
   "metadata": {
    "pycharm": {
     "name": "#%% md\n"
    }
   },
   "source": [
    "<div  markdown=1 class=\"Thm\"> \n",
    "\n",
    "The Gaussian (or Gauss-Legendre) quadrature rule of degree $n$ (i.e. with $n+1$ nodes) has a degree of accuracy $n_a=2n+1$."
   ]
  },
  {
   "cell_type": "markdown",
   "metadata": {
    "pycharm": {
     "name": "#%% md\n"
    }
   },
   "source": [
    ">**Proof. $[\\star]$** We first have to prove that $Q_{n+1}$ has $n+1$ distinct roots in $(-1,1)$. Let us assume by contradiction that $Q_{n+1}$ has $d+1<n+1$ distinct roots $x_0,\\ldots,x_d$ in $(-1,1)$. This means we can write\n",
    ">\n",
    ">$$\n",
    "Q_{n+1}(x) = R(x) \\prod_{k=0}^d (x-x_k)^{\\alpha_k},\n",
    "$$\n",
    ">\n",
    ">where $R$ is a polynomial having no roots in $(-1,1)$, and $\\alpha_k \\geq 1$, $k=0,\\ldots,d$. We are going to reach a contradiction by using the fact that\n",
    ">\n",
    ">$$\n",
    "\\int_{-1}^1 P(x) Q_{n+1} dx = 0,\n",
    "$$\n",
    ">\n",
    ">for all polynomials of degree at most $n$. Indeed, let us consider\n",
    ">\n",
    ">$$\n",
    "P(x) = \\prod_{k=0}^d (x-x_k)^{\\beta_k}\n",
    "$$\n",
    ">\n",
    ">where\n",
    ">\n",
    ">$$\n",
    "\\beta_k = \n",
    "\\left\\{\n",
    "\\begin{aligned}\n",
    "&1 \\qquad{} \\text{if }\\alpha_k \\text{ is odd,} \\\\\n",
    "&0 \\qquad{} \\text{if }\\alpha_k \\text{ is even.}\n",
    "\\end{aligned}\n",
    "\\right.\n",
    "$$\n",
    ">\n",
    "> This polynomial is of degree at most $n$ because we assumed $d<n$, and therefore\n",
    ">\n",
    ">\\begin{align}\n",
    " 0 &= \\int_{-1}^1 \\prod_{k=0}^d (x-x_k)^{\\beta_k} Q_{n+1}(x) dx  \\\\\n",
    " &= \\int_{-1}^1 \\prod_{k=0}^d (x-x_k)^{\\alpha_k+\\beta_k} R(x) dx.\n",
    "\\end{align}\n",
    ">\n",
    ">However, $\\prod_{k=0}^d (x-x_k)^{\\alpha_k+\\beta_k}$ is nonnegative ($\\alpha_k+\\beta_k$ is even for all $k$) and $R$ has a constant sign on $(-1,1)$ (it does not have any zero in $(-1,1)$), therefore the integral cannot be equal to $0$, contradiction.\n",
    ">\n",
    ">Now that we have shown that $Q_{n+1}$ has $n+1$ distinct roots in $(-1,1)$, let us prove that the quadrature rule based on Lagrangian interpolation at these nodes has a degree of accuracy of at least $2n+1$. Let $P$ be a polynomial of degree lower or equal to $2n+1$, and let us consider the euclidean division of $P$ by the $n+1$-th Legendre polynomial $Q_{n+1}$:\n",
    ">\n",
    ">$$\n",
    "P = A Q_{n+1}  + B \\quad{}\\text{ with }\\quad{} B \\text{ of degree at most } n.\n",
    "$$\n",
    ">\n",
    ">From the degrees of $Q_{n+1}$ and $P$ we have that the degree of $A$ is lower or equal to $n$, and therefore\n",
    ">\n",
    ">$$\n",
    "\\int_{-1}^1 P(x)dx = \\int_{-1}^1  A(x)Q_{n+1}(x) dx + \\int_{-1}^1 B(x)dx = \\int_{-1}^1 B(x)dx.\n",
    "$$\n",
    ">\n",
    ">Moreover, since the quadrature points $(x_k)$ are the roots of $Q_{n+1}$, we have \n",
    ">\n",
    ">$$\n",
    "I^n_{[-1,1]}(P) = \\sum_{k=0}^n P(x_k) \\omega_k = \\sum_{k=0}^n \\left(A(x_k) Q_{n+1}(x_k)  + B(x_k) \\right) \\omega_k = \\sum_{k=0}^n B(x_k) \\omega_k = I^n_{[-1,1]}(B).\n",
    "$$\n",
    ">\n",
    ">Finally, since the quadrature rule is based on Lagrange interpolation, it is exact for polynomials of degree $n$, and therefore $I^n_{[-1,1]}(B) = \\int_{-1}^1 B(x)dx$. Putting everything together, we get\n",
    ">\n",
    ">$$\n",
    "\\int_{-1}^1 P(x)dx = \\int_{-1}^1 B(x)dx = I_{[-1,1]} (B) = I_{[-1,1]} (P).\n",
    "$$\n",
    ">\n",
    ">and the quadrature rule has indeed a degree of accuracy of at least $2n+1$.\n",
    ">\n",
    "> It remains to prove that the degree of accuracy is exactly equal to $2n+1$. To do so, we consider the polynomial $P(x)=(x-x_0)^2(x-x_1)^2\\ldots(x-x_n)^2$ of degree $2n+2$, for which we have\n",
    ">\n",
    ">$$\n",
    "I^n_{[-1,1]} (P) = \\sum_{k=0}^n \\omega_k P(x_k) = 0 \\neq \\int_{-1}^1 P(x) dx,\n",
    "$$ \n",
    ">\n",
    ">because $P$ is nonnegative."
   ]
  },
  {
   "cell_type": "markdown",
   "metadata": {
    "pycharm": {
     "name": "#%% md\n"
    }
   },
   "source": [
    "<div markdown=1 class=\"Rmk\">\n",
    "\n",
    "- As for the Clenshaw-Curtis rule, it can be shown that the Gaussian quadrature $I^n_{[-1,1]}(f)$ converges to $\\int_{-1}^1f(x) dx$ for any continuous function.\n",
    "- This Gaussian quadrature rule is also called Gauss-Legendre quadrature rule."
   ]
  },
  {
   "cell_type": "markdown",
   "metadata": {
    "pycharm": {
     "name": "#%% md\n"
    }
   },
   "source": [
    "The nodes and weights for the Gauss-Legendre quadrature can be obtained using the funciong `roots_legendre` from scipy.special."
   ]
  },
  {
   "cell_type": "code",
   "execution_count": null,
   "metadata": {
    "pycharm": {
     "name": "#%%\n"
    }
   },
   "outputs": [],
   "source": [
    "def coeffs_GaussLegendre(n):\n",
    "    \"\"\"\n",
    "    computation of the nodes and weights for the Gaussian (or Gauss-Legendre) quadrature rule at any order\n",
    "    ---------------------------------\n",
    "    Inputs :\n",
    "    n: degree of the rule (we want n+1 nodes)\n",
    "    \n",
    "    Outputs:\n",
    "    x, w: 1D array containing the nodes and the weights\n",
    "    \"\"\"\n",
    "    return roots_legendre(n+1)"
   ]
  },
  {
   "cell_type": "code",
   "execution_count": null,
   "metadata": {
    "pycharm": {
     "name": "#%%\n"
    }
   },
   "outputs": [],
   "source": [
    "#Sanity check\n",
    "\n",
    "x_1, w_1 = coeffs_GaussLegendre(1)\n",
    "print(1, x_1, w_1)\n",
    "\n",
    "x_2, w_2 = coeffs_GaussLegendre(2)\n",
    "print(2, x_2, w_2)"
   ]
  },
  {
   "cell_type": "markdown",
   "metadata": {
    "pycharm": {
     "name": "#%% md\n"
    }
   },
   "source": [
    "<div mardown=1 class=\"Thm\">\n",
    "    \n",
    "For the Gauss-Legendre quadrature, all the weights $\\omega_k$ are positive for all $n$."
   ]
  },
  {
   "cell_type": "markdown",
   "metadata": {
    "pycharm": {
     "name": "#%% md\n"
    }
   },
   "source": [
    "<div markdown=1, class=\"DoIt\">\n",
    "\n",
    "For the Gauss-Legendre quadrature, study graphically the behavior of $\\sum_{k=0}^n \\vert \\omega_k \\vert$ when $n$ increases."
   ]
  },
  {
   "cell_type": "code",
   "execution_count": null,
   "metadata": {
    "pycharm": {
     "name": "#%%\n"
    }
   },
   "outputs": [],
   "source": [
    "nmax = 200\n",
    "tab_n = np.arange(0, nmax+1) \n",
    "tab_sum = np.zeros(nmax+1) # initialization for the values of the sum for different n\n",
    "\n",
    "# for n = 0,...,nmax, computation of sum_{k=0}^n |w_k|\n",
    "for n in tab_n:\n",
    "    x_n, w_n = ...\n",
    "    tab_sum[n] = ...\n",
    "\n",
    "#plot\n",
    "..."
   ]
  },
  {
   "cell_type": "markdown",
   "metadata": {
    "pycharm": {
     "name": "#%% md\n"
    }
   },
   "source": [
    "<div mardown=1 class=\"Rmk\">\n",
    "    \n",
    "As expected, since all the weights $\\omega_k$ are supposed to be positive, $\\sum_{k=0}^n \\vert \\omega_k \\vert$ stays equal to $2$ for all $n$. Apparently, the algorithm used by scipy for computing these weights is more stable than the one we used for Clenshaw-Curtis quadrature, because we do not seem to have problems with rounding errors."
   ]
  },
  {
   "cell_type": "markdown",
   "metadata": {
    "pycharm": {
     "name": "#%% md\n"
    }
   },
   "source": [
    "<div markdown=1, class=\"DoIt\">\n",
    "\n",
    "Consider again the function $f(x)=\\cos\\left(\\frac{\\pi}{2} x\\right)$, and study graphically the convergence of $I^n_{[-1,1]}(f)$ to $\\int_{-1}^1 f(x) dx$, both for Clenshaw-Curtis quadrature and for Gauss-Legendre quadrature."
   ]
  },
  {
   "cell_type": "code",
   "execution_count": null,
   "metadata": {
    "pycharm": {
     "name": "#%%\n"
    }
   },
   "outputs": [],
   "source": [
    "I = 4/pi # exact value\n",
    "\n",
    "nmax = 25\n",
    "tab_n = np.arange(0, nmax+1)\n",
    "tab_InCC = np.zeros(nmax+1)\n",
    "tab_InGL = np.zeros(nmax+1)\n",
    "\n",
    "# computation of the approximated value of the integral for n = 0,...,nmax\n",
    "for n in tab_n:\n",
    "    x_nCC, w_nCC = ...\n",
    "    tab_InCC[n] = ...\n",
    "    x_nGL, w_nGL = ...\n",
    "    tab_InGL[n] = ...\n",
    "    \n",
    "# computation of the error\n",
    "tab_errCC = ...\n",
    "tab_errGL = ...\n",
    "\n",
    "# plot\n",
    "..."
   ]
  },
  {
   "cell_type": "markdown",
   "metadata": {
    "pycharm": {
     "name": "#%% md\n"
    }
   },
   "source": [
    "<div markdown=1 class='Answer'>\n"
   ]
  },
  {
   "cell_type": "markdown",
   "metadata": {
    "pycharm": {
     "name": "#%% md\n"
    }
   },
   "source": [
    "<div markdown=1, class=\"DoIt\">\n",
    "\n",
    "Repeat this comparison, this time with the function $f_{Runge}(x)=\\frac{1}{1+25x^2}$."
   ]
  },
  {
   "cell_type": "code",
   "execution_count": null,
   "metadata": {
    "pycharm": {
     "name": "#%%\n"
    }
   },
   "outputs": [],
   "source": [
    "def f_Runge(x):\n",
    "    return 1/(1+25*x**2)\n",
    "\n",
    "I = 2/5 * atan(5) # exact value\n",
    "\n",
    "nmax = 40\n",
    "tab_n = np.arange(0, nmax+1)\n",
    "tab_InCC = np.zeros(nmax+1)\n",
    "tab_InGL = np.zeros(nmax+1)\n",
    "\n",
    "# computation of the approximated value of the integral for n = 0,...,nmax\n",
    "for n in tab_n:\n",
    "    x_nCC, w_nCC = ...\n",
    "    tab_InCC[n] = ...\n",
    "    x_nGL, w_nGL = ...\n",
    "    tab_InGL[n] = ...\n",
    "    \n",
    "# computation of the error\n",
    "tab_errCC = ...\n",
    "tab_errGL = ...\n",
    "\n",
    "# plot\n",
    "...\n"
   ]
  },
  {
   "cell_type": "markdown",
   "metadata": {
    "pycharm": {
     "name": "#%% md\n"
    }
   },
   "source": [
    "<div markdown=1 class='Answer'>\n"
   ]
  },
  {
   "cell_type": "markdown",
   "metadata": {
    "pycharm": {
     "name": "#%% md\n"
    }
   },
   "source": [
    "<div markdown=1, class='Rmk'>\n",
    "\n",
    "We re-emphasize that the fact that rouding errors seems more impactful for Clenshaw-Curtis quadrature has nothing to do with the quadrature rule itself, only with the algorithms that are used to compute the weights."
   ]
  },
  {
   "cell_type": "markdown",
   "metadata": {
    "pycharm": {
     "name": "#%% md\n"
    }
   },
   "source": [
    "The fact that both quadrature rules have rather similar properties is not a coincidence: The nodes are actually not that different, and distributed in a similar fashion, as can be seen in the next picture."
   ]
  },
  {
   "cell_type": "code",
   "execution_count": null,
   "metadata": {
    "pycharm": {
     "name": "#%%\n"
    }
   },
   "outputs": [],
   "source": [
    "n = 20\n",
    "x_CC, w_CC = coeffs_ClenshawCurtis(n)\n",
    "x_GL, w_GL = coeffs_GaussLegendre(n)\n",
    "\n",
    "# plot\n",
    "fig = plt.figure(figsize=(10, 6))\n",
    "plt.plot(x_CC, 0*x_CC, marker=\"o\", linestyle=\"\", label=\"Clenshaw-Curtis nodes\")\n",
    "plt.plot(x_GL, 0*x_GL, marker=\"o\", linestyle=\"\", label=\"Gauss-Legendre nodes\")\n",
    "plt.xlabel('x', fontsize = 18)\n",
    "plt.legend(fontsize = 18)\n",
    "plt.title('Position of the nodes, n=%s' %n, fontsize = 18) \n",
    "plt.tick_params(labelsize = 18)\n",
    "plt.yticks([])\n",
    "plt.show()\n"
   ]
  },
  {
   "cell_type": "markdown",
   "metadata": {
    "pycharm": {
     "name": "#%% md\n"
    }
   },
   "source": [
    "**Conclusions**\n",
    "\n",
    "- While Newton-Cotes quadrature rules do not behave well when $n$ becomes too large, Clenshaw-Curtis and Gauss-Legendre rules both have very good theoretical properties: they converge for any continuous function, and the smoother the function the faster the convergence. However, even for Clenshaw-Curtis and Gauss-Legendre rules, one has to be mindful about how the weights are computed for large $n$ (there exist good algorithms to compute these weights in a stable and efficient manner, but this goes beyond the scope of this course).\n",
    "\n",
    "- Form the viewpoint of the degree of accuracy, Gauss-Legendre rules are superior to Clenshaw-Curtis rules, but when we look at the error for $n$ large there is not always a big difference between the two."
   ]
  },
  {
   "cell_type": "markdown",
   "metadata": {
    "pycharm": {
     "name": "#%% md\n"
    }
   },
   "source": [
    "<a id=\"CompQuad\"></a>\n",
    "## Composite integration"
   ]
  },
  {
   "cell_type": "markdown",
   "metadata": {
    "pycharm": {
     "name": "#%% md\n"
    }
   },
   "source": [
    "If we want to avoid using a quadrature rule with a very large $n$, we can use instead a **piecewise** approach, based on a subdivision of the interval in $m$ smaller subintervals, and elementary quadrature rules of lower degree $n$ on each subinterval.  We describe and analyze the behavior of such a piecewise approach in this section."
   ]
  },
  {
   "cell_type": "markdown",
   "metadata": {
    "pycharm": {
     "name": "#%% md\n"
    }
   },
   "source": [
    "Let $(x_k)_{k=0\\ldots m}$ be $m+1$ distinct given points in $[a,b]$, such that $a=x_0<x_1<\\ldots<x_m=b$. We consider the corresponding subdivision of the interval:\n",
    "\n",
    "$$\n",
    "[a,b] = \\bigcup_{k=0}^{m-1} [x_k,x_{k+1}].\n",
    "$$\n",
    "\n",
    "The set of points $(x_k)_{i=0\\ldots m}$ is said to be a **mesh of the interval $[a,b]$** and we define the **mesh size** as:\n",
    "\n",
    "$$h = \\max_{k=0\\ldots m-1}{\\lvert x_{k+1} - x_k \\rvert}.$$\n",
    "\n",
    "This parameter $h$ is the one we are going to change to adapt the quality of the approximation: hopefully, when $h$ goes to $0$ we get closer and closer to the exact integral."
   ]
  },
  {
   "cell_type": "markdown",
   "metadata": {
    "pycharm": {
     "name": "#%% md\n"
    }
   },
   "source": [
    "<div markdown = 1 class = \"Def\"> \n",
    "\n",
    "Consider an interval $[a,b]$, a set of $m+1$ mesh points $(x_k)_{0\\leq k\\leq m}$ such that $a = x_0 < x_1 < \\ldots < x_m = b$, and an integer $n$. A **composite quadrature rule** of degree $n$ associated to the mesh $(x_k)_{0\\leq k\\leq m}$ is an approximation of $\\int_a^b$ of the following form \n",
    "\n",
    "$$\n",
    "\\int_a^b f(x)dx = \\sum_{k=0}^{m-1} \\int_{x_k}^{x_{k+1}} f(x)dx  \\approx \\sum_{k=0}^{m-1} I^n_{[x_k,x_{k+1}]}(f),\n",
    "$$\n",
    "\n",
    "where $I^n_{[x_k,x_{k+1}]}$ is an elementary quadrature rule of degree $n$ on $[x_k,x_{k+1}]$.\n",
    "\n",
    "We denote by $E_m(f)$ the error\n",
    "\n",
    "$$\n",
    "E_m(f) = \\left\\vert \\int_a^b f(x)dx - \\sum_{k=0}^{m-1} I^n_{[x_k,x_{k+1}]}(f) \\right\\vert ,\n",
    "$$\n",
    "\n",
    "associated to such a composite quadrature rule (the error also depends on $n$, on $[a,b]$, and on the mesh, but our focus will be on the behavior of the error when $m$ goes to infinity)."
   ]
  },
  {
   "cell_type": "markdown",
   "metadata": {
    "collapsed": true,
    "pycharm": {
     "name": "#%% md\n"
    }
   },
   "source": [
    "<div markdown=1, class='Rmk'>\n",
    "\n",
    "- The elementary quadrature rule $I^n_{[x_k,x_{k+1}]}$ can be any of the quadrature rules of degree $n$ that we have seen up to now.\n",
    "\n",
    "- In principle, one could use a different quadrature rule on each subinterval $[x_k,x_{k+1}]$ (and even change the degree $n$ on each subinterval), but to keep things simple we only consider here composite quadrature rules with the same elementary rule on all subintervals.\n",
    "\n",
    "- Also to keep things simple, in practice we are only going to use uniform meshes, meaning that the $x_k$ are given by\n",
    "$$\n",
    "x_k = a + k\\frac{b-a}{m}.\n",
    "$$\n",
    "In that situation, each subinterval has length $h=\\frac{b-a}{m}$, and making $h$ go to zero is equivalent to making $m$ go to infinity."
   ]
  },
  {
   "cell_type": "markdown",
   "metadata": {
    "collapsed": true,
    "pycharm": {
     "name": "#%% md\n"
    }
   },
   "source": [
    "- **Composite left rectangle method**\n",
    "\n",
    "For $n=0$, if we use the left rectangle elementary rule on each subinterval we obtain:\n",
    "\n",
    "$$\n",
    "\\int_a^b f(x)dx  \\approx \\sum_{k=0}^{m-1} I^0_{[x_k,x_{k+1}]}(f) = \\sum_{k=0}^{m-1} (x_{k+1}-x_k)\\,f(x_k).\n",
    "$$\n",
    "\n",
    "If we use a uniform mesh, we simply get the following formula for the composite left rectangle method:\n",
    "\n",
    "$$\n",
    "\\int_a^b f(x)dx  \\approx \\frac{b-a}{m}\\sum_{k=0}^{m-1} f(x_k).\n",
    "$$\n",
    "\n",
    "<img src=\"./figures/RectL_Comp.png\" alt=\"RectL Comp\" style=\"height: 300px;\"/>"
   ]
  },
  {
   "cell_type": "markdown",
   "metadata": {
    "collapsed": true,
    "pycharm": {
     "name": "#%% md\n"
    }
   },
   "source": [
    "- **Composite midpoint method**\n",
    "\n",
    "Still for $n=0$, if we instead use the mid-point elementary rule on each subinterval we obtain:\n",
    "\n",
    "$$\n",
    "\\int_a^b f(x)dx  \\approx \\sum_{k=0}^{m-1} (x_{k+1}-x_k)\\,f(x_{k+1/2}),\n",
    "$$\n",
    "\n",
    "which, for a uniform mesh, simplifies into\n",
    "\n",
    "$$\n",
    "\\int_a^b f(x)dx  \\approx \\frac{b-a}{m}\\sum_{k=0}^{m-1} f(x_{k+1/2}),\n",
    "$$\n",
    "\n",
    "where $x_{k+1/2} = \\frac{1}{2}(x_k+x_{k+1})$ denotes the mid-point of the subinterval $[x_k,x_{k+1}]$."
   ]
  },
  {
   "cell_type": "markdown",
   "metadata": {
    "collapsed": true,
    "pycharm": {
     "name": "#%% md\n"
    }
   },
   "source": [
    "- **Composite trapezoidal method**\n",
    "\n",
    "For $n=1$, the composite quadrature based on the elementary trapezoidal rule gives:\n",
    "\n",
    "$$\n",
    "\\int_a^b f(x)dx  \\approx \\sum_{k=0}^{m-1} I^0_{[x_k,x_{k+1}]}(f) = \\sum_{k=0}^{m-1} \\frac{x_{k+1}-x_k}{2}\\,(f(x_k)+f(x_{k+1})).\n",
    "$$\n",
    "\n",
    "If we use a uniform mesh, we simply get the following formula for the composite trapezoidal method:\n",
    "\n",
    "$$\n",
    "\\int_a^b f(x)dx  \\approx \\frac{b-a}{m}\\sum_{k=0}^{m-1} \\frac{f(x_k)+f_(x_{k+1})}{2} = \\frac{b-a}{m}\\left(\\frac{f(x_0)+f(x_{m})}{2} + \\sum_{k=1}^{m-1} f(x_k) \\right) .\n",
    "$$\n",
    "\n",
    "<img src=\"./figures/Trap_Comp.png\" alt=\"Trap Comp\" style=\"height: 300px;\"/>"
   ]
  },
  {
   "cell_type": "markdown",
   "metadata": {
    "pycharm": {
     "name": "#%% md\n"
    }
   },
   "source": [
    "### First tests"
   ]
  },
  {
   "cell_type": "markdown",
   "metadata": {
    "pycharm": {
     "name": "#%% md\n"
    }
   },
   "source": [
    "<div markdown=1 class=\"DoIt\">\n",
    "\n",
    "Complete the following cell to get a function `QuadRule_composite` which evaluates such a piecewise approximation of the integral. *Hints: you may use the function `QuadRule` on each subinterval, and the fact that, given some $nodes$ and $weights$ for an elementary quadrature rule on $[-1,1]$, the corresponding nodes and weights on any interval $[a,b]$ are given by $a + (nodes+1)(b-a)/2$ and $weights(b-a)/2$ respectively.*"
   ]
  },
  {
   "cell_type": "code",
   "execution_count": null,
   "metadata": {
    "pycharm": {
     "name": "#%%\n"
    }
   },
   "outputs": [],
   "source": [
    "def QuadRule_composite(f, mesh, nodes_elem, weights_elem):\n",
    "    \"\"\"\n",
    "    Approximate integral using a composite quadrature rule\n",
    "    -----------------------------------------\n",
    "    Inputs :\n",
    "    f: function to be integrated\n",
    "    mesh: the mesh points [x_0,...,x_m] defining the subintervals\n",
    "    nodes_elem, weights_elem: the coefficients of the elementary quadrature rule (on [-1,1])\n",
    "    \n",
    "    Output\n",
    "    the value of the composite quadrature rule applied to f\n",
    "    \"\"\"\n",
    "    m = mesh.size - 1 # number of subintervals\n",
    "    I_comp = 0\n",
    "    for k in np.arange(0,m):\n",
    "        xk = ... # getting x_k\n",
    "        xkp1 = ... # getting x_{k+1}\n",
    "        nodes_rescaled = ... # nodes of the elementary rule rescaled for the interval [x_k,x_{k+1}]\n",
    "        weights_rescaled = ... # weights of the elementary rule rescaled for the interval [x_k,x_{k+1}]\n",
    "        I_comp = I_comp + ... # elementary quadrature on [x_k,x_{k+1}]\n",
    "    return I_comp"
   ]
  },
  {
   "cell_type": "markdown",
   "metadata": {
    "pycharm": {
     "name": "#%% md\n"
    }
   },
   "source": [
    "<div markdown=1 class=\"DoIt\">\n",
    "\n",
    "Consider again the function $f(x)=\\cos\\left(\\frac{\\pi}{2} x\\right)$, and its integral between $-1$ and $1$. Using the function `QuadRule_composite`, approximate this integral using a composite quadrature rule with a uniform mesh and $n=1$ for the elementary rule. Study the behavior of the error when $m$ increase, and compare what happens when the elementary rule is a Newton-Cotes rule, a Clenshaw-Curtis rule, or a Gauss-Legendre rule (always of degree $n=1$ for the moment)."
   ]
  },
  {
   "cell_type": "code",
   "execution_count": null,
   "metadata": {
    "pycharm": {
     "name": "#%%\n"
    }
   },
   "outputs": [],
   "source": [
    "def f(x):\n",
    "    return  np.cos(pi/2*x)\n",
    "\n",
    "a = -1\n",
    "b = 1\n",
    "I = 4/pi # exact value of the integral of f from -1 to 1\n",
    "\n",
    "# coefficients on [-1,1] for each elementary rule\n",
    "n = 1\n",
    "nodes_elem_NC, weights_elem_NC = coeffs_NewtonCotes(n) \n",
    "nodes_elem_CC, weights_elem_CC = coeffs_ClenshawCurtis(n)\n",
    "nodes_elem_GL, weights_elem_GL = coeffs_GaussLegendre(n)\n",
    "\n",
    "m_max = 100\n",
    "tab_m = np.arange(1, m_max+1)\n",
    "# Initialization\n",
    "tab_IcompCC = np.zeros(m_max)\n",
    "tab_IcompGL = np.zeros(m_max)\n",
    "\n",
    "# computation of the approximated value of the integral for m = 1,...,m_max\n",
    "for m in tab_m:\n",
    "    mesh = np.linspace(a, b, m+1)\n",
    "    tab_IcompNC[m-1] = ...\n",
    "    tab_IcompCC[m-1] = ...\n",
    "    tab_IcompGL[m-1] = ...\n",
    "    \n",
    "# computation of the error\n",
    "tab_errNC = ...\n",
    "tab_errCC = ...\n",
    "tab_errGL = ...\n",
    "\n",
    "# plot\n",
    "...\n"
   ]
  },
  {
   "cell_type": "markdown",
   "metadata": {
    "pycharm": {
     "name": "#%% md\n"
    }
   },
   "source": [
    "<div markdown=1 class=\"DoIt\">\n",
    "\n",
    "What scales did you use for the previous plot? Can you think of a different scale in which one could better understand the behavior of the error? Can you guess how the error behaves with respect to $m$ for each case?"
   ]
  },
  {
   "cell_type": "code",
   "execution_count": null,
   "metadata": {
    "pycharm": {
     "name": "#%%\n"
    }
   },
   "outputs": [],
   "source": [
    "# plot\n",
    "..."
   ]
  },
  {
   "cell_type": "markdown",
   "metadata": {
    "pycharm": {
     "name": "#%% md\n"
    }
   },
   "source": [
    "<div markdown=1 class=\"Answer\">"
   ]
  },
  {
   "cell_type": "markdown",
   "metadata": {
    "pycharm": {
     "name": "#%% md\n"
    }
   },
   "source": [
    "<div markdown=1 class=\"Rmk\">\n",
    "\n",
    "Here we chose to study the behavior of the error with respect to $m$, but it is also common to look at its behavior with respect to $h$, which can be especially relevant for non-uniform meshes. In our case both viewpoints are fully equivalent since we have the relationship $h=(b-a)/m$, and plots with respect to $h$ can be observed below."
   ]
  },
  {
   "cell_type": "code",
   "execution_count": null,
   "metadata": {
    "pycharm": {
     "name": "#%%\n"
    }
   },
   "outputs": [],
   "source": [
    "# plot\n",
    "tab_h = (b-a)/tab_m\n",
    "fig = plt.figure(figsize=(10, 6))\n",
    "plt.plot(tab_h, tab_errNC, marker=\"o\", label=\"composite Newton-Cotes rule\")\n",
    "plt.plot(tab_h, tab_errCC, marker=\"o\", label=\"composite Clenshaw-Curtis rule\")\n",
    "plt.plot(tab_h, tab_errGL, marker=\"o\", label=\"composite Gauss-Legendre rule\")\n",
    "plt.plot(tab_h, tab_h**2, linestyle=\"--\", linewidth=3, label=\"$h^2$\")\n",
    "plt.plot(tab_h, tab_h**4, linestyle=\"--\", linewidth=3, label=\"$h^4$\")\n",
    "plt.xlabel('h', fontsize = 18) \n",
    "plt.ylabel('Error $E_h(f)$', fontsize = 18)\n",
    "plt.legend(fontsize = 18)\n",
    "plt.title('Approximation of $\\int_{-1}^1 \\cos(\\pi/2 x) dx$, composite rules with n=%s'%n, fontsize = 18) \n",
    "plt.xscale('log')\n",
    "plt.yscale('log')\n",
    "plt.tick_params(labelsize = 18)\n",
    "plt.show()"
   ]
  },
  {
   "cell_type": "markdown",
   "metadata": {
    "pycharm": {
     "name": "#%% md\n"
    }
   },
   "source": [
    "### Error and rate of convergence"
   ]
  },
  {
   "cell_type": "markdown",
   "metadata": {
    "pycharm": {
     "name": "#%% md\n"
    }
   },
   "source": [
    "We can prove an error estimate for composite quadrature rules, which confirms the numerical observations made just above, and highlights the importance of the degree of accuracy for composite rules."
   ]
  },
  {
   "cell_type": "markdown",
   "metadata": {
    "pycharm": {
     "name": "#%% md\n"
    }
   },
   "source": [
    "<div  markdown=1 class=\"Thm\"> \n",
    "\n",
    "**Convergence of composite quadrature rules.** Consider an interval $[a,b]$, a set of $m+1$ mesh points $(x_k)_{0\\leq k\\leq m}$ such that $a = x_0 < x_1 < \\ldots < x_m = b$, an integer $n$, and a composite quadrature rule of the form \n",
    "\n",
    "$$\n",
    "\\int_a^b f(x)dx = \\sum_{k=0}^{m-1} \\int_{x_k}^{x_{k+1}} f(x)dx  \\approx \\sum_{k=0}^{m-1} I^n_{[x_k,x_{k+1}]}(f).\n",
    "$$\n",
    "\n",
    "If the elementary quadrature rule used on each subinterval $[x_k,x_{k+1}]$ has a degree of accuracy of at least $n_a$, and $f\\in{\\cal C}^{n_a+1}([a,b])$, then there exists a constant $C$ (independent of $m$), such that the error is bounded as follows:\n",
    "\n",
    "$$\n",
    "E_m(f) \\leq C \\sup_{x\\in [a,b]} \\left\\vert \\,f^{(n_a+1)}(x)\\,\\right\\vert (b-a) \\, h^{n_a+1},\n",
    "$$\n",
    "\n",
    "where we recall that \n",
    "\n",
    "$$h = \\max_{k=0,\\ldots,m-1} \\left\\vert x_{k+1} - x_k \\right\\vert.$$"
   ]
  },
  {
   "cell_type": "markdown",
   "metadata": {
    "pycharm": {
     "name": "#%% md\n"
    }
   },
   "source": [
    "> **Proof.** We split the error\n",
    ">\n",
    ">\\begin{align}\n",
    "E_m(f) &= \\left\\vert \\int_a^b f(x)dx - \\sum_{k=0}^{m-1} I^n_{[x_k,x_{k+1}]}(f) \\right\\vert \\\\\n",
    "&\\leq \\sum_{k=0}^{m-1} \\left\\vert \\int_{x_k}^{x_{k+1}} f(x)dx - I^n_{[x_k,x_{k+1}]}(f) \\right\\vert,\n",
    "\\end{align}\n",
    ">\n",
    ">and use on each term the error bound for elementary quadrature rules based on the degree of accuracy that we have obtained at the beginning of this chapter, namely\n",
    ">\n",
    ">$$\n",
    "\\left\\vert \\int_{x_k}^{x_{k+1}} f(x)dx - I^n_{[x_k,x_{k+1}]}(f)\\,\\right\\vert \\leq C \\left(x_{k+1}-x_k\\right)^{n_a+2} \\sup_{x\\in [x_k,x_{k+1}]} \\left\\vert \\,f^{(n_a+1)}(x)\\,\\right\\vert,\n",
    "$$\n",
    ">\n",
    ">where the constant $C$ is given by\n",
    ">\n",
    ">$$\n",
    "C = \\frac{2+\\sum_{k=0}^n |\\omega_k|}{(n_a+1)!2^{n_a+2}}.\n",
    "$$\n",
    ">\n",
    ">Summing all these terms, and using that $\\sup_{x\\in [x_k,x_{k+1}]} \\left\\vert \\,f^{(n_a+1)}(x)\\,\\right\\vert \\leq \\sup_{x\\in [a,b]} \\left\\vert \\,f^{(n_a+1)}(x)\\,\\right\\vert$, we get\n",
    ">\n",
    ">\\begin{align}\n",
    "E_m(f) &\\leq C \\sup_{x\\in [a,b]} \\left\\vert \\,f^{(n_a+1)}(x)\\,\\right\\vert \\sum_{k=0}^{m-1} \\left(x_{k+1}-x_k\\right)^{n_a+2} \\\\\n",
    "&\\leq C \\sup_{x\\in [a,b]} \\left\\vert \\,f^{(n_a+1)}(x)\\,\\right\\vert \\sum_{k=0}^{m-1} h^{n_a+1}\\left(x_{k+1}-x_k\\right) \\\\\n",
    "&= C \\sup_{x\\in [a,b]} \\left\\vert \\,f^{(n_a+1)}(x)\\,\\right\\vert (b-a) h^{n_a+1}.\n",
    "\\end{align}"
   ]
  },
  {
   "cell_type": "markdown",
   "metadata": {
    "pycharm": {
     "name": "#%% md\n"
    }
   },
   "source": [
    "<div markdown=1 class=\"Rmk\">\n",
    "\n",
    "- The key term in the above error estimation is $h^{n_a+1}$, which tells us at which rate the error goes to $0$ when $h$ goes to $0$. The larger $n_a$ the fastest the convergence, which explains why, for the same value of $n$, we observed a faster convergence with a Gauss-Legendre elementary rule compared to Newton-Cotes or Clenshaw-Curtis.\n",
    "\n",
    "- In the case of a uniform mesh, where $h=(b-a)/m$, we get \n",
    "\n",
    "$$\n",
    "E_m(f) \\leq \\frac{C \\sup_{x\\in [a,b]} \\left\\vert f^{(n_a+1)}(x)\\right\\vert (b-a)^{n_a+1}}{m^{n_a+1}}.\n",
    "$$\n",
    "\n",
    "- This is a typical case of *sublinear* convergence, as introduced in the first chapter, at least for the error estimator $\\beta_m = \\frac{C \\sup_{x\\in [a,b]} \\left\\vert f^{(n_a+1)}(x)\\right\\vert (b-a)^{n_a+1}}{m^{n_a+1}}$, since \n",
    "\n",
    "$$\n",
    "\\frac{\\beta_{m+1}}{\\beta_m} \\underset{m\\to\\infty}{\\longrightarrow} 1.\n",
    "$$"
   ]
  },
  {
   "cell_type": "markdown",
   "metadata": {
    "pycharm": {
     "name": "#%% md\n"
    }
   },
   "source": [
    "<div markdown=1 class=\"DoIt\">\n",
    "\n",
    "Does the behavior of this error estimate with respect to $m$ match what you observed numerically above for the Newton-Cotes, Clenshaw-Curtis and Gauss-Legendre composite quadrature rules with $n=1$? \n",
    "\n",
    "Repeat the same experiment with larger values of $n$."
   ]
  },
  {
   "cell_type": "markdown",
   "metadata": {
    "pycharm": {
     "name": "#%% md\n"
    }
   },
   "source": [
    "<div markdown=1 class=\"Answer\">\n"
   ]
  },
  {
   "cell_type": "markdown",
   "metadata": {
    "pycharm": {
     "name": "#%% md\n"
    }
   },
   "source": [
    "<div markdown=1 class=\"DoIt\">\n",
    "\n",
    "Use composite quadrature rules to approximate $\\int_0^1 \\sqrt{x} dx$, and study numerically the behavior of the error with respect to $m$. Comment on the obtained results."
   ]
  },
  {
   "cell_type": "code",
   "execution_count": null,
   "metadata": {
    "pycharm": {
     "name": "#%%\n"
    }
   },
   "outputs": [],
   "source": [
    "def f(x):\n",
    "    return  np.sqrt(x)\n",
    "\n",
    "a = 0\n",
    "b = 1\n",
    "I = 2/3 # exact value of the integral of f from 0 to 1\n",
    "\n",
    "...\n"
   ]
  },
  {
   "cell_type": "markdown",
   "metadata": {
    "pycharm": {
     "name": "#%% md\n"
    }
   },
   "source": [
    "<div markdown=1 class=\"Answer\">"
   ]
  },
  {
   "cell_type": "markdown",
   "metadata": {
    "pycharm": {
     "name": "#%% md\n"
    }
   },
   "source": [
    "**Conclusions**\n",
    "\n",
    "If we do not want to use quadrature rules with a large degree $n$, composite quadrature rules offer a good alternative. For composite rules, the rate of convergence is really dictated by the degree of accuracy of the elementary rule used (provided the function that is integrated is smooth enough)."
   ]
  },
  {
   "cell_type": "markdown",
   "metadata": {
    "pycharm": {
     "name": "#%% md\n"
    }
   },
   "source": [
    "<a id=\"MC\"></a>\n",
    "## A non-deterministic approach"
   ]
  },
  {
   "cell_type": "markdown",
   "metadata": {
    "pycharm": {
     "name": "#%% md\n"
    }
   },
   "source": [
    "<img src=\"figures/Metropolis.png\" alt=\"Metropolis\" style=\"width: 170px;\" />\n",
    "\n",
    ">**Nicholas Constantine Metropolis (1915 - 1999).**\n",
    "> Nicholas Constantine Metropolis is a Greek-American physicist. In the 1950s, a group of researchers led by Metropolis, including John von Neumann and Stanislaw Ulam, developed the Monte Carlo method. This term describes a broad class of algorithms relying on random sampling. The basic idea is to use randomness to solve deterministic problems. These kind of methods are now widely used, for instance in optimization, integration and probability."
   ]
  },
  {
   "cell_type": "markdown",
   "metadata": {
    "pycharm": {
     "name": "#%% md\n"
    }
   },
   "source": [
    "### In dimension 1"
   ]
  },
  {
   "cell_type": "markdown",
   "metadata": {
    "collapsed": true,
    "pycharm": {
     "name": "#%% md\n"
    }
   },
   "source": [
    "Suppose you want to compute $\\int_a^b f(x)dx$. The Monte-Carlo approach simply consists in taking $n$ random points $x_1,\\ldots,x_n$ distributed uniformly in $[a,b]$, and approximating the integral by the average of $(b-a)f(x_k)$:\n",
    "\n",
    "$$\n",
    "MC^n_{[a,b]}(f) = \\frac{b-a}{n} \\sum_{k=1}^n f(x_k).\n",
    "$$"
   ]
  },
  {
   "cell_type": "markdown",
   "metadata": {
    "pycharm": {
     "name": "#%% md\n"
    }
   },
   "source": [
    "Stating and proving precise results about the behavior of the Monte-Carlo approach when $n$ goes to infinity requires some knowledge in probability theory which is beyond the scope of this course, but roughly speaking we can say the following."
   ]
  },
  {
   "cell_type": "markdown",
   "metadata": {
    "pycharm": {
     "name": "#%% md\n"
    }
   },
   "source": [
    "<div markdown=1 class='Thm'>\n",
    "\n",
    "- $MC^n_{[a,b]}(f)$ converges to $\\int_a^b f(x) dx$ when $n$ goes to infinity.\n",
    "\n",
    "- The error $\\left\\vert MC^n_{[a,b]}(f) - \\int_a^b f(x) dx \\right\\vert$ scales roughly like $\\frac{C}{\\sqrt{n}}$. "
   ]
  },
  {
   "cell_type": "markdown",
   "metadata": {
    "pycharm": {
     "name": "#%% md\n"
    }
   },
   "source": [
    "<div markdown=1, class=\"Fur\">[$\\star$]\n",
    "\n",
    "The key underlying results from probability theory are **the law of large numbers** and **the central limit theorem**."
   ]
  },
  {
   "cell_type": "markdown",
   "metadata": {
    "pycharm": {
     "name": "#%% md\n"
    }
   },
   "source": [
    "<div markdown=1, class=\"DoIt\">\n",
    "\n",
    "Complete the following cell, to get a function which computes $MC^n_{[a,b]}(f)$."
   ]
  },
  {
   "cell_type": "code",
   "execution_count": null,
   "metadata": {
    "pycharm": {
     "name": "#%%\n"
    }
   },
   "outputs": [],
   "source": [
    "def MonteCarlo(f, a, b, n):\n",
    "    \"\"\"\n",
    "    Approximate 1d integral using the Monte-Carlo approach\n",
    "    -----------------------------------------\n",
    "    Inputs :\n",
    "    f: function of one variable to be integrated\n",
    "    a, b: endpoints of the segment on which the integral is computed\n",
    "    n: number of points\n",
    "    \n",
    "    Output\n",
    "    the approximate value of \\int_{a}^{b} f obtained using the Monte-Carlo approach\n",
    "    \"\"\"\n",
    "    x = ... # n random points uniformly distributed in [a,b]\n",
    "    return ..."
   ]
  },
  {
   "cell_type": "markdown",
   "metadata": {
    "pycharm": {
     "name": "#%% md\n"
    }
   },
   "source": [
    "<div markdown=1, class=\"DoIt\">\n",
    "\n",
    "Run the following cell, which uses the function `MonteCarlo` to study graphically the converge of the Monte-Carlo method. Try different functions. Comment on the obtained results."
   ]
  },
  {
   "cell_type": "code",
   "execution_count": null,
   "metadata": {
    "pycharm": {
     "name": "#%%\n"
    }
   },
   "outputs": [],
   "source": [
    "# case 1\n",
    "def f(x):\n",
    "    return  np.cos(pi/2*x)\n",
    "a = -1\n",
    "b = 1\n",
    "I = 4/pi # exact value of the integral of f from -1 to 1\n",
    "\n",
    "# # case 2\n",
    "# def f(x):\n",
    "#     return 1/(1+x**2)\n",
    "# a = 0\n",
    "# b = 1\n",
    "# I = pi/4 # exact value of the integral of f from 0 to 1\n",
    "\n",
    "# # case 3\n",
    "# def f(x):\n",
    "#     return  1/(1+25*x**2)\n",
    "# a = -1\n",
    "# b = 1\n",
    "# I = 2/5*atan(5) # exact value of the integral of f from -1 to 1\n",
    "\n",
    "# # case 4\n",
    "# def f(x):\n",
    "#     return  np.sqrt(x)\n",
    "# a = 0\n",
    "# b = 1\n",
    "# I = 2/3 # exact value of the integral of f from 0 to 1\n",
    "\n",
    "exp_max = 25\n",
    "tab_n = 2**np.arange(0, exp_max+1) # values of n between 2^0 and 2^{exp_max}\n",
    "tab_MCn = np.zeros(tab_n.size) # initialization for the approximate values\n",
    "\n",
    "i = 0\n",
    "for n in tab_n:\n",
    "    tab_MCn[i] = MonteCarlo(f, a, b, n)\n",
    "    i = i + 1\n",
    "    \n",
    "tab_err = np.abs(tab_MCn-I) # Error\n",
    "\n",
    "# plot\n",
    "fig = plt.figure(figsize=(10, 6))\n",
    "plt.plot(tab_n, tab_err, marker=\"o\", label=\"Monte-Carlo approach\")\n",
    "plt.plot(tab_n, 1/tab_n**(1/2), linestyle=\"--\", linewidth=3, label=\"$1/\\sqrt{n}$\")\n",
    "plt.xlabel('n', fontsize = 18) \n",
    "plt.ylabel('Error $| MC^n(f) - I |$', fontsize = 18)\n",
    "plt.legend(fontsize = 18)\n",
    "plt.xscale('log')\n",
    "plt.yscale('log')\n",
    "plt.title('Monte-Carlo method, graphical study of the convergence', fontsize = 18)\n",
    "plt.tick_params(labelsize = 18)\n",
    "plt.show()\n"
   ]
  },
  {
   "cell_type": "markdown",
   "metadata": {
    "pycharm": {
     "name": "#%% md\n"
    }
   },
   "source": [
    "<div markdown=1, class=\"Answer\">"
   ]
  },
  {
   "cell_type": "markdown",
   "metadata": {
    "pycharm": {
     "name": "#%% md\n"
    }
   },
   "source": [
    "### In higher dimension"
   ]
  },
  {
   "cell_type": "markdown",
   "metadata": {
    "pycharm": {
     "name": "#%% md\n"
    }
   },
   "source": [
    "Consider a bounded subset $B\\subset \\mathbb{R}^d$, $d\\geq 1$, and suppose you want to compute $\\int_B f(x,y)dxdy$. The Monte-Carlo approach naturally extends to this higher dimensional case, again by taking $n$ random points $(x_1,y_1),\\ldots,(x_n,y_n)$ distributed uniformly in $B$, and then averaging the $f(x_k)$."
   ]
  },
  {
   "cell_type": "markdown",
   "metadata": {
    "pycharm": {
     "name": "#%% md\n"
    }
   },
   "source": [
    "In practice, directly obtaining random samples uniformly in $B$ might not be very easy (depending on the set $B$). However, there is a simple workaround, that we describe here in dimension $d=2$ (the generalization to higher dimensions is straightforward). Let $a_1,a_2,b_1,b_2$ be such that \n",
    "\n",
    "$$\n",
    "B \\subset [a_1,b_1]\\times[a_2,b_2].\n",
    "$$\n",
    "\n",
    "Then,\n",
    "\n",
    "$$\n",
    "\\int_{B} f(x,y)dx dx = \\int_{[a_1,b_1]\\times[a_2,b_2]} f(x,y) \\mathbb{1}_{B} (x,y) dx dy,\n",
    "$$\n",
    "\n",
    "where $\\mathbb{1}_{B}$ is the **indicator function** of $B$, defined as\n",
    "\n",
    "$$\n",
    "\\mathbb{1}_{B}(x,y) = \n",
    "\\left\\{\n",
    "\\begin{aligned}\n",
    "&1 \\qquad &(x,y)\\in B, \\\\\n",
    "&0 \\qquad &(x,y)\\notin B.\n",
    "\\end{aligned}\n",
    "\\right.\n",
    "$$\n",
    "\n",
    "We can then easily apply the Monte-Carlo approach to\n",
    "\n",
    "$$\n",
    "\\int_{[a_1,b_1]\\times[a_2,b_2]} \\tilde f(x,y) dx dy,\n",
    "$$\n",
    "\n",
    "where $\\tilde f(x,y) = f(x,y) \\mathbb{1}_{B} (x,y)$:\n",
    "\n",
    "$$\n",
    "MC^n_{[a_1,b_1]\\times[a_2,b_2]}(\\tilde f) = \\frac{(b_1-a_1)(b_2-a_2)}{n} \\sum_{k=1}^n \\tilde f(x_k,y_k),\n",
    "$$\n",
    "\n",
    "with random points $x_1,\\ldots,x_n$ distributed uniformly in $[a_1,b_1]$, and random points $y_1,\\ldots,y_n$ distributed uniformly in $[a_2,b_2]$."
   ]
  },
  {
   "cell_type": "markdown",
   "metadata": {
    "pycharm": {
     "name": "#%% md\n"
    }
   },
   "source": [
    "<div markdown=1, class=\"Rmk\">\n",
    "\n",
    "- A similar strategy can in fact be used to construct random samples uniformly distributed in $B$: consider random points $(x_k,y_k)$ uniformly distributed in $[a_1,b_1]\\times[a_2,b_2]$, and only keep those who belong to $B$.\n",
    "- This is exactly what the indicator function $\\mathbb{1}_{B}$ does, i.e. keeping only the samples which are inside $B$.\n",
    "- This suggests that, in practice, we want $[a_1,b_1]\\times[a_2,b_2]$ to be as small as possible while containing $B$. Indeed, the larger $[a_1,b_1]\\times[a_2,b_2]$, the more likely we are to get *useless* samples $(x_k,y_k)$ which are outside of $B$ and have to be dropped.\n",
    "- If the function $f$ is equal to $1$, $\\int_B f(x) dx$ is nothing but the area of $B$. The Monte-Carlo approach therefore provides us with a way of approximating areas."
   ]
  },
  {
   "cell_type": "markdown",
   "metadata": {
    "pycharm": {
     "name": "#%% md\n"
    }
   },
   "source": [
    "Regarding the converge, the results are the same as in dimension 1 (again stated somewhat imprecisely)."
   ]
  },
  {
   "cell_type": "markdown",
   "metadata": {
    "pycharm": {
     "name": "#%% md\n"
    }
   },
   "source": [
    "<div markdown=1 class='Thm'>\n",
    "\n",
    "\n",
    "- $MC^n_{[a_1,b_1]\\times[a_2,b_2]}(f)$ converges to $\\int_{[a_1,b_1]\\times[a_2,b_2]} f(x,y) dxdy$ when $n$ goes to infinity.\n",
    "\n",
    "\n",
    "- The error $\\left\\vert MC^n_{[a_1,b_1]\\times[a_2,b_2]}(f) - \\int_{[a_1,b_1]\\times[a_2,b_2]} f(x,y) dxdy \\right\\vert$ scales roughly like $\\frac{C}{\\sqrt{n}}$. "
   ]
  },
  {
   "cell_type": "markdown",
   "metadata": {
    "pycharm": {
     "name": "#%% md\n"
    }
   },
   "source": [
    "<div markdown=1, class=\"Rmk\">\n",
    "\n",
    "- It is remarkable that we need only $n$ samples, as in dimension 1, to get the same scaling for the error, and that this scaling does not require any smoothness assumption on $f$.\n",
    "\n",
    "- The same cannot be said for the quadrature rules that we have seen previously. Indeed, they cannot be as easily generalized to higher dimensions, especially when the domain $B$ is not a rectangle. Even then, the number $n$ of samples needed becomes $n^d$ in dimension $d$, which can become prohibitive, whereas Monte-Carlo's approach requires $n$ samples to get an error of $\\frac{C}{\\sqrt{n}}$ independently of the dimension."
   ]
  },
  {
   "cell_type": "markdown",
   "metadata": {
    "pycharm": {
     "name": "#%% md\n"
    }
   },
   "source": [
    "<div markdown=1, class=\"DoIt\">\n",
    "\n",
    "Complete the following cell, to get a function which computes the Monte-Carlo approximation $MC^n_{[a_1,b_1]\\times[a_2,b_2]}(f)$ on a rectangle."
   ]
  },
  {
   "cell_type": "code",
   "execution_count": null,
   "metadata": {
    "pycharm": {
     "name": "#%%\n"
    }
   },
   "outputs": [],
   "source": [
    "def MonteCarlo_2D(f, a, b, n):\n",
    "    \"\"\"\n",
    "    Approximate 2d integral on a rectangle using the Monte-Carlo approach\n",
    "    -----------------------------------------\n",
    "    Inputs :\n",
    "    f: function of two variables to be integrated\n",
    "    a, b: arrays a=[a_1,a_2] and b=[b_1,b_2] endpoints of the rectangle on which the integral is computed\n",
    "    n: number of points\n",
    "    \n",
    "    Output\n",
    "    the approximate value of \\int_{[a_1,b_1]x[a_2,b_2]} f obtained using the Monte-Carlo approach\n",
    "    \"\"\"\n",
    "    x = ... # first coordinate, uniformly distributed in [a_1,b_1]\n",
    "    y = ... # second coordinate, uniformly distributed in [a_2,b_2]\n",
    "    return ..."
   ]
  },
  {
   "cell_type": "markdown",
   "metadata": {
    "pycharm": {
     "name": "#%% md\n"
    }
   },
   "source": [
    "<div markdown=1, class=\"DoIt\">\n",
    "\n",
    "Run the following cell, which uses the function `MonteCarlo_2D`, to approximate the area of the unit disk. Compare and comment on the behavior on the error when the rectangle $[a_1,a_2]\\times[b_1,b_2]$ changes."
   ]
  },
  {
   "cell_type": "code",
   "execution_count": null,
   "metadata": {
    "pycharm": {
     "name": "#%%\n"
    }
   },
   "outputs": [],
   "source": [
    "def Ind_disk(x,y): # indicator function of the unit disk\n",
    "    z = x**2+y**2 < 1\n",
    "    return z.astype(int) # converts True/False to 1/0\n",
    "\n",
    "a = np.array([-1,-1]) # a_1 and a_2\n",
    "b = np.array([1,1]) # b_1 and b_2\n",
    "I = pi # exact value of the area of the unit disk\n",
    "\n",
    "exp_max = 25\n",
    "tab_n = 2**np.arange(0, exp_max+1) # values of n between 2^0 and 2^{exp_max}\n",
    "tab_MCn = np.zeros(tab_n.size) # initialization for the approximate values\n",
    "\n",
    "i = 0\n",
    "for n in tab_n:\n",
    "    tab_MCn[i] = MonteCarlo_2D(Ind_disk, a, b, n)\n",
    "    i = i + 1\n",
    "    \n",
    "tab_err = np.abs(tab_MCn-I) # Error\n",
    "\n",
    "# plot\n",
    "fig = plt.figure(figsize=(10, 6))\n",
    "plt.plot(tab_n, tab_err, marker=\"o\", label=\"Monte-Carlo approach\")\n",
    "plt.plot(tab_n, 1/tab_n**(1/2), linestyle=\"--\", linewidth=3, label=\"$1/\\sqrt{n}$\")\n",
    "plt.xlabel('n', fontsize = 18) \n",
    "plt.ylabel('Error $| MC^n(f) - I |$', fontsize = 18)\n",
    "plt.legend(fontsize = 18)\n",
    "plt.xscale('log')\n",
    "plt.yscale('log')\n",
    "plt.title('Monte-Carlo method, dimension 2, graphical study of the convergence', fontsize = 18)\n",
    "plt.tick_params(labelsize = 18)\n",
    "plt.show()"
   ]
  },
  {
   "cell_type": "markdown",
   "metadata": {
    "pycharm": {
     "name": "#%% md\n"
    }
   },
   "source": [
    "<div markdown=1, class=\"Answer\">\n"
   ]
  },
  {
   "cell_type": "markdown",
   "metadata": {
    "pycharm": {
     "name": "#%% md\n"
    }
   },
   "source": [
    "<a id=\"CS\"></a>\n",
    "## Back to the case studies [$\\star$]"
   ]
  },
  {
   "cell_type": "markdown",
   "metadata": {
    "pycharm": {
     "name": "#%% md\n"
    }
   },
   "source": [
    "### Case Study 1: Manufacturing a corrugated roofing."
   ]
  },
  {
   "cell_type": "markdown",
   "metadata": {
    "pycharm": {
     "name": "#%% md\n"
    }
   },
   "source": [
    "We recall we need to compute the following elliptic integral:\n",
    "\n",
    "$$ l = \\int_{0}^{48} \\sqrt{1 + cos^2(x)}dx$$."
   ]
  },
  {
   "cell_type": "markdown",
   "metadata": {
    "pycharm": {
     "name": "#%% md\n"
    }
   },
   "source": [
    "<div markdown=1, class=\"DoIt\">\n",
    "\n",
    "Compute this integral with the method of your choice. How confident are you in the results?"
   ]
  },
  {
   "cell_type": "markdown",
   "metadata": {
    "pycharm": {
     "name": "#%% md\n"
    }
   },
   "source": [
    "### Case Study 2: length of a race track"
   ]
  },
  {
   "cell_type": "markdown",
   "metadata": {
    "pycharm": {
     "name": "#%% md\n"
    }
   },
   "source": [
    "We recall we want to estimate the integral of a speed function $v$\n",
    "\n",
    "$$\n",
    "\\text{Length} = \\int_0^{84} v(t)dt,\n",
    "$$\n",
    "\n",
    "and that $v$ is known only at some discrete points:"
   ]
  },
  {
   "cell_type": "code",
   "execution_count": null,
   "metadata": {
    "pycharm": {
     "name": "#%%\n"
    }
   },
   "outputs": [],
   "source": [
    "time = np.linspace(0,84,15)\n",
    "speed = np.array([124, 134, 148, 156, 147, 133, 180, 109, 99, 85, 78, 89, 104, 116, 123])\n",
    "print('The times at which the speed was measured:', time)\n",
    "print('The speed at each of these times:', speed)"
   ]
  },
  {
   "cell_type": "markdown",
   "metadata": {
    "pycharm": {
     "name": "#%% md\n"
    }
   },
   "source": [
    "<div markdown=1, class=\"DoIt\">\n",
    "\n",
    "Compute the length of the track with the method of your choice. How confident are you in the results?"
   ]
  },
  {
   "cell_type": "markdown",
   "metadata": {
    "pycharm": {
     "name": "#%% md\n"
    }
   },
   "source": [
    "### Case study 3: Computing volumes of solids"
   ]
  },
  {
   "cell_type": "markdown",
   "metadata": {
    "pycharm": {
     "name": "#%% md\n"
    }
   },
   "source": [
    "We recall that we want to compute the volume of solids $B$ of the form\n",
    "\n",
    "$$\n",
    "B = \\left\\{ (x,y,z)\\in\\mathbb{R}^3,\\  \\left(\\left|\\frac{x}{a}\\right|^{\\frac{2}{e}}+\\left|\\frac{y}{b}\\right|^{\\frac{2}{e}}\\right)^{\\frac{e}{n}}+\\left|\\frac{z}{c}\\right|^{\\frac{2}{n}}\\leq 1 \\right\\}.\n",
    "$$"
   ]
  },
  {
   "cell_type": "markdown",
   "metadata": {
    "pycharm": {
     "name": "#%% md\n"
    }
   },
   "source": [
    "In the following cell, we give a function which can be used to visualize such super-ellipsoid $B$, based on parametric equations of the boundary, given by\n",
    "\n",
    "$$\\left\\{\\begin{array}{l}\n",
    "x(u,v)=a\\, |cos(u)|^e \\,|sin(v)|^n \\,sign(cos(u)) \\,sign(sin(v))\\\\\n",
    "y(u,v)=b \\,|sin(u)|^e \\,|sin(v)|^n \\,sign(sin(u)) \\,sign(sin(v))\\\\\n",
    "z(u,v)=c \\,|cos(v)|^n \\,sign(cos(v))\n",
    "\\end{array}\n",
    "\\right.\n",
    "$$\n",
    "\n",
    "for $u\\in[0,\\pi]$ and $v\\in[0,2\\pi]$."
   ]
  },
  {
   "cell_type": "code",
   "execution_count": null,
   "metadata": {
    "pycharm": {
     "name": "#%%\n"
    }
   },
   "outputs": [],
   "source": [
    "# Function to plot a super-ellipsoid\n",
    "# inputs: parameters e (real>0), n (real>0), a (real>0), b (real>0), c (real>0) of the super-ellipsoid\n",
    "\n",
    "def plot_superellipsoid(e,n,a,b,c):\n",
    "    \"Parametric surface S: (u,v)->((x(u,v),y(u,v),z(u,v))\"\n",
    "    from mpl_toolkits.mplot3d import Axes3D\n",
    "    from matplotlib import cm  # for the color map\n",
    "\n",
    "    fig = plt.figure(figsize=(10, 6))\n",
    "    trace1 =  fig.add_subplot(111, projection='3d')\n",
    "\n",
    "    N = 100\n",
    "    Dx = np.linspace(0, np.pi, N)\n",
    "    Dy = np.linspace(0, 2*np.pi, 2*N)\n",
    "\n",
    "    # Computations of x, y, z\n",
    "    x = np.asarray([[a*abs(cos(u))**e*abs(sin(v))**n*copysign(1,cos(u))*copysign(1,sin(v)) for v in Dy] for u in Dx])\n",
    "    y = np.asarray([[b*abs(sin(u))**e*abs(sin(v))**n*copysign(1,sin(u))*copysign(1,sin(v)) for v in Dy] for u in Dx])\n",
    "    z = np.asarray([[c*abs(cos(v))**n*copysign(1,cos(v)) for v in Dy] for u in Dx])\n",
    "\n",
    "    # Surface generation\n",
    "    #  rstride et  cstride to plot a sub-mesh of Dx x Dy\n",
    "    trace1.plot_surface(x, y, z, rstride = 4, cstride=4, cmap = cm.winter)\n",
    "    #plt.axis('equal')\n",
    "    #plt.axis('off')\n",
    "    plt.title(r\"Super Ellipsoid $(|x/a|^{\\frac{2}{e}}+|y/b|^{\\frac{2}{e}})^{\\frac{e}{n}}+|z/c|^{\\frac{2}{n}}\\leq 1$\", fontsize = 20)\n",
    "    plt.show()"
   ]
  },
  {
   "cell_type": "code",
   "execution_count": null,
   "metadata": {
    "pycharm": {
     "name": "#%%\n"
    }
   },
   "outputs": [],
   "source": [
    "e = 3\n",
    "n = 1\n",
    "a = 3\n",
    "b = 4\n",
    "c = 1\n",
    "\n",
    "# e = 2\n",
    "# n = 3\n",
    "# a = 1\n",
    "# b = 1\n",
    "# c = 1\n",
    "\n",
    "plot_superellipsoid(e,n,a,b,c)"
   ]
  },
  {
   "cell_type": "markdown",
   "metadata": {
    "pycharm": {
     "name": "#%% md\n"
    }
   },
   "source": [
    "<div markdown=1, class=\"DoIt\">\n",
    "\n",
    "Use the method of your choice to compute the volume of such solids."
   ]
  },
  {
   "cell_type": "code",
   "execution_count": null,
   "metadata": {
    "pycharm": {
     "name": "#%%\n"
    }
   },
   "outputs": [],
   "source": [
    "# execute this part to modify the css style\n",
    "from IPython.core.display import HTML\n",
    "def css_styling():\n",
    "    styles = open(\"./style/custom3.css\").read()\n",
    "    return HTML(styles)\n",
    "css_styling()"
   ]
  },
  {
   "cell_type": "code",
   "execution_count": null,
   "metadata": {
    "pycharm": {
     "name": "#%%\n"
    }
   },
   "outputs": [],
   "source": []
  }
 ],
 "metadata": {
  "kernelspec": {
   "display_name": "Python 3 (ipykernel)",
   "language": "python",
   "name": "python3"
  },
  "language_info": {
   "codemirror_mode": {
    "name": "ipython",
    "version": 3
   },
   "file_extension": ".py",
   "mimetype": "text/x-python",
   "name": "python",
   "nbconvert_exporter": "python",
   "pygments_lexer": "ipython3",
   "version": "3.8.10"
  },
  "latex_envs": {
   "LaTeX_envs_menu_present": true,
   "autoclose": false,
   "autocomplete": false,
   "bibliofile": "biblio.bib",
   "cite_by": "apalike",
   "current_citInitial": 1,
   "eqLabelWithNumbers": true,
   "eqNumInitial": 1,
   "hotkeys": {
    "equation": "Ctrl-E",
    "itemize": "Ctrl-I"
   },
   "labels_anchors": false,
   "latex_user_defs": false,
   "report_style_numbering": false,
   "user_envs_cfg": false
  },
  "toc": {
   "base_numbering": 1,
   "nav_menu": {},
   "number_sections": true,
   "sideBar": true,
   "skip_h1_title": true,
   "title_cell": "Table of Contents",
   "title_sidebar": "Contents",
   "toc_cell": false,
   "toc_position": {
    "height": "960px",
    "left": "0px",
    "right": "1827px",
    "top": "108px",
    "width": "166.4px"
   },
   "toc_section_display": "block",
   "toc_window_display": true
  }
 },
 "nbformat": 4,
 "nbformat_minor": 2
}